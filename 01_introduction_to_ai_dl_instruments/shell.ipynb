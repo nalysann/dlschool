{
 "cells": [
  {
   "cell_type": "markdown",
   "metadata": {},
   "source": [
    "<p style=\"align: center;\">\n",
    "    <img align=center src=\"../img/dls_logo.jpg\" width=500 height=500>\n",
    "</p>\n",
    "\n",
    "<h1 style=\"text-align: center;\">\n",
    "    Физтех-Школа Прикладной математики и информатики (ФПМИ) МФТИ\n",
    "</h1>\n",
    "\n",
    "---"
   ]
  },
  {
   "cell_type": "markdown",
   "metadata": {
    "colab_type": "text",
    "id": "SR5360mDq7IG"
   },
   "source": [
    "В этом ноутбуке мы рассмотрим базовые команды командной строки в Linux\n",
    "\n",
    "План\n",
    "  - Команды UNIX\n",
    "  - Файловая система\n",
    "  - Аргументы к командам\n",
    "  - Переменные окружения\n"
   ]
  },
  {
   "cell_type": "markdown",
   "metadata": {
    "colab_type": "text",
    "id": "exbUbtJhzNW0"
   },
   "source": [
    "# Команды в UNIX"
   ]
  },
  {
   "cell_type": "markdown",
   "metadata": {
    "colab_type": "text",
    "id": "cyxieSjTuGpw"
   },
   "source": [
    "Линукс принадлежит большому семейству операционных систем под названием UNIX, коорые происходят от ОС AT&T Unix, разработанной ещё в 1970-х. macOS, кстати, тоже её потомок.\n",
    "\n",
    "В операционных системах UNIX-типа для взаимодействия с ОС используют специальные команды. До появления окошек и кнопочек люди создавали файлы и запускали команды исключительно с помощью этих команд. \n",
    "\n",
    "Сейчас этот способ тоже исользуют, т.к. есть ряд преимуществ:\n",
    " - Намного более удобное подключение к компьютеру по сети\n",
    " - Иногда удобнее запустить одну команду, чем бродить по менюшкам в поисках нужной опции.\n",
    " - Команды можно организовывать в скрипты и автоматизировать задачи"
   ]
  },
  {
   "cell_type": "markdown",
   "metadata": {
    "colab_type": "text",
    "id": "4Kgd_-Jdq-HJ"
   },
   "source": [
    "Небольшой ликбез по понятиям:\n",
    "\n",
    "- **Командная строка** - вид интерфейса, когда вы набираете текстовые команды\n",
    "- **Терминал** - программа, которая отображает строку. Например: *gnome-terminal*, *xterm*, *tilda*\n",
    "- **Оболочка (shell)** - программа, которая выполняет команды. Например: *bash*, *zsh*, *ssh*\n",
    "- **Консоль** - железо, например, клавиатура и монитор."
   ]
  },
  {
   "cell_type": "markdown",
   "metadata": {
    "colab_type": "text",
    "id": "zsNEkoiC4I3d"
   },
   "source": [
    "Запускать команды можно как из терминала, так и из юпитера или колаба, поставив перед командой `!`"
   ]
  },
  {
   "cell_type": "code",
   "execution_count": null,
   "metadata": {
    "colab": {},
    "colab_type": "code",
    "id": "wujSZ66i4UVm"
   },
   "outputs": [],
   "source": [
    "!echo \"Hello World\""
   ]
  },
  {
   "cell_type": "markdown",
   "metadata": {
    "colab_type": "text",
    "id": "z8n1PxRZ0j7P"
   },
   "source": [
    "# Файловая система"
   ]
  },
  {
   "cell_type": "markdown",
   "metadata": {
    "colab_type": "text",
    "id": "WwN4S7rv08JV"
   },
   "source": [
    "В Unix системах все файлы образуют структуру похожую на дерево, в каждой директории(папке) хранятся файлы и другие директории. Самая первая директория которая содержит все остальные, называется корневой (*root*)\n",
    "\n",
    "У каждой директории есть путь (по сути, просто строка) который показывает где она находится в этом дереве. \"/\" - это путь корневой директории. \n",
    "\n",
    "<img align=center src=\"../img/file_manager.jpg\" width=300>\n",
    "\n",
    "В командной строке все команды выполняются в какой-либо директории.\n",
    "\n",
    "Представьте, что дерево файловой системы - это лабиринт, и каждая директория - это комната с файлами и дверьми в другие директории. В каждый момент времени вы находитесь в одной комнате.\n",
    "\n",
    "Посмотрим, как ходить по нашему лабиринту."
   ]
  },
  {
   "cell_type": "code",
   "execution_count": null,
   "metadata": {
    "colab": {},
    "colab_type": "code",
    "id": "j2I1ZXrKq0tp"
   },
   "outputs": [],
   "source": [
    "# выведем путь текущей директории\n",
    "!pwd"
   ]
  },
  {
   "cell_type": "code",
   "execution_count": null,
   "metadata": {
    "colab": {},
    "colab_type": "code",
    "id": "9sQwAxoT5-kO"
   },
   "outputs": [],
   "source": [
    "# посмотрим содержимое текущей директории\n",
    "!ls "
   ]
  },
  {
   "cell_type": "code",
   "execution_count": null,
   "metadata": {
    "colab": {},
    "colab_type": "code",
    "id": "nYL2dtfK6iWP"
   },
   "outputs": [],
   "source": [
    "# создадим пустой файл\n",
    "!touch test-file\n",
    "# пробел в имени - плохая идея, создадутся два файла\n",
    "!touch hello world\n",
    "# посмотрим, что получилось\n",
    "!ls"
   ]
  },
  {
   "cell_type": "code",
   "execution_count": null,
   "metadata": {
    "colab": {},
    "colab_type": "code",
    "id": "AFTolllI-gJH"
   },
   "outputs": [],
   "source": [
    "# удаление файлов\n",
    "!rm world \n",
    "!ls"
   ]
  },
  {
   "cell_type": "code",
   "execution_count": null,
   "metadata": {},
   "outputs": [],
   "source": [
    "# удалим оставшиеся два файла\n",
    "!rm test-file hello\n",
    "!ls"
   ]
  },
  {
   "cell_type": "code",
   "execution_count": null,
   "metadata": {
    "colab": {},
    "colab_type": "code",
    "id": "dkLsVgkX_RNT"
   },
   "outputs": [],
   "source": [
    "# создадим новую директорию\n",
    "!mkdir please_come_here\n",
    "!ls"
   ]
  },
  {
   "cell_type": "code",
   "execution_count": null,
   "metadata": {},
   "outputs": [],
   "source": [
    "# удаление директории\n",
    "!rmdir please_come_here # !rm -r please_come_here\n",
    "!ls"
   ]
  },
  {
   "cell_type": "markdown",
   "metadata": {
    "colab_type": "text",
    "id": "hgVO1IAOAseT"
   },
   "source": [
    "Некоторые директории хранят файлы необходимые для работы программ. В них нужно что-либо менять только если значешь, что делаешь.\n",
    "\n",
    "Это так называемые скрытые директории (hidden или dot directories/files).\n"
   ]
  },
  {
   "cell_type": "code",
   "execution_count": null,
   "metadata": {
    "colab": {},
    "colab_type": "code",
    "id": "JTxijZDRq8bN"
   },
   "outputs": [],
   "source": [
    "# покажем больше информации и отобразим скрытые файлы\n",
    "!ls -la"
   ]
  },
  {
   "cell_type": "markdown",
   "metadata": {
    "colab_type": "text",
    "id": "K8Tei_Rz8ELQ"
   },
   "source": [
    "```\n",
    ".  - это путь к той директории в которой мы уже находимся\n",
    ".. - это путь к родительской директории\n",
    ".ipynb_checkpoints - это скрытая директория\n",
    "```\n",
    "\n",
    "Каждая строчка - это одна из \"дверей\" в другую директорию либо файл.\n",
    "*Относительный* путь - это не полный \"адрес\" директории а то, куда нам нужно пойти из места в котором мы сейчас находимся. \n",
    "\n",
    "\n",
    "```\n",
    " drwxr-xr-x 1 root root 4096 Feb 15 17:21 please_come_here\n",
    " |                           дата создания    |\n",
    " |                                         относительный путь\n",
    " |\n",
    "  \\ эта метка значит, что это путь к другой директории\n",
    "```\n",
    "\n"
   ]
  },
  {
   "cell_type": "code",
   "execution_count": null,
   "metadata": {
    "colab": {},
    "colab_type": "code",
    "id": "ozI5vv-G_Ato"
   },
   "outputs": [],
   "source": [
    "# pwd печатает текущую директорию\n",
    "# cd переходит в указанную директорию\n",
    "!pwd\n",
    "!cd please_come_here\n",
    "!pwd"
   ]
  },
  {
   "cell_type": "markdown",
   "metadata": {
    "colab_type": "text",
    "id": "j1YxW23TCoDo"
   },
   "source": [
    "Заработало?\n",
    "\n",
    "Не должно. Тут проблема в том что юпитер запускает каждый раз новую оболочку в своей директории (той, откуда его вызвали) , и после завершения команды она закрывается.\n",
    "\n",
    "Чтобы команды запускались в новой директории нужно поменять директорию самого юпитера.\n",
    "\n",
    "```\n",
    "%cd\n",
    "```"
   ]
  },
  {
   "cell_type": "code",
   "execution_count": null,
   "metadata": {
    "colab": {},
    "colab_type": "code",
    "id": "KwJPa7wBA7QK"
   },
   "outputs": [],
   "source": [
    "!pwd\n",
    "%cd please_come_here\n",
    "!pwd"
   ]
  },
  {
   "cell_type": "markdown",
   "metadata": {
    "colab_type": "text",
    "id": "XkxqDBlcpvtR"
   },
   "source": [
    "Когда мы переходим в другую директорию, ее имя добавляется к нашему пути через \"/\".\n",
    "\n",
    "Например, были в `/home`, перешли в директорию `Pictures`, оказались в `/home/Pictures`.\n",
    "\n",
    "Абсолютный путь файла в этой директории будет `/home/Picutes/image.png`.\n",
    "\n",
    "Если мы хотим взять файл из директории, которая является дочерней к той директории, где мы сейчас находимся, мы можем указать относительный путь файла.\n",
    "\n",
    "Например, из директории `/home` мы должны обращаться к нему по пути `Pictures/image.png`."
   ]
  },
  {
   "cell_type": "code",
   "execution_count": null,
   "metadata": {
    "colab": {},
    "colab_type": "code",
    "id": "2HUAw_NLBKyb"
   },
   "outputs": [],
   "source": [
    "# команды можно комбинировать в одну символом &\n",
    "!ls & ls -a & pwd\n",
    "%cd ..\n",
    "# чтобы команды выполнялись одна за одной нужно использовать &&\n",
    "!pwd && cd please_come_here && pwd"
   ]
  },
  {
   "cell_type": "markdown",
   "metadata": {
    "colab_type": "text",
    "id": "hDuUsb-hSmsJ"
   },
   "source": [
    "## Запись и чтение в файлы"
   ]
  },
  {
   "cell_type": "code",
   "execution_count": null,
   "metadata": {
    "colab": {},
    "colab_type": "code",
    "id": "KzJChjwnRhm4"
   },
   "outputs": [],
   "source": [
    "# вывести текст в консоль\n",
    "!echo \"Sample text Пример текста\"\n",
    "# echo - потому что команда выводит на выход то же, что и получает"
   ]
  },
  {
   "cell_type": "code",
   "execution_count": null,
   "metadata": {
    "colab": {},
    "colab_type": "code",
    "id": "WKrcMKg9R-I5"
   },
   "outputs": [],
   "source": [
    "# перенаправление вывода в файл\n",
    "!echo \"London is the capital of Great Britain\" >> English.txt"
   ]
  },
  {
   "cell_type": "code",
   "execution_count": null,
   "metadata": {
    "colab": {},
    "colab_type": "code",
    "id": "4Ht2nwgeSXhi"
   },
   "outputs": [],
   "source": [
    "# прочитать файл и вывести в консоль\n",
    "!cat English.txt\n",
    "!rm English.txt"
   ]
  },
  {
   "cell_type": "markdown",
   "metadata": {
    "colab_type": "text",
    "id": "9DRyKxZJUdNx"
   },
   "source": [
    "## Скачивание из интернета"
   ]
  },
  {
   "cell_type": "code",
   "execution_count": null,
   "metadata": {
    "colab": {},
    "colab_type": "code",
    "id": "EzS_vui3Ucer"
   },
   "outputs": [],
   "source": [
    "# сохраняем страницу по адресу\n",
    "!curl example.com >> example-com.html\n",
    "!cat example-com.html"
   ]
  },
  {
   "cell_type": "code",
   "execution_count": null,
   "metadata": {
    "colab": {},
    "colab_type": "code",
    "id": "bONrzreaXVkD"
   },
   "outputs": [],
   "source": [
    "!curl instagram.com"
   ]
  },
  {
   "cell_type": "markdown",
   "metadata": {
    "colab_type": "text",
    "id": "hdEXswC6YBCJ"
   },
   "source": [
    "Иногда сервера пытаются перенаправить запрос на другой адрес, `сurl` не следует по таким перенаправлениям. Существует прогамма `wget`, которая может переходить по таким ссылкам и вообще проходить по всем ссылкам на странице и скачивать их."
   ]
  },
  {
   "cell_type": "code",
   "execution_count": null,
   "metadata": {
    "colab": {},
    "colab_type": "code",
    "id": "BscMnGvUYeBT"
   },
   "outputs": [],
   "source": [
    "!wget instagram.com -O insta.html"
   ]
  },
  {
   "cell_type": "markdown",
   "metadata": {
    "colab_type": "text",
    "id": "vvDscEabYqhr"
   },
   "source": [
    "Обратите внимание на\n",
    "\n",
    "`HTTP request sent, awaiting response... 301 Moved Permanently`"
   ]
  },
  {
   "cell_type": "markdown",
   "metadata": {
    "colab_type": "text",
    "id": "MXDgtgM3PjlU"
   },
   "source": [
    "# Аргументы и параметры к командам"
   ]
  },
  {
   "cell_type": "markdown",
   "metadata": {
    "colab_type": "text",
    "id": "L5t2LkSzPwFa"
   },
   "source": [
    "Обычно аргументы – это то, над чем выполняется команда. Например, команда перехода в другую директорию должна получить в качестве аргумента путь директории, куда следует перейти. Команде вывода на экран содержимого файла надо передать имя файла.\n",
    "\n",
    "Параметры модифицируют, как бы видоизменяют работу программы. Например, с помощью команды просмотра содержимого каталога можно вывести простой список вложенных объектов. Используя же определенный параметр, можно получить подробные сведения о каждом файле и папке.\n",
    "\n",
    "Аргументы идут через пробел как отдельные слова.\n",
    "\n",
    "Параметры идут после дефиса: `-f` (однобуквенные), либо после двух дефисов: `--file`."
   ]
  },
  {
   "cell_type": "code",
   "execution_count": null,
   "metadata": {
    "colab": {},
    "colab_type": "code",
    "id": "uXUizaaSBnsl"
   },
   "outputs": [],
   "source": [
    "# календарь на весь год\n",
    "!ncal 2019"
   ]
  },
  {
   "cell_type": "code",
   "execution_count": null,
   "metadata": {
    "colab": {},
    "colab_type": "code",
    "id": "2aciKu7IB5Vm"
   },
   "outputs": [],
   "source": [
    "# передаем 2 аргумента\n",
    "!ncal 03 2019"
   ]
  },
  {
   "cell_type": "code",
   "execution_count": null,
   "metadata": {
    "colab": {},
    "colab_type": "code",
    "id": "4l3d14WtfIAA"
   },
   "outputs": [],
   "source": [
    "# передаем параметр -j\n",
    "!ncal -j 03 2019"
   ]
  },
  {
   "cell_type": "code",
   "execution_count": null,
   "metadata": {
    "colab": {},
    "colab_type": "code",
    "id": "vk9NUxh4fQPy"
   },
   "outputs": [],
   "source": [
    "# однобуквенные параметры можно склеивать\n",
    "!ncal -j -w 03 2019\n",
    "!ncal -jw 03 2019"
   ]
  },
  {
   "cell_type": "markdown",
   "metadata": {
    "colab_type": "text",
    "id": "V7jcOwBpgd1U"
   },
   "source": [
    "# Переменные окружения"
   ]
  },
  {
   "cell_type": "markdown",
   "metadata": {
    "colab_type": "text",
    "id": "gm-YZUlLi0lT"
   },
   "source": [
    "Оболочка в себе содержит так называемые переменные окружения - глобальные константы которые доступны всем программам которые она выполняет. В них удобно хранить например путь к конфигурационным файлам или порт какого нибудь сервиса.\n",
    "\n",
    "Переменные окружения зачастую определяют, как ведет себя программа. Например, Python ищет пакеты в переменной `PYTHONPATH`.\n",
    "\n",
    "В переменной `PATH` находятся пути, в которых bash ищет исполняемые файлы для других программ."
   ]
  },
  {
   "cell_type": "code",
   "execution_count": null,
   "metadata": {
    "colab": {},
    "colab_type": "code",
    "id": "QRCUr1pTfQLZ"
   },
   "outputs": [],
   "source": [
    "# обьявляем переменную и считываем ее ($ перед именем)\n",
    "!FOO=kindersurprise && echo $FOO"
   ]
  },
  {
   "cell_type": "code",
   "execution_count": null,
   "metadata": {
    "colab": {},
    "colab_type": "code",
    "id": "ow-40MynjgVV"
   },
   "outputs": [],
   "source": [
    "!echo $PATH\n",
    "!echo $PYTHONPATH"
   ]
  },
  {
   "cell_type": "markdown",
   "metadata": {
    "colab_type": "text",
    "id": "n9L5dgVwkzhV"
   },
   "source": [
    "Мы можем создать новую папку и заставить питон думать что в ней лежит модуль"
   ]
  },
  {
   "cell_type": "code",
   "execution_count": null,
   "metadata": {
    "colab": {},
    "colab_type": "code",
    "id": "uA50ME6BktK9"
   },
   "outputs": [],
   "source": [
    "!rm -r fakemodule\n",
    "!mkdir fakemodule\n",
    "!echo \"print('A great power comes with a great responsibility')\" >> fakemodule/__init__.py"
   ]
  },
  {
   "cell_type": "code",
   "execution_count": null,
   "metadata": {
    "colab": {},
    "colab_type": "code",
    "id": "QgLMIDMkuRTk"
   },
   "outputs": [],
   "source": [
    "!export a=\"Эта переменная будет доступна другим программам вызванным в той же оболочке\" && echo $a\n",
    "# Но тут уже не получится, для каждой команды Jupyter запускает свою оболочку\n",
    "!echo $a # выведет пустую строку"
   ]
  },
  {
   "cell_type": "code",
   "execution_count": null,
   "metadata": {
    "colab": {},
    "colab_type": "code",
    "id": "y1v9jifPlRZv"
   },
   "outputs": [],
   "source": [
    "!PYTHONPATH=$PYTHONPATH:$(pwd) && python -c \"import fakemodule\""
   ]
  },
  {
   "cell_type": "markdown",
   "metadata": {
    "colab_type": "text",
    "id": "nU9-VI-ErsHX"
   },
   "source": [
    "Конструкция `$(pwd)` подставляет вывод команды `pwd` в выражение. \n",
    "\n",
    "```\n",
    "PYTHONPATH=$PYTHONPATH:$(pwd)\n",
    "\n",
    "```\n",
    "После подстановки переменных мы получим:\n",
    "\n",
    "```\n",
    "PYTHONPATH=<то что было в PYTHONPATH>:<текущая директория>\n",
    "\n",
    "```\n",
    "Это добавит текущую директорию в переменную окружения и позволит питону найти наш модуль."
   ]
  }
 ],
 "metadata": {
  "colab": {
   "name": "bash.ipynb",
   "provenance": [],
   "version": "0.3.2"
  },
  "kernelspec": {
   "display_name": "Python 3",
   "language": "python",
   "name": "python3"
  },
  "language_info": {
   "codemirror_mode": {
    "name": "ipython",
    "version": 3
   },
   "file_extension": ".py",
   "mimetype": "text/x-python",
   "name": "python",
   "nbconvert_exporter": "python",
   "pygments_lexer": "ipython3",
   "version": "3.8.3"
  }
 },
 "nbformat": 4,
 "nbformat_minor": 1
}
