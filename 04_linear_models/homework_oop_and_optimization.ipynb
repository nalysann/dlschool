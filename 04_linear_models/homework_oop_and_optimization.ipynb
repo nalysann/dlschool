{
 "cells": [
  {
   "cell_type": "markdown",
   "metadata": {
    "colab_type": "text",
    "id": "C7da2Fck9bVb"
   },
   "source": [
    "<p style=\"align: center;\">\n",
    "    <img align=center src=\"../img/dls_logo.jpg\" width=500 height=500>\n",
    "</p>\n",
    "\n",
    "<h1 style=\"text-align: center;\">\n",
    "    Физтех-Школа Прикладной математики и информатики (ФПМИ) МФТИ\n",
    "</h1>\n",
    "\n",
    "---"
   ]
  },
  {
   "cell_type": "code",
   "execution_count": null,
   "metadata": {
    "ExecuteTime": {
     "end_time": "2020-03-15T11:20:45.176224Z",
     "start_time": "2020-03-15T11:20:45.172223Z"
    },
    "colab": {},
    "colab_type": "code",
    "id": "tQAS8Mx9GYyw"
   },
   "outputs": [],
   "source": [
    "import numpy as np\n",
    "from matplotlib import pyplot as plt\n",
    "from sklearn import datasets\n",
    "from sklearn.model_selection import train_test_split\n",
    "\n",
    "%matplotlib inline"
   ]
  },
  {
   "cell_type": "code",
   "execution_count": null,
   "metadata": {
    "ExecuteTime": {
     "end_time": "2020-03-15T11:20:45.903930Z",
     "start_time": "2020-03-15T11:20:45.899893Z"
    },
    "colab": {},
    "colab_type": "code",
    "id": "n1XO2pszGYy3"
   },
   "outputs": [],
   "source": [
    "np.random.seed(42)"
   ]
  },
  {
   "cell_type": "markdown",
   "metadata": {
    "colab_type": "text",
    "id": "N88e_sTg9bVt"
   },
   "source": [
    "## Градиентный спуск: повторение"
   ]
  },
  {
   "cell_type": "markdown",
   "metadata": {
    "colab_type": "text",
    "id": "glOQMhvr9bVu"
   },
   "source": [
    "Рассмотрим функцию от двух переменных:"
   ]
  },
  {
   "cell_type": "code",
   "execution_count": null,
   "metadata": {
    "ExecuteTime": {
     "end_time": "2020-03-15T11:20:47.316691Z",
     "start_time": "2020-03-15T11:20:47.311691Z"
    },
    "colab": {},
    "colab_type": "code",
    "id": "B-Xf8eabGYzD"
   },
   "outputs": [],
   "source": [
    "def f(x):\n",
    "    \"\"\"\n",
    "    param x: np.array(np.float) - массив размерности 2\n",
    "    return: np.float\n",
    "    \"\"\"\n",
    "\n",
    "    return np.sum(np.sin(x)**2, axis=0)"
   ]
  },
  {
   "cell_type": "markdown",
   "metadata": {
    "colab_type": "text",
    "id": "4BJvaM90GYzK"
   },
   "source": [
    "Обратите внимание, что $x$ - `numpy.array` размерности $2$."
   ]
  },
  {
   "cell_type": "markdown",
   "metadata": {
    "colab_type": "text",
    "id": "cIk_-ccl9bV0"
   },
   "source": [
    "**Напоминание.**\n",
    "\n",
    "Что мы хотим? Мы хотим найти минимум этой функции (в машинном обучении мы обычно хотим найти минимум **функции потерь**, например, **MSE**), а точнее найти $x_1$ и $x_2$ такие, что при них значение $f(x_1,x_2)$ минимально, то есть **точку экстремума**. \n",
    "\n",
    "Как мы будем искать эту точку? Используем методы оптимизации (в нашем случае - минимизации). Одним из таких методов и является **градиентный спуск**."
   ]
  },
  {
   "cell_type": "markdown",
   "metadata": {
    "colab_type": "text",
    "id": "H-5td05g9bV1"
   },
   "source": [
    "Реализуем функцию, которая будет осуществлять градиентный спуск для функции $f$.\n",
    "\n",
    "**Примечание:** вам нужно посчитать частные производные именно **аналитически** и **переписать их в код**, а не считать производные численно (через отношение приращения функции к приращению аргумента) - в этих двух случаях могут различаться ответы, поэтому будьте внимательны."
   ]
  },
  {
   "cell_type": "code",
   "execution_count": null,
   "metadata": {
    "ExecuteTime": {
     "end_time": "2020-03-15T11:20:48.983672Z",
     "start_time": "2020-03-15T11:20:48.977661Z"
    },
    "colab": {},
    "colab_type": "code",
    "id": "y9eUWe1aGYzP"
   },
   "outputs": [],
   "source": [
    "def grad_f(x): \n",
    "    \"\"\"\n",
    "    Градиент функциии f, определенной выше.\n",
    "        param x: np.array(np.float) - массив размерности 2\n",
    "        return: np.array(np.float)- массив размерности 2\n",
    "    \"\"\"\n",
    "\n",
    "    # 2 * np.sin(x) * np.cos(x)\n",
    "    return np.sin(2 * x)"
   ]
  },
  {
   "cell_type": "code",
   "execution_count": null,
   "metadata": {
    "ExecuteTime": {
     "end_time": "2020-03-15T11:20:49.893718Z",
     "start_time": "2020-03-15T11:20:49.888718Z"
    },
    "colab": {},
    "colab_type": "code",
    "id": "xfgxn286GYzW"
   },
   "outputs": [],
   "source": [
    "def grad_descent_2d(f, grad_f, lr, num_iter=100, x0=None):\n",
    "    \"\"\"\n",
    "    Функция, которая реализует градиентный спуск в минимум для функции f от двух переменных. \n",
    "        param f - скалярная функция двух переменных\n",
    "        param grad_f - градиент функции f (вектор размерности 2)\n",
    "        param lr - learning rate алгоритма\n",
    "        param num_iter - количество итераций градиентного спуска\n",
    "        return - np.array пар вида (x, f(x))\n",
    "    \"\"\"\n",
    "\n",
    "    if x0 is None:\n",
    "        x0 = np.random.random(2)\n",
    "    \n",
    "    # будем сохранять значения аргументов и значений функции \n",
    "    # в процессе градиентного спуска в переменную history\n",
    "    history = []\n",
    "    \n",
    "    # итерация цикла - шаг градиентнго спуска\n",
    "    curr_x = np.array(x0)\n",
    "    for iter_num in range(num_iter):\n",
    "        entry = np.hstack((curr_x, f(curr_x)))\n",
    "        history.append(entry)\n",
    "        \n",
    "        # обновите curr_x\n",
    "        curr_x -= lr * grad_f(curr_x)\n",
    "\n",
    "    return np.vstack(history)"
   ]
  },
  {
   "cell_type": "markdown",
   "metadata": {
    "colab_type": "text",
    "id": "ReG0zkHG9bV7"
   },
   "source": [
    "Визуализируем точки градиентного спуска на 3D-графике нашей функции. Кружочками будут обозначены точки (тройки $x_1, x_2, f(x_1, x_2)$), по которым ваш алгоритм градиентного спуска двигался к минимуму.\n",
    "\n",
    "Для того, чтобы нарисовать этот график, мы и сохраняли значения $cur\\_x_1, cur\\_x_2, f(cur\\_x_1, cur\\_x_2)$ в `steps` в процессе спуска.\n",
    "\n",
    "Если у вас правильно написана функция `grad_descent_2d`, то кружочки на картинке должны сходиться к одной из точек минимума функции. Вы можете менять начальные приближения алгоритма, значения `lr` и `num_iter` и получать разные результаты."
   ]
  },
  {
   "cell_type": "code",
   "execution_count": null,
   "metadata": {
    "ExecuteTime": {
     "end_time": "2020-03-15T11:20:51.104598Z",
     "start_time": "2020-03-15T11:20:51.098599Z"
    },
    "colab": {},
    "colab_type": "code",
    "id": "VJx5dFeUGYzb"
   },
   "outputs": [],
   "source": [
    "steps = grad_descent_2d(f, grad_f, lr=0.4, num_iter=20)"
   ]
  },
  {
   "cell_type": "code",
   "execution_count": null,
   "metadata": {
    "ExecuteTime": {
     "end_time": "2020-03-15T11:20:52.641471Z",
     "start_time": "2020-03-15T11:20:52.118379Z"
    },
    "colab": {
     "base_uri": "https://localhost:8080/",
     "height": 575
    },
    "colab_type": "code",
    "executionInfo": {
     "elapsed": 1973,
     "status": "ok",
     "timestamp": 1584485273927,
     "user": {
      "displayName": "Aleksandr Veselev",
      "photoUrl": "",
      "userId": "06497019213520827031"
     },
     "user_tz": -180
    },
    "id": "nRr9S7crGYzk",
    "outputId": "09b12c77-7f59-40bb-f7b0-b703c25f06cd"
   },
   "outputs": [],
   "source": [
    "# %matplotlib osx\n",
    "\n",
    "from mpl_toolkits.mplot3d import Axes3D\n",
    "import matplotlib.pyplot as plt\n",
    "from matplotlib import cm\n",
    "import numpy as np\n",
    "\n",
    "path = []\n",
    "\n",
    "X, Y = np.meshgrid(np.linspace(-3, 3, 100), np.linspace(-3, 3, 100))\n",
    "\n",
    "fig = plt.figure(figsize=(16, 10))\n",
    "ax = fig.gca(projection='3d')\n",
    "\n",
    "ax.plot_surface(X, Y, f([X, Y]), cmap=cm.coolwarm, zorder=2)\n",
    "\n",
    "# редактируем настройки отображения траектории, сделанной градиентым спуском\n",
    "ax.plot(xs=steps[:, 0], ys=steps[:, 1], zs=steps[:, 2],\n",
    "        marker='o', markersize=8, zorder=3, \n",
    "        markerfacecolor='red', lw=3, c='green')\n",
    "\n",
    "ax.set_zlim(0, 5)\n",
    "ax.view_init(elev=60)\n",
    "plt.show()"
   ]
  },
  {
   "cell_type": "markdown",
   "metadata": {
    "colab_type": "text",
    "id": "1OcPBXmA9bWD"
   },
   "source": [
    "## Линейная регрессия"
   ]
  },
  {
   "cell_type": "markdown",
   "metadata": {
    "colab_type": "text",
    "id": "dtZ4p5g29bWE"
   },
   "source": [
    "В данном пункте мы реализуем метод градиентного спуска для задачи регрессии:\n",
    "\n",
    "$$\n",
    "Y = XW + B + \\varepsilon\n",
    "$$"
   ]
  },
  {
   "cell_type": "markdown",
   "metadata": {
    "colab_type": "text",
    "id": "jxTy69ua9bWG"
   },
   "source": [
    "Обратите внимание, что $Y$ - матрица размера $n\\_samples \\times n\\_targets$, т.е. для каждого объекта мы будем предсказывать не $1$ число, а $n\\_targets$ чисел. Такая модель будет полезна в будущем, когда вы столкнетесь с полносвязным слоем в нейронных сетях. Размерности остальных матриц в формуле согласованы с $Y$!"
   ]
  },
  {
   "cell_type": "code",
   "execution_count": null,
   "metadata": {
    "colab": {},
    "colab_type": "code",
    "id": "Y03uNHOo9bWH"
   },
   "outputs": [],
   "source": [
    "X, Y = datasets.make_regression(n_targets=3, n_features=2, noise=10, random_state=42)\n",
    "X_train, X_test, Y_train, Y_test = train_test_split(X, Y)"
   ]
  },
  {
   "cell_type": "markdown",
   "metadata": {
    "colab_type": "text",
    "id": "snlYFgfm9bWM"
   },
   "source": [
    "Для отыскания значения параметров мы будем минимизировать **MSE**:\n",
    "\n",
    "$$\n",
    "Q(X, Y, W, B) = \\frac{1}{n}\\|Y - (XW + B)\\|_F^2 = \\frac{1}{n}\\ \\mathrm{tr} \\left[(Y - XW - B) (Y - XW - B)^{\\top}\\right]\n",
    "$$\n",
    "\n",
    "где $n$ - количество элементов выборки, $\\| \\cdot \\|_F$ — Фробениусова норма матрицы, $\\mathrm{tr}$ — след матрицы, $\\top$ — оператор транспонирования."
   ]
  },
  {
   "cell_type": "markdown",
   "metadata": {
    "colab_type": "text",
    "id": "MmvQUMYN9bWM"
   },
   "source": [
    "В градиентном спуске на следующем шаге значения параметров получаются из значений на текущем шаге смещением в сторону антиградиента функции потерь:\n",
    "\n",
    "$$\n",
    "W_{(k+1)} = W_{(k)} - \\eta_k \\nabla Q(W_{(k)})\n",
    "$$\n",
    "\n",
    "где $\\eta_t$ — длина шага (**learning rate**).\n",
    "\n",
    "Градиент в случае **MSE** выглядит следующим образом:\n",
    "\n",
    "$$\n",
    "\\begin{aligned}\n",
    "    \\nabla_{W} Q &= \\frac{2}{n}X^T(\\widehat{Y} - Y)\\\\\n",
    "    \\nabla_{B} Q &= \\frac{2}{n}(\\widehat{Y} - Y)\n",
    "\\end{aligned}\n",
    "$$\n",
    "\n",
    "где $\\widehat{Y} = XW + B$.\n",
    "\n",
    "У нас есть несколько переменных, чтобы получить **MSE** нужно посчитать сумму квадратов ошибок и поделить на $n$, а не на $nk$, где $n$ - размер выборки, а $k$ - размерность таргета, для **MAE** так же."
   ]
  },
  {
   "cell_type": "code",
   "execution_count": null,
   "metadata": {
    "colab": {},
    "colab_type": "code",
    "id": "AMd68j7r9bWN"
   },
   "outputs": [],
   "source": [
    "class LinearRegression:\n",
    "    def __init__(self, l_p_metric=2, seed=42):\n",
    "        \"\"\"\n",
    "        param l_p_metric - задаёт метрику для оптимизации\n",
    "        Значение 1 соответсвует MAE, 2 — MSE\n",
    "        param seed - radom_seed для случайной инициализации весов\n",
    "        \"\"\"\n",
    "        \n",
    "        # используйте np.linalg.norm\n",
    "        self.metric = lambda y_pred, y: np.mean(np.linalg.norm(y_pred - y, ord=l_p_metric, axis=1) ** l_p_metric)\n",
    "        self.seed = seed\n",
    "\n",
    "        self.W = None\n",
    "        self.b = None\n",
    "\n",
    "    def init_weights(self, input_size, output_size):\n",
    "        \"\"\"\n",
    "        Инициализирует параметры модели\n",
    "            param W - матрица размера (input_size, output_size)\n",
    "            инициализируется рандомными числами из нормального\n",
    "            распределения со средним 0 и стандартным отклонением 0.01\n",
    "            param b - вектор размера (1, output_size)\n",
    "            инициализируется нулями\n",
    "        \"\"\"\n",
    "        \n",
    "        np.random.seed(self.seed)\n",
    "        self.W = np.random.normal(loc=0, scale=0.01, size=(input_size, output_size))\n",
    "        self.b = np.zeros((1, output_size))\n",
    "\n",
    "    def fit(self, X, y, num_epochs=1000, lr=0.001):\n",
    "        \"\"\"\n",
    "        Обучение модели линейной регрессии методом градиентного спуска\n",
    "            param X - матрица размера (num_samples, input_size)\n",
    "            param y - матрица размера (num_samples, output_size)\n",
    "            param num_epochs - количество итераций градиентного спуска\n",
    "            param lr - шаг градиентного спуска\n",
    "            return metrics - вектор значений метрики на каждом шаге градиентного\n",
    "            спуска. Метрика контролируется параметром l_p_metric в конструкторе\n",
    "        \"\"\"\n",
    "        \n",
    "        self.init_weights(X.shape[1], y.shape[1])\n",
    "        metrics = []\n",
    "        \n",
    "        for epoch in range(num_epochs):\n",
    "            y_pred = self.predict(X)\n",
    "            \n",
    "            # сделайте вычисления градиентов без циклов,\n",
    "            # используя только NumPy\n",
    "            n = X.shape[0]\n",
    "            \n",
    "            W_grad = 2 / n * X.T @ (y_pred - y)\n",
    "            b_grad = 2 * np.mean(y_pred - y, axis=0)        \n",
    "            \n",
    "            self.W -= lr * W_grad\n",
    "            self.b -= lr * b_grad\n",
    "            \n",
    "            metrics.append(self.metric(y_pred, y))\n",
    "            \n",
    "        return metrics\n",
    "\n",
    "    def predict(self, X):\n",
    "        \"\"\"\n",
    "        Думаю, тут все понятно. Сделайте свои предсказания :)\n",
    "        \"\"\"\n",
    "        \n",
    "        return X @ self.W + self.b"
   ]
  },
  {
   "cell_type": "code",
   "execution_count": null,
   "metadata": {
    "colab": {},
    "colab_type": "code",
    "id": "8sX8a5OE9bWQ"
   },
   "outputs": [],
   "source": [
    "model = LinearRegression()\n",
    "mse = model.fit(X_train, Y_train)"
   ]
  },
  {
   "cell_type": "code",
   "execution_count": null,
   "metadata": {
    "colab": {},
    "colab_type": "code",
    "id": "EGGKJjz99bWT",
    "scrolled": false
   },
   "outputs": [],
   "source": [
    "# постройте график для MSE\n",
    "plt.figure(figsize=(15, 8))\n",
    "plt.plot(mse)\n",
    "plt.show()"
   ]
  },
  {
   "cell_type": "code",
   "execution_count": null,
   "metadata": {},
   "outputs": [],
   "source": [
    "model = LinearRegression(l_p_metric=1)\n",
    "mae = model.fit(X_train, Y_train)"
   ]
  },
  {
   "cell_type": "code",
   "execution_count": null,
   "metadata": {},
   "outputs": [],
   "source": [
    "# постройте график для MAE\n",
    "plt.figure(figsize=(15, 8))\n",
    "plt.plot(mse)\n",
    "plt.show()"
   ]
  },
  {
   "cell_type": "markdown",
   "metadata": {
    "colab_type": "text",
    "id": "qmTfcFZB9bWW"
   },
   "source": [
    "## Логистическая регрессия"
   ]
  },
  {
   "cell_type": "markdown",
   "metadata": {
    "colab_type": "text",
    "id": "PDwAK1rj9bWX"
   },
   "source": [
    "Теперь будем решать задачу классификации при помощи логистической регрессии."
   ]
  },
  {
   "cell_type": "code",
   "execution_count": null,
   "metadata": {
    "ExecuteTime": {
     "end_time": "2020-03-15T11:31:01.748932Z",
     "start_time": "2020-03-15T11:31:01.417729Z"
    },
    "colab": {},
    "colab_type": "code",
    "id": "hXbUhTm99bWY"
   },
   "outputs": [],
   "source": [
    "X, y = datasets.make_blobs(n_samples=10000, n_features=2, centers=2, random_state=42)\n",
    "y = y[:, np.newaxis]\n",
    "\n",
    "X_train, X_test, y_train, y_test = train_test_split(X, y, random_state=42)"
   ]
  },
  {
   "cell_type": "code",
   "execution_count": null,
   "metadata": {
    "ExecuteTime": {
     "end_time": "2020-03-15T11:31:03.325536Z",
     "start_time": "2020-03-15T11:31:02.927993Z"
    },
    "colab": {},
    "colab_type": "code",
    "id": "O35OmKnM9bWb"
   },
   "outputs": [],
   "source": [
    "plt.figure(figsize=(15, 8))\n",
    "plt.scatter(X_train[:, 0], X_train[:, 1], c=y_train[:, 0])\n",
    "plt.show()"
   ]
  },
  {
   "cell_type": "markdown",
   "metadata": {
    "colab_type": "text",
    "id": "vn5RyTe89bWd"
   },
   "source": [
    "#### Небольшое напоминание по логистической регрессии\n",
    "\n",
    "Сигмоида:\n",
    "\n",
    "$$\n",
    "\\sigma(h) = \\frac{1}{1 + e^{-h}}\n",
    "$$\n",
    "\n",
    "Вероятность принадлежности к классу:\n",
    "\n",
    "$$\n",
    "P(y = 1 | x, w) = \\sigma(x \\cdot w)\n",
    "$$\n",
    "\n",
    "Логистическая функция потерь:\n",
    "\n",
    "$$\n",
    "L(y, p) = - \\frac{1}{m}\\sum_{1}^{m}(y_i log(p_i) + (1 - y_i) log(1 - p_i))\n",
    "$$"
   ]
  },
  {
   "cell_type": "markdown",
   "metadata": {},
   "source": [
    "Для вывода логистической регрессии удобнее рассматривать бинарную классификацию, где метки классов лежат во множестве $\\{0, 1\\}$.\n",
    "\n",
    "Задачу обучения логистической регрессии можно записать следующим образом:\n",
    "\n",
    "$$\n",
    "L(y, p)  \\to \\min_w\n",
    "$$\n",
    "\n",
    "Обучение в данном случае сводится к нахождению параметров модели $w$, которое производится с помощью метода градиентного спуска (Gradient Descent, GD). \n",
    "\n",
    "Градиентный шаг будет заключаться в обновлении вектора весов по следующей формуле:\n",
    "\n",
    "$$\n",
    "w := w - \\eta \\frac{1}{m} X^T (p - y)\n",
    "$$\n",
    "\n",
    "где $\\eta > 0$ — размер шага (**learning rate**)."
   ]
  },
  {
   "cell_type": "code",
   "execution_count": null,
   "metadata": {
    "colab": {},
    "colab_type": "code",
    "id": "u-Ey1TCu9bWe"
   },
   "outputs": [],
   "source": [
    "class LogisticRegressionGD:\n",
    "    \"\"\"\n",
    "    Простая логистическая регрессия с градиентным спуском для задачи бинарной классификации\n",
    "    \"\"\"\n",
    "    \n",
    "    def __init__(self):\n",
    "        pass\n",
    "    \n",
    "    def __extend_X(self, X):\n",
    "        \"\"\"\n",
    "        Данный метод должен возвращать следующую матрицу:\n",
    "        X_ext = [1, X], где 1 - единичный вектор.\n",
    "        Это необходимо для того, чтобы было удобнее производить\n",
    "        вычисления, т.е. вместо того, чтобы считать X @ W + b\n",
    "        можно было считать X_ext @ W_ext\n",
    "        \"\"\"\n",
    "        \n",
    "        return np.hstack((np.ones((X.shape[0], 1)), X))\n",
    "    \n",
    "    def init_weights(self, input_size, output_size):\n",
    "        \"\"\"\n",
    "        Инициализирует параметры модели.\n",
    "        W - матрица размера (input_size, output_size)\n",
    "        инициализируется рандомными числами из нормального распределения\n",
    "        со средним 0 и стандартным отклонением 0.01\n",
    "        \"\"\"\n",
    "        \n",
    "        np.random.seed(42)\n",
    "        self.W = np.random.normal(loc=0, scale=0.01, size=(input_size, output_size))\n",
    "        \n",
    "    def get_loss(self, p, y):\n",
    "        \"\"\"\n",
    "        Данный метод вычисляет логистическую функцию потерь\n",
    "            param p - вероятности принадлежности к классу 1\n",
    "            param y - истинные метки\n",
    "        \"\"\"\n",
    "        \n",
    "        return -np.mean(y * np.log(p) + (1 - y) * np.log(1 - p))\n",
    "                         \n",
    "    def sigmoid(self, h):\n",
    "        return 1 / (1 + np.exp(-h))\n",
    "    \n",
    "    def get_prob(self, X):\n",
    "        \"\"\"\n",
    "        Данный метод вычисляет P(y = 1 | X, W)\n",
    "        Возможно, будет удобнее реализовать дополнительный\n",
    "        метод для вычисления сигмоиды\n",
    "        \"\"\"\n",
    "        \n",
    "        if X.shape[1] != self.W.shape[0]:\n",
    "            X = self.__extend_X(X)\n",
    "        \n",
    "        return self.sigmoid(X @ self.W)\n",
    "    \n",
    "    def get_acc(self, p, y, threshold=0.5):\n",
    "        \"\"\"\n",
    "        Данный метод вычисляет accuracy:\n",
    "        acc = \\frac{1}{len(y)}\\sum_{i=1}^{len(y)}{I[y_i == (p_i >= threshold)]}\n",
    "        \"\"\"\n",
    "        \n",
    "        return np.mean(y == (p >= threshold))\n",
    "\n",
    "    def fit(self, X, y, num_epochs=100, lr=0.001):\n",
    "        \n",
    "        X = self.__extend_X(X)\n",
    "        self.init_weights(X.shape[1], y.shape[1])\n",
    "        \n",
    "        accs = []\n",
    "        losses = []\n",
    "          \n",
    "        for epoch in range(num_epochs):\n",
    "            p = self.get_prob(X)\n",
    "\n",
    "            W_grad = X.T @ (p - y) / y.shape[0]\n",
    "            self.W -= lr * W_grad\n",
    "            \n",
    "            # необходимо для стабильности вычислений под логарифмом\n",
    "            p = np.clip(p, 1e-10, 1 - 1e-10)\n",
    "            \n",
    "            log_loss = self.get_loss(p, y)\n",
    "            losses.append(log_loss)\n",
    "            acc = self.get_acc(p, y)\n",
    "            accs.append(acc)\n",
    "        \n",
    "        return accs, losses"
   ]
  },
  {
   "cell_type": "code",
   "execution_count": null,
   "metadata": {
    "colab": {},
    "colab_type": "code",
    "id": "w-Pbq-fj9bWh"
   },
   "outputs": [],
   "source": [
    "model = LogisticRegressionGD()\n",
    "accs, losses = model.fit(X_train, y_train)"
   ]
  },
  {
   "cell_type": "code",
   "execution_count": null,
   "metadata": {
    "colab": {},
    "colab_type": "code",
    "id": "ItS0UWut9bWl"
   },
   "outputs": [],
   "source": [
    "# постройте графики для accuracy и для loss\n",
    "plt.figure(figsize=(15, 8))\n",
    "plt.plot(accs)\n",
    "plt.show()"
   ]
  },
  {
   "cell_type": "code",
   "execution_count": null,
   "metadata": {},
   "outputs": [],
   "source": [
    "plt.figure(figsize=(15, 8))\n",
    "plt.plot(losses)\n",
    "plt.show()"
   ]
  },
  {
   "cell_type": "markdown",
   "metadata": {
    "colab_type": "text",
    "id": "Ku-r6kPq9bWr"
   },
   "source": [
    "## Логистическая регрессия с SGD"
   ]
  },
  {
   "cell_type": "markdown",
   "metadata": {
    "colab_type": "text",
    "id": "6IGzwx9n9bWr"
   },
   "source": [
    "Сложность вычисления в случае с **GD** - $O(kn)$, где $k$ - размер вектора признаков, $n$ - размер всей выборки.\n",
    "В случае, когда выборка очень большая, это решение становится непрактичным.\n",
    "\n",
    "**GD** заменяют на **SGD** - стохастический градиентный спуск. Он отличается от обычного заменой градиента на несмещённую оценку по одному или нескольким объектам. В этом случае сложность становится  $O(kl)$ , где  $l$  — количество объектов, по которым оценивается градиент,  $l << n$."
   ]
  },
  {
   "cell_type": "code",
   "execution_count": null,
   "metadata": {
    "colab": {},
    "colab_type": "code",
    "id": "zROrnclo9bWs"
   },
   "outputs": [],
   "source": [
    "def batch_generator(X, y, batch_size=100):\n",
    "    \"\"\"\n",
    "    Необходимо написать свой генератор батчей.\n",
    "    Если вы не знаете, что такое генератор, то, возможно,\n",
    "    вам поможет https://habr.com/ru/post/132554/\n",
    "    В данном генераторе не надо перемешивать данные\n",
    "    \"\"\"\n",
    "    \n",
    "    num_samples = X.shape[0]\n",
    "    # заметьте, что в данном случае, если num_samples не делится на\n",
    "    # batch_size, то последние элементы никогда не попадут в обучение\n",
    "    # в данном случае нас это не волнует\n",
    "    num_batches = num_samples // batch_size\n",
    "    for i in range(num_batches):\n",
    "        # необходимо отдать batch_size обьектов и соответствующие им target\n",
    "        ind = slice(i * batch_size, (i + 1) * batch_size)\n",
    "        yield X[ind], y[ind]\n",
    "\n",
    "\n",
    "class LogisticRegressionSGD:\n",
    "    def __init__(self):\n",
    "        pass\n",
    "    \n",
    "    def __extend_X(self, X):\n",
    "        \"\"\"\n",
    "        Данный метод должен возвращать следующую матрицу:\n",
    "        X_ext = [1, X], где 1 - единичный вектор.\n",
    "        Это необходимо для того, чтобы было удобнее производить\n",
    "        вычисления, т.е. вместо того, чтобы считать X @ W + b\n",
    "        можно было считать X_ext @ W_ext\n",
    "        \"\"\"\n",
    "        \n",
    "        return np.hstack((np.ones((X.shape[0], 1)), X))\n",
    "\n",
    "    def init_weights(self, input_size, output_size):\n",
    "        \"\"\"\n",
    "        Инициализирует параметры модели.\n",
    "        W - матрица размера (input_size, output_size)\n",
    "        инициализируется рандомными числами из нормального распределения\n",
    "        со средним 0 и стандартным отклонением 0.01\n",
    "        \"\"\"\n",
    "        \n",
    "        np.random.seed(42)\n",
    "        self.W = np.random.normal(loc=0, scale=0.01, size=(input_size, output_size))\n",
    "        \n",
    "    def get_loss(self, p, y):\n",
    "        \"\"\"\n",
    "        Данный метод вычисляет логистическую функцию потерь\n",
    "            param p - вероятности принадлежности к классу 1\n",
    "            param y - истинные метки\n",
    "        \"\"\"\n",
    "        \n",
    "        return -np.mean(y * np.log(p) + (1 - y) * np.log(1 - p))\n",
    "    \n",
    "    def sigmoid(self, h):\n",
    "        return 1 / (1 + np.exp(-h))\n",
    "    \n",
    "    def get_prob(self, X):\n",
    "        \"\"\"\n",
    "        Данный метод вычисляет P(y = 1 | X, W)\n",
    "        Возможно, будет удобнее реализовать дополнительный\n",
    "        метод для вычисления сигмоиды\n",
    "        \"\"\"\n",
    "        \n",
    "        if X.shape[1] != self.W.shape[0]:\n",
    "            X = self.__extend_X(X)\n",
    "        \n",
    "        return self.sigmoid(X @ self.W)\n",
    "    \n",
    "    def get_acc(self, p, y, threshold=0.5):\n",
    "        \"\"\"\n",
    "        Данный метод вычисляет accuracy:\n",
    "        acc = \\frac{1}{len(y)}\\sum_{i=1}^{len(y)}{I[y_i == (p_i >= threshold)]}\n",
    "        \"\"\"\n",
    "        \n",
    "        return np.mean(y == (p >= threshold))\n",
    "\n",
    "    def fit(self, X, y, num_epochs=10, lr=0.001):\n",
    "        \n",
    "        X = self.__extend_X(X)\n",
    "        self.init_weights(X.shape[1], y.shape[1])\n",
    "        \n",
    "        accs = []\n",
    "        losses = []\n",
    "        for epoch in range(num_epochs):\n",
    "            gen = batch_generator(X, y)\n",
    "            for X_, y_ in gen:\n",
    "                p = self.get_prob(X_)\n",
    "\n",
    "                W_grad = X_.T @ (p - y_) / y_.shape[0]\n",
    "                self.W -= lr * W_grad\n",
    "\n",
    "                # необходимо для стабильности вычислений под логарифмом\n",
    "                p = np.clip(p, 1e-10, 1 - 1e-10)\n",
    "\n",
    "                log_loss = self.get_loss(p, y_)\n",
    "                losses.append(log_loss)\n",
    "                acc = self.get_acc(p, y_)\n",
    "                accs.append(acc)\n",
    "        \n",
    "        return accs, losses"
   ]
  },
  {
   "cell_type": "code",
   "execution_count": null,
   "metadata": {
    "colab": {},
    "colab_type": "code",
    "id": "bR3hSDgy9bWu"
   },
   "outputs": [],
   "source": [
    "model = LogisticRegressionSGD()\n",
    "accs, losses = model.fit(X_train, y_train)"
   ]
  },
  {
   "cell_type": "code",
   "execution_count": null,
   "metadata": {
    "colab": {},
    "colab_type": "code",
    "id": "_FZvwpkT9bWx"
   },
   "outputs": [],
   "source": [
    "# постройте графики для accuracy и для loss\n",
    "plt.figure(figsize=(15, 8))\n",
    "plt.plot(accs)\n",
    "plt.show()"
   ]
  },
  {
   "cell_type": "code",
   "execution_count": null,
   "metadata": {},
   "outputs": [],
   "source": [
    "plt.figure(figsize=(15, 8))\n",
    "plt.plot(losses)\n",
    "plt.show()"
   ]
  },
  {
   "cell_type": "markdown",
   "metadata": {
    "colab_type": "text",
    "id": "Rj5hZjJk9bW0"
   },
   "source": [
    "В данном случае модель тренируется значительно дольше, чем c **Gradient Decent**. Попробуйте объяснить, почему так происходит."
   ]
  }
 ],
 "metadata": {
  "colab": {
   "collapsed_sections": [],
   "name": "[homework,prodv]OOP_and_optimization.ipynb",
   "provenance": []
  },
  "kernelspec": {
   "display_name": "Python 3",
   "language": "python",
   "name": "python3"
  },
  "language_info": {
   "codemirror_mode": {
    "name": "ipython",
    "version": 3
   },
   "file_extension": ".py",
   "mimetype": "text/x-python",
   "name": "python",
   "nbconvert_exporter": "python",
   "pygments_lexer": "ipython3",
   "version": "3.8.3"
  },
  "toc": {
   "base_numbering": 1,
   "nav_menu": {},
   "number_sections": true,
   "sideBar": true,
   "skip_h1_title": false,
   "title_cell": "Table of Contents",
   "title_sidebar": "Contents",
   "toc_cell": false,
   "toc_position": {},
   "toc_section_display": true,
   "toc_window_display": false
  }
 },
 "nbformat": 4,
 "nbformat_minor": 1
}
