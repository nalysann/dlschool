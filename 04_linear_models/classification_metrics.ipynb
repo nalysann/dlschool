{
 "cells": [
  {
   "cell_type": "markdown",
   "metadata": {},
   "source": [
    "<p style=\"align: center;\">\n",
    "    <img align=center src=\"../img/dls_logo.jpg\" width=500 height=500>\n",
    "</p>\n",
    "\n",
    "<h1 style=\"text-align: center;\">\n",
    "    Физтех-Школа Прикладной математики и информатики (ФПМИ) МФТИ\n",
    "</h1>\n",
    "\n",
    "---"
   ]
  },
  {
   "cell_type": "markdown",
   "metadata": {},
   "source": [
    "<h1 style=\"text-align: center;\">\n",
    "    Метрики в задаче классификации\n",
    "</h1>"
   ]
  },
  {
   "cell_type": "markdown",
   "metadata": {
    "colab_type": "text",
    "id": "2Jrdln-ZZ7D5"
   },
   "source": [
    "Две основные задачи машинного обучения - классификация и регрессия. C метрикой для задачи регрессии всё ясно: квадратичная функция потерь\n",
    "\n",
    "$$\n",
    "f(y_{true}, y_{pred}) = (y_{true} - y_{pred})^2\n",
    "$$\n",
    "\n",
    "Метрик в задаче классификации можно придумать великое множество."
   ]
  },
  {
   "cell_type": "markdown",
   "metadata": {},
   "source": [
    "## Метрики, связанные с бинарными лейблами"
   ]
  },
  {
   "cell_type": "markdown",
   "metadata": {
    "colab_type": "text",
    "id": "aaqH7IHIZ7D8"
   },
   "source": [
    "Предположим, что мы решаем задачу кредитного скоринга (решаем, кому выдавать кредит, кому нет). Мы получили следующие ответы алгоритма: \n",
    "\n",
    "<img src=\"../img/linear_models_metrics_1.png\">"
   ]
  },
  {
   "cell_type": "markdown",
   "metadata": {
    "colab_type": "text",
    "id": "B58qNQdoZ7D9"
   },
   "source": [
    "Самое логичное решение для измерения качества - посчитать процент совпадающих ответов. Такая метрика называется `accuracy`. В данном случае `accuracy` равна $60\\%$. Плохо это или хорошо?\n",
    "\n",
    "Тут приходит к нам новый сотрудник и заявляет, что повысит `accuracy` на $10\\%$. Он предъявляет такой результат на тесте:\n",
    "\n",
    "<img src=\"../img/linear_models_metrics_2.png\">\n",
    "\n",
    "Значение `accuracy` повысилось! Но теперь банк выдаёт кредит всем заёмщикам. Вывод: для многих задач нужны другие метрики. Их разработкой мы и займёмся."
   ]
  },
  {
   "cell_type": "markdown",
   "metadata": {
    "colab_type": "text",
    "id": "7-P0ekLfZ7D-"
   },
   "source": [
    "<img src=\"../img/linear_models_metrics_3.png\">"
   ]
  },
  {
   "cell_type": "markdown",
   "metadata": {
    "colab_type": "text",
    "id": "H2Bst42YZ7EA"
   },
   "source": [
    "<img src=\"../img/linear_models_metrics_4.png\">"
   ]
  },
  {
   "cell_type": "markdown",
   "metadata": {
    "colab_type": "text",
    "id": "cUY-4Ru_Z7EA"
   },
   "source": [
    "<img src=\"../img/linear_models_metrics_5.png\">"
   ]
  },
  {
   "cell_type": "markdown",
   "metadata": {},
   "source": [
    "### Precision\n",
    "\n",
    "Пример для `precision`: кредитный скоринг. Нам не выгодно выдавать кредит ($y_{pred} = 1$) неблагонадёжным заёмщикам ($y_{true} = 0$). За такие ошибки (ошибки первого рода) нас штрафует метрика."
   ]
  },
  {
   "cell_type": "markdown",
   "metadata": {
    "colab_type": "text",
    "id": "Kfu9H_hBZ7EC"
   },
   "source": [
    "### Recall\n",
    "\n",
    "Пример для `recall`: поиск скрытых военных баз противника. Опасна ситуация, когда опасный объект ($y_{true} = 1$) не был идентифицирован как военная база ($y_{pred} = 0$)."
   ]
  },
  {
   "cell_type": "markdown",
   "metadata": {
    "colab_type": "text",
    "id": "Qf23ZYqdZ7ED"
   },
   "source": [
    "<img src=\"../img/linear_models_metrics_6.png\">"
   ]
  },
  {
   "cell_type": "markdown",
   "metadata": {
    "colab_type": "text",
    "id": "I0Wa1oF9Z7EE"
   },
   "source": [
    "### F-мера\n",
    "\n",
    "Комбинация `precision` и `recall`:\n",
    "\n",
    "$$\n",
    "F_{\\beta} = (1 + {\\beta}^2) \\cdot \\frac{precision \\cdot recall}{({\\beta}^2 \\cdot precision) + recall}\n",
    "$$"
   ]
  },
  {
   "cell_type": "markdown",
   "metadata": {},
   "source": [
    "## Метрики, связанные с вероятностными ответами"
   ]
  },
  {
   "cell_type": "markdown",
   "metadata": {
    "colab_type": "text",
    "id": "AhSrR3R-Z7EF"
   },
   "source": [
    "Мы уже сталкивались с алгоритмами, которые предсказывают не класс, а вероятность принадлежности к классу (например, линейная регрессия). Хотим ввести метрику, которая бы отражала качество такой \"вероятностной классификации\"."
   ]
  },
  {
   "cell_type": "markdown",
   "metadata": {
    "colab_type": "text",
    "id": "8B_q6Tg_H0ad"
   },
   "source": [
    "<h3 style=\"text-align: center;\">\n",
    "    ROC-кривая\n",
    "</h3>\n",
    "\n",
    "<img src=\"../img/linear_models_metrics_7.png\">"
   ]
  },
  {
   "cell_type": "markdown",
   "metadata": {
    "colab_type": "text",
    "id": "F8c0T7sC5PtO"
   },
   "source": [
    "### ROC-AUC\n",
    "\n",
    "Метрика `ROC-AUC` определяется как площадь под **ROC-кривой**."
   ]
  },
  {
   "cell_type": "code",
   "execution_count": null,
   "metadata": {
    "colab": {},
    "colab_type": "code",
    "id": "gFX1e-GYZ7EG"
   },
   "outputs": [],
   "source": [
    "import numpy as np\n",
    "from sklearn.metrics import roc_curve, roc_auc_score\n",
    "import matplotlib.pyplot as plt\n",
    "\n",
    "%matplotlib inline"
   ]
  },
  {
   "cell_type": "code",
   "execution_count": null,
   "metadata": {
    "colab": {},
    "colab_type": "code",
    "id": "r5Q_WXbL5gIc"
   },
   "outputs": [],
   "source": [
    "y_true = [1, 1, 0, 1, 1, 1, 1, 0, 1, 0, 1, 0, 0, 0, 1, 0, 0, 0]\n",
    "y_pred = np.linspace(1, 0, len(y_true))"
   ]
  },
  {
   "cell_type": "code",
   "execution_count": null,
   "metadata": {
    "colab": {
     "base_uri": "https://localhost:8080/",
     "height": 428
    },
    "colab_type": "code",
    "executionInfo": {
     "elapsed": 869,
     "status": "ok",
     "timestamp": 1584472466592,
     "user": {
      "displayName": "Григорий Лелейтнер",
      "photoUrl": "",
      "userId": "07179937308049589303"
     },
     "user_tz": -180
    },
    "id": "SSwmIiti6ADJ",
    "outputId": "7800ac1a-0630-41b5-b4ff-ab328658fe62"
   },
   "outputs": [],
   "source": [
    "auc = roc_auc_score(y_true, y_pred)\n",
    "\n",
    "plt.figure(figsize=(10, 7))\n",
    "plt.plot(*roc_curve(y_true, y_pred)[:-1], label=f'roc_auc = {auc:.4f}')\n",
    "plt.plot([0, 1], [0, 1], '--', color='black')\n",
    "\n",
    "plt.grid()\n",
    "plt.legend()\n",
    "plt.show()"
   ]
  },
  {
   "cell_type": "markdown",
   "metadata": {
    "colab_type": "text",
    "id": "Yg77fnfk620c"
   },
   "source": [
    "Порог для классификации определяется так, как вам нужно. Например, зная прибыль с надёжного заемщика и убыток с ненадёжного, можно определить порог выдачи кредита, максимизируя ожидаемую прибыль."
   ]
  }
 ],
 "metadata": {
  "colab": {
   "collapsed_sections": [],
   "name": "[seminar,prodv]classification_metrics.ipynb",
   "provenance": [],
   "toc_visible": true
  },
  "kernelspec": {
   "display_name": "Python 3",
   "language": "python",
   "name": "python3"
  },
  "language_info": {
   "codemirror_mode": {
    "name": "ipython",
    "version": 3
   },
   "file_extension": ".py",
   "mimetype": "text/x-python",
   "name": "python",
   "nbconvert_exporter": "python",
   "pygments_lexer": "ipython3",
   "version": "3.8.3"
  }
 },
 "nbformat": 4,
 "nbformat_minor": 1
}
