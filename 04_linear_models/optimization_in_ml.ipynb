{
 "cells": [
  {
   "cell_type": "markdown",
   "metadata": {},
   "source": [
    "<p style=\"align: center;\">\n",
    "    <img align=center src=\"../img/dls_logo.jpg\" width=500 height=500>\n",
    "</p>\n",
    "\n",
    "<h1 style=\"text-align: center;\">\n",
    "    Физтех-Школа Прикладной математики и информатики (ФПМИ) МФТИ\n",
    "</h1>\n",
    "\n",
    "---"
   ]
  },
  {
   "cell_type": "markdown",
   "metadata": {
    "colab_type": "text",
    "id": "Co-eo4BURtaT"
   },
   "source": [
    "<h1 style=\"text-align: center;\">\n",
    "    Оптимизация в машинном обучении\n",
    "</h1>"
   ]
  },
  {
   "cell_type": "markdown",
   "metadata": {},
   "source": [
    "Сегодня мы поработаем с оптимизацией в линейных алгоритмах (линейная регрессия и логистическая регрессия), попутно потренировавшись ООП в `Python`."
   ]
  },
  {
   "cell_type": "code",
   "execution_count": null,
   "metadata": {
    "colab": {},
    "colab_type": "code",
    "id": "LjjtruRfRtaW"
   },
   "outputs": [],
   "source": [
    "import numpy as np\n",
    "import pandas as pd\n",
    "from sklearn import datasets, linear_model\n",
    "import scipy.linalg as sla\n",
    "import matplotlib.pyplot as plt\n",
    "\n",
    "%matplotlib inline"
   ]
  },
  {
   "cell_type": "markdown",
   "metadata": {},
   "source": [
    "## Линейная регрессия"
   ]
  },
  {
   "cell_type": "markdown",
   "metadata": {
    "colab_type": "text",
    "id": "ow2_tnyTRtaZ"
   },
   "source": [
    "Линейные методы предполагают, что между признаками объекта и целевой переменной существует линейная зависимость, то есть\n",
    "\n",
    "$$\n",
    "y = w_1 x_1 + w_2 x_2 + ... + w_k x_k + b,\n",
    "$$\n",
    "\n",
    "где $у$ - целевая переменная (то, что мы хотим предсказать), $x_i$ - признак объекта $x$, $w_i$ - вес $i$-го признака, $b$ - bias (смещение, свободный член).\n",
    "\n",
    "Часто предполагают, что объект $x$ содержит в себе фиктивный признак, который всегда равен 1, тогда bias это есть вес этого признака. В этом случае формула принимает простой вид:\n",
    "\n",
    "$$\n",
    "y = \\langle w, x \\rangle,\n",
    "$$\n",
    "\n",
    "где $\\langle \\cdot, \\cdot \\rangle$ - скалярное произведение векторов.\n",
    "\n",
    "В матричной форме, в случае, когда у нас есть $n$ объектов, формулу можно переписать следующим образом:\n",
    "\n",
    "$$\n",
    "Y = Xw,\n",
    "$$\n",
    "\n",
    "где $Y$ - вектор размера $n$, $X$ - матрица объекты-признаки размера $n \\times k$, $w$ - вектор весов размера $k$.\n",
    "\n",
    "Решение по методу наименьших квадратов даёт\n",
    "\n",
    "$$\n",
    "w = (X^TX)^{-1}X^TY\n",
    "$$"
   ]
  },
  {
   "cell_type": "markdown",
   "metadata": {
    "colab_type": "text",
    "id": "lXIaQEtwRtaa"
   },
   "source": [
    "Реализуем класс линейной регрессии с помощью этой формулы:"
   ]
  },
  {
   "cell_type": "code",
   "execution_count": null,
   "metadata": {
    "colab": {},
    "colab_type": "code",
    "id": "UoNhX_C-Rtab"
   },
   "outputs": [],
   "source": [
    "class MyLinearRegression:\n",
    "    \n",
    "    def __init__(self):\n",
    "        pass\n",
    "    \n",
    "    def fit(self, X, y):\n",
    "        # принимает на вход X, y и вычисляет веса по данной выборке\n",
    "        # не забудьте про фиктивный признак, равный 1\n",
    "        \n",
    "        n, k = X.shape\n",
    "        X_bias = np.hstack((X, np.ones((n, 1))))\n",
    "        \n",
    "        self.w = np.linalg.inv(X_bias.T @ X_bias) @ X_bias.T @ y\n",
    "        \n",
    "    def predict(self, X):\n",
    "        # принимает на вход X и возвращает ответы модели\n",
    "        \n",
    "        n, k = X.shape\n",
    "        X_bias = np.hstack((X, np.ones((n, 1))))\n",
    "        y_pred = X_bias @ self.w\n",
    "        return y_pred\n",
    "    \n",
    "    def get_weights(self):\n",
    "        return self.w"
   ]
  },
  {
   "cell_type": "markdown",
   "metadata": {},
   "source": [
    "### Тестирование"
   ]
  },
  {
   "cell_type": "markdown",
   "metadata": {
    "colab_type": "text",
    "id": "pHib_wKZRtae"
   },
   "source": [
    "Сгенерируем искусственные данные для теста нашей модели:"
   ]
  },
  {
   "cell_type": "code",
   "execution_count": null,
   "metadata": {
    "colab": {},
    "colab_type": "code",
    "id": "NdM_we9sRtaf"
   },
   "outputs": [],
   "source": [
    "from sklearn.model_selection import train_test_split"
   ]
  },
  {
   "cell_type": "code",
   "execution_count": null,
   "metadata": {
    "colab": {},
    "colab_type": "code",
    "id": "OZXnilL8Rtah"
   },
   "outputs": [],
   "source": [
    "X = np.linspace(-5, 5, 100)\n",
    "y = 10 * X - 7 + np.random.randn(100) * 10\n",
    "\n",
    "X_train, X_test, y_train, y_test = train_test_split(X, y, train_size=0.5)"
   ]
  },
  {
   "cell_type": "code",
   "execution_count": null,
   "metadata": {
    "colab": {
     "base_uri": "https://localhost:8080/",
     "height": 323
    },
    "colab_type": "code",
    "executionInfo": {
     "elapsed": 1163,
     "status": "ok",
     "timestamp": 1571498163599,
     "user": {
      "displayName": "Кирилл Игоревич Голубев",
      "photoUrl": "",
      "userId": "04104925801798209408"
     },
     "user_tz": -180
    },
    "id": "J2NO1seSRtak",
    "outputId": "6917fc90-9ae7-4074-a170-05e1e8ee8c4b"
   },
   "outputs": [],
   "source": [
    "plt.figure(figsize=(10, 5))\n",
    "plt.plot(X, 10 * X - 7, label='real', color='green')\n",
    "plt.scatter(X_train, y_train, label='train')\n",
    "plt.scatter(X_test, y_test, label='test')\n",
    "plt.legend()\n",
    "plt.show()"
   ]
  },
  {
   "cell_type": "markdown",
   "metadata": {
    "colab_type": "text",
    "id": "z7NHaWnnRtao"
   },
   "source": [
    "Обучим модель на `X_train` и предскажем результаты на `X_test`:"
   ]
  },
  {
   "cell_type": "code",
   "execution_count": null,
   "metadata": {
    "colab": {},
    "colab_type": "code",
    "id": "zT2NIYcTRtap"
   },
   "outputs": [],
   "source": [
    "regressor = MyLinearRegression()\n",
    "\n",
    "regressor.fit(X_train[:, np.newaxis], y_train)\n",
    "\n",
    "predictions = regressor.predict(X_test[:, np.newaxis])\n",
    "w = regressor.get_weights()"
   ]
  },
  {
   "cell_type": "code",
   "execution_count": null,
   "metadata": {
    "colab": {
     "base_uri": "https://localhost:8080/",
     "height": 323
    },
    "colab_type": "code",
    "executionInfo": {
     "elapsed": 1272,
     "status": "ok",
     "timestamp": 1571498193138,
     "user": {
      "displayName": "Кирилл Игоревич Голубев",
      "photoUrl": "",
      "userId": "04104925801798209408"
     },
     "user_tz": -180
    },
    "id": "-u7f3-4MRtar",
    "outputId": "30076c42-1943-41fe-80c6-7272a23840c3"
   },
   "outputs": [],
   "source": [
    "plt.figure(figsize=(10, 5))\n",
    "plt.plot(X, 10 * X - 7, label='real', color='green')\n",
    "plt.scatter(X_train, y_train, label='train')\n",
    "plt.scatter(X_test, y_test, label='test')\n",
    "plt.plot(X, X * w[0] + w[1], label='predicted', color='red')\n",
    "plt.legend()\n",
    "plt.show()"
   ]
  },
  {
   "cell_type": "markdown",
   "metadata": {
    "colab_type": "text",
    "id": "c1rSWDv2Rtau"
   },
   "source": [
    "### Результаты"
   ]
  },
  {
   "cell_type": "code",
   "execution_count": null,
   "metadata": {
    "colab": {
     "base_uri": "https://localhost:8080/",
     "height": 54
    },
    "colab_type": "code",
    "executionInfo": {
     "elapsed": 1109,
     "status": "ok",
     "timestamp": 1571498316604,
     "user": {
      "displayName": "Кирилл Игоревич Голубев",
      "photoUrl": "",
      "userId": "04104925801798209408"
     },
     "user_tz": -180
    },
    "id": "kS6dY-__Rtav",
    "outputId": "d7ea7194-b891-4209-9b59-3901f0a6f0d4"
   },
   "outputs": [],
   "source": [
    "from sklearn.metrics import mean_squared_error\n",
    "\n",
    "train_predictions = regressor.predict(X_train[:, np.newaxis])\n",
    "test_predictions = regressor.predict(X_test[:, np.newaxis])\n",
    "\n",
    "print(f'Train MSE: {mean_squared_error(y_train, train_predictions)}')\n",
    "print(f'Test MSE: {mean_squared_error(y_test, test_predictions)}')"
   ]
  },
  {
   "cell_type": "markdown",
   "metadata": {},
   "source": [
    "## Градиентная оптимизация"
   ]
  },
  {
   "cell_type": "markdown",
   "metadata": {
    "colab_type": "text",
    "id": "KJcy55C7Rtax"
   },
   "source": [
    "Как уже было упомянуто на лекции, обращение матрицы - очень тяжёлая операция. Кроме того, обратная матрица не всегда существует. По этим причинам, мы воспользуемся методом градиентного спуска для оптимизации эмпирического риска.\n",
    "\n",
    "Как правило, вместо градиентного спуска используют стохастический градиентный спуск: выбирают случайный элемент обучающей выборки и изменяют коэффициенты модели по направлению антиградиента функции потерь на этом примере.\n",
    "\n",
    "Реализуйте новый класс линейной регрессии, в которой проведите оптимизацию методом стохастического градиентного спуска. Используйте наследование классов."
   ]
  },
  {
   "cell_type": "code",
   "execution_count": null,
   "metadata": {
    "colab": {},
    "colab_type": "code",
    "id": "RTldWKmGRtay"
   },
   "outputs": [],
   "source": [
    "class MyGradientLinearRegression(MyLinearRegression):\n",
    "    \n",
    "    def __init__(self):\n",
    "        # в данном случае ничего не делает\n",
    "        super().__init__()\n",
    "        self.w = None\n",
    "    \n",
    "    def fit(self, X, y, lr=0.01, n_epoch=10):\n",
    "        # принимает на вход X, y и вычисляет веса по данной выборке\n",
    "        # не забудьте про фиктивный признак равный 1\n",
    "        \n",
    "        n, k = X.shape\n",
    "        \n",
    "        if self.w is None:\n",
    "            self.w = np.random.randn(k + 1)\n",
    "        \n",
    "        X_bias = np.hstack((X, np.ones((n, 1))))\n",
    "        \n",
    "        losses = []\n",
    "        \n",
    "        for iter_num in range(n_epoch):\n",
    "            y_pred = self.predict(X)\n",
    "            losses.append(mean_squared_error(y_pred, y))\n",
    "\n",
    "            grad = np.zeros_like(self.w)\n",
    "            for x, prediction, label in zip(X_bias, y_pred, y):           \n",
    "                grad += 2 * (prediction - label) * x\n",
    "            \n",
    "            grad /= n\n",
    "            \n",
    "            self.w -= lr * grad\n",
    "            \n",
    "        return losses"
   ]
  },
  {
   "cell_type": "markdown",
   "metadata": {
    "colab_type": "text",
    "id": "qHM8kRomR4tW"
   },
   "source": [
    "### Тестирование"
   ]
  },
  {
   "cell_type": "markdown",
   "metadata": {},
   "source": [
    "Поиграйтесь с количеством эпох."
   ]
  },
  {
   "cell_type": "code",
   "execution_count": null,
   "metadata": {
    "colab": {},
    "colab_type": "code",
    "id": "4Sa2zbNeR1eI"
   },
   "outputs": [],
   "source": [
    "regressor = MyGradientLinearRegression()\n",
    "\n",
    "l = regressor.fit(X_train[:, np.newaxis], y_train, n_epoch=100)\n",
    "\n",
    "predictions = regressor.predict(X_test[:, np.newaxis])\n",
    "w = regressor.get_weights()"
   ]
  },
  {
   "cell_type": "code",
   "execution_count": null,
   "metadata": {
    "colab": {
     "base_uri": "https://localhost:8080/",
     "height": 323
    },
    "colab_type": "code",
    "executionInfo": {
     "elapsed": 1017,
     "status": "ok",
     "timestamp": 1571498824812,
     "user": {
      "displayName": "Кирилл Игоревич Голубев",
      "photoUrl": "",
      "userId": "04104925801798209408"
     },
     "user_tz": -180
    },
    "id": "qISDNvboR8i-",
    "outputId": "88c65fae-572a-42c2-ccca-f1069407320c"
   },
   "outputs": [],
   "source": [
    "plt.figure(figsize=(10, 5))\n",
    "plt.plot(X, 10 * X - 7, label='real', color='green')\n",
    "plt.scatter(X_train, y_train, label='train')\n",
    "plt.scatter(X_test, y_test, label='test')\n",
    "plt.plot(X, X * w[0] + w[1], label='predicted', color='red')\n",
    "plt.legend()\n",
    "plt.show()"
   ]
  },
  {
   "cell_type": "markdown",
   "metadata": {},
   "source": [
    "Посмотрим, как менялась ошибка:"
   ]
  },
  {
   "cell_type": "code",
   "execution_count": null,
   "metadata": {
    "colab": {
     "base_uri": "https://localhost:8080/",
     "height": 287
    },
    "colab_type": "code",
    "executionInfo": {
     "elapsed": 1146,
     "status": "ok",
     "timestamp": 1571498834766,
     "user": {
      "displayName": "Кирилл Игоревич Голубев",
      "photoUrl": "",
      "userId": "04104925801798209408"
     },
     "user_tz": -180
    },
    "id": "G4rYhKQ4oMZk",
    "outputId": "9abf32c2-524c-4524-e497-e16e9bd4e2d6"
   },
   "outputs": [],
   "source": [
    "plt.plot(l)\n",
    "plt.show()"
   ]
  },
  {
   "cell_type": "markdown",
   "metadata": {},
   "source": [
    "### Что можно делать дальше"
   ]
  },
  {
   "cell_type": "markdown",
   "metadata": {
    "colab_type": "text",
    "id": "dxmkyxDu1ADt"
   },
   "source": [
    "* Реализовать стохастический градиентный спуск (**SGD**)\n",
    "\n",
    "* Реализовать **Ridge-регрессию** (к функции потерь прибавляется слагаемое $C||w||$)"
   ]
  },
  {
   "cell_type": "markdown",
   "metadata": {
    "colab_type": "text",
    "id": "yf9vCXTuS4LQ"
   },
   "source": [
    "## Логистическая регрессия"
   ]
  },
  {
   "cell_type": "markdown",
   "metadata": {},
   "source": [
    "Реализуем класс логистической регрессии:"
   ]
  },
  {
   "cell_type": "code",
   "execution_count": null,
   "metadata": {
    "colab": {},
    "colab_type": "code",
    "id": "pRi9CJNUSALP"
   },
   "outputs": [],
   "source": [
    "def logit(x, w):\n",
    "    return np.dot(x, w)\n",
    "\n",
    "\n",
    "def sigmoid(x):\n",
    "    return 1 / (1 + np.exp(-x))\n",
    "\n",
    "\n",
    "class MyLogisticRegression:\n",
    "    \n",
    "    def __init__(self):\n",
    "        self.w = None\n",
    "\n",
    "    \n",
    "    def fit(self, X, y, n_epoch=100, lr=0.1):\n",
    "        # принимает на вход X, y и вычисляет веса по данной выборке\n",
    "        # множество допустимых классов: {1, -1}\n",
    "        # не забудьте про фиктивный признак равный, 1\n",
    "        \n",
    "        n, k = X.shape\n",
    "        \n",
    "        if self.w is None:\n",
    "            self.w = np.random.randn(k + 1)\n",
    "        \n",
    "        X_bias = np.hstack((np.ones((n, 1)), X))\n",
    "        \n",
    "        losses = []\n",
    "        \n",
    "        for iter_num in range(n_epoch):\n",
    "            z = sigmoid(logit(X_bias, self.w))\n",
    "            grad = np.dot(X_bias.T, (z - y)) / len(y)\n",
    "\n",
    "            self.w -= lr * grad\n",
    "\n",
    "            losses.append(self.__loss(y, z))\n",
    "        \n",
    "        return losses\n",
    "\n",
    "\n",
    "    def predict_proba(self, X):\n",
    "        # принимает на вход X и возвращает ответы модели\n",
    "        \n",
    "        n, k = X.shape\n",
    "        X_ = np.hstack((np.ones((n, 1)), X))\n",
    "        \n",
    "        return sigmoid(logit(X_, self.w))\n",
    "\n",
    "\n",
    "    def predict(self, X, threshold=0.5):\n",
    "        return self.predict_proba(X) >= threshold\n",
    "\n",
    "\n",
    "    def get_weights(self):\n",
    "        return self.w\n",
    "\n",
    "\n",
    "    def __loss(self, y, p):\n",
    "        p = np.clip(p, 1e-10, 1 - 1e-10)\n",
    "        \n",
    "        return np.mean(y * np.log(p) + (1 - y) * np.log(1 - p))"
   ]
  },
  {
   "cell_type": "code",
   "execution_count": null,
   "metadata": {
    "colab": {
     "base_uri": "https://localhost:8080/",
     "height": 595
    },
    "colab_type": "code",
    "executionInfo": {
     "elapsed": 1406,
     "status": "ok",
     "timestamp": 1571429888369,
     "user": {
      "displayName": "Aleksandr Veselev",
      "photoUrl": "",
      "userId": "06497019213520827031"
     },
     "user_tz": -180
    },
    "id": "_KLNlzOTTMU7",
    "outputId": "96132d15-07fc-483a-83e2-51fc2129c354"
   },
   "outputs": [],
   "source": [
    "from sklearn.datasets import make_blobs\n",
    "\n",
    "X, y = make_blobs(n_samples=1000, centers=[[-2, 0.5], [3, -0.5]], cluster_std=1, random_state=42)\n",
    "\n",
    "colors = (\"red\", \"green\")\n",
    "colored_y = np.zeros(y.size, dtype=str)\n",
    "\n",
    "for i, cl in enumerate([0, 1]):\n",
    "    colored_y[y == cl] = str(colors[i])\n",
    "    \n",
    "plt.figure(figsize=(15, 10))\n",
    "plt.scatter(X[:, 0], X[:, 1], c=colored_y)\n",
    "plt.show()"
   ]
  },
  {
   "cell_type": "code",
   "execution_count": null,
   "metadata": {
    "colab": {},
    "colab_type": "code",
    "id": "uBOGLUOZajFI"
   },
   "outputs": [],
   "source": [
    "clf = MyLogisticRegression()\n",
    "\n",
    "clf.fit(X, y, n_epoch=1000)\n",
    "\n",
    "w = clf.get_weights()"
   ]
  },
  {
   "cell_type": "code",
   "execution_count": null,
   "metadata": {
    "colab": {
     "base_uri": "https://localhost:8080/",
     "height": 505
    },
    "colab_type": "code",
    "executionInfo": {
     "elapsed": 1241,
     "status": "ok",
     "timestamp": 1571429892629,
     "user": {
      "displayName": "Aleksandr Veselev",
      "photoUrl": "",
      "userId": "06497019213520827031"
     },
     "user_tz": -180
    },
    "id": "DYE99GJLeJoc",
    "outputId": "a5231d5e-947b-4c3c-c505-a8a45ad38941"
   },
   "outputs": [],
   "source": [
    "from matplotlib.colors import ListedColormap\n",
    "\n",
    "plt.figure(figsize=(15, 8))\n",
    "\n",
    "eps = 0.1\n",
    "xx, yy = np.meshgrid(np.linspace(np.min(X[:,0]) - eps, np.max(X[:,0]) + eps, 200),\n",
    "                     np.linspace(np.min(X[:,1]) - eps, np.max(X[:,1]) + eps, 200))\n",
    "\n",
    "Z = clf.predict(np.c_[xx.ravel(), yy.ravel()])\n",
    "\n",
    "Z = Z.reshape(xx.shape)\n",
    "\n",
    "cmap_light = ListedColormap(['#FFAAAA', '#AAFFAA'])\n",
    "plt.pcolormesh(xx, yy, Z, cmap=cmap_light)\n",
    "plt.scatter(X[:, 0], X[:, 1], c=colored_y)\n",
    "plt.show()"
   ]
  }
 ],
 "metadata": {
  "colab": {
   "collapsed_sections": [],
   "name": "[seminar, prodv]5_optimization.ipynb",
   "provenance": []
  },
  "kernelspec": {
   "display_name": "Python 3",
   "language": "python",
   "name": "python3"
  },
  "language_info": {
   "codemirror_mode": {
    "name": "ipython",
    "version": 3
   },
   "file_extension": ".py",
   "mimetype": "text/x-python",
   "name": "python",
   "nbconvert_exporter": "python",
   "pygments_lexer": "ipython3",
   "version": "3.8.3"
  }
 },
 "nbformat": 4,
 "nbformat_minor": 1
}
