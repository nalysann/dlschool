{
 "cells": [
  {
   "cell_type": "markdown",
   "metadata": {},
   "source": [
    "<p style=\"align: center;\">\n",
    "    <img align=center src=\"../img/dls_logo.jpg\" width=500 height=500>\n",
    "</p>\n",
    "\n",
    "<h1 style=\"text-align: center;\">\n",
    "    Физтех-Школа Прикладной математики и информатики (ФПМИ) МФТИ\n",
    "</h1>\n",
    "\n",
    "---"
   ]
  },
  {
   "cell_type": "markdown",
   "metadata": {
    "id": "Co-eo4BURtaT"
   },
   "source": [
    "<h1 style=\"text-align: center;\">\n",
    "    Домашнее задание: градиентный спуск и линейные модели\n",
    "</h1>"
   ]
  },
  {
   "cell_type": "markdown",
   "metadata": {},
   "source": [
    "В этой домашке вы напишете свой класс логистической регрессии для многоклассовой классификации, а также логистическую регрессию с регуляризацией."
   ]
  },
  {
   "cell_type": "code",
   "execution_count": null,
   "metadata": {
    "id": "LjjtruRfRtaW"
   },
   "outputs": [],
   "source": [
    "import numpy as np\n",
    "import pandas as pd\n",
    "import scipy.linalg as sla\n",
    "import matplotlib.pyplot as plt\n",
    "\n",
    "from sklearn import datasets\n",
    "from sklearn.linear_model import LinearRegression, Lasso, Ridge\n",
    "\n",
    "%matplotlib inline"
   ]
  },
  {
   "cell_type": "code",
   "execution_count": null,
   "metadata": {
    "id": "UHITb0dimYrx"
   },
   "outputs": [],
   "source": [
    "np.random.seed(42)"
   ]
  },
  {
   "cell_type": "markdown",
   "metadata": {},
   "source": [
    "## 1. Градиентный спуск: повторение"
   ]
  },
  {
   "cell_type": "markdown",
   "metadata": {
    "id": "ZkqUrIIRkj95"
   },
   "source": [
    "Рассмотрим функцию от двух переменных:"
   ]
  },
  {
   "cell_type": "code",
   "execution_count": null,
   "metadata": {
    "id": "08eWyQhHksXA"
   },
   "outputs": [],
   "source": [
    "def f(x):\n",
    "    \"\"\"\n",
    "    param x: np.array(np.float) - массив размерности 2\n",
    "    return: np.float\n",
    "    \"\"\"\n",
    "\n",
    "    return np.sum(np.sin(x)**2, axis=0)"
   ]
  },
  {
   "cell_type": "markdown",
   "metadata": {
    "id": "is_InL53kvPf"
   },
   "source": [
    "Обратите внимание, что $x$ - это `np.ndarray` размерности $2$."
   ]
  },
  {
   "cell_type": "markdown",
   "metadata": {
    "id": "GqDNq19tkzjI"
   },
   "source": [
    "**Напоминание.**\n",
    "\n",
    "Что мы хотим? Мы хотим найти минимум этой функции (в машинном обучении мы обычно хотим найти минимум **функции потерь**, например, **MSE**), а точнее найти $x_1$ и $x_2$ такие, что при них значение $f(x_1,x_2)$ минимально, то есть **точку экстремума**. \n",
    "\n",
    "Как мы будем искать эту точку? Используем методы оптимизации (в нашем случае - минимизации). Одним из таких методов и является **градиентный спуск**. "
   ]
  },
  {
   "cell_type": "markdown",
   "metadata": {
    "id": "VfpADbGXk5Ot"
   },
   "source": [
    "Реализуем функцию, которая будет осуществлять градиентный спуск для функции $f$.\n",
    "\n",
    "**Примечание:** вам нужно посчитать частные производные именно **аналитически** и **переписать их в код**, а не считать производные численно (через отношение приращения функции к приращению аргумента) - в этих двух случаях могут различаться ответы, поэтому будьте внимательны."
   ]
  },
  {
   "cell_type": "code",
   "execution_count": null,
   "metadata": {
    "id": "nXuTAfcvk6kG"
   },
   "outputs": [],
   "source": [
    "def grad_f(x): \n",
    "    \"\"\"\n",
    "    Градиент функциии f, определенной выше.\n",
    "        param x: np.array(np.float) - массив размерности 2\n",
    "        return: np.array(np.float)- массив размерности 2\n",
    "    \"\"\"\n",
    "\n",
    "    # 2 * np.sin(x) * np.cos(x)\n",
    "    return np.sin(2 * x)"
   ]
  },
  {
   "cell_type": "code",
   "execution_count": null,
   "metadata": {
    "id": "SpH4AjBBk8Xo"
   },
   "outputs": [],
   "source": [
    "def grad_descent_2d(f, grad_f, lr, num_iter=100, x0=None):\n",
    "    \"\"\"\n",
    "    Функция, которая реализует градиентный спуск в минимум для функции f от двух переменных. \n",
    "        param f - скалярная функция двух переменных\n",
    "        param grad_f - градиент функции f (вектор размерности 2)\n",
    "        param lr - learning rate алгоритма\n",
    "        param num_iter - количество итераций градиентного спуска\n",
    "        return - np.array пар вида (x, f(x))\n",
    "    \"\"\"\n",
    "\n",
    "    if x0 is None:\n",
    "        x0 = np.random.random(2)\n",
    "    \n",
    "    # будем сохранять значения аргументов и значений функции \n",
    "    # в процессе градиентного спуска в переменную history\n",
    "    history = []\n",
    "    \n",
    "    # итерация цикла - шаг градиентнго спуска\n",
    "    curr_x = x0.copy()\n",
    "    for iter_num in range(num_iter):\n",
    "        entry = np.hstack((curr_x, f(curr_x)))\n",
    "        history.append(entry)\n",
    "        \n",
    "        # обновите curr_x\n",
    "        curr_x -= lr * grad_f(curr_x)\n",
    "\n",
    "    return np.vstack(history)"
   ]
  },
  {
   "cell_type": "markdown",
   "metadata": {
    "id": "65Th1G7XlAn-"
   },
   "source": [
    "Визуализируем точки градиентного спуска на 3D-графике нашей функции. Кружочками будут обозначены точки (тройки $x_1, x_2, f(x_1, x_2)$), по которым ваш алгоритм градиентного спуска двигался к минимуму.\n",
    "\n",
    "Для того, чтобы нарисовать этот график, мы и сохраняли значения $cur\\_x_1, cur\\_x_2, f(cur\\_x_1, cur\\_x_2)$ в `steps` в процессе спуска.\n",
    "\n",
    "Если у вас правильно написана функция `grad_descent_2d`, то кружочки на картинке должны сходиться к одной из точек минимума функции. Вы можете менять начальные приближения алгоритма, значения `lr` и `num_iter` и получать разные результаты."
   ]
  },
  {
   "cell_type": "code",
   "execution_count": null,
   "metadata": {},
   "outputs": [],
   "source": [
    "steps = grad_descent_2d(f, grad_f, lr=0.1, num_iter=20)"
   ]
  },
  {
   "cell_type": "code",
   "execution_count": null,
   "metadata": {
    "id": "Lb_dn7QhlF6o"
   },
   "outputs": [],
   "source": [
    "# %matplotlib osx\n",
    "\n",
    "from mpl_toolkits.mplot3d import Axes3D\n",
    "import matplotlib.pyplot as plt\n",
    "from matplotlib import cm\n",
    "import numpy as np\n",
    "\n",
    "path = []\n",
    "\n",
    "X, Y = np.meshgrid(np.linspace(-3, 3, 100), np.linspace(-3, 3, 100))\n",
    "\n",
    "fig = plt.figure(figsize=(16, 10))\n",
    "ax = fig.gca(projection='3d')\n",
    "\n",
    "ax.plot_surface(X, Y, f([X, Y]), cmap=cm.coolwarm, zorder=2)\n",
    "\n",
    "# редактируем настройки отображения траектории, сделанной градиентым спуском\n",
    "ax.plot(xs=steps[:, 0], ys=steps[:, 1], zs=steps[:, 2],\n",
    "        marker='o', markersize=8, zorder=3, \n",
    "        markerfacecolor='red', lw=3, c='green')\n",
    "\n",
    "ax.set_zlim(0, 5)\n",
    "ax.view_init(elev=60)\n",
    "plt.show()"
   ]
  },
  {
   "cell_type": "markdown",
   "metadata": {
    "id": "qwf4pHzflIYz"
   },
   "source": [
    "Посмотрим на график зависимости значений функции от шага:"
   ]
  },
  {
   "cell_type": "code",
   "execution_count": null,
   "metadata": {
    "id": "wlO7-4hylVSU"
   },
   "outputs": [],
   "source": [
    "plt.figure(figsize=(14, 7))\n",
    "plt.xlabel('Номер шага')\n",
    "plt.ylabel('$f(x)$')\n",
    "plt.title('Значение функции на каждом шаге градиентного спуска')\n",
    "\n",
    "f_values = list(map(lambda x: x[2], steps))\n",
    "plt.plot(f_values, label='$f(x)$')\n",
    "plt.legend()\n",
    "plt.show()"
   ]
  },
  {
   "cell_type": "markdown",
   "metadata": {
    "id": "vRcVklfKmfny"
   },
   "source": [
    "Когда вы используете градиентный спуск, всегда нужно проверять, сошёлся ли он. К сожалению, для большинства моделей не получится построить 3D-график, поэтому обязательно нужно смотреть на то, как менялся лосс на каждом шаге градиентного спуска."
   ]
  },
  {
   "cell_type": "markdown",
   "metadata": {},
   "source": [
    "## 2. Генератор батчей"
   ]
  },
  {
   "cell_type": "markdown",
   "metadata": {
    "id": "2HiLafE4iUuM"
   },
   "source": [
    "Обычно генерация батчей отличается от той, которую мы использовали в семинаре. Мы выбирали `batch_size` случайных строчек на каждом шаге, но у такого подхода есть минусы. Основной заключается в том, что некоторые строчки из обучающего датасета могут попадаться значительно реже, чем другие.\n",
    "\n",
    "Чтобы это исправить, обучение делят на эпохи. Мы хотим, чтобы в течение одной эпохи модель обучилась на каждом примере один раз. Для этого нужно перемешать строчки в датасете и каждый раз брать очередные `batch_size` строчек. \n",
    "\n",
    "Может так получиться, что размер датасета не делится на `batch_size`, тогда последний батч будет состоять из нескольких последних строк и его размер будет меньше, чем `batch_size`. Такой батч иногда выкидывают и просто не используют. Именно так вам нужно поступить в этом задании."
   ]
  },
  {
   "cell_type": "markdown",
   "metadata": {
    "id": "Lt4OT2aAo87h"
   },
   "source": [
    "Напишите генератор батчей, который будет принимать на вход признаки, ответы и размер батча. Генератор должен возвращать `tuple` из `X_batch, y_batch`. Если размер датасета не делится на `batch_size`, то последний маленький батч возвращать не нужно. \n",
    "\n",
    "Подробнее про генераторы в `Python` можно прочитать здесь:\n",
    "\n",
    "* [Документация](https://wiki.python.org/moin/Generators)\n",
    "\n",
    "* [Описание на русском](https://pythoner.name/list-generator)\n",
    "\n",
    "Чтобы не перемешивать сам датасет, воспользуйтесь `np.random.permutation`."
   ]
  },
  {
   "cell_type": "code",
   "execution_count": null,
   "metadata": {
    "id": "8bDnuMLgp-1e"
   },
   "outputs": [],
   "source": [
    "def generate_batches(X, y, batch_size):\n",
    "    assert len(X) == len(y)\n",
    "    np.random.seed(42)\n",
    "    X = np.array(X)\n",
    "    y = np.array(y)\n",
    "    perm = np.random.permutation(len(X))\n",
    "\n",
    "    n_batches = len(X) // batch_size\n",
    "    for i in range(n_batches):\n",
    "        ind = perm[i * batch_size : (i + 1) * batch_size]\n",
    "        yield X[ind], y[ind]"
   ]
  },
  {
   "cell_type": "markdown",
   "metadata": {
    "id": "SRNhKh7ruVJF"
   },
   "source": [
    "Проверим, что наш генератор батчей перемешивает датасет и каждый элемент встречается один раз:"
   ]
  },
  {
   "cell_type": "code",
   "execution_count": null,
   "metadata": {
    "id": "RXYD6rpPsbIh"
   },
   "outputs": [],
   "source": [
    "X_fake = np.arange(100)[:, np.newaxis]\n",
    "y_fake = np.arange(100) + 1000\n",
    "\n",
    "X_reconstructed, y_reconstructed = [], []\n",
    "for X_batch, y_batch in generate_batches(X_fake, y_fake, 10):\n",
    "    X_reconstructed.append(X_batch)\n",
    "    y_reconstructed.append(y_batch)\n",
    "\n",
    "X_reconstructed = np.concatenate(X_reconstructed)\n",
    "y_reconstructed = np.concatenate(y_reconstructed)\n",
    "\n",
    "assert (X_fake != X_reconstructed).all()\n",
    "assert (y_fake != y_reconstructed).all()\n",
    "\n",
    "assert (np.sort(X_reconstructed) == X_fake).all"
   ]
  },
  {
   "cell_type": "markdown",
   "metadata": {
    "id": "acqZinh32YB6"
   },
   "source": [
    "Попробуем теперь такой `batch_size`, что размера датасета не делится на него нацело:"
   ]
  },
  {
   "cell_type": "code",
   "execution_count": null,
   "metadata": {
    "id": "v9AgUYVF2F6J"
   },
   "outputs": [],
   "source": [
    "X_fake = np.arange(100)[:, np.newaxis]\n",
    "y_fake = np.arange(100) + 1000\n",
    "\n",
    "num_batches = 0\n",
    "for X_batch, y_batch in generate_batches(X_fake, y_fake, 7):\n",
    "    num_batches += 1\n",
    "\n",
    "assert num_batches == len(X_fake) // 7"
   ]
  },
  {
   "cell_type": "markdown",
   "metadata": {},
   "source": [
    "## 3. Логистическая регрессия с $l_1$ и $l_2$ регуляризацией (elastic net)"
   ]
  },
  {
   "cell_type": "markdown",
   "metadata": {
    "id": "njXUst00c0ip"
   },
   "source": [
    "Ваша задача - написать класс логистической регрессии с обеими регуляризациями и оптимизацией с помощью **SGD**, используя генератор батчей, который вы написали выше."
   ]
  },
  {
   "cell_type": "code",
   "execution_count": null,
   "metadata": {
    "id": "RFulfUMedzQo"
   },
   "outputs": [],
   "source": [
    "def logit(x, w):\n",
    "    return np.dot(x, w)\n",
    "\n",
    "\n",
    "def sigmoid(x):\n",
    "    return 1 / (1 + np.exp(-x))\n",
    "\n",
    "\n",
    "def soft_sign(x, eps=1e-7):\n",
    "    if abs(x) > eps:\n",
    "        return np.sign(x)\n",
    "    return x / eps\n",
    "\n",
    "\n",
    "np_soft_sign = np.vectorize(soft_sign)\n",
    "\n",
    "class MyElasticLogisticRegression:\n",
    "    \n",
    "    def __init__(self, l1_coef, l2_coef):\n",
    "        self.l1_coef = l1_coef\n",
    "        self.l2_coef = l2_coef\n",
    "        self.w = None\n",
    "    \n",
    "    def fit(self, X, y, epochs=10, lr=0.1, batch_size=100):\n",
    "        n, k = X.shape\n",
    "        \n",
    "        if self.w is None:\n",
    "            np.random.seed(42)\n",
    "            self.w = np.random.randn(k + 1)\n",
    "\n",
    "        X_train = np.concatenate((np.ones((n, 1)), X), axis=1)\n",
    "        \n",
    "        # положите в массив losses лосс на каждом батче\n",
    "        # не нужно усреднять лосс по эпохе\n",
    "        losses = []\n",
    "        \n",
    "        for e in range(epochs):\n",
    "            for X_batch, y_batch in generate_batches(X_train, y, batch_size):\n",
    "                y_pred = sigmoid(logit(X_batch, self.w))\n",
    "\n",
    "                self.w -= lr * self.get_grad(X_batch, y_batch, y_pred)\n",
    "\n",
    "                losses.append(self.__loss(y_batch, y_pred))\n",
    "        \n",
    "        return losses\n",
    "    \n",
    "    def get_grad(self, X_batch, y_batch, predictions):\n",
    "        \"\"\"\n",
    "        Принимает на вход X_batch с уже добавленной колонкой единиц. \n",
    "        НЕ НУЖНО РЕГУЛЯРИЗИРОВАТЬ BIAS.\n",
    "        \"\"\"\n",
    "        \n",
    "        w = self.w.copy()\n",
    "        w[0] = 0\n",
    "        \n",
    "        lambda_I = self.l2_coef * np.eye(self.w.shape[0])\n",
    "        lambda_I[0, 0] = 0\n",
    "        \n",
    "        grad = np.dot(X_batch.T, predictions - y_batch) / len(X_batch)\n",
    "        grad += self.l1_coef * np_soft_sign(w)\n",
    "        grad += 2 * np.dot(lambda_I, w)\n",
    "        \n",
    "        return grad\n",
    "        \n",
    "    def predict_proba(self, X):\n",
    "        n, k = X.shape\n",
    "        X_ = np.concatenate((np.ones((n, 1)), X), axis=1)\n",
    "        return sigmoid(logit(X_, self.w))\n",
    "\n",
    "    def predict(self, X, threshold=0.5):\n",
    "        return self.predict_proba(X) >= threshold\n",
    "    \n",
    "    def get_weights(self):\n",
    "        return self.w\n",
    "      \n",
    "    def __loss(self, y, y_pred):  \n",
    "        y_pred = np.clip(y_pred, 1e-10, 1 - 1e-10)\n",
    "        return -np.mean(y * np.log(y_pred) + (1 - y) * np.log(1 - y_pred))"
   ]
  },
  {
   "cell_type": "markdown",
   "metadata": {
    "id": "q7U_nJDQehy9"
   },
   "source": [
    "Протестируем на искусственных данных:\n"
   ]
  },
  {
   "cell_type": "code",
   "execution_count": null,
   "metadata": {
    "id": "s3_G7LzsehLx"
   },
   "outputs": [],
   "source": [
    "from sklearn.datasets import make_blobs\n",
    "\n",
    "X, y = make_blobs(n_samples=1000, centers=[[-2, 0.5], [3, -0.5]], cluster_std=1, random_state=42)\n",
    "\n",
    "colors = (\"red\", \"green\")\n",
    "colored_y = np.zeros(y.size, dtype=str)\n",
    "\n",
    "for i, cl in enumerate([0, 1]):\n",
    "    colored_y[y == cl] = str(colors[i])\n",
    "    \n",
    "plt.figure(figsize=(15, 10))\n",
    "plt.scatter(X[:, 0], X[:, 1], c=colored_y)\n",
    "plt.show()"
   ]
  },
  {
   "cell_type": "code",
   "execution_count": null,
   "metadata": {
    "id": "2e83rZRceqn-"
   },
   "outputs": [],
   "source": [
    "clf = MyElasticLogisticRegression(0.1, 0.1)\n",
    "clf.fit(X, y, epochs=1000)\n",
    "w = clf.get_weights()"
   ]
  },
  {
   "cell_type": "code",
   "execution_count": null,
   "metadata": {
    "id": "I9LnB1Xffkql"
   },
   "outputs": [],
   "source": [
    "from matplotlib.colors import ListedColormap\n",
    "\n",
    "plt.figure(figsize=(15, 8))\n",
    "\n",
    "eps = 0.1\n",
    "xx, yy = np.meshgrid(np.linspace(np.min(X[:, 0]) - eps, np.max(X[:, 0]) + eps, 200),\n",
    "                     np.linspace(np.min(X[:, 1]) - eps, np.max(X[:, 1]) + eps, 200))\n",
    "Z = clf.predict(np.c_[xx.ravel(), yy.ravel()])\n",
    "Z = Z.reshape(xx.shape)\n",
    "cmap_light = ListedColormap(['#FFAAAA', '#AAFFAA'])\n",
    "plt.pcolormesh(xx, yy, Z, cmap=cmap_light)\n",
    "\n",
    "plt.scatter(X[:, 0], X[:, 1], c=colored_y)\n",
    "plt.show()"
   ]
  },
  {
   "cell_type": "markdown",
   "metadata": {
    "id": "BqzDLd6MgHWI"
   },
   "source": [
    "Теперь протестируем на датасете **MNIST**. Это очень простой класический датасет, на котором часто тестируются модели. С помощью нейронных сетей люди научились получать на нём качество $99.84\\%$. \n",
    "\n",
    "Датасет состоит из чёрно-белых картинок с цифрами.\n",
    "\n",
    "<img src='../img/linreg_regularization_8.png'>"
   ]
  },
  {
   "cell_type": "markdown",
   "metadata": {
    "id": "xBaJqkC9g8ID"
   },
   "source": [
    "Так как мы сделали классификатор для двух классов, то мы выберем из всех картинок только картинки $0$ и $1$, превратим их из двумерной матрицы в вектор и обучим нашу модель."
   ]
  },
  {
   "cell_type": "code",
   "execution_count": null,
   "metadata": {
    "id": "2_DfAkIvg6GF"
   },
   "outputs": [],
   "source": [
    "data = pd.read_csv('data/train.csv')\n",
    "data.head()"
   ]
  },
  {
   "cell_type": "markdown",
   "metadata": {
    "id": "7zDXXmEmw3dW"
   },
   "source": [
    "Данные выглядят как таблица, первая колонка которой - это `label`, т.е. цифра, которая изображена на картинке, а следующие $784$ колонки - это значения от $0$ до $255$, описывающие все пиксели картинки $28 \\times 28$. То есть нам не придётся использовать `reshape` и превращать матрицу в вектор, так как это уже сделано."
   ]
  },
  {
   "cell_type": "code",
   "execution_count": null,
   "metadata": {
    "id": "be-k7gu-w3dW"
   },
   "outputs": [],
   "source": [
    "X = data.iloc[:, 1:]\n",
    "y = data.iloc[:, 1]\n",
    "\n",
    "# выберем только картинки, где изображены 0 и 1\n",
    "X = X[(y == 0) | (y == 1)]\n",
    "y = y[(y == 0) | (y == 1)]"
   ]
  },
  {
   "cell_type": "markdown",
   "metadata": {
    "id": "FrBJh4stw3dZ"
   },
   "source": [
    "Для оценки модели воспользуемся кросс-валидацией:"
   ]
  },
  {
   "cell_type": "code",
   "execution_count": null,
   "metadata": {
    "id": "6vaS7Y3kw3da"
   },
   "outputs": [],
   "source": [
    "from sklearn.model_selection import cross_val_score\n",
    "from sklearn.pipeline import make_pipeline\n",
    "from sklearn.preprocessing import StandardScaler\n",
    "\n",
    "# сделайте sklearn pipeline с StandarScaler и MyElasticLogisticRegression\n",
    "# и проверьте точность с помощью cross_val_score, в качестве scorer используйте 'accuracy'\n",
    "# эта часть не проверяется в степике\n",
    "model = make_pipeline(StandardScaler(), MyElasticLogisticRegression(0.1, 0.1))\n",
    "\n",
    "mean_accuracy = cross_val_score(model, X, y, scoring='accuracy').mean()\n",
    "\n",
    "print(f'Mean accuracy of Logistic Regression for two classes is {mean_accuracy}')"
   ]
  }
 ],
 "metadata": {
  "colab": {
   "collapsed_sections": [],
   "name": "HW2.LinearModels-Unsolved.ipynb",
   "provenance": [],
   "toc_visible": true
  },
  "kernelspec": {
   "display_name": "Python 3",
   "language": "python",
   "name": "python3"
  },
  "language_info": {
   "codemirror_mode": {
    "name": "ipython",
    "version": 3
   },
   "file_extension": ".py",
   "mimetype": "text/x-python",
   "name": "python",
   "nbconvert_exporter": "python",
   "pygments_lexer": "ipython3",
   "version": "3.8.3"
  }
 },
 "nbformat": 4,
 "nbformat_minor": 1
}
