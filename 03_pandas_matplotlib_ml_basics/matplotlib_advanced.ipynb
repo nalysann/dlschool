{
 "cells": [
  {
   "cell_type": "markdown",
   "metadata": {},
   "source": [
    "<p style=\"align: center;\">\n",
    "    <img align=center src=\"../img/dls_logo.jpg\" width=500 height=500>\n",
    "</p>\n",
    "\n",
    "<h1 style=\"text-align: center;\">\n",
    "    Физтех-Школа Прикладной математики и информатики (ФПМИ) МФТИ\n",
    "</h1>\n",
    "\n",
    "---"
   ]
  },
  {
   "cell_type": "markdown",
   "metadata": {},
   "source": [
    "<h1 style=\"text-align: center;\">\n",
    "    Библиотека Matplotlib\n",
    "</h1>"
   ]
  },
  {
   "cell_type": "markdown",
   "metadata": {},
   "source": [
    "<img align=left src=\"../img/python_logo.png\" width=400>\n",
    "\n",
    "<img align=center src=\"../img/matplotlib_logo.png\" width=400>"
   ]
  },
  {
   "cell_type": "markdown",
   "metadata": {},
   "source": [
    "**На основе http://www.inp.nsk.su/~grozin/python/ и http://www.playittodeath.ru/анализ-данных-при-помощи-python-графики-в-pandas/**"
   ]
  },
  {
   "cell_type": "markdown",
   "metadata": {},
   "source": [
    "---"
   ]
  },
  {
   "cell_type": "markdown",
   "metadata": {},
   "source": [
    "Есть несколько пакетов для построения графиков. Один из наиболее популярных - `matplotlib`. Если в `jupyter notebook` выполнить специальную `ipython` команду `%matplotlib inline`, то графики будут строиться в том же окне браузера (а не открываться в новом).  \n",
    "\n",
    "В отдельных окнах удобно отображать трёхмерные графики - тогда их можно вертеть мышкой (в случае inline графиков это невозможно). Графики можно также сохранять в файлы, как в векторных форматах (`eps`, `pdf`, `svg`), так и в растровых (`png`, `jpg`). Конечно, растровые форматы годятся только для размещения графиков на web-страницах.  \n",
    "\n",
    "`matplotlib` позволяет строить двумерные графики практически всех нужных типов, с достаточно гибкой регулировкой их параметров. Он также поддерживает основные типы трёхмерных графиков, но для серьёзной трёхмерной визуализации данных лучше пользоваться более мощными специализированными системами."
   ]
  },
  {
   "cell_type": "markdown",
   "metadata": {},
   "source": [
    "У функций в `matplotlib` много параметров.\n",
    "Для того, чтобы посмотреть все параметры, можно воспользоваться справкой (ввести `help(name)` или использовать `?name`)."
   ]
  },
  {
   "cell_type": "code",
   "execution_count": null,
   "metadata": {},
   "outputs": [],
   "source": [
    "import numpy as np\n",
    "import matplotlib.pyplot as plt\n",
    "from mpl_toolkits.mplot3d import Axes3D\n",
    "\n",
    "# обратите внимание на эту команду, \n",
    "# её стоит писать всегда в ячейке при импорте matplotlib\n",
    "%matplotlib inline\n",
    "\n",
    "# следующие три строчки вам не нужно знать\n",
    "import scipy.stats as sps\n",
    "import warnings\n",
    "warnings.simplefilter('ignore')"
   ]
  },
  {
   "cell_type": "markdown",
   "metadata": {},
   "source": [
    "---"
   ]
  },
  {
   "cell_type": "markdown",
   "metadata": {},
   "source": [
    "Далее идут несколько интересных демонстрационных примеров. Пока что вам не нужно знать как они отрисовываются, к концу лекции всё станет ясно."
   ]
  },
  {
   "cell_type": "code",
   "execution_count": null,
   "metadata": {},
   "outputs": [],
   "source": [
    "import matplotlib.path as mpath \n",
    "import matplotlib.patches as mpatches \n",
    "\n",
    "fig, ax = plt.subplots() \n",
    "\n",
    "Path = mpath.Path \n",
    "path_data = [ \n",
    "    (Path.MOVETO, (1.58, -2.57)), \n",
    "    (Path.CURVE4, (0.35, -1.1)), \n",
    "    (Path.CURVE4, (-1.75, 2.0)), \n",
    "    (Path.CURVE4, (0.375, 2.0)), \n",
    "    (Path.LINETO, (0.85, 1.15)), \n",
    "    (Path.CURVE4, (2.2, 3.2)), \n",
    "    (Path.CURVE4, (3, 0.05)), \n",
    "    (Path.CURVE4, (2.0, -0.5)), \n",
    "    (Path.CLOSEPOLY, (1.58, -2.57)), \n",
    "] \n",
    "codes, verts = zip(*path_data) \n",
    "path = mpath.Path(verts, codes) \n",
    "patch = mpatches.PathPatch(path, facecolor=\"yellow\", alpha=0.7) \n",
    "ax.add_patch(patch) \n",
    "\n",
    "# plot control points and connecting lines \n",
    "x, y = zip(*path.vertices) \n",
    "line, = ax.plot(x, y, 'bo-') \n",
    "\n",
    "ax.grid() \n",
    "ax.axis('equal') \n",
    "plt.show()"
   ]
  },
  {
   "cell_type": "markdown",
   "metadata": {},
   "source": [
    "Отрисовка точек:"
   ]
  },
  {
   "cell_type": "code",
   "execution_count": null,
   "metadata": {},
   "outputs": [],
   "source": [
    "x = np.random.normal(size=100000)\n",
    "y = np.random.normal(size=100000)\n",
    "plt.plot(x, y, 'o');"
   ]
  },
  {
   "cell_type": "markdown",
   "metadata": {},
   "source": [
    "Отрисовка тепловой карты (жёлтая область - высокая плостность точек, чёрная - нет точек):"
   ]
  },
  {
   "cell_type": "code",
   "execution_count": null,
   "metadata": {
    "scrolled": false
   },
   "outputs": [],
   "source": [
    "plt.hexbin(x, y, cmap='inferno');"
   ]
  },
  {
   "cell_type": "code",
   "execution_count": null,
   "metadata": {},
   "outputs": [],
   "source": [
    "ax = plt.axes([0.025, 0.025, 0.95, 0.95], polar=True)\n",
    "\n",
    "N = 20\n",
    "theta = np.arange(0.0, 2 * np.pi, 2 * np.pi / N)\n",
    "radii = 10 * np.random.rand(N)\n",
    "width = np.pi / 4 * np.random.rand(N)\n",
    "bars = plt.bar(theta, radii, width=width, bottom=0.0)\n",
    "\n",
    "for r,bar in zip(radii, bars):\n",
    "    bar.set_facecolor(plt.cm.jet(r/10.))\n",
    "    bar.set_alpha(0.5)\n",
    "\n",
    "ax.set_xticklabels([])\n",
    "ax.set_yticklabels([])\n",
    "plt.show()"
   ]
  },
  {
   "cell_type": "code",
   "execution_count": null,
   "metadata": {},
   "outputs": [],
   "source": [
    "fig = plt.figure()\n",
    "ax = Axes3D(fig)\n",
    "X = np.arange(-4, 4, 0.25)\n",
    "Y = np.arange(-4, 4, 0.25)\n",
    "X, Y = np.meshgrid(X, Y)\n",
    "R = np.sqrt(X ** 2 + Y ** 2)\n",
    "Z = np.sin(R)\n",
    "\n",
    "ax.plot_surface(X, Y, Z, rstride=1, cstride=1, cmap=plt.cm.hot)\n",
    "ax.contourf(X, Y, Z, zdir='z', offset=-2, cmap=plt.cm.hot)\n",
    "ax.set_zlim(-2, 2)\n",
    "\n",
    "plt.show()"
   ]
  },
  {
   "cell_type": "markdown",
   "metadata": {},
   "source": [
    "Много других красивых и интересных графиков `matplotlib` можно посмотреть [здесь](http://matplotlib.org/gallery.html)."
   ]
  },
  {
   "cell_type": "markdown",
   "metadata": {},
   "source": [
    "---"
   ]
  },
  {
   "cell_type": "markdown",
   "metadata": {},
   "source": [
    "## Основы `matplotlib`"
   ]
  },
  {
   "cell_type": "markdown",
   "metadata": {},
   "source": [
    "Если вам нужно нарисовать какой-либо график, прежде всего стоит рассмотреть функцию `plt.plot()`. \n",
    "\n",
    "`plt.plot(x, y, **kwargs)` - отрисовывает график по точкам с координатами, переданными в массивах (`list` или `np.array`) `x` и `y`. То есть первая точка будет иметь координаты `(x[0], y[0])`, вторая - `(x[1], y[1])` и т.д.  \n",
    "\n",
    "Точки соединяются прямыми, т.е. строится ломаная линия."
   ]
  },
  {
   "cell_type": "code",
   "execution_count": null,
   "metadata": {},
   "outputs": [],
   "source": [
    "plt.plot([0, 0.25, 1], [0, 1, 0.5])\n",
    "plt.show()"
   ]
  },
  {
   "cell_type": "code",
   "execution_count": null,
   "metadata": {
    "scrolled": true
   },
   "outputs": [],
   "source": [
    "plt.plot([0, 1, 0.5, 1.2], [1, 2, 3, 4])\n",
    "plt.show()"
   ]
  },
  {
   "cell_type": "code",
   "execution_count": null,
   "metadata": {},
   "outputs": [],
   "source": [
    "plt.plot([0, 0.25, 1, 0], [0, 1, 0.5, 0])\n",
    "plt.show()"
   ]
  },
  {
   "cell_type": "markdown",
   "metadata": {},
   "source": [
    "**Пример:** \n",
    "\n",
    "Построим график функции $y=x^2+2x+6$ для $x\\in[-20,20]$ с шагом $0.1$."
   ]
  },
  {
   "cell_type": "code",
   "execution_count": null,
   "metadata": {
    "scrolled": true
   },
   "outputs": [],
   "source": [
    "x = np.arange(-20, 20, 0.1)\n",
    "\n",
    "plt.plot(x, x**2 + 2 * x + 6)\n",
    " # сетка для графика\n",
    "plt.grid(ls='--')\n",
    "plt.show()"
   ]
  },
  {
   "cell_type": "markdown",
   "metadata": {},
   "source": [
    "`plt.grid(ls=':' или ls='--')` - нанести на картинку с графиком сетку (`ls` - стиль сетки)."
   ]
  },
  {
   "cell_type": "markdown",
   "metadata": {},
   "source": [
    "`plt.scatter(x, y, **kwargs)` - просто рисует точки, не соединяя их линиями:"
   ]
  },
  {
   "cell_type": "code",
   "execution_count": null,
   "metadata": {},
   "outputs": [],
   "source": [
    "x = np.arange(-20, 20, 0.1)\n",
    "\n",
    "plt.scatter(x, x**2 + 2 * x + 6)\n",
    "plt.grid(ls=':')\n",
    "plt.show()"
   ]
  },
  {
   "cell_type": "markdown",
   "metadata": {},
   "source": [
    "Попробуем поменьше точек:"
   ]
  },
  {
   "cell_type": "code",
   "execution_count": null,
   "metadata": {},
   "outputs": [],
   "source": [
    "# теперь шаг 1, а не 0.1\n",
    "x = np.arange(-20, 20, 1)\n",
    "\n",
    "plt.scatter(x, x**2 + 2 * x + 6)\n",
    "plt.grid(ls=':')\n",
    "plt.show()"
   ]
  },
  {
   "cell_type": "markdown",
   "metadata": {},
   "source": [
    "**Вопрос**: Какой ещё функцией `NumPy` удобно задать массив $x$ в данном случае?\n",
    "\n",
    "**Ответ:** `np.linspace`."
   ]
  },
  {
   "cell_type": "markdown",
   "metadata": {},
   "source": [
    "Когда точек много, ломаная неотличима от гладкой кривой:"
   ]
  },
  {
   "cell_type": "code",
   "execution_count": null,
   "metadata": {},
   "outputs": [],
   "source": [
    "# 100 точек\n",
    "x = np.linspace(0, 4 * np.pi, 100)\n",
    "\n",
    "plt.plot(x, np.sin(x))\n",
    "plt.show()"
   ]
  },
  {
   "cell_type": "markdown",
   "metadata": {},
   "source": [
    "Массив $x$ не обязан быть монотонно возрастающим. Можно строить любую параметрическую линию $x=x(t)$, $y=y(t)$:"
   ]
  },
  {
   "cell_type": "code",
   "execution_count": null,
   "metadata": {},
   "outputs": [],
   "source": [
    "t = np.linspace(0, 2 * np.pi, 100)\n",
    "\n",
    "plt.figure()\n",
    "plt.plot(np.cos(t), np.sin(t))\n",
    "plt.axes().set_aspect(1)\n",
    "plt.show()"
   ]
  },
  {
   "cell_type": "markdown",
   "metadata": {},
   "source": [
    "`plt.axes().set_aspect(1)` - сделать оси $x$ и $y$ в одинаковой пропорции (тут видно, что получился квадратный рисунок)."
   ]
  },
  {
   "cell_type": "markdown",
   "metadata": {},
   "source": [
    "То есть чтобы окружности выглядели как окружности, а не как эллипсы, (а квадраты как квадраты, а не как прямоугольники), нужно установить `aspect ratio`, равный $1$."
   ]
  },
  {
   "cell_type": "markdown",
   "metadata": {},
   "source": [
    "А вот одна из **фигур Лиссажу**, заданная параметрически $x(t) = \\sin{2t}, y(t) = \\cos{3t}$:"
   ]
  },
  {
   "cell_type": "code",
   "execution_count": null,
   "metadata": {},
   "outputs": [],
   "source": [
    "# параметрическое задание\n",
    "plt.plot(np.sin(2 * t), np.cos(3 * t))\n",
    "plt.axes().set_aspect(1)\n",
    "plt.show()"
   ]
  },
  {
   "cell_type": "markdown",
   "metadata": {},
   "source": [
    "Давайте теперь нарисуем несколько кривых на одном графике - нужно просто написать несколько `plt.plot()` подряд. Каждый из графиков задаётся своей парой массивов координат $x$ и $y$.  \n",
    "По умолчанию каждому графику присваиваются цвета из некоторой последовательности цветов. Разумеется, их можно изменить."
   ]
  },
  {
   "cell_type": "code",
   "execution_count": null,
   "metadata": {},
   "outputs": [],
   "source": [
    "x = np.linspace(0, 2, 100)\n",
    "\n",
    "plt.plot(x, x)\n",
    "plt.plot(x, x**2)\n",
    "plt.plot(x, x**3)\n",
    "\n",
    "plt.grid(ls=':')\n",
    "plt.show()"
   ]
  },
  {
   "cell_type": "markdown",
   "metadata": {},
   "source": [
    "Можно и так (в одном `plt.plot`):"
   ]
  },
  {
   "cell_type": "code",
   "execution_count": null,
   "metadata": {},
   "outputs": [],
   "source": [
    "plt.plot(x, x, x, x**2, x, x**3)\n",
    "\n",
    "plt.grid(ls=':')\n",
    "plt.show()"
   ]
  },
  {
   "cell_type": "markdown",
   "metadata": {},
   "source": [
    "Для простой регулировки цветов и типов линий после пары $x$ и $y$ координат вставляется форматная строка. Первая буква определяет цвет (`'r'` - красный, `'b'` - синий и т.д.), дальше задаётся тип линии (`'-'` - сплошная, `'--'` - пунктирная, `'-.'` - штрих-пунктирная и т.д.):"
   ]
  },
  {
   "cell_type": "code",
   "execution_count": null,
   "metadata": {},
   "outputs": [],
   "source": [
    "x = np.linspace(0, 4 * np.pi, 100)\n",
    "\n",
    "# третьим аргументом здесь подаётся стиль линии\n",
    "plt.plot(x, np.sin(x), 'r--')  \n",
    "plt.plot(x, np.cos(x), 'b--')\n",
    "\n",
    "# можно менять цвет и толщину сетки\n",
    "plt.grid(color='g', linestyle=':', linewidth=0.5)\n",
    "plt.show()"
   ]
  },
  {
   "cell_type": "markdown",
   "metadata": {},
   "source": [
    "Если в качестве \"типа линии\" указано `'o'`, то это означает рисовать точки кружочками и не соединять их линиями (то есть по сути это будет аналогично функции `plt.scater`); аналогично, `'s'` означает квадратики. Конечно, такие графики имеют смысл только тогда, когда точек не очень много."
   ]
  },
  {
   "cell_type": "code",
   "execution_count": null,
   "metadata": {},
   "outputs": [],
   "source": [
    "x = np.linspace(0, 1, 11)\n",
    "\n",
    "plt.plot(x, x ** 2, 'ro')\n",
    "plt.plot(x, 1 - x, 'gs')\n",
    "\n",
    "plt.show()"
   ]
  },
  {
   "cell_type": "markdown",
   "metadata": {},
   "source": [
    "`plt.figure(figsize=(width, height))` - если написать это перед `plt.plot()`, то изменится размер итоговой картинки с графиком:"
   ]
  },
  {
   "cell_type": "code",
   "execution_count": null,
   "metadata": {},
   "outputs": [],
   "source": [
    "# 100 точек\n",
    "x = np.linspace(0, 4 * np.pi, 100)\n",
    "\n",
    "plt.figure(figsize=(10, 5))\n",
    "plt.plot(x, np.sin(x))\n",
    "plt.show()"
   ]
  },
  {
   "cell_type": "code",
   "execution_count": null,
   "metadata": {},
   "outputs": [],
   "source": [
    "# 100 точек\n",
    "x = np.linspace(0, 4 * np.pi, 100)\n",
    "\n",
    "plt.figure(figsize=(3, 3))\n",
    "plt.plot(x, np.sin(x))\n",
    "plt.show()"
   ]
  },
  {
   "cell_type": "markdown",
   "metadata": {},
   "source": [
    "`plt.plot(x, y, linestyle, label='your_text')` - закрепляет за графиком пояснение к нему.\n",
    "\n",
    "`plt.legend()` - позволяет вывести пояснение к графику (легенду)."
   ]
  },
  {
   "cell_type": "code",
   "execution_count": null,
   "metadata": {},
   "outputs": [],
   "source": [
    "# 100 точек\n",
    "x = np.linspace(0, 4 * np.pi, 100)\n",
    "\n",
    "plt.figure(figsize=(10, 5))\n",
    "\n",
    "plt.plot(x, np.cos(x), label='cosine')\n",
    "\n",
    "plt.legend()\n",
    "plt.grid()\n",
    "plt.show()"
   ]
  },
  {
   "cell_type": "markdown",
   "metadata": {},
   "source": [
    "Изменим размер шрифта в легенде:"
   ]
  },
  {
   "cell_type": "code",
   "execution_count": null,
   "metadata": {},
   "outputs": [],
   "source": [
    "# 100 точек\n",
    "x = np.linspace(0, 4 * np.pi, 100)\n",
    "\n",
    "plt.figure(figsize=(10, 5))\n",
    "\n",
    "plt.plot(x, np.cos(x), label='cosine')\n",
    "\n",
    "plt.legend(fontsize=15)\n",
    "plt.grid()\n",
    "plt.show()"
   ]
  },
  {
   "cell_type": "markdown",
   "metadata": {},
   "source": [
    "Можно ещё красивее, если использовать $\\LaTeX$:"
   ]
  },
  {
   "cell_type": "code",
   "execution_count": null,
   "metadata": {},
   "outputs": [],
   "source": [
    "# 100 точек\n",
    "x = np.linspace(0, 4 * np.pi, 100)\n",
    "\n",
    "plt.figure(figsize=(10, 5))\n",
    "\n",
    "plt.plot(x, np.cos(x), label='$cos$')\n",
    "\n",
    "plt.legend(fontsize=15)\n",
    "plt.grid()\n",
    "plt.show()"
   ]
  },
  {
   "cell_type": "markdown",
   "metadata": {},
   "source": [
    "Таким образом мы уже научились:\n",
    "\n",
    "- строить непосредественно сам график по точкам\n",
    "\n",
    "- наносить сетку на картинку с графиком\n",
    "\n",
    "- менять размер картинки с графиком\n",
    "\n",
    "- изменять и выводить легенду\n",
    "\n",
    "- менять цвет графика и стиль линии\n",
    "\n",
    "- отрисовывать график, заданный параметрически"
   ]
  },
  {
   "cell_type": "markdown",
   "metadata": {},
   "source": [
    "Научимся добавлять подпись к осям:"
   ]
  },
  {
   "cell_type": "markdown",
   "metadata": {},
   "source": [
    "`plt.xlabel('your_text', fontsize=size)` - подпись к оси $X$.\n",
    "\n",
    "`plt.ylabel('your_text', fontsize=size)` - подпись к оси $Y$."
   ]
  },
  {
   "cell_type": "code",
   "execution_count": null,
   "metadata": {},
   "outputs": [],
   "source": [
    "# 100 точек\n",
    "x = np.linspace(0, 4 * np.pi, 100)\n",
    "\n",
    "plt.figure(figsize=(10, 5))\n",
    "\n",
    "plt.plot(x, np.cos(x), label='$cos$')\n",
    "\n",
    "plt.xlabel('Ось x', fontsize=15)\n",
    "plt.ylabel('Ось y', fontsize=15)\n",
    "\n",
    "plt.legend(fontsize=15)\n",
    "plt.grid()\n",
    "plt.show()"
   ]
  },
  {
   "cell_type": "markdown",
   "metadata": {},
   "source": [
    "Чего-то ещё не хватает. Хорошо бы знать, что вообще описывает график. Это можно пояснить в заголовке:"
   ]
  },
  {
   "cell_type": "markdown",
   "metadata": {},
   "source": [
    "`plt.title('your_text', fontsize=size)` - задать название графика."
   ]
  },
  {
   "cell_type": "code",
   "execution_count": null,
   "metadata": {},
   "outputs": [],
   "source": [
    "# 100 точек\n",
    "x = np.linspace(0, 4 * np.pi, 100)\n",
    "\n",
    "plt.figure(figsize=(10, 5))\n",
    "\n",
    "plt.title('График функции $y = cos(x)$', fontsize=15)\n",
    "\n",
    "plt.plot(x, np.cos(x), label='$cos$')\n",
    "\n",
    "plt.xlabel('Ось x', fontsize=15)\n",
    "plt.ylabel('Ось y', fontsize=15)\n",
    "\n",
    "plt.legend(fontsize=15)\n",
    "plt.grid()\n",
    "plt.show()"
   ]
  },
  {
   "cell_type": "markdown",
   "metadata": {},
   "source": [
    "Пример применения всех наших знаний:"
   ]
  },
  {
   "cell_type": "code",
   "execution_count": null,
   "metadata": {},
   "outputs": [],
   "source": [
    "x = np.linspace(0, 2 * np.pi, 100)\n",
    "\n",
    "plt.figure(figsize=(10, 5))\n",
    "\n",
    "plt.title('$\\sin x$, $\\cos x$', fontsize=20)\n",
    "\n",
    "plt.plot(x, np.sin(x), linewidth=2, color=\"orange\", dashes=[8, 4], label='$\\sin x$')\n",
    "plt.plot(x, np.cos(x), linewidth=2, color=\"violet\", dashes=[8, 4, 2, 4], label='$\\cos x$')\n",
    "\n",
    "plt.xlabel('$x$', fontsize=20)\n",
    "plt.ylabel('$y$', fontsize=20)\n",
    "\n",
    "plt.legend(fontsize=20, loc=1)\n",
    "plt.grid(color=\"grey\", linestyle='-', linewidth=0.5)\n",
    "plt.show()"
   ]
  },
  {
   "cell_type": "markdown",
   "metadata": {},
   "source": [
    "Можно даже чуть лучше, если добавить ещё пару функций (`plt.xticks`, `plt.yticks`), которые подписывают уже сами значения вдоль осей и меняют их шрифт/размер:"
   ]
  },
  {
   "cell_type": "code",
   "execution_count": null,
   "metadata": {},
   "outputs": [],
   "source": [
    "x = np.linspace(0, 2 * np.pi, 100)\n",
    "\n",
    "plt.figure(figsize=(10, 5))\n",
    "\n",
    "plt.title('$\\sin x$, $\\cos x$', fontsize=20)\n",
    "\n",
    "plt.plot(x, np.sin(x), linewidth=2, color=\"orange\", dashes=[8, 4], label='$\\sin x$')\n",
    "plt.plot(x, np.cos(x), linewidth=2, color=\"violet\", dashes=[8, 4, 2, 4], label='$\\cos x$')\n",
    "\n",
    "plt.axis([0, 2 * np.pi, -1, 1])\n",
    "plt.xticks(np.linspace(0, 2 * np.pi, 9),  # где сделать отметки\n",
    "           ('0', r'$\\frac{1}{4}\\pi$', r'$\\frac{1}{2}\\pi$',  # как подписать\n",
    "            r'$\\frac{3}{4}\\pi$', r'$\\pi$', r'$\\frac{5}{4}\\pi$',\n",
    "            r'$\\frac{3}{2}\\pi$', r'$\\frac{7}{4}\\pi$', r'$2\\pi$'),\n",
    "           fontsize=20)\n",
    "plt.yticks(fontsize=12)\n",
    "\n",
    "plt.xlabel('$x$', fontsize=20)\n",
    "plt.ylabel('$y$', fontsize=20)\n",
    "\n",
    "plt.legend(fontsize=20, loc=1)\n",
    "plt.grid(color=\"grey\", linestyle='-', linewidth=0.5)\n",
    "plt.show()"
   ]
  },
  {
   "cell_type": "markdown",
   "metadata": {},
   "source": [
    "## Дополнительные материалы"
   ]
  },
  {
   "cell_type": "markdown",
   "metadata": {},
   "source": [
    "В конце ноутбука, как и всегда, есть список полезных ссылок (рекомендуем ознакомиться, есть ссылки и на другие библиотеки для визуализации, которые способны на большее).  \n",
    "\n",
    "А сейчас давайте посмотрим, как загружать/сохранять картинки и загружать/сохранять файлы и текстовые данные."
   ]
  },
  {
   "cell_type": "markdown",
   "metadata": {},
   "source": [
    "Если указать `linestyle=''`, то точки не соединяются линиями. Сами точки рисуются маркерами разных типов. Тип определяется строкой из одного символа, который чем-то похож на нужный маркер. В добавок к стандартным маркерам, можно определить самодельные."
   ]
  },
  {
   "cell_type": "code",
   "execution_count": null,
   "metadata": {},
   "outputs": [],
   "source": [
    "x = np.linspace(0, 1, 11)\n",
    "\n",
    "plt.figure()\n",
    "plt.plot(x, x, linestyle='', marker='<', markersize=10, markerfacecolor='#FF0000')\n",
    "plt.plot(x, x**2, linestyle='', marker='^', markersize=10,markerfacecolor='#00FF00')\n",
    "plt.plot(x, x**(1 / 2), linestyle='', marker='v', markersize=10, markerfacecolor='#0000FF')\n",
    "plt.plot(x, 1 - x, linestyle='', marker='+', markersize=10, markerfacecolor='#0F0F00')\n",
    "plt.plot(x, 1 - x**2, linestyle='', marker='x', markersize=10, markerfacecolor='#0F000F')\n",
    "plt.axis([-0.05, 1.05, -0.05, 1.05])\n",
    "plt.axes().set_aspect(1)\n",
    "plt.show()"
   ]
  },
  {
   "cell_type": "markdown",
   "metadata": {},
   "source": [
    "### Логарифмический масштаб\n",
    "\n",
    "**Вопрос:** когда удобно использовать логарифмический масштаб?"
   ]
  },
  {
   "cell_type": "code",
   "execution_count": null,
   "metadata": {},
   "outputs": [],
   "source": [
    "x = np.linspace(-5, 5, 1000)\n",
    "\n",
    "plt.figure()\n",
    "plt.plot(x, np.exp(x) + np.exp(-x))\n",
    "plt.yscale('log')\n",
    "plt.yticks(fontsize=15)\n",
    "plt.show()"
   ]
  },
  {
   "cell_type": "markdown",
   "metadata": {},
   "source": [
    "Можно задать логарифмический масштаб по обеим осям:"
   ]
  },
  {
   "cell_type": "code",
   "execution_count": null,
   "metadata": {},
   "outputs": [],
   "source": [
    "x = np.logspace(-2, 2, 100)\n",
    "\n",
    "plt.figure()\n",
    "plt.plot(x, x + x**3)\n",
    "plt.xscale('log'), plt.xticks(fontsize=15)\n",
    "plt.yscale('log'), plt.yticks(fontsize=15)\n",
    "plt.show()"
   ]
  },
  {
   "cell_type": "markdown",
   "metadata": {},
   "source": [
    "### Полярные координаты\n",
    "\n",
    "Первый массив - $\\varphi$, второй - $r$. Вот спираль:"
   ]
  },
  {
   "cell_type": "code",
   "execution_count": null,
   "metadata": {},
   "outputs": [],
   "source": [
    "t = np.linspace(0, 4 * np.pi, 100)\n",
    "\n",
    "plt.polar(t, t)\n",
    "plt.show()"
   ]
  },
  {
   "cell_type": "markdown",
   "metadata": {},
   "source": [
    "Построим функцию $y = sin(3x) + cos(5x)$ в полярных координатах:"
   ]
  },
  {
   "cell_type": "code",
   "execution_count": null,
   "metadata": {},
   "outputs": [],
   "source": [
    "t = np.linspace(0, 2 * np.pi, 100)\n",
    "\n",
    "plt.figure()\n",
    "plt.polar(t, np.sin(3 * t) + np.cos(5 * t))\n",
    "plt.show()"
   ]
  },
  {
   "cell_type": "code",
   "execution_count": null,
   "metadata": {},
   "outputs": [],
   "source": [
    "ax = plt.axes([0.025, 0.025, 0.95, 0.95], polar=True)\n",
    "\n",
    "N = 20\n",
    "theta = np.arange(0.0, 2 * np.pi, 2 * np.pi / N)\n",
    "radii = 10 * np.random.rand(N)\n",
    "width = np.pi / 4 * np.random.rand(N)\n",
    "bars = plt.bar(theta, radii, width=width, bottom=0.0)\n",
    "\n",
    "for r, bar in zip(radii, bars):\n",
    "    bar.set_facecolor(plt.cm.jet(r/10.))\n",
    "    bar.set_alpha(0.5)\n",
    "\n",
    "ax.set_xticklabels([])\n",
    "ax.set_yticklabels([])\n",
    "plt.show()"
   ]
  },
  {
   "cell_type": "markdown",
   "metadata": {},
   "source": [
    "### Экпериментальные данные (отрисовка выборки со статистиками)"
   ]
  },
  {
   "cell_type": "code",
   "execution_count": null,
   "metadata": {},
   "outputs": [],
   "source": [
    "sample = sps.norm.rvs(size=500)\n",
    "\n",
    "plt.figure(figsize=(10, 1))\n",
    "plt.grid(ls='--')\n",
    "# alpha - прозрачность точки\n",
    "plt.scatter(sample, np.zeros(500), alpha=0.2, color = 'r', linewidths=4)\n",
    "plt.show()"
   ]
  },
  {
   "cell_type": "code",
   "execution_count": null,
   "metadata": {},
   "outputs": [],
   "source": [
    "sample = sps.expon.rvs(size=500)\n",
    "\n",
    "plt.figure(figsize=(10, 1))\n",
    "plt.grid(ls='--')\n",
    "# alpha - прозрачность точки\n",
    "plt.scatter(sample, np.zeros(500), alpha=0.3, color='b',linewidths=4)\n",
    "plt.show()"
   ]
  },
  {
   "cell_type": "markdown",
   "metadata": {},
   "source": [
    "Можно добавить график плотности распределения:"
   ]
  },
  {
   "cell_type": "code",
   "execution_count": null,
   "metadata": {
    "scrolled": false
   },
   "outputs": [],
   "source": [
    "sample = sps.norm.rvs(size=500)\n",
    "\n",
    "# задаем сетку для построения графика плотности\n",
    "grid = np.linspace(-3, 3, 100)\n",
    "plt.figure(figsize=(10, 4))\n",
    "plt.grid(ls='--')\n",
    "# label - описание в легенде\n",
    "plt.scatter(sample, np.zeros(500) - 0.02, alpha=0.2, label='sample',linewidths=3)\n",
    "# color - цвет графика\n",
    "plt.plot(grid, sps.norm.pdf(grid), color='red', label='density', linewidth=4)\n",
    "# добавляет легенду\n",
    "plt.legend()\n",
    "plt.show()"
   ]
  },
  {
   "cell_type": "markdown",
   "metadata": {},
   "source": [
    "Нарисуем гистограмму:"
   ]
  },
  {
   "cell_type": "code",
   "execution_count": null,
   "metadata": {},
   "outputs": [],
   "source": [
    "plt.figure()\n",
    "# density - нормировка\n",
    "n, bins, patches = plt.hist(sample, range=(-3, 3), bins=20, density=True)\n",
    "# color - цвет графика\n",
    "plt.plot(grid, sps.norm.pdf(grid), color='red', label='density')\n",
    "plt.text(-2, 0.3, r'$\\frac{1}{\\sqrt{2\\pi}}\\,e^{-x^2/2}$',\n",
    "         fontsize=20, horizontalalignment='center', verticalalignment='center')\n",
    "plt.show()"
   ]
  },
  {
   "cell_type": "markdown",
   "metadata": {},
   "source": [
    "Предположим, что выборка приходит постепенно. Для каждого момента времени посчитаем выборочное среднее и доверительный интервал. Нанесём их на график:"
   ]
  },
  {
   "cell_type": "code",
   "execution_count": null,
   "metadata": {},
   "outputs": [],
   "source": [
    "time = np.arange(1, 501)\n",
    "means = sample.cumsum() / np.arange(1, 501)\n",
    "\n",
    "plt.figure(figsize=(15, 8))\n",
    "# s - размер точек\n",
    "plt.scatter(time, sample, alpha=0.2, s=40, label='sample')\n",
    "# linewidth - толщина линии\n",
    "plt.plot(time, means, color='red', linewidth=2.5, label='sample mean $\\overline{X}$')\n",
    "# заполняет пространство между двумя функциями\n",
    "plt.fill_between(time, means + 2 / np.sqrt(time), means - 2 / np.sqrt(time), alpha=0.15)\n",
    "plt.legend()\n",
    "# размеры графика по горизонтальной оси (ставим None, если по стороне ограничений нет)\n",
    "plt.xlim((1, 200))\n",
    "# размеры графика по вертикальной оси \n",
    "plt.ylim((-3, 3))\n",
    "# название горизонтальной оси (аналогично plt.ylabel)\n",
    "plt.xlabel('Time')\n",
    "# имя графика\n",
    "plt.title('Sample by time')\n",
    "# добавляем сетку\n",
    "plt.grid()\n",
    "# сохранение в файл\n",
    "plt.savefig('example.png')\n",
    "plt.show()"
   ]
  },
  {
   "cell_type": "markdown",
   "metadata": {},
   "source": [
    "Посмотрим еще на то, как можно закрашивать график в соответствии с какой-то функцией.\n",
    "Для примера возьмем плотность распределения $\\mathscr{N} \\left( \\begin{pmatrix} 0 \\\\ 0 \\end{pmatrix},  \\begin{pmatrix} 2 & 1 \\\\ 1 & 2 \\end{pmatrix} \\right)$:"
   ]
  },
  {
   "cell_type": "code",
   "execution_count": null,
   "metadata": {},
   "outputs": [],
   "source": [
    "grid = np.mgrid[-3:3:0.05, -3:3:0.05]\n",
    "density = np.array([[sps.multivariate_normal.pdf((grid[0, i, j], grid[1, i, j]), mean=[0, 0], cov=[[2, 1], [1, 2]])\n",
    "                        for i in range(grid[0].shape[0])]\n",
    "                        for j in range(grid[0].shape[1])])\n",
    "\n",
    "plt.figure(figsize=(14, 6))\n",
    "\n",
    "plt.subplot(1, 2, 1)\n",
    "# закрасить с интенсивностью density, cmap - цветовая схема\n",
    "plt.pcolormesh(grid[0], grid[1], density, cmap='Oranges')\n",
    "plt.xlim((np.min(grid[0]) + 0.2, np.max(grid[0]) - 0.2))\n",
    "plt.ylim((np.min(grid[1]) + 0.2, np.max(grid[1]) - 0.2))\n",
    "plt.title('Gaussian density')\n",
    "\n",
    "plt.subplot(1, 2, 2)\n",
    "# нарисовать указанные линии уровня\n",
    "CS = plt.contour(grid[0], grid[1], density, [0.005, 0.02, 0.05, 0.085])\n",
    "plt.clabel(CS, fontsize=14, inline=1, fmt='%1.3f')\n",
    "plt.xlim((np.min(grid[0]), np.max(grid[0])))\n",
    "plt.ylim((np.min(grid[1]), np.max(grid[1])))\n",
    "    \n",
    "plt.show()"
   ]
  },
  {
   "cell_type": "markdown",
   "metadata": {},
   "source": [
    "### Контурные графики"
   ]
  },
  {
   "cell_type": "markdown",
   "metadata": {},
   "source": [
    "Пусть мы хотим изучить поверхность $z=x* y$. Вот её линии уровня:"
   ]
  },
  {
   "cell_type": "code",
   "execution_count": null,
   "metadata": {},
   "outputs": [],
   "source": [
    "x = np.linspace(-1, 1, 100)\n",
    "y = x\n",
    "z = np.outer(x, y)\n",
    "plt.figure()\n",
    "plt.contour(x, y, z)\n",
    "plt.axes().set_aspect(1)\n",
    "plt.show()"
   ]
  },
  {
   "cell_type": "markdown",
   "metadata": {},
   "source": [
    "А здесь высота даётся цветом, как на физических географических картах. `colorbar` показывает соответствие цветов и значений $z$:"
   ]
  },
  {
   "cell_type": "code",
   "execution_count": null,
   "metadata": {},
   "outputs": [],
   "source": [
    "plt.figure()\n",
    "plt.contourf(x, y, z, np.linspace(-1, 1, 11))\n",
    "\n",
    "plt.colorbar()\n",
    "\n",
    "plt.show()"
   ]
  },
  {
   "cell_type": "markdown",
   "metadata": {},
   "source": [
    "### Images (пиксельные картинки)\n",
    "\n",
    "Картинка задаётся массивом `z`: `z[i,j]` - это цвет пикселя `i,j`, массив из $3$ элементов (`rgb`, числа от $0$ до $1$):"
   ]
  },
  {
   "cell_type": "code",
   "execution_count": null,
   "metadata": {
    "scrolled": true
   },
   "outputs": [],
   "source": [
    "n = 256\n",
    "u = np.linspace(0, 1, n)\n",
    "x, y = np.meshgrid(u, u)\n",
    "z = np.zeros((n, n, 3))\n",
    "z[:, :, 0] = x\n",
    "z[:, :, 2] = y\n",
    "\n",
    "plt.figure()\n",
    "plt.imshow(z)\n",
    "plt.show()"
   ]
  },
  {
   "cell_type": "markdown",
   "metadata": {},
   "source": [
    "### Трёхмерная линия\n",
    "\n",
    "Задаётся параметрически: $x=x(t)$, $y=y(t)$, $z=z(t)$."
   ]
  },
  {
   "cell_type": "code",
   "execution_count": null,
   "metadata": {},
   "outputs": [],
   "source": [
    "t = np.linspace(0, 4 * np.pi, 100)\n",
    "x = np.cos(t)\n",
    "y = np.sin(t)\n",
    "z = t / (4 * np.pi)"
   ]
  },
  {
   "cell_type": "code",
   "execution_count": null,
   "metadata": {},
   "outputs": [],
   "source": [
    "fig = plt.figure()\n",
    "ax = Axes3D(fig)\n",
    "ax.plot(x, y, z)\n",
    "plt.show()"
   ]
  },
  {
   "cell_type": "markdown",
   "metadata": {},
   "source": [
    "К сожалению, inline трёхмерную картинку нельзя вертеть мышкой (это можно делать с трёхмерными картинками в отдельных окнах). Но можно задать, с какой стороны мы смотрим:"
   ]
  },
  {
   "cell_type": "code",
   "execution_count": null,
   "metadata": {
    "scrolled": true
   },
   "outputs": [],
   "source": [
    "fig = plt.figure()\n",
    "ax = Axes3D(fig)\n",
    "ax.elev, ax.azim = 30, 30\n",
    "ax.plot(x, y, z)\n",
    "plt.show()"
   ]
  },
  {
   "cell_type": "markdown",
   "metadata": {},
   "source": [
    "### Поверхности\n",
    "\n",
    "Все поверхности параметрические: $x=x(u,v)$, $y=y(u,v)$, $z=z(u,v)$. Если мы хотим построить явную поверхность $z=z(x,y)$, то удобно создать массивы $x=u$ и $y=v$ функцией `meshgrid`:"
   ]
  },
  {
   "cell_type": "code",
   "execution_count": null,
   "metadata": {
    "scrolled": true
   },
   "outputs": [],
   "source": [
    "X = 10\n",
    "N = 50\n",
    "u = np.linspace(-X, X, N)\n",
    "x, y = np.meshgrid(u, u)\n",
    "r = np.sqrt(x ** 2 + y ** 2)\n",
    "z = np.sin(r) / r\n",
    "\n",
    "fig = plt.figure()\n",
    "ax = Axes3D(fig)\n",
    "ax.plot_surface(x, y, z, rstride=1, cstride=1)\n",
    "plt.show()"
   ]
  },
  {
   "cell_type": "markdown",
   "metadata": {},
   "source": [
    "Есть много встроенных способов раскраски поверхностей. Так, в методе `gnuplot` цвет зависит от высоты $z$:"
   ]
  },
  {
   "cell_type": "code",
   "execution_count": null,
   "metadata": {
    "scrolled": true
   },
   "outputs": [],
   "source": [
    "fig = plt.figure()\n",
    "ax = Axes3D(fig)\n",
    "ax.plot_surface(x, y, z, rstride=1, cstride=1, cmap='gnuplot')\n",
    "plt.show()"
   ]
  },
  {
   "cell_type": "markdown",
   "metadata": {},
   "source": [
    "Построим **тор (бублик, баранку)**, так называемую **параметрическую** поверхность с параметрами-углами $\\vartheta$ и $\\varphi$:\n",
    "\n",
    "$$\n",
    "x = (1 + r \\cdot cos(\\vartheta\\varphi)) \\cdot cos(\\vartheta\\varphi)\n",
    "$$\n",
    "\n",
    "$$\n",
    "y = (1 + r \\cdot cos(\\vartheta\\varphi)) \\cdot sin(\\vartheta\\varphi)\n",
    "$$\n",
    "\n",
    "$$\n",
    "z = r \\cdot sin(\\vartheta\\varphi)\n",
    "$$"
   ]
  },
  {
   "cell_type": "code",
   "execution_count": null,
   "metadata": {},
   "outputs": [],
   "source": [
    "t = np.linspace(0, 2 * np.pi, 50)\n",
    "th, ph = np.meshgrid(t, t)\n",
    "r = 0.2\n",
    "x, y, z = (1 + r * np.cos(ph)) * np.cos(th), (1 + r * np.cos(ph)) * np.sin(th), r * np.sin(ph)\n",
    "fig = plt.figure()\n",
    "ax = Axes3D(fig)\n",
    "ax.elev = 50\n",
    "ax.plot_surface(x, y, z, rstride=2, cstride=1, cmap='gnuplot')\n",
    "plt.show()"
   ]
  },
  {
   "cell_type": "markdown",
   "metadata": {},
   "source": [
    "---"
   ]
  },
  {
   "cell_type": "markdown",
   "metadata": {},
   "source": [
    "**Справка по почти всем функциям отрисовки:**\n",
    "\n",
    "* `plt.scatter(x, y, params)` — нарисовать точки с координатами из $x$ по горизонтальной оси и из $y$ по вертикальной оси\n",
    "\n",
    "* `plt.plot(x, y, params)` — нарисовать график по точкам с координатами из $x$ по горизонтальной оси и из $y$ по вертикальной оси, точки будут соединятся в том порядке, в котором они указаны в этих массивах\n",
    "\n",
    "* `plt.fill_between(x, y1, y2, params)` — закрасить пространство между $y_1$ и $y_2$ по координатам из $x$\n",
    "\n",
    "* `plt.pcolormesh(x1, x1, y, params)` — закрасить пространство в соответствии с интенсивностью $y$\n",
    "\n",
    "* `plt.contour(x1, x1, y, lines)` — нарисовать линии уровня, затем нужно применить `plt.clabel`\n",
    "\n",
    "**Вспомогательные функции:**\n",
    "\n",
    "* `plt.figure(figsize=(x, y))` — создать график размера $(x, y)$\n",
    "\n",
    "* `plt.show()` — показать график\n",
    "\n",
    "* `plt.subplot(...)` — добавить подграфик\n",
    "\n",
    "* `plt.xlim(x_min, x_max)` — установить пределы графика по горизонтальной оси\n",
    "\n",
    "* `plt.ylim(y_min, y_max)` — установить пределы графика по вертикальной оси\n",
    "\n",
    "* `plt.title(name)` — установить имя графика\n",
    "\n",
    "* `plt.xlabel(name)` — установить название горизонтальной оси\n",
    "\n",
    "* `plt.ylabel(name)` — установить название вертикальной оси\n",
    "\n",
    "* `plt.legend(loc=...)` — сделать легенду в позиции `loc`\n",
    "\n",
    "* `plt.grid()` — добавить сетку на график\n",
    "\n",
    "* `plt.savefig(filename)` — сохранить график в файл"
   ]
  },
  {
   "cell_type": "markdown",
   "metadata": {},
   "source": [
    "---"
   ]
  },
  {
   "cell_type": "markdown",
   "metadata": {},
   "source": [
    "## Список материалов для самостоятельного изучения"
   ]
  },
  {
   "cell_type": "markdown",
   "metadata": {},
   "source": [
    "**Ещё про `matplotlib`:**\n",
    "\n",
    "* Лакончино и со вкусом про `matplotlib` - http://www.scipy-lectures.org/intro/matplotlib/index.html \n",
    "* Цветовые гаммы для раскрасок графиков (для аргумента `cmap`) - https://matplotlib.org/users/colormaps.html\n",
    "\n",
    "**Другие библиотеки:**\n",
    "\n",
    "* Библиотека `seaborn` - надстройка над `matplotlib`, с ней графики становятся красивее - http://seaborn.pydata.org/\n",
    "\n",
    "* Библиотека `plotly` для красивых **интерактивных** графиков (можно тыкать мышкой, приближать и отдалять) -https://plot.ly/feed/#/\n",
    "\n",
    "* Библиотека `dash` - надстройка над `plotly`, очень крутая штука, можно визуализировать многие вещи, например, информацию на интерактивных картах мира/городов - https://plot.ly/products/dash/\n",
    "\n",
    "* `d3.js` - ещё одна библиотека для интерактивной визуализации в браузере - https://d3js.org/\n",
    "\n",
    "**Крутые статьи:**\n",
    "\n",
    "* Несколько очень красивых визуализаций - https://www.analyticsvidhya.com/blog/2018/01/collection-data-visualizations-you-must-see\n",
    "\n",
    "* Статья про анализ данных фильмов и их визуализацию - https://habr.com/post/308162/\n",
    "\n",
    "* 11 правил визуализации (статья на Хабре) - https://habr.com/company/netologyru/blog/341364/"
   ]
  }
 ],
 "metadata": {
  "kernelspec": {
   "display_name": "Python 3",
   "language": "python",
   "name": "python3"
  },
  "language_info": {
   "codemirror_mode": {
    "name": "ipython",
    "version": 3
   },
   "file_extension": ".py",
   "mimetype": "text/x-python",
   "name": "python",
   "nbconvert_exporter": "python",
   "pygments_lexer": "ipython3",
   "version": "3.8.3"
  }
 },
 "nbformat": 4,
 "nbformat_minor": 1
}
