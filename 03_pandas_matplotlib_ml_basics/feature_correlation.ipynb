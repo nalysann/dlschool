{
 "cells": [
  {
   "cell_type": "markdown",
   "metadata": {},
   "source": [
    "<p style=\"align: center;\">\n",
    "    <img align=center src=\"../img/dls_logo.jpg\" width=500 height=500>\n",
    "</p>\n",
    "\n",
    "<h1 style=\"text-align: center;\">\n",
    "    Физтех-Школа Прикладной математики и информатики (ФПМИ) МФТИ\n",
    "</h1>\n",
    "\n",
    "---"
   ]
  },
  {
   "cell_type": "code",
   "execution_count": null,
   "metadata": {},
   "outputs": [],
   "source": [
    "import numpy as np\n",
    "import matplotlib.pyplot as plt\n",
    "import pprint\n",
    "\n",
    "%matplotlib inline\n",
    "\n",
    "np.random.seed(42)"
   ]
  },
  {
   "cell_type": "markdown",
   "metadata": {},
   "source": [
    "Представим, что у нас есть датасет с признаками, которые сильно коррелируют, например, вес и рост для детей дошкольного возраста."
   ]
  },
  {
   "cell_type": "code",
   "execution_count": null,
   "metadata": {},
   "outputs": [],
   "source": [
    "N_SAMPLES = 50\n",
    "\n",
    "def noise(delta, n=N_SAMPLES):\n",
    "    return delta * np.random.randn(n)\n",
    "\n",
    "age = np.random.randint(low=3, high=8, size=N_SAMPLES)\n",
    "weight = np.round(3 + age * 3 + noise(2))\n",
    "height = np.round(30 + 4 * weight + noise(6))\n",
    "\n",
    "pprint.pprint(list(zip(age, weight, height)))"
   ]
  },
  {
   "cell_type": "markdown",
   "metadata": {},
   "source": [
    "Таким образом, мы имеем следующую систему уравнений (без учета шума):\n",
    "\n",
    "$$\n",
    "age = \\frac{1}{3} \\cdot weight - 1\n",
    "$$\n",
    "\n",
    "$$\n",
    "height = 4 \\cdot weight + 30\n",
    "$$\n",
    "\n",
    "Откуда получаем:\n",
    "\n",
    "$$\n",
    "age = \\frac{1}{3} \\cdot \\frac{height - 30}{4} - 1 = \\frac{1}{12} \\cdot height - 3.5\n",
    "$$"
   ]
  },
  {
   "cell_type": "code",
   "execution_count": null,
   "metadata": {},
   "outputs": [],
   "source": [
    "plt.scatter(weight, age)\n",
    "plt.title('Зависимость возраста от веса')\n",
    "plt.xlabel('Вес, кг')\n",
    "plt.ylabel('Возраст, лет')\n",
    "plt.show()"
   ]
  },
  {
   "cell_type": "code",
   "execution_count": null,
   "metadata": {},
   "outputs": [],
   "source": [
    "plt.scatter(height, age)\n",
    "plt.title('Зависимость возраста от роста')\n",
    "plt.xlabel('Рост, см')\n",
    "plt.ylabel('Возраст, лет')\n",
    "plt.show()"
   ]
  },
  {
   "cell_type": "code",
   "execution_count": null,
   "metadata": {},
   "outputs": [],
   "source": [
    "# добавим цвета в зависимости от возраста\n",
    "plt.scatter(weight, height, c=age)\n",
    "plt.title('Зависисмость роста от веса')\n",
    "plt.xlabel('Вес, кг')\n",
    "plt.ylabel('Рост, см')\n",
    "plt.colorbar()\n",
    "plt.show()"
   ]
  },
  {
   "cell_type": "code",
   "execution_count": null,
   "metadata": {},
   "outputs": [],
   "source": [
    "from sklearn.linear_model import LinearRegression\n",
    "\n",
    "X = np.stack([weight, height], axis=1)\n",
    "y = age\n",
    "reg = LinearRegression()\n",
    "reg.fit(X, y)\n",
    "\n",
    "reg.coef_, reg.intercept_"
   ]
  },
  {
   "cell_type": "markdown",
   "metadata": {},
   "source": [
    "Таким образом, мы получили уравнение:\n",
    "\n",
    "$$\n",
    "age = 0.31 \\cdot weight - 0.012 \\cdot height + 0.70\n",
    "$$\n",
    "\n",
    "Подставим $height = 4 \\cdot weight + 30$:\n",
    "\n",
    "$$\n",
    "age = 0.26 \\cdot weight + 0.34\n",
    "$$\n",
    "\n",
    "$$\n",
    "age = 0.065 \\cdot height - 1.62\n",
    "$$\n",
    "\n",
    "Как мы видим, тангенсы углов наклона близки к исходно заданным ($0.333$ и $0.083$ соответственно)."
   ]
  },
  {
   "cell_type": "markdown",
   "metadata": {},
   "source": [
    "Добавим к нашему датасету один немного отличающийся образец `(7, 15, 100)` - либо выпускника детсада небольших размеров, либо ребенка с неправильно записанным возрастом:"
   ]
  },
  {
   "cell_type": "code",
   "execution_count": null,
   "metadata": {},
   "outputs": [],
   "source": [
    "X_ = np.append(X, [[15, 100]], axis=0)\n",
    "y_ = np.append(y, [7], axis=0)\n",
    "\n",
    "reg2 = LinearRegression()\n",
    "reg2.fit(X_, y_)\n",
    "\n",
    "reg2.coef_, reg2.intercept_"
   ]
  },
  {
   "cell_type": "markdown",
   "metadata": {},
   "source": [
    "Благодаря наличию скореллированных переменных, модель сильно поменяла коэффициенты, хотя мы добавили к выборке из $50$ образцов всего лишь один дополнительный экземпляр. При этом фактически сама модель осталась практически идентичной предыдущей:\n",
    "\n",
    "$$\n",
    "age = 0.22 \\cdot weight + 0.009 \\cdot height + 0.27\n",
    "$$\n",
    "\n",
    "$$\n",
    "age = 0.26 \\cdot weight + 0.54\n",
    "$$\n",
    "\n",
    "$$\n",
    "age = 0.064 \\cdot height - 1.38\n",
    "$$"
   ]
  },
  {
   "cell_type": "markdown",
   "metadata": {},
   "source": [
    "Посмотрим, что произойдет в аналогичной ситуации для модели с одной переменной:"
   ]
  },
  {
   "cell_type": "code",
   "execution_count": null,
   "metadata": {},
   "outputs": [],
   "source": [
    "reg3 = LinearRegression()\n",
    "reg3.fit(weight.reshape(-1, 1), age)\n",
    "\n",
    "reg3.coef_, reg3.intercept_"
   ]
  },
  {
   "cell_type": "code",
   "execution_count": null,
   "metadata": {},
   "outputs": [],
   "source": [
    "reg4 = LinearRegression()\n",
    "reg4.fit(np.append(weight, [15]).reshape(-1, 1), np.append(age,[7]))\n",
    "\n",
    "reg4.coef_, reg4.intercept_"
   ]
  },
  {
   "cell_type": "markdown",
   "metadata": {},
   "source": [
    "Посчитаем изменение веса для веса (pun not intended) для разных моделей в процентах:"
   ]
  },
  {
   "cell_type": "code",
   "execution_count": null,
   "metadata": {},
   "outputs": [],
   "source": [
    "def bias(x, y):\n",
    "    return abs(x - y) / min(x, y) * 100"
   ]
  },
  {
   "cell_type": "code",
   "execution_count": null,
   "metadata": {},
   "outputs": [],
   "source": [
    "bias(reg.coef_[0], reg2.coef_[0])"
   ]
  },
  {
   "cell_type": "code",
   "execution_count": null,
   "metadata": {},
   "outputs": [],
   "source": [
    "bias(reg3.coef_[0], reg4.coef_[0])"
   ]
  },
  {
   "cell_type": "markdown",
   "metadata": {},
   "source": [
    "Таким образом, мы видим, что веса для моделей, в которых признаки сильно скоррелированы, очень неустойчивы."
   ]
  }
 ],
 "metadata": {
  "kernelspec": {
   "display_name": "Python 3",
   "language": "python",
   "name": "python3"
  },
  "language_info": {
   "codemirror_mode": {
    "name": "ipython",
    "version": 3
   },
   "file_extension": ".py",
   "mimetype": "text/x-python",
   "name": "python",
   "nbconvert_exporter": "python",
   "pygments_lexer": "ipython3",
   "version": "3.8.3"
  }
 },
 "nbformat": 4,
 "nbformat_minor": 4
}
