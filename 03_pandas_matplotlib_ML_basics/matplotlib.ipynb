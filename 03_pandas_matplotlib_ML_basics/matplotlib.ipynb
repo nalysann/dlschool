{
 "cells": [
  {
   "cell_type": "markdown",
   "metadata": {
    "colab_type": "text",
    "id": "sjgl3ysA63FB"
   },
   "source": [
    "<p style=\"align: center;\">\n",
    "    <img align=center src=\"../img/dls_logo.jpg\" width=500 height=500>\n",
    "</p>\n",
    "\n",
    "<h1 style=\"text-align: center;\">\n",
    "    <b>Физтех-Школа Прикладной математики и информатики (ФПМИ) МФТИ</b>\n",
    "</h1>\n",
    "\n",
    "---"
   ]
  },
  {
   "cell_type": "markdown",
   "metadata": {
    "colab_type": "text",
    "id": "wUpaV4-w2fVp"
   },
   "source": [
    "<h1 style=\"text-align: center;\">\n",
    "    Библиотека Matplotlib\n",
    "</h1>"
   ]
  },
  {
   "cell_type": "markdown",
   "metadata": {},
   "source": [
    "[**Matplotlib**](https://matplotlib.org/) - один из наиболее популярных пакетов для построения гарфиков.\n",
    "\n",
    "`%matplotlib inline` - специальная команда `ipython` (**magic**), которая позволяет отображать графики прямо в `jupyter notebook`."
   ]
  },
  {
   "cell_type": "markdown",
   "metadata": {},
   "source": [
    "Некоторые команды для рисования графиков:\n",
    "    \n",
    "* `plt.scatter(x, y, *args)` — нарисовать точки с координатами из `x` по горизонтальной оси и из `y` по вертикальной оси\n",
    "\n",
    "* `plt.plot(x, y, *args)` — нарисовать график по точкам с координатами из `x` по горизонтальной оси и из `y` по вертикальной оси. Точки будут соединятся в том порядке, в котором они указаны в этих массивах\n",
    "\n",
    "* `plt.contour(x1, x2, y, lines)` — нарисовать линии уровня"
   ]
  },
  {
   "cell_type": "markdown",
   "metadata": {},
   "source": [
    "Вспомогательные функции\n",
    "* `plt.figure(figsize=(x, y))` — создать график размера $(x, y)$\n",
    "* `plt.show()` — показать график.\n",
    "* `plt.xlim(x_min, x_max)` — установить пределы графика по горизонтальной оси\n",
    "* `plt.ylim(y_min, y_max)` — установить пределы графика по вертикальной оси\n",
    "* `plt.title(name)` — установить имя графика\n",
    "* `plt.xlabel(name)` — установить название горизонтальной оси\n",
    "* `plt.ylabel(name)` — установить название вертикальной оси\n",
    "* `plt.legend()` — сделать легенду\n",
    "* `plt.grid()` — добавить сетку на график\n",
    "* `plt.savefig(filename)` — сохранить график в файл"
   ]
  },
  {
   "cell_type": "markdown",
   "metadata": {
    "colab_type": "text",
    "id": "ZYrqkk3X2fVq"
   },
   "source": [
    "Для отображения в `jupyter notebook`:"
   ]
  },
  {
   "cell_type": "code",
   "execution_count": null,
   "metadata": {
    "colab": {},
    "colab_type": "code",
    "id": "gcxrWLxr2fVr"
   },
   "outputs": [],
   "source": [
    "%matplotlib inline\n",
    "\n",
    "import numpy as np\n",
    "import matplotlib.pyplot as plt\n",
    "import seaborn as sns\n",
    "\n",
    "sns.set()"
   ]
  },
  {
   "cell_type": "code",
   "execution_count": null,
   "metadata": {},
   "outputs": [],
   "source": [
    "# установим фиксированный размер наших графиков\n",
    "from pylab import rcParams\n",
    "rcParams['figure.figsize'] = 10, 10"
   ]
  },
  {
   "cell_type": "code",
   "execution_count": null,
   "metadata": {},
   "outputs": [],
   "source": [
    "# для того, чтобы не засорять вывод предупреждениями\n",
    "import warnings\n",
    "warnings.filterwarnings('ignore')"
   ]
  },
  {
   "cell_type": "markdown",
   "metadata": {
    "colab_type": "text",
    "id": "jVb1gOmn2fVu"
   },
   "source": [
    "Сейчас пора, когда многие болеют. Построим зависимость числа больных в семье Ивановых и Сидоровых от температуры на улице.\n",
    "\n",
    "Мы имеем дискретное распределение, поэтому самое напрашиваемое представление это обычные точки:"
   ]
  },
  {
   "cell_type": "code",
   "execution_count": null,
   "metadata": {
    "colab": {
     "base_uri": "https://localhost:8080/",
     "height": 294
    },
    "colab_type": "code",
    "executionInfo": {
     "elapsed": 682,
     "status": "ok",
     "timestamp": 1538238945224,
     "user": {
      "displayName": "Заур Датхужев",
      "photoUrl": "",
      "userId": "11697758568139387181"
     },
     "user_tz": -180
    },
    "id": "2sUO-Ea82fVv",
    "outputId": "a93a6cc0-f9da-46f5-8b96-a7a868e87442"
   },
   "outputs": [],
   "source": [
    "np.random.seed(42)\n",
    "family_ivan = np.random.poisson(5, 5)\n",
    "family_sid = np.random.poisson(5, 5)\n",
    "\n",
    "x = np.arange(0, 10, 2)\n",
    "plt.scatter(x, family_ivan, label='Ивановы')\n",
    "plt.scatter(x, family_sid, label='Сидоровы')\n",
    "plt.title('Статистика больных')\n",
    "plt.ylabel('Количество больных')\n",
    "plt.xlabel('Температура')\n",
    "plt.legend()\n",
    "plt.show()"
   ]
  },
  {
   "cell_type": "markdown",
   "metadata": {
    "colab_type": "text",
    "id": "L0TcNegQ2fVz"
   },
   "source": [
    "Чтобы отследить зависмость лучше, воспользуемся непрерывным представлением:"
   ]
  },
  {
   "cell_type": "code",
   "execution_count": null,
   "metadata": {
    "colab": {
     "base_uri": "https://localhost:8080/",
     "height": 294
    },
    "colab_type": "code",
    "executionInfo": {
     "elapsed": 620,
     "status": "ok",
     "timestamp": 1538239037389,
     "user": {
      "displayName": "Заур Датхужев",
      "photoUrl": "",
      "userId": "11697758568139387181"
     },
     "user_tz": -180
    },
    "id": "ZvjToY-P2fV0",
    "outputId": "83ab1d26-03ab-4f20-de9e-4f20b82d5a81"
   },
   "outputs": [],
   "source": [
    "plt.plot(x, family_ivan, '--', label='Ивановы')\n",
    "plt.plot(x, family_sid, '--', label='Сидоровы')\n",
    "plt.title('Статистика больных')\n",
    "plt.ylabel('Кол-во больных')\n",
    "plt.xlabel('Температура')\n",
    "plt.legend()\n",
    "plt.show()"
   ]
  },
  {
   "cell_type": "markdown",
   "metadata": {
    "colab_type": "text",
    "id": "-SRyew4c2fV4"
   },
   "source": [
    "Давайте попробуем другое представление полученных данных с помощью `bar-chart` (**столбчатая диаграмма**):"
   ]
  },
  {
   "cell_type": "code",
   "execution_count": null,
   "metadata": {
    "colab": {
     "base_uri": "https://localhost:8080/",
     "height": 294
    },
    "colab_type": "code",
    "executionInfo": {
     "elapsed": 667,
     "status": "ok",
     "timestamp": 1538239090517,
     "user": {
      "displayName": "Заур Датхужев",
      "photoUrl": "",
      "userId": "11697758568139387181"
     },
     "user_tz": -180
    },
    "id": "uZ2PBJI92fV4",
    "outputId": "0d713f19-e470-40f2-9a42-04536c51cb5f"
   },
   "outputs": [],
   "source": [
    "plt.bar(x, family_ivan, alpha=0.9, label='Ивановы', color='r')\n",
    "plt.bar(x, family_sid, alpha=0.6, label='Сидоровы', color='b')\n",
    "plt.title('Статистика больных')\n",
    "plt.ylabel('Кол-во больных')\n",
    "plt.xlabel('Температура')\n",
    "plt.legend()\n",
    "plt.show()"
   ]
  },
  {
   "cell_type": "markdown",
   "metadata": {},
   "source": [
    "Можно попробовать нарисовать статистику в виде так называемого `pie-chart` (**круговая диаграмма**).\n",
    "\n",
    "Заодно посмотрим, как на одной фигуре отрисовать несколько графиков:"
   ]
  },
  {
   "cell_type": "code",
   "execution_count": null,
   "metadata": {},
   "outputs": [],
   "source": [
    "plt.subplot(1, 2, 1)\n",
    "plt.pie(family_ivan, labels=x, autopct='%1.1f%%')\n",
    "plt.axis('equal')\n",
    "plt.title('Статистика больных в семье Ивановых')\n",
    "plt.legend()\n",
    "\n",
    "plt.subplot(1, 2, 2)\n",
    "plt.pie(family_sid, labels=x, autopct='%1.1f%%')\n",
    "plt.axis('equal')\n",
    "plt.title('Статистика больных в семье Сидоровых')\n",
    "plt.legend()\n",
    "\n",
    "plt.show()"
   ]
  },
  {
   "cell_type": "markdown",
   "metadata": {},
   "source": [
    "Данные графики не получились интуитивно понятными.\n",
    "\n",
    "Визуализация данных - важная часть работы, и всегда надо думать, в каком виде их лучше представить, чтобы графики получались наиболее информативными и понятными."
   ]
  },
  {
   "cell_type": "markdown",
   "metadata": {
    "colab_type": "text",
    "id": "IUB1pfiG2fV7"
   },
   "source": [
    "Давайте функции зависимоcти сделаем более гладкими:"
   ]
  },
  {
   "cell_type": "code",
   "execution_count": null,
   "metadata": {
    "colab": {},
    "colab_type": "code",
    "id": "1P0WQQHp2fV7"
   },
   "outputs": [],
   "source": [
    "from scipy.interpolate import interp1d\n",
    "\n",
    "f_ivan = interp1d(np.arange(0, 10, 2), family_ivan, kind='quadratic', fill_value=\"extrapolate\")\n",
    "f_sid = interp1d(np.arange(0, 10, 2), family_sid, kind='quadratic', fill_value=\"extrapolate\")"
   ]
  },
  {
   "cell_type": "markdown",
   "metadata": {
    "colab_type": "text",
    "id": "E-yPD1yl2fV9"
   },
   "source": [
    "Отобразим получившиеся функции:"
   ]
  },
  {
   "cell_type": "code",
   "execution_count": null,
   "metadata": {
    "colab": {
     "base_uri": "https://localhost:8080/",
     "height": 294
    },
    "colab_type": "code",
    "executionInfo": {
     "elapsed": 700,
     "status": "ok",
     "timestamp": 1538239257524,
     "user": {
      "displayName": "Tanya Klimova",
      "photoUrl": "",
      "userId": "15146434071872851979"
     },
     "user_tz": -180
    },
    "id": "zvD2iQWg2fV-",
    "outputId": "6b7be428-2547-4308-bd6f-260099b89788"
   },
   "outputs": [],
   "source": [
    "xnew = np.arange(0, 8.1, 0.1)\n",
    "ynew_ivan = f_ivan(xnew)\n",
    "ynew_sid = f_sid(xnew)\n",
    "\n",
    "plt.plot(xnew, ynew_ivan, label='Ивановы')\n",
    "plt.plot(xnew, ynew_sid, label='Сидоровы')\n",
    "plt.title('Статистика больных')\n",
    "plt.ylabel('Кол-во больных')\n",
    "plt.xlabel('Температура')\n",
    "plt.legend()\n",
    "plt.show()"
   ]
  },
  {
   "cell_type": "markdown",
   "metadata": {
    "colab_type": "text",
    "id": "-lkYDoy52fWC"
   },
   "source": [
    "Найдем самую оптимальную температуру для каждой семьи:"
   ]
  },
  {
   "cell_type": "code",
   "execution_count": null,
   "metadata": {
    "colab": {
     "base_uri": "https://localhost:8080/",
     "height": 295
    },
    "colab_type": "code",
    "executionInfo": {
     "elapsed": 1003,
     "status": "ok",
     "timestamp": 1538239292622,
     "user": {
      "displayName": "Алексей Йтонет",
      "photoUrl": "",
      "userId": "03037686312349816626"
     },
     "user_tz": -180
    },
    "id": "uiuEFODE2fWC",
    "outputId": "7e42c890-eacf-4afc-cb65-0320efc1ed79"
   },
   "outputs": [],
   "source": [
    "from scipy.optimize import minimize\n",
    "\n",
    "max_ivan = minimize(f_ivan, x0=4)\n",
    "max_sid = minimize(f_sid, x0=4)\n",
    "xnew = np.arange(0, 8.5, 0.1)\n",
    "ynew_ivan = f_ivan(xnew)\n",
    "ynew_sid = f_sid(xnew)\n",
    "\n",
    "plt.plot(xnew, ynew_ivan, label='Ивановы')\n",
    "plt.plot([max_ivan.x[0]] * 14, np.arange(0, 14), label=f'{max_ivan.x[0]:.2f}')\n",
    "plt.plot(xnew, ynew_sid, label='Сидоровы')\n",
    "plt.plot([max_sid.x[0]] * 14, np.arange(0, 14), label=f'{max_sid.x[0]:.2f}')\n",
    "plt.title('Статистика больных')\n",
    "plt.ylabel('Кол-во больных')\n",
    "plt.xlabel('Температура')\n",
    "plt.legend()\n",
    "plt.show()"
   ]
  },
  {
   "cell_type": "markdown",
   "metadata": {},
   "source": [
    "Также можно строить геометрические фигуры или параметрические линии $x=x(t)$, $y=y(t)$:"
   ]
  },
  {
   "cell_type": "code",
   "execution_count": null,
   "metadata": {},
   "outputs": [],
   "source": [
    "plt.plot([0, 0.25, 1, 0], [0, 1, 0.5, 0])\n",
    "plt.show()"
   ]
  },
  {
   "cell_type": "code",
   "execution_count": null,
   "metadata": {},
   "outputs": [],
   "source": [
    "t = np.linspace(0, 2 * np.pi, 100)\n",
    "\n",
    "plt.plot(np.cos(t), np.sin(t))\n",
    "# plt.axes().set_aspect(1)\n",
    "plt.show()"
   ]
  },
  {
   "cell_type": "markdown",
   "metadata": {},
   "source": [
    "Попробуем сгенерировать выборку из нормального распределения и порисовать для нее графики. Если что-то будет не понятно, не страшно, наша цель - попрактиковаться в построении графиков."
   ]
  },
  {
   "cell_type": "code",
   "execution_count": null,
   "metadata": {},
   "outputs": [],
   "source": [
    "# сгенерируем 200 случайных точек\n",
    "import scipy.stats as sps\n",
    "\n",
    "sample = sps.norm.rvs(size=200)"
   ]
  },
  {
   "cell_type": "code",
   "execution_count": null,
   "metadata": {},
   "outputs": [],
   "source": [
    "plt.figure(figsize=(10, 1))\n",
    "plt.scatter(sample, np.zeros(200), alpha=0.2)  # alpha - прозрачность точки\n",
    "plt.show()"
   ]
  },
  {
   "cell_type": "markdown",
   "metadata": {},
   "source": [
    "Добавим график плотности:"
   ]
  },
  {
   "cell_type": "code",
   "execution_count": null,
   "metadata": {},
   "outputs": [],
   "source": [
    "grid = np.linspace(-3, 3, 100)\n",
    "\n",
    "plt.figure(figsize=(10, 4))\n",
    "plt.scatter(sample, np.zeros(200) - 0.02, alpha=0.2, label='sample')\n",
    "plt.plot(grid, sps.norm.pdf(grid), color='red', label='density')\n",
    "plt.legend()\n",
    "plt.show()"
   ]
  },
  {
   "cell_type": "markdown",
   "metadata": {},
   "source": [
    "Нарисуем гистограмму вместо точек, т.к. она более наглядна:"
   ]
  },
  {
   "cell_type": "code",
   "execution_count": null,
   "metadata": {},
   "outputs": [],
   "source": [
    "plt.figure()\n",
    "plt.hist(sample, range=(-3, 3), bins=20, density=True)\n",
    "plt.plot(grid, sps.norm.pdf(grid), color='red', label='density')\n",
    "plt.show()"
   ]
  },
  {
   "cell_type": "markdown",
   "metadata": {},
   "source": [
    "## Линии уровня"
   ]
  },
  {
   "cell_type": "markdown",
   "metadata": {},
   "source": [
    "Предположим, что мы хотим изучить поверхность $z = xy$:"
   ]
  },
  {
   "cell_type": "code",
   "execution_count": null,
   "metadata": {},
   "outputs": [],
   "source": [
    "x = np.linspace(-1, 1, 50)\n",
    "y = x\n",
    "# внешнее произведение, т.е. если размер x и y равен 50\n",
    "# то размер z равен (50, 50), где z[i][j] == x[i] * y[j]\n",
    "z = x.reshape(-1, 1) * y\n",
    "\n",
    "plt.contour(x, y, z)\n",
    "plt.show()"
   ]
  },
  {
   "cell_type": "markdown",
   "metadata": {},
   "source": [
    "Более наглядный график, здесь значение задается цветом:"
   ]
  },
  {
   "cell_type": "code",
   "execution_count": null,
   "metadata": {},
   "outputs": [],
   "source": [
    "plt.contourf(x, y, z, np.linspace(-1, 1, 11))\n",
    "# colorbar показывает соответствие цвета и значения z\n",
    "plt.colorbar()\n",
    "plt.show()"
   ]
  },
  {
   "cell_type": "markdown",
   "metadata": {},
   "source": [
    "## Полярные координаты и анимация"
   ]
  },
  {
   "cell_type": "markdown",
   "metadata": {},
   "source": [
    "А теперь построим график в полярных координатах, потому что это красиво :) Используем синус:"
   ]
  },
  {
   "cell_type": "code",
   "execution_count": null,
   "metadata": {},
   "outputs": [],
   "source": [
    "x = np.linspace(0, 2 * np.pi, 1000)\n",
    "y1 = np.sin(x)\n",
    "y2 = np.sin(2 * x)\n",
    "y4 = np.sin(4 * x)"
   ]
  },
  {
   "cell_type": "code",
   "execution_count": null,
   "metadata": {},
   "outputs": [],
   "source": [
    "# обычный график\n",
    "plt.figure(figsize=(14, 8))\n",
    "plt.plot(x, y1, label='sin(x)')\n",
    "plt.plot(x, y2, label='sin(2x)')\n",
    "plt.plot(x, y4, label='sin(4x)', c='b')\n",
    "plt.title('Скучный график синуса')\n",
    "plt.xlabel('x')\n",
    "plt.ylabel('sin(x)')\n",
    "plt.xticks(np.linspace(0, 2 * np.pi, 5), ['0', 'π/2', 'π', '3π/2', '2π'])\n",
    "plt.legend()\n",
    "plt.show()"
   ]
  },
  {
   "cell_type": "code",
   "execution_count": null,
   "metadata": {},
   "outputs": [],
   "source": [
    "# полярный график\n",
    "plt.polar(x, y1, label='sin(x)')\n",
    "plt.polar(x, y2, label='sin(x)')\n",
    "plt.polar(x, y4, label='sin(x)')\n",
    "plt.title('Крутой график синуса')\n",
    "plt.xticks(np.linspace(0, 2 * np.pi, 5), ['0', 'π/2', 'π', '3π/2', ''])\n",
    "plt.legend()\n",
    "plt.show()"
   ]
  },
  {
   "cell_type": "markdown",
   "metadata": {},
   "source": [
    "В ноутбуках можно делать анимации с помощью `matplotlib` (такое нет смысла запоминать, как и все остальные функции; мой [референс](http://louistiao.me/posts/notebooks/embedding-matplotlib-animations-in-jupyter-notebooks/), откуда я просто скопировал код и отредактировал)."
   ]
  },
  {
   "cell_type": "code",
   "execution_count": null,
   "metadata": {},
   "outputs": [],
   "source": [
    "from IPython.display import HTML\n",
    "from matplotlib import animation, rc"
   ]
  },
  {
   "cell_type": "code",
   "execution_count": null,
   "metadata": {},
   "outputs": [],
   "source": [
    "# кстати, есть вероятность, что анимация не заработает из-за кодеков\n",
    "# у меня не был установлен отдельно ffmpeg и анимация не заработала\n",
    "# если у вас линукс и не работает, то попробуйте раскомментить эту строчку\n",
    "# plt.rcParams['animation.ffmpeg_path'] = '/usr/bin/ffmpeg'"
   ]
  },
  {
   "cell_type": "markdown",
   "metadata": {},
   "source": [
    "В `matplotlib` есть два **API** - первый мы уже использовали выше (т.е. просто писали, что нужно нарисовать и оно рисовалось), но для сложных графиков такого не достаточно. Поэтому в `matplotlib` есть еще один **API** - объектное. В этом случае мы отдельно создаем фигуру, добавляем на нее оси и т.д. Просто взаимодействуем с частями графика как с объектами."
   ]
  },
  {
   "cell_type": "code",
   "execution_count": null,
   "metadata": {},
   "outputs": [],
   "source": [
    "x = np.linspace(0, 2 * np.pi, 1000)"
   ]
  },
  {
   "cell_type": "code",
   "execution_count": null,
   "metadata": {
    "scrolled": false
   },
   "outputs": [],
   "source": [
    "# создадим нужную фигуру\n",
    "fig = plt.figure(figsize=(12, 8))\n",
    "ax = fig.add_subplot(111, projection='polar')\n",
    "\n",
    "ax.set_title('Очень крутой график синуса')\n",
    "ax.set_ylim([-1, 1])\n",
    "ax.set_xlim([0, 2 * np.pi])\n",
    "ax.set_xticks(np.linspace(0, 2 * np.pi, 5), ['0', 'π/2', 'π', '3π/2', ''])\n",
    "\n",
    "# создадим линию, в которую будем класть данные\n",
    "sinus_line = ax.plot([], [])[0]"
   ]
  },
  {
   "cell_type": "code",
   "execution_count": null,
   "metadata": {},
   "outputs": [],
   "source": [
    "# скопируем код по ссылке выше\n",
    "\n",
    "# initialization function: plot the background of each frame\n",
    "def init():\n",
    "    sinus_line.set_data([], [])\n",
    "    return (sinus_line,)\n",
    "\n",
    "# animation function: this is called sequentially\n",
    "def animate(i):\n",
    "    y = np.sin(x * i / 10)\n",
    "    sinus_line.set_data(x, y)\n",
    "    return (sinus_line,)\n",
    "\n",
    "# call the animator, blit=True means only re-draw the parts that have changed.\n",
    "anim = animation.FuncAnimation(fig, animate, init_func=init, frames=100, interval=20, blit=True)"
   ]
  },
  {
   "cell_type": "code",
   "execution_count": null,
   "metadata": {},
   "outputs": [],
   "source": [
    "HTML(anim.to_html5_video())"
   ]
  },
  {
   "cell_type": "markdown",
   "metadata": {},
   "source": [
    "## Заключение"
   ]
  },
  {
   "cell_type": "markdown",
   "metadata": {},
   "source": [
    "Мы посмотрели только на малую часть функциональности `matplotlib` - эта библиотека имеет множество других функций, которые помогут вам построить почти любой график, который вы захотите, и рассмотрение всех этих функций никак не уложится в одно занятие.\n",
    "\n",
    "Стоит посмотреть https://matplotlib.org/gallery.html - здесь собраны сотни примеров, как можно рисовать графики.\n",
    "\n",
    "`matplotlib` - мощный инструмент, однако, чтобы рисовать действительно красивые графики, он требует больших знаний.\n",
    "\n",
    "Стоит обратить внимание на следующие библиотеки:\n",
    "\n",
    "* `seaborn` - это [библиотека](https://seaborn.pydata.org/), которая написана поверх `matplotlib`, она помогает строить более красивые графики, затрачивая меньшее количество усилий\n",
    "\n",
    "    * https://seaborn.pydata.org/tutorial.html - официальные туториалы\n",
    "\n",
    "    * https://habr.com/ru/company/ods/blog/323210/ - замечательная статья на хабре от ods\n",
    "\n",
    "* `plotly` - еще одна [библиотека](https://plot.ly/) для рисования графиков, которая написана поверх `javascript` библиотеки \n",
    "\n",
    "    * https://plot.ly/python/ - официальные туториалы (можете сравнить, насколько получаются более красивые графики)\n",
    "\n",
    "    * https://towardsdatascience.com/the-next-level-of-data-visualization-in-python-dd6e99039d5e - неплохая статья на medium"
   ]
  }
 ],
 "metadata": {
  "colab": {
   "collapsed_sections": [],
   "name": "Matplotlib.ipynb",
   "provenance": [],
   "version": "0.3.2"
  },
  "hide_input": false,
  "kernelspec": {
   "display_name": "Python 3",
   "language": "python",
   "name": "python3"
  },
  "language_info": {
   "codemirror_mode": {
    "name": "ipython",
    "version": 3
   },
   "file_extension": ".py",
   "mimetype": "text/x-python",
   "name": "python",
   "nbconvert_exporter": "python",
   "pygments_lexer": "ipython3",
   "version": "3.8.3"
  },
  "varInspector": {
   "cols": {
    "lenName": 16,
    "lenType": 16,
    "lenVar": 40
   },
   "kernels_config": {
    "python": {
     "delete_cmd_postfix": "",
     "delete_cmd_prefix": "del ",
     "library": "var_list.py",
     "varRefreshCmd": "print(var_dic_list())"
    },
    "r": {
     "delete_cmd_postfix": ") ",
     "delete_cmd_prefix": "rm(",
     "library": "var_list.r",
     "varRefreshCmd": "cat(var_dic_list()) "
    }
   },
   "types_to_exclude": [
    "module",
    "function",
    "builtin_function_or_method",
    "instance",
    "_Feature"
   ],
   "window_display": false
  }
 },
 "nbformat": 4,
 "nbformat_minor": 1
}
