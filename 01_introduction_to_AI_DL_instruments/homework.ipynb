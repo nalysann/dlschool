{
 "cells": [
  {
   "cell_type": "markdown",
   "metadata": {
    "id": "y1GvSl7RYATs"
   },
   "source": [
    "<p style=\"align: center;\">\n",
    "    <img align=center src=\"../img/dls_logo.jpg\" width=500 height=500>\n",
    "</p>\n",
    "\n",
    "<h1 style=\"text-align: center;\">\n",
    "    <b>Физтех-Школа Прикладной математики и информатики (ФПМИ) МФТИ</b>\n",
    "</h1>\n",
    "\n",
    "---"
   ]
  },
  {
   "cell_type": "markdown",
   "metadata": {
    "id": "MDEu6tZQYATy"
   },
   "source": [
    "## Почти двойной факториал\n",
    "Дано натуральное $N < 100$.  Выведите произведение всех нечётных натуральных чисел, не превосходящих $N$."
   ]
  },
  {
   "cell_type": "code",
   "execution_count": null,
   "metadata": {
    "id": "5GgcNVy1YAT0"
   },
   "outputs": [],
   "source": [
    "N = 25\n",
    "\n",
    "N_double_fact = 1\n",
    "\n",
    "for i in range(3, N + 1, 2):\n",
    "    N_double_fact *= i\n",
    "\n",
    "assert N_double_fact == 7905853580625, \"Something is wrong! Please try again\""
   ]
  },
  {
   "cell_type": "markdown",
   "metadata": {},
   "source": [
    "---"
   ]
  },
  {
   "cell_type": "markdown",
   "metadata": {
    "id": "A57_204nYAT3"
   },
   "source": [
    "## Хитрая сортировка\n",
    "\n",
    "Пусть у нас есть следующий список, в котором элементы - tuple из строк:\n",
    "\n",
    "``items = [('one', 'two'), ('three', 'four'), ('five', 'six'), ('string', 'a')]``\n",
    "\n",
    "Мы хотим отсортировать этот список по последней букве второго элемента каждого ``tuple``, т.е. получить такой список:\n",
    "\n",
    "``sorted_items = [('string', 'a'), ('one', 'two'), ('three', 'four'), ('five', 'six')]``.\n",
    "Что нужно вставить вместо \"###\" в следующем выражении, чтобы получить сортировку?\n",
    "\n",
    "``sorted_items = sorted(items, key=lambda x: ###)``"
   ]
  },
  {
   "cell_type": "code",
   "execution_count": null,
   "metadata": {
    "id": "SnIk7m_8YAT4"
   },
   "outputs": [],
   "source": [
    "items = [('one', 'two'), ('three', 'four'), ('five', 'six'), ('string', 'a')]\n",
    "\n",
    "sorted_items = sorted(items, key=lambda x: x[1][-1])\n",
    "                      \n",
    "assert sorted_items == [('string', 'a'), ('one', 'two'), ('three', 'four'), ('five', 'six')], \\\n",
    "\"Something is wrong! Please try again\""
   ]
  },
  {
   "cell_type": "markdown",
   "metadata": {},
   "source": [
    "---"
   ]
  },
  {
   "cell_type": "markdown",
   "metadata": {
    "id": "f_ggknIxYAT7"
   },
   "source": [
    "## Слайсы\n",
    "\n",
    "Дан код:\n",
    "\n",
    "```\n",
    "x = [1, 2, 3, 4, 5]\n",
    "x[###] = [-1, -3, -5]\n",
    "print(x)\n",
    "```\n",
    "\n",
    "Напишите слайс вместо ###, чтобы на экран вывелось:\n",
    "\n",
    "```\n",
    "[-5, 2, -3, 4, -1]\n",
    "```"
   ]
  },
  {
   "cell_type": "code",
   "execution_count": null,
   "metadata": {
    "id": "JcLMmkF6YAT8"
   },
   "outputs": [],
   "source": [
    "x = [1, 2, 3, 4, 5]\n",
    "x[::-2] = [-1, -3, -5]\n",
    "\n",
    "assert x == [-5, 2, -3, 4, -1]"
   ]
  },
  {
   "cell_type": "markdown",
   "metadata": {},
   "source": [
    "---"
   ]
  },
  {
   "cell_type": "markdown",
   "metadata": {
    "id": "3QOrzr1_YAT_"
   },
   "source": [
    "## Создание массивов\n",
    "Дан массив $A[0,\\ldots,N-1]$. Напишите функцию, принимающую один обязательный аргумент A и один опциональный аргумент ``erase``, по умолчанию равный 1. Возвратите массив $B[0,\\ldots, N-1]$, где $B_i = A_0 + \\ldots + A_{i}$ --- массив частичных сумм массива $A$, предварительно удалив из массива $B$ все элементы, равные erase. Постарайтесь сделать это за линейное время без использования Numpy."
   ]
  },
  {
   "cell_type": "code",
   "execution_count": null,
   "metadata": {
    "id": "GSeVXF-xYAUA"
   },
   "outputs": [],
   "source": [
    "from itertools import accumulate\n",
    "\n",
    "def cumsum_and_erase(A, erase=1):\n",
    "    B = [x for x in accumulate(A) if x != erase]\n",
    "    return B\n",
    "\n",
    "A = [5, 1, 4, 5, 14]\n",
    "B = cumsum_and_erase(A, erase=10)\n",
    "\n",
    "assert B == [5, 6, 15, 29], \"Something is wrong! Please try again\""
   ]
  },
  {
   "cell_type": "markdown",
   "metadata": {},
   "source": [
    "---"
   ]
  },
  {
   "cell_type": "markdown",
   "metadata": {
    "id": "xvOBFjavYAUD"
   },
   "source": [
    "## Обработка текста\n",
    "Дан список текстов, слова в которых разделены пробелами (можно считать, что знаков препинания нет). Часть слов является \"мусорными\": в них присутствуют цифры и спецсимволы. Отфильтруйте такие слова из каждого текста. Используйте функции ``str.split``, ``str.isalpha``, ``str.join``, а также [генератор filter](http://pythonicway.com/python-functinal-programming)."
   ]
  },
  {
   "cell_type": "code",
   "execution_count": null,
   "metadata": {
    "id": "GBzS-UHZYAUE"
   },
   "outputs": [],
   "source": [
    "sentences = ['1 thousand devils', 'My name is 9Pasha', 'Room #125 costs $100']\n",
    "\n",
    "def process(sentences):\n",
    "    return [' '.join(filter(str.isalpha, sentence.split())) for sentence in sentences]\n",
    "    \n",
    "assert process(sentences) == ['thousand devils', 'My name is', 'Room costs'], \\\n",
    "\"Something is wrong! Please try again\""
   ]
  },
  {
   "cell_type": "markdown",
   "metadata": {},
   "source": [
    "---"
   ]
  },
  {
   "cell_type": "markdown",
   "metadata": {
    "id": "EK5Llgf7YAUG"
   },
   "source": [
    "## Собственный класс \"Нейрон\"\n",
    "Реализуйте класс \"Нейрон\", у которого будет несколько методов: \n",
    "\n",
    "* ``__init__``. Принимает на вход массив весов нейрона $w = (w_1, \\ldots, w_n)$, а также функцию активации $f$ (по умолчанию $f(x) = x$). Сохраняет веса и функцию внутри класса.\n",
    "\n",
    "* ``forward``. Принимает на вход массив $x = (x_1, \\ldots, x_N)$ - входы нейрона. Возвращает $f(w_1x_1 + \\ldots + w_nx_n)$.\n",
    "\n",
    "* ``backlog``. Возвращает последний массив $x$, который подавался функции ``forward`` на вход. \n",
    "\n",
    "Если у вас появились трудности, информация по созданию своих классов есть [здесь](https://pythonworld.ru/osnovy/obektno-orientirovannoe-programmirovanie-obshhee-predstavlenie.html)."
   ]
  },
  {
   "cell_type": "code",
   "execution_count": null,
   "metadata": {
    "id": "ZmUVu7fNYAUH"
   },
   "outputs": [],
   "source": [
    "from operator import mul\n",
    "\n",
    "class Neuron:\n",
    "\n",
    "    def __init__(self, w, f=lambda x: x):\n",
    "        self.w = w\n",
    "        self.f = f\n",
    "    \n",
    "    def forward(self, x):\n",
    "        self.x = x\n",
    "        return self.f(sum(map(mul, self.w, self.x)))\n",
    "        \n",
    "    def backlog(self):\n",
    "        return self.x"
   ]
  },
  {
   "cell_type": "code",
   "execution_count": null,
   "metadata": {
    "id": "g6OIjuZhYAUK"
   },
   "outputs": [],
   "source": [
    "import math\n",
    "\n",
    "w = [0.5, 1., -1., 2.]\n",
    "\n",
    "neuron = Neuron([0.5, 1., -1., 2.], lambda x: 1. / (1 + math.exp(x)))\n",
    "\n",
    "x = [1, 2, 3, 4]\n",
    "\n",
    "assert abs(neuron.forward(x) - 0.0005527) < 1e-6, \"Something is wrong! Please try again\"\n",
    "\n",
    "assert neuron.backlog() == x, \"Something is wrong! Please try again\"\n",
    "\n",
    "y = [0, 0, 0, 0]\n",
    "\n",
    "assert abs(neuron.forward(y) - 0.5) < 1e-6, \"Something is wrong! Please try again\""
   ]
  }
 ],
 "metadata": {
  "colab": {
   "collapsed_sections": [],
   "name": "[homework]2_python_intro.ipynb",
   "provenance": []
  },
  "kernelspec": {
   "display_name": "Python 3",
   "language": "python",
   "name": "python3"
  },
  "language_info": {
   "codemirror_mode": {
    "name": "ipython",
    "version": 3
   },
   "file_extension": ".py",
   "mimetype": "text/x-python",
   "name": "python",
   "nbconvert_exporter": "python",
   "pygments_lexer": "ipython3",
   "version": "3.8.3"
  }
 },
 "nbformat": 4,
 "nbformat_minor": 1
}
