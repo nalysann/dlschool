{
 "cells": [
  {
   "cell_type": "markdown",
   "metadata": {
    "colab_type": "text",
    "id": "KxIquH6GK7kt"
   },
   "source": [
    "<p style=\"align: center;\">\n",
    "    <img align=center src=\"../img/dls_logo.jpg\" width=500 height=500>\n",
    "</p>\n",
    "\n",
    "<h1 style=\"text-align: center;\">\n",
    "    Физтех-Школа Прикладной математики и информатики (ФПМИ) МФТИ\n",
    "</h1>\n",
    "\n",
    "---"
   ]
  },
  {
   "cell_type": "code",
   "execution_count": null,
   "metadata": {
    "colab": {},
    "colab_type": "code",
    "id": "YEJ8DQ4QK7kx"
   },
   "outputs": [],
   "source": [
    "import numpy as np\n",
    "import scipy.stats as sps"
   ]
  },
  {
   "cell_type": "markdown",
   "metadata": {},
   "source": [
    "---"
   ]
  },
  {
   "cell_type": "markdown",
   "metadata": {
    "colab_type": "text",
    "id": "hYXhVX0eK7k2"
   },
   "source": [
    "## Задание 1\n",
    "\n",
    "Напишите две функции, каждая из которых перемножает две матрицы: одна без использования встроенных функций `NumPy`, а другая - с помощью `NumPy`. На вход первой задаче подаются списки размера `n` по `k` и `k` по `m` элементов в каждом. На вход второй задаче подаются объекты типа `np.ndarray` - матрицы размера $n \\times k$ и $k \\times m$. \n",
    "\n",
    "Первая функция должна возвращать список списков, а вторая - `np.array`.\n",
    "\n",
    "Бонус - написать матричное произведение БЕЗ циклов, БЕЗ символа `@`, БЕЗ `np.dot` и вообще БЕЗ какой-либо вспомогательной функции из `NumPy`, то есть пользуясь только индексированием, взятем суммы по нужным осям и поэлементным произведенем (да, это возможно)."
   ]
  },
  {
   "cell_type": "code",
   "execution_count": null,
   "metadata": {
    "colab": {
     "base_uri": "https://localhost:8080/",
     "height": 255
    },
    "colab_type": "code",
    "id": "zJR8EANzK7k3",
    "outputId": "44277455-5875-4c28-c445-1e5fba38f950"
   },
   "outputs": [],
   "source": [
    "# для генерации матриц используем модуль np.random - он используется для генерации случайных объектов\n",
    "# функция sample создает случайную выборку, в качестве аргумента ей передается кортеж (i, j)\n",
    "# здесь i - число строк, j - число столбцов\n",
    "a = np.random.sample((15**2, 15**2))\n",
    "b = np.random.sample((15**2, 15**2))\n",
    "# выведите размерность (ранг) каждой матрицы с помощью функции ndim\n",
    "# используйте функцию shape, что она вывела?\n",
    "print(a.shape, b.shape, '\\n')\n",
    "print(a, '\\n')\n",
    "print(b)"
   ]
  },
  {
   "cell_type": "code",
   "execution_count": null,
   "metadata": {
    "colab": {},
    "colab_type": "code",
    "id": "bkWCI4TPK7k8"
   },
   "outputs": [],
   "source": [
    "def mult(a, b):               \n",
    "    return [[sum(a[i][k] * b[k][j] for k in range(len(a[0]))) for j in range(len(b[0]))] for i in range(len(a))]"
   ]
  },
  {
   "cell_type": "code",
   "execution_count": null,
   "metadata": {
    "colab": {},
    "colab_type": "code",
    "id": "IIgYD1W5K7lB"
   },
   "outputs": [],
   "source": [
    "def np_mult(a, b):\n",
    "    return a @ b"
   ]
  },
  {
   "cell_type": "code",
   "execution_count": null,
   "metadata": {},
   "outputs": [],
   "source": [
    "def cool_mult(a, b):\n",
    "    return (a[:, :, np.newaxis] * b[np.newaxis, :, :]).sum(axis=1)"
   ]
  },
  {
   "cell_type": "code",
   "execution_count": null,
   "metadata": {
    "colab": {
     "base_uri": "https://localhost:8080/",
     "height": 51
    },
    "colab_type": "code",
    "id": "tktkYzUHK7lE",
    "outputId": "9e9c5db8-cd49-4c0f-cb11-97825805163b"
   },
   "outputs": [],
   "source": [
    "# засечем время работы функции без NumPy\n",
    "%time M1 = mult(a, b)\n",
    "# засечем время работы функции с NumPy\n",
    "%time M2 = np_mult(a, b)\n",
    "# засечем время работы бонусной функции\n",
    "%time M3 = cool_mult(a, b)\n",
    "# проверим корректность\n",
    "np.abs(np.array(M1) - M2).sum(), np.abs(np.array(M1) - M3).sum(), np.abs(M2 - M2).sum()"
   ]
  },
  {
   "cell_type": "markdown",
   "metadata": {},
   "source": [
    "---"
   ]
  },
  {
   "cell_type": "markdown",
   "metadata": {
    "colab_type": "text",
    "id": "2itTyTlcaHAu"
   },
   "source": [
    "## Задание 2\n",
    "\n",
    "Вам подаются на вход два вектора `a` и `b`. Реализуйте их скалярное произведение с помощью `NumPy` и без. Засеките время работы, как это показано в задании выше."
   ]
  },
  {
   "cell_type": "code",
   "execution_count": null,
   "metadata": {
    "colab": {
     "base_uri": "https://localhost:8080/",
     "height": 34
    },
    "colab_type": "code",
    "id": "lWhr_gPSZ9o_",
    "outputId": "734d9bf4-8c98-46a1-ffcc-934d0805024d"
   },
   "outputs": [],
   "source": [
    "a = np.random.sample(10**6)\n",
    "b = np.random.sample(10**6)\n",
    "print(a, b, sep='\\n')"
   ]
  },
  {
   "cell_type": "code",
   "execution_count": null,
   "metadata": {
    "colab": {},
    "colab_type": "code",
    "id": "GjlkcHIWZ_ae"
   },
   "outputs": [],
   "source": [
    "def scalar_product(a, b):\n",
    "    return sum(i * j for i, j in zip(a, b))"
   ]
  },
  {
   "cell_type": "code",
   "execution_count": null,
   "metadata": {
    "colab": {},
    "colab_type": "code",
    "id": "C2M-OAp5Z_6a"
   },
   "outputs": [],
   "source": [
    "def np_scalar_product(a, b):\n",
    "    return np.dot(a, b)"
   ]
  },
  {
   "cell_type": "code",
   "execution_count": null,
   "metadata": {
    "colab": {
     "base_uri": "https://localhost:8080/",
     "height": 102
    },
    "colab_type": "code",
    "id": "BOQfYf-2aCQJ",
    "outputId": "6a85f59a-2073-4824-e1bf-acf96ed274a0",
    "scrolled": true
   },
   "outputs": [],
   "source": [
    "# засечем время работы функции без NumPy\n",
    "%time product_1 = scalar_product(a, b)\n",
    "# засечем время работы функции с NumPy\n",
    "%time product_2 = np_scalar_product(a, b)\n",
    "# проверим корректность\n",
    "np.abs(product_1 - product_2).sum()"
   ]
  },
  {
   "cell_type": "markdown",
   "metadata": {
    "colab_type": "text",
    "id": "NHaHu6q1K7mH"
   },
   "source": [
    "Почему методы `NumPy` оказываются эффективнее? Что вы можете сказать о скорости вычислений в `NumPy`?"
   ]
  },
  {
   "cell_type": "markdown",
   "metadata": {
    "colab_type": "text",
    "id": "_A3p2s4eK7mI"
   },
   "source": [
    "**Ответ:** cкорость вычислений векторных и матричных операций в `NumPy` сильно превосходит скорость вычислений без него, по большей части потому, что функции `NumPy` работают с массивами данных одного типа (числовыми), это позволяет реализовать встроенные функции numpy на `C/C++`, что, конечно, делает `NumPy` быстрее (функции, которые вызывает `NumPy` для работы с числовыми данными, сильно оптимизированы именно под эти задачи, а сам `Python` просто гоняет интерпретатор по циклу в таких операциях, что является чуть ли не самым большим замедлением в работе интерпретатора)."
   ]
  },
  {
   "cell_type": "markdown",
   "metadata": {},
   "source": [
    "---"
   ]
  },
  {
   "cell_type": "markdown",
   "metadata": {
    "colab_type": "text",
    "id": "mJXeUuznK7lm"
   },
   "source": [
    "## Задание 3\n",
    "\n",
    "Напишите функцию, которая находит сумму чётных элементов на главной диагонали квадратной матрицы. Если чётных элементов нет, то вывести `0`. Используйте библиотеку `NumPy`."
   ]
  },
  {
   "cell_type": "code",
   "execution_count": null,
   "metadata": {
    "colab": {},
    "colab_type": "code",
    "id": "qYNiKbK47TTS"
   },
   "outputs": [],
   "source": [
    "# функция, решающая задачу с помощью NumPy\n",
    "def np_diag_2k(a):\n",
    "    d = a.diagonal()\n",
    "    return d[d % 2 == 0].sum()"
   ]
  },
  {
   "cell_type": "code",
   "execution_count": null,
   "metadata": {
    "colab": {},
    "colab_type": "code",
    "id": "BdInn8_j7TTU",
    "outputId": "854af7cf-b713-40b1-8984-8868a42b4b5e"
   },
   "outputs": [],
   "source": [
    "# зададим некоторую квадратную матрицу\n",
    "a = np.random.randint(1, 10, size=(10**4, 10**4))\n",
    "a"
   ]
  },
  {
   "cell_type": "code",
   "execution_count": null,
   "metadata": {
    "colab": {},
    "colab_type": "code",
    "id": "ZR97Nt9N7TTW",
    "outputId": "56679264-0a18-41ab-89d5-4dc758946885"
   },
   "outputs": [],
   "source": [
    "# засечем время работы функции с NumPy\n",
    "%time np_diag_2k(a)"
   ]
  },
  {
   "cell_type": "markdown",
   "metadata": {},
   "source": [
    "---"
   ]
  },
  {
   "cell_type": "markdown",
   "metadata": {},
   "source": [
    "## Задание 4\n",
    "\n",
    "На вход дан двумерный массив $X$. Напишите функцию, которая для каждой строчки $x = (x_1, x_2, \\ldots, x_n)$ массива $X$ строит строчку $s = (s_1, s_2, \\ldots, s_n)$, где $s_k=x_1+...+x_k$, а затем выдаёт массив из построенных строчек. Используйте библиотеку `NumPy` (вам поможет функция `cumsum`). Выходом функции должен быть двумерный массив той же формы, что и $X$."
   ]
  },
  {
   "cell_type": "code",
   "execution_count": null,
   "metadata": {},
   "outputs": [],
   "source": [
    "def cumsum(X):\n",
    "    \"\"\"\n",
    "    param X: np.array[m, n]\n",
    "    \"\"\"\n",
    "\n",
    "    return np.cumsum(X, axis=1)"
   ]
  },
  {
   "cell_type": "code",
   "execution_count": null,
   "metadata": {},
   "outputs": [],
   "source": [
    "X = np.random.sample((100, 100))\n",
    "X"
   ]
  },
  {
   "cell_type": "code",
   "execution_count": null,
   "metadata": {},
   "outputs": [],
   "source": [
    "cumsum(X)"
   ]
  },
  {
   "cell_type": "markdown",
   "metadata": {},
   "source": [
    "---"
   ]
  },
  {
   "cell_type": "markdown",
   "metadata": {
    "colab_type": "text",
    "id": "teVCPWZmK7l5"
   },
   "source": [
    "## Задание 5\n",
    "\n",
    "Задан двумерный массив $X$. Для каждой строчки массива $X$ необходимо сделать следующее преобразование.\n",
    "\n",
    "Пусть дана строчка $x$. Необходимо построить новый массив, где все элементы с нечётными индексами требуется заменить на число $a$ (значение по умолчанию $a=1$). Все элементы с чётными индексами нужно возвести в куб. Затем записать элементы в обратном порядке относительно их позиций. В конце требуется слить массив $x$ с преобразованным $x$ и вывести.\n",
    "\n",
    "Напишите функцию, которая выполняет данное преобразование для каждой строчки двумерного массива $X$. Массив $X$ при этом должен остаться без изменений.\n",
    "\n",
    "Используйте библиотеку `NumPy`.\n",
    "\n",
    "Пример:\n",
    "\n",
    "```\n",
    "X = [100, 200, 300, 400, 500] -> [100, a, 300, a, 500] -> [500**3, a, 300**3, a, 100**3]\n",
    "```\n",
    "\n",
    "Склеиваем:\n",
    "\n",
    "```\n",
    "[100, 200, 300, 400, 500, 500**3, a, 300**3, a, 100**3]\n",
    "```"
   ]
  },
  {
   "cell_type": "code",
   "execution_count": null,
   "metadata": {
    "colab": {},
    "colab_type": "code",
    "id": "0hmcvfDVK7l-"
   },
   "outputs": [],
   "source": [
    "# функция, решающая задачу с помощью NumPy\n",
    "def np_transform(X, a=1):\n",
    "    Y = X.copy()\n",
    "    Y[:, 1::2] = a\n",
    "    Y[:, ::2] = (Y[:, ::2] ** 3)[:, ::-1]\n",
    "    return np.concatenate((X, Y), axis=1)"
   ]
  },
  {
   "cell_type": "code",
   "execution_count": null,
   "metadata": {
    "colab": {
     "base_uri": "https://localhost:8080/",
     "height": 102
    },
    "colab_type": "code",
    "id": "r2-JLMhxK7mE",
    "outputId": "13559189-f157-4649-dc9d-f12af1366519",
    "scrolled": true
   },
   "outputs": [],
   "source": [
    "X = np.array([[100, 200, 300, 400, 500]])\n",
    "\n",
    "np_transform(X, 5)"
   ]
  },
  {
   "cell_type": "markdown",
   "metadata": {},
   "source": [
    "---"
   ]
  },
  {
   "cell_type": "markdown",
   "metadata": {
    "colab_type": "text",
    "id": "qa521fce7TTk"
   },
   "source": [
    "## Задание 6\n",
    "\n",
    "Написать функцию для кодирования массива (**run-length encoding**) Все подряд повторения элементов функция сжимает в один элемент и считает количество повторений. Функция возвращает кортеж из двух векторов одинаковой длины. Первый содержит элементы, а второй — сколько раз их нужно повторить. \n",
    "\n",
    "Пример:\n",
    "\n",
    "```python\n",
    "encode(np.array([1, 2, 2, 3, 3, 1, 1, 5, 5, 2, 3, 3])) ==\n",
    "(np.array([1, 2, 3, 1, 5, 2, 3]), np.array([1, 2, 2, 2, 2, 1, 2]))\n",
    "```"
   ]
  },
  {
   "cell_type": "code",
   "execution_count": null,
   "metadata": {
    "colab": {},
    "colab_type": "code",
    "id": "4wD7OSVv7TTl"
   },
   "outputs": [],
   "source": [
    "# функция, решающая задачу с помощью NumPy\n",
    "def encode(a):\n",
    "    idx_begin = np.hstack((0, 1 + np.nonzero(a[:-1] != a[1:])[0], len(a)))\n",
    "    reps = (idx_begin[1:] - idx_begin[:-1])\n",
    "    \n",
    "    return (a[idx_begin[:-1]], reps)"
   ]
  },
  {
   "cell_type": "code",
   "execution_count": null,
   "metadata": {
    "colab": {},
    "colab_type": "code",
    "id": "P7YxojET7TTn",
    "outputId": "4a5fdafe-55a1-4c10-857e-305ce1ee68e0"
   },
   "outputs": [],
   "source": [
    "X = np.array([1, 2, 2, 3, 3, 1, 1, 5, 5, 2, 3, 3])\n",
    "\n",
    "%time x, num = encode(X)\n",
    "x, num"
   ]
  },
  {
   "cell_type": "markdown",
   "metadata": {},
   "source": [
    "---"
   ]
  },
  {
   "cell_type": "markdown",
   "metadata": {
    "colab_type": "text",
    "id": "cdcRkFzQ7TTY"
   },
   "source": [
    "## Задание 7\n",
    "Дана функция, которая по данной последовательности $\\{A_i\\}_{i=1}^n$ строит последовательность $S_n$, где $S_k = \\frac{A_1 + ... + A_k}{k}$. Реализуйте эту функцию с помощью библиотеки `NumPy` и без нее, сравните скорость."
   ]
  },
  {
   "cell_type": "code",
   "execution_count": null,
   "metadata": {},
   "outputs": [],
   "source": [
    "# функция без NumPy\n",
    "def sec_avg(A):\n",
    "    S = [0 for i in range(len(A))]\n",
    "    for i in range(len(A)):\n",
    "        S[i] = (S[i - 1] if i > 0 else 0) + A[i]\n",
    "    for i in range(len(A)):\n",
    "        S[i] /= (i + 1)\n",
    "    return S"
   ]
  },
  {
   "cell_type": "code",
   "execution_count": null,
   "metadata": {
    "colab": {},
    "colab_type": "code",
    "id": "REgL39ksK7lr"
   },
   "outputs": [],
   "source": [
    "# функция, решающая задачу с помощью NumPy\n",
    "def np_sec_avg(A):\n",
    "    return  np.cumsum(A) / np.arange(1, len(A) + 1)"
   ]
  },
  {
   "cell_type": "code",
   "execution_count": null,
   "metadata": {
    "colab": {
     "base_uri": "https://localhost:8080/",
     "height": 102
    },
    "colab_type": "code",
    "id": "HcVN8MagK7lw",
    "outputId": "a4cc2ffd-84f2-46b5-9789-aa728d8899f9"
   },
   "outputs": [],
   "source": [
    "# зададим некоторую последовательность и проверим ее на ваших функциях\n",
    "# вторая функция должна работать ~ в 50 раз быстрее\n",
    "A = sps.uniform.rvs(size=10**6)\n",
    "\n",
    "%time S1 = sec_avg(A)\n",
    "%time S2 = np_sec_avg(A)\n",
    "# проверим корректность\n",
    "np.abs(S1 - S2).sum()"
   ]
  },
  {
   "cell_type": "markdown",
   "metadata": {},
   "source": [
    "---"
   ]
  },
  {
   "cell_type": "markdown",
   "metadata": {},
   "source": [
    "## Задание 8\n",
    "\n",
    "Пусть задан некоторый массив $X$. Надо построить новый массив, где все элементы с нечётными индексами требуется заменить на число $a$ (если оно не указано, то на 1). Все чётные элементы исходного массива нужно возвести в куб и записать в обратном порядке относительно позиций этих элементов. Массив $X$ при этом должен остаться без изменений. В конце требуется слить массив $X$ с преобразованным $X$ и вывести в обратном порядке."
   ]
  },
  {
   "cell_type": "code",
   "execution_count": null,
   "metadata": {},
   "outputs": [],
   "source": [
    "# функция, решающая задачу без NumPy\n",
    "def transform(X, a=1):\n",
    "    Y = [X[i] if i < len(X) else 0 for i in range(2 * len(X))]\n",
    "    for i, x in enumerate(X):\n",
    "        if i % 2 == 0:\n",
    "            Y[len(X) + i] = (X[-(i + 1) if len(X) % 2 == 1 else -(i + 2)]) ** 3\n",
    "        else:\n",
    "            Y[len(X) + i] = a\n",
    "    return Y[::-1]"
   ]
  },
  {
   "cell_type": "code",
   "execution_count": null,
   "metadata": {},
   "outputs": [],
   "source": [
    "# функция, решающая задачу с помощью NumPy\n",
    "def np_transform(X, a=1):\n",
    "    Y = X.copy()\n",
    "    Y[1::2] = a\n",
    "    Y[::2] = (Y[::2] ** 3)[::-1]\n",
    "    return np.append(X, Y)[::-1]"
   ]
  },
  {
   "cell_type": "code",
   "execution_count": null,
   "metadata": {},
   "outputs": [],
   "source": [
    "X = sps.uniform.rvs(size=10**6)\n",
    "\n",
    "# здесь код эффективнее примерно в 20 раз\n",
    "# если вы вдруг соберетесь печатать массив без np - лучше сначала посмотрите на его размер\n",
    "%time S1 = transform(X)\n",
    "%time S2 = np_transform(X)\n",
    "# проверим корректность\n",
    "np.abs(S1 - S2).sum()"
   ]
  },
  {
   "cell_type": "markdown",
   "metadata": {},
   "source": [
    "---"
   ]
  },
  {
   "cell_type": "code",
   "execution_count": null,
   "metadata": {},
   "outputs": [],
   "source": [
    "import pandas as pd\n",
    "import matplotlib.pyplot as plt\n",
    "\n",
    "from scipy import ndimage\n",
    "from scipy import misc\n",
    "\n",
    "from PIL import Image\n",
    "\n",
    "%matplotlib inline"
   ]
  },
  {
   "cell_type": "markdown",
   "metadata": {},
   "source": [
    "---"
   ]
  },
  {
   "cell_type": "markdown",
   "metadata": {},
   "source": [
    "## Задание 9"
   ]
  },
  {
   "cell_type": "markdown",
   "metadata": {},
   "source": [
    "`image` - это **2-D** численный массив (или **3-D**: CT, MRI, **2-D** + time, **4-D**, ...). В текущем задании `image` представляет собой `np.array`."
   ]
  },
  {
   "cell_type": "code",
   "execution_count": null,
   "metadata": {},
   "outputs": [],
   "source": [
    "# встроенная в библиотеку функция, которая загружает картинку с енотом\n",
    "pic = misc.face()"
   ]
  },
  {
   "cell_type": "markdown",
   "metadata": {},
   "source": [
    "Выведите тип и размеры для переменной `pic`. Что лежит внутри?"
   ]
  },
  {
   "cell_type": "code",
   "execution_count": null,
   "metadata": {},
   "outputs": [],
   "source": [
    "print(type(pic), '|', pic.shape)"
   ]
  },
  {
   "cell_type": "markdown",
   "metadata": {},
   "source": [
    "Если вы все сделали правильно, то для формы у вас выведется кортеж из трех чисел: `(X, Y, 3)`. Предположите, откуда там 3?\n",
    "\n",
    "**Ответ:** картинка цветная, цвет представляет собой три канала - **RGB**."
   ]
  },
  {
   "cell_type": "markdown",
   "metadata": {},
   "source": [
    "С помощью функции ниже можно вывести изображение и посмотреть, что находится внутри:"
   ]
  },
  {
   "cell_type": "code",
   "execution_count": null,
   "metadata": {},
   "outputs": [],
   "source": [
    "plt.imshow(pic)\n",
    "plt.show()"
   ]
  },
  {
   "cell_type": "markdown",
   "metadata": {},
   "source": [
    "Убедитесь, что внутри массива `pic` действительно лежат числа. Выведите первые 10 записей.\n",
    "Массив состоит из троек чисел, которые характеризуют глубину цвета для каждого пикселя. Из пикселей складывается картинка."
   ]
  },
  {
   "cell_type": "code",
   "execution_count": null,
   "metadata": {},
   "outputs": [],
   "source": [
    "print(pic[0, :10])"
   ]
  },
  {
   "cell_type": "markdown",
   "metadata": {},
   "source": [
    "Выведите значение максимального элемента в матрице. Выведите значение минимального. Выведите среднее по всем элементам матрице. В каких пределах лежат значения глубины цветов?"
   ]
  },
  {
   "cell_type": "code",
   "execution_count": null,
   "metadata": {},
   "outputs": [],
   "source": [
    "print(pic.max(), pic.min(), pic.mean())"
   ]
  },
  {
   "cell_type": "markdown",
   "metadata": {},
   "source": [
    "---"
   ]
  },
  {
   "cell_type": "markdown",
   "metadata": {},
   "source": [
    "## Задание 10"
   ]
  },
  {
   "cell_type": "markdown",
   "metadata": {},
   "source": [
    "Теперь загрузим черно-белое изображение енота, чтобы наш массив был не трёхмерным тензором, а двумерным массивом. Тензоры обрабатываются точно также, но для простоты пока что давайте работать с двумерными массивами, т.е. матрицами."
   ]
  },
  {
   "cell_type": "code",
   "execution_count": null,
   "metadata": {},
   "outputs": [],
   "source": [
    "pic = misc.face(gray=True)\n",
    "\n",
    "plt.imshow(pic, cmap=plt.cm.gray)\n",
    "plt.show()"
   ]
  },
  {
   "cell_type": "markdown",
   "metadata": {},
   "source": [
    "Выведите `shape` полученной картинки `pic`. Какие выводы можно сделать? Положите в `h` и `w` высоту и ширину картинки соответственно."
   ]
  },
  {
   "cell_type": "code",
   "execution_count": null,
   "metadata": {},
   "outputs": [],
   "source": [
    "print(pic.shape)\n",
    "h, w = pic.shape"
   ]
  },
  {
   "cell_type": "markdown",
   "metadata": {},
   "source": [
    "Используя библиотеку `NumPy`, отразите изображение по горизонтали. Выведите картинку.\n",
    "\n",
    "Подсказка: не забывайте, что изображения - это просто двумерные массивы!"
   ]
  },
  {
   "cell_type": "code",
   "execution_count": null,
   "metadata": {},
   "outputs": [],
   "source": [
    "pic = pic[::-1]\n",
    "\n",
    "plt.imshow(pic, cmap=plt.cm.gray)\n",
    "plt.show()"
   ]
  },
  {
   "cell_type": "markdown",
   "metadata": {},
   "source": [
    "Теперь давайте повысим контрастность - для этого к каждому пикселю прибавим 50 единиц."
   ]
  },
  {
   "cell_type": "code",
   "execution_count": null,
   "metadata": {},
   "outputs": [],
   "source": [
    "pic += 50\n",
    "\n",
    "plt.imshow(pic, cmap=plt.cm.gray)\n",
    "plt.show()"
   ]
  },
  {
   "cell_type": "markdown",
   "metadata": {},
   "source": [
    "Теперь давайте попробуем превратить наше одноканальное изображение в трехканальный (**RGB**) тензор. Для этого вместо каждого пикселя в одноканальном изображении (в двумерном массиве) поставим кортеж из трех элементов - глубины красного, зеленого и синего цветов соотвественно. Восстановить по чёрно-белой картинке цветную мы не сможем, так как нам не откуда взять утерянную информацию, но можем усилить черные и белые участки. Для этого давайте заполним все три канала одинаковыми значениями, делёнными на что-то очень большое, например, на `200`. Таким образом, если в пикселе `pic[i][j]` лежало значение `200`, то для нового изображения `new_pic` мы заполняем `new_pic[i][j]` кортежем из трех чисел `int(pic[i][j] / 3)`. Функция `int` - округление до целой части."
   ]
  },
  {
   "cell_type": "code",
   "execution_count": null,
   "metadata": {},
   "outputs": [],
   "source": [
    "#создадим пустую матрицу, куда будем записывать значения\n",
    "new_pic = np.zeros((h, w, 3), dtype=int)\n",
    "\n",
    "for i in range(h):\n",
    "    for j in range(w):\n",
    "        new_pic[i][j] = int(pic[i][j] / 3), int(pic[i][j] / 3), int(pic[i][j] / 3)\n",
    "    \n",
    "plt.imshow(new_pic)\n",
    "plt.show()"
   ]
  },
  {
   "cell_type": "markdown",
   "metadata": {},
   "source": [
    "---"
   ]
  },
  {
   "cell_type": "markdown",
   "metadata": {},
   "source": [
    "## Задание 11"
   ]
  },
  {
   "cell_type": "markdown",
   "metadata": {},
   "source": [
    "Теперь давайте уменьшим качество картинки в 16 раз, путем уменьшения качества изображения, т.е. теперь 16 пикселей поблизости надо заполнить одним значением."
   ]
  },
  {
   "cell_type": "code",
   "execution_count": null,
   "metadata": {},
   "outputs": [],
   "source": [
    "# импорт загрузчика изображения\n",
    "from sklearn.datasets import load_sample_image"
   ]
  },
  {
   "cell_type": "code",
   "execution_count": null,
   "metadata": {},
   "outputs": [],
   "source": [
    "china = load_sample_image('china.jpg')\n",
    "\n",
    "plt.imshow(china)\n",
    "plt.show()"
   ]
  },
  {
   "cell_type": "markdown",
   "metadata": {},
   "source": [
    "Запишите в переменные `h`, `w`, `c` высоту, ширину, количество каналов для картинки `china`."
   ]
  },
  {
   "cell_type": "code",
   "execution_count": null,
   "metadata": {},
   "outputs": [],
   "source": [
    "h, w, c = china.shape"
   ]
  },
  {
   "cell_type": "markdown",
   "metadata": {},
   "source": [
    "Теперь давайте непосредственно перейдем к изменению картинки - мы предлагаем разбивать картинки на квадраты 4 на 4 и заполнять все 16 значений внутри квадрата левым верхним значением. Вы можете сделать иначе."
   ]
  },
  {
   "cell_type": "code",
   "execution_count": null,
   "metadata": {},
   "outputs": [],
   "source": [
    "compressed_pic = china.copy()\n",
    "\n",
    "for i in range(0, h, 4):\n",
    "    for j in range(0, w, 4):\n",
    "        compressed_pic[i:i+4, j:j+4] = compressed_pic[i, j]\n",
    "        \n",
    "plt.imshow(compressed_pic)\n",
    "plt.show()"
   ]
  },
  {
   "cell_type": "markdown",
   "metadata": {},
   "source": [
    "Напишите функцию, которая считает несоотвествие между исходной и сжатой картинкой. Запустите ваш код для `compressed_pic` и `china`."
   ]
  },
  {
   "cell_type": "code",
   "execution_count": null,
   "metadata": {},
   "outputs": [],
   "source": [
    "def calculate_mismatch(a, b):\n",
    "    return np.abs(a == b).sum()"
   ]
  },
  {
   "cell_type": "code",
   "execution_count": null,
   "metadata": {},
   "outputs": [],
   "source": [
    "calculate_mismatch(compressed_pic, china)"
   ]
  },
  {
   "cell_type": "markdown",
   "metadata": {},
   "source": [
    "Посчитайте синус от каждого значения пикселей изображения `china` по всем каналам. Выведите картинку. Используйте функцию `np.sin`."
   ]
  },
  {
   "cell_type": "code",
   "execution_count": null,
   "metadata": {},
   "outputs": [],
   "source": [
    "china_sin = np.sin(china / 255)\n",
    "\n",
    "plt.imshow(china_sin)\n",
    "plt.show()"
   ]
  },
  {
   "cell_type": "markdown",
   "metadata": {},
   "source": [
    "Посмотрите на полученный результат. Как вы думаете, что можно делать с помощью такого преобразования? Какого рода объекты можно распознать?"
   ]
  },
  {
   "cell_type": "markdown",
   "metadata": {},
   "source": [
    "---"
   ]
  },
  {
   "cell_type": "markdown",
   "metadata": {},
   "source": [
    "## Задание 12"
   ]
  },
  {
   "cell_type": "markdown",
   "metadata": {},
   "source": [
    "Теперь давайте поработаем с аудиофайлами. Стандартный аудиофайл представляет собой обычный набор чисел, в котором хранятся значения частот, снятых с определенной периодичностью. Итак, самая простая аудиодорожка - это одномерный массив.\n",
    "\n",
    "Первое, что нужно сделать - установить библиотеку для работы с аудио. Она называется [**librosa**](https://librosa.org/doc/latest/install.html). Если не работает (под Windows), попробуйте [этот фикс](https://stackoverflow.com/questions/59915598/attributeerror-cffi-library-pymodulespath-soundfile-data-libsndfile64bit-dl)."
   ]
  },
  {
   "cell_type": "code",
   "execution_count": null,
   "metadata": {},
   "outputs": [],
   "source": [
    "# импортируем библиотеку\n",
    "import librosa\n",
    "import IPython.display"
   ]
  },
  {
   "cell_type": "code",
   "execution_count": null,
   "metadata": {},
   "outputs": [],
   "source": [
    "# записываем наш массив звуковых частот в файл аудио\n",
    "# sr - число точек, записываемых в секунду\n",
    "%pwd\n",
    "audio, sr = librosa.load('audio/test.wav')"
   ]
  },
  {
   "cell_type": "markdown",
   "metadata": {},
   "source": [
    "Нашу дорожку можно воспроизвести прямо в ноутбуке:"
   ]
  },
  {
   "cell_type": "code",
   "execution_count": null,
   "metadata": {},
   "outputs": [],
   "source": [
    "IPython.display.Audio(audio, rate=sr)"
   ]
  },
  {
   "cell_type": "markdown",
   "metadata": {},
   "source": [
    "Выведите тип данных переменной `audio`, найдите ее длительность и среднее."
   ]
  },
  {
   "cell_type": "code",
   "execution_count": null,
   "metadata": {},
   "outputs": [],
   "source": [
    "print(type(audio), '|', len(audio), '|', audio.mean())"
   ]
  },
  {
   "cell_type": "markdown",
   "metadata": {},
   "source": [
    "Давайте посмотрим, как выглядит наша дорожка. Для этого используем `matplotlib.pyplot`."
   ]
  },
  {
   "cell_type": "code",
   "execution_count": null,
   "metadata": {},
   "outputs": [],
   "source": [
    "plt.figure(figsize=(25, 5))\n",
    "plt.title('audio/test.wav')\n",
    "plt.plot(audio)\n",
    "plt.show()"
   ]
  },
  {
   "cell_type": "markdown",
   "metadata": {},
   "source": [
    "Обрежьте последние 4 секунды файла."
   ]
  },
  {
   "cell_type": "code",
   "execution_count": null,
   "metadata": {},
   "outputs": [],
   "source": [
    "# файл же всего 1 секунду со стандартным sr, monkaHmm\n",
    "audio = ???"
   ]
  },
  {
   "cell_type": "markdown",
   "metadata": {},
   "source": [
    "Давайте уменьшим амплитуду на 25%. Что при этом изменится? Напоминаю, что вы всегда можете послушать изменения при помощи `IPython.display.Audio`"
   ]
  },
  {
   "cell_type": "code",
   "execution_count": null,
   "metadata": {},
   "outputs": [],
   "source": [
    "# ???\n",
    "audio *= 0.75"
   ]
  },
  {
   "cell_type": "markdown",
   "metadata": {},
   "source": [
    "А еще аудиодорожку можно ускорить. Для этого попробуйте потюнить параметр `rate`."
   ]
  },
  {
   "cell_type": "code",
   "execution_count": null,
   "metadata": {},
   "outputs": [],
   "source": [
    "# monkaS\n",
    "IPython.display.Audio(audio, rate=6666)"
   ]
  }
 ],
 "metadata": {
  "colab": {
   "collapsed_sections": [],
   "name": "[homework,basic]numpy.ipynb",
   "provenance": []
  },
  "kernelspec": {
   "display_name": "Python 3",
   "language": "python",
   "name": "python3"
  },
  "language_info": {
   "codemirror_mode": {
    "name": "ipython",
    "version": 3
   },
   "file_extension": ".py",
   "mimetype": "text/x-python",
   "name": "python",
   "nbconvert_exporter": "python",
   "pygments_lexer": "ipython3",
   "version": "3.8.3"
  }
 },
 "nbformat": 4,
 "nbformat_minor": 1
}
