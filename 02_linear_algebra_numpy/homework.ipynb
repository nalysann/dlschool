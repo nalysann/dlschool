{
 "cells": [
  {
   "cell_type": "markdown",
   "metadata": {
    "colab_type": "text",
    "id": "KxIquH6GK7kt"
   },
   "source": [
    "<p style=\"align: center;\">\n",
    "    <img align=center src=\"../img/dls_logo.jpg\" width=500 height=500>\n",
    "</p>\n",
    "\n",
    "<h1 style=\"text-align: center;\">\n",
    "    <b>Физтех-Школа Прикладной математики и информатики (ФПМИ) МФТИ</b>\n",
    "</h1>\n",
    "\n",
    "---"
   ]
  },
  {
   "cell_type": "code",
   "execution_count": 1,
   "metadata": {
    "colab": {},
    "colab_type": "code",
    "id": "YEJ8DQ4QK7kx"
   },
   "outputs": [],
   "source": [
    "import numpy as np\n",
    "import random\n",
    "import scipy.stats as sps"
   ]
  },
  {
   "cell_type": "markdown",
   "metadata": {},
   "source": [
    "---"
   ]
  },
  {
   "cell_type": "markdown",
   "metadata": {
    "colab_type": "text",
    "id": "hYXhVX0eK7k2"
   },
   "source": [
    "## Задание 1\n",
    "В первой задаче вам предлагается перемножить две квадратные матрицы двумя способами - без использования пакета `NumPy` и с его использованием."
   ]
  },
  {
   "cell_type": "code",
   "execution_count": 28,
   "metadata": {
    "colab": {
     "base_uri": "https://localhost:8080/",
     "height": 255
    },
    "colab_type": "code",
    "id": "zJR8EANzK7k3",
    "outputId": "44277455-5875-4c28-c445-1e5fba38f950"
   },
   "outputs": [
    {
     "name": "stdout",
     "output_type": "stream",
     "text": [
      "(100, 100) (100, 100)\n",
      "\n",
      "[[0.32022309 0.35112709 0.35463295 ... 0.78622995 0.36500719 0.69922563]\n",
      " [0.59261885 0.29720909 0.65578586 ... 0.53464545 0.54560284 0.00818889]\n",
      " [0.89502971 0.65216181 0.75406621 ... 0.62208108 0.18820927 0.15965957]\n",
      " ...\n",
      " [0.64545142 0.53797647 0.97299687 ... 0.50481345 0.17926372 0.33654622]\n",
      " [0.56361145 0.38272752 0.56315273 ... 0.60924466 0.30496516 0.47500783]\n",
      " [0.31449971 0.69676373 0.64324914 ... 0.02416798 0.39818182 0.20077581]]\n",
      "\n",
      "[[0.68983674 0.99429156 0.21872653 ... 0.64231461 0.3187248  0.79404955]\n",
      " [0.39574815 0.14880496 0.48799932 ... 0.28253038 0.35107954 0.96769114]\n",
      " [0.7545531  0.24341791 0.81353722 ... 0.32363712 0.67993732 0.77758967]\n",
      " ...\n",
      " [0.53077176 0.2450023  0.47956771 ... 0.70765452 0.63263393 0.67494388]\n",
      " [0.86260877 0.85183575 0.74035916 ... 0.32800485 0.9976979  0.95827526]\n",
      " [0.41269032 0.09814709 0.21822414 ... 0.33714418 0.17640673 0.99934799]]\n"
     ]
    }
   ],
   "source": [
    "# для генерации матриц используем модуль np.random - он используется для генерации случайных объектов\n",
    "# функция sample создает случайную выборку, в качестве аргумента ей передается кортеж (i,j)\n",
    "# здесь i - число строк, j - число столбцов\n",
    "a = np.random.sample((100, 100))\n",
    "b = np.random.sample((100, 100))\n",
    "# выведите размерность (ранг) каждой матрицы с помощью функции ndim\n",
    "# используйте функцию shape, что она вывела?\n",
    "print(a.shape, b.shape)\n",
    "print()\n",
    "print(a)\n",
    "print()\n",
    "print(b)"
   ]
  },
  {
   "cell_type": "code",
   "execution_count": 29,
   "metadata": {
    "colab": {},
    "colab_type": "code",
    "id": "bkWCI4TPK7k8"
   },
   "outputs": [],
   "source": [
    "def mult(a, b):               \n",
    "    return [[sum(a[i][k] * b[k][j] for k in range(len(a[0]))) for j in range(len(b[0]))] for i in range(len(a))]"
   ]
  },
  {
   "cell_type": "code",
   "execution_count": 30,
   "metadata": {
    "colab": {},
    "colab_type": "code",
    "id": "IIgYD1W5K7lB"
   },
   "outputs": [],
   "source": [
    "def np_mult(a, b):\n",
    "    return a @ b"
   ]
  },
  {
   "cell_type": "code",
   "execution_count": 31,
   "metadata": {
    "colab": {
     "base_uri": "https://localhost:8080/",
     "height": 51
    },
    "colab_type": "code",
    "id": "tktkYzUHK7lE",
    "outputId": "9e9c5db8-cd49-4c0f-cb11-97825805163b"
   },
   "outputs": [
    {
     "name": "stdout",
     "output_type": "stream",
     "text": [
      "CPU times: user 1.69 s, sys: 2.33 ms, total: 1.69 s\n",
      "Wall time: 1.69 s\n"
     ]
    }
   ],
   "source": [
    "%%time\n",
    "# засечем время работы функции без NumPy\n",
    "M1 = mult(a, b)"
   ]
  },
  {
   "cell_type": "code",
   "execution_count": 32,
   "metadata": {
    "colab": {
     "base_uri": "https://localhost:8080/",
     "height": 51
    },
    "colab_type": "code",
    "id": "TmD0adgHK7lK",
    "outputId": "2a78a62c-c2b2-45de-d417-30fcdfb11cf3"
   },
   "outputs": [
    {
     "name": "stdout",
     "output_type": "stream",
     "text": [
      "CPU times: user 2.24 ms, sys: 3.18 ms, total: 5.42 ms\n",
      "Wall time: 168 ms\n"
     ]
    }
   ],
   "source": [
    "%%time\n",
    "# засечем время работы функции с NumPy\n",
    "M2 = np_mult(a, b)"
   ]
  },
  {
   "cell_type": "code",
   "execution_count": 33,
   "metadata": {
    "colab": {
     "base_uri": "https://localhost:8080/",
     "height": 34
    },
    "colab_type": "code",
    "id": "oftqyANQK7lS",
    "outputId": "8dac878b-70c9-4f2e-fff9-994a73fcd757"
   },
   "outputs": [
    {
     "data": {
      "text/plain": [
       "1.7696066834105295e-11"
      ]
     },
     "execution_count": 33,
     "metadata": {},
     "output_type": "execute_result"
    }
   ],
   "source": [
    "# проверим корректность\n",
    "np.abs(np.array(M1) - M2).sum()"
   ]
  },
  {
   "cell_type": "markdown",
   "metadata": {},
   "source": [
    "---"
   ]
  },
  {
   "cell_type": "markdown",
   "metadata": {
    "colab_type": "text",
    "id": "2itTyTlcaHAu"
   },
   "source": [
    "## Задание 2"
   ]
  },
  {
   "cell_type": "markdown",
   "metadata": {
    "colab_type": "text",
    "id": "BCemQSq-aEbO"
   },
   "source": [
    "Вам подаются на вход два вектора `a` и `b`. Заполните их случайными числами. Реализуйте их скалярное произведение с помощью `NumPy` и без. Засеките время работы, как это показано в заданиях выше."
   ]
  },
  {
   "cell_type": "code",
   "execution_count": 34,
   "metadata": {
    "colab": {
     "base_uri": "https://localhost:8080/",
     "height": 34
    },
    "colab_type": "code",
    "id": "lWhr_gPSZ9o_",
    "outputId": "734d9bf4-8c98-46a1-ffcc-934d0805024d"
   },
   "outputs": [
    {
     "name": "stdout",
     "output_type": "stream",
     "text": [
      "[0.62146162 0.64031911 0.29063025 ... 0.26955643 0.47633692 0.59791962]\n",
      "[0.08968081 0.70087161 0.51588305 ... 0.69618882 0.1359142  0.7544456 ]\n"
     ]
    }
   ],
   "source": [
    "a = np.random.sample(1000000)\n",
    "b = np.random.sample(1000000)\n",
    "print(a, b, sep='\\n')"
   ]
  },
  {
   "cell_type": "code",
   "execution_count": 35,
   "metadata": {
    "colab": {},
    "colab_type": "code",
    "id": "GjlkcHIWZ_ae"
   },
   "outputs": [],
   "source": [
    "def scalar_product(a, b):\n",
    "    return sum(i * j for i, j in zip(a, b))"
   ]
  },
  {
   "cell_type": "code",
   "execution_count": 36,
   "metadata": {
    "colab": {},
    "colab_type": "code",
    "id": "C2M-OAp5Z_6a"
   },
   "outputs": [],
   "source": [
    "def np_scalar_product(a, b):\n",
    "    return np.dot(a, b)"
   ]
  },
  {
   "cell_type": "code",
   "execution_count": 37,
   "metadata": {
    "colab": {
     "base_uri": "https://localhost:8080/",
     "height": 102
    },
    "colab_type": "code",
    "id": "BOQfYf-2aCQJ",
    "outputId": "6a85f59a-2073-4824-e1bf-acf96ed274a0",
    "scrolled": true
   },
   "outputs": [
    {
     "name": "stdout",
     "output_type": "stream",
     "text": [
      "CPU times: user 341 ms, sys: 1.63 ms, total: 342 ms\n",
      "Wall time: 341 ms\n",
      "CPU times: user 2.32 ms, sys: 67 µs, total: 2.38 ms\n",
      "Wall time: 745 µs\n"
     ]
    },
    {
     "data": {
      "text/plain": [
       "2.2118911147117615e-09"
      ]
     },
     "execution_count": 37,
     "metadata": {},
     "output_type": "execute_result"
    }
   ],
   "source": [
    "%time product_1 = scalar_product(a, b)\n",
    "%time product_2 = np_scalar_product(a, b)\n",
    "# проверим корректность\n",
    "np.abs(product_1 - product_2).sum()"
   ]
  },
  {
   "cell_type": "markdown",
   "metadata": {
    "colab_type": "text",
    "id": "NHaHu6q1K7mH"
   },
   "source": [
    "Почему методы `NumPy` оказываются эффективнее? Что вы можете сказать о скорости вычислений в `NumPy`?"
   ]
  },
  {
   "cell_type": "markdown",
   "metadata": {
    "colab_type": "text",
    "id": "_A3p2s4eK7mI"
   },
   "source": [
    "**Ответ:** cкорость вычислений векторных и матричных операций в `NumPy` сильно превосходит скорость вычислений без него, по большей части потому, что функции `NumPy` работают с массивами данных одного типа (числовыми), это позволяет реализовать встроенные функции numpy на `C/C++`, что, конечно, делает `NumPy` быстрее (функции, которые вызывает `NumPy` для работы с числовыми данными, сильно оптимизированы именно под эти задачи, а сам `Python` просто гоняет интерпретатор по циклу в таких операциях, что является чуть ли не самым большим замедлением в работе интерпретатора)."
   ]
  },
  {
   "cell_type": "markdown",
   "metadata": {},
   "source": [
    "---"
   ]
  },
  {
   "cell_type": "markdown",
   "metadata": {
    "colab_type": "text",
    "id": "mJXeUuznK7lm"
   },
   "source": [
    "## Задание 3\n",
    "Напишите функцию, которая находит сумму чётных диагональных элементов квадратной матрицы. Если таких элементов нет, то вывести `0`."
   ]
  },
  {
   "cell_type": "code",
   "execution_count": 50,
   "metadata": {
    "colab": {},
    "colab_type": "code",
    "id": "qYNiKbK47TTS"
   },
   "outputs": [],
   "source": [
    "# функция, решающая задачу с помощью NumPy\n",
    "def np_diag_2k(a):\n",
    "    d = a.diagonal()\n",
    "    return d[d % 2 == 0].sum()"
   ]
  },
  {
   "cell_type": "code",
   "execution_count": 51,
   "metadata": {
    "colab": {},
    "colab_type": "code",
    "id": "BdInn8_j7TTU",
    "outputId": "854af7cf-b713-40b1-8984-8868a42b4b5e"
   },
   "outputs": [
    {
     "data": {
      "text/plain": [
       "array([[7, 1, 1, ..., 5, 5, 4],\n",
       "       [9, 3, 2, ..., 5, 8, 5],\n",
       "       [7, 9, 6, ..., 7, 5, 9],\n",
       "       ...,\n",
       "       [2, 3, 4, ..., 4, 2, 5],\n",
       "       [5, 2, 8, ..., 3, 3, 6],\n",
       "       [1, 5, 5, ..., 8, 8, 3]])"
      ]
     },
     "execution_count": 51,
     "metadata": {},
     "output_type": "execute_result"
    }
   ],
   "source": [
    "# зададим некоторую квадратную матрицу\n",
    "a = np.random.randint(1, 10, size=(10000, 10000))\n",
    "a"
   ]
  },
  {
   "cell_type": "code",
   "execution_count": 52,
   "metadata": {
    "colab": {},
    "colab_type": "code",
    "id": "ZR97Nt9N7TTW",
    "outputId": "56679264-0a18-41ab-89d5-4dc758946885"
   },
   "outputs": [
    {
     "name": "stdout",
     "output_type": "stream",
     "text": [
      "CPU times: user 3.33 ms, sys: 555 µs, total: 3.88 ms\n",
      "Wall time: 3.08 ms\n"
     ]
    },
    {
     "data": {
      "text/plain": [
       "22116"
      ]
     },
     "execution_count": 52,
     "metadata": {},
     "output_type": "execute_result"
    }
   ],
   "source": [
    "%%time\n",
    "# засечем время работы функции с NumPy\n",
    "np_diag_2k(a)"
   ]
  },
  {
   "cell_type": "markdown",
   "metadata": {
    "colab_type": "text",
    "id": "cdcRkFzQ7TTY"
   },
   "source": [
    "## Задание 4\n",
    "Напишите функцию, которая по данной последовательности $\\{A_i\\}_{i=1}^n$ строит последовательность $S_n$, где $S_k = \\frac{A_1 + ... + A_k}{k}$.  "
   ]
  },
  {
   "cell_type": "code",
   "execution_count": null,
   "metadata": {
    "colab": {},
    "colab_type": "code",
    "id": "REgL39ksK7lr"
   },
   "outputs": [],
   "source": [
    "# функция, решающая задачу с помощью NumPy\n",
    "def np_sec_av(A):\n",
    "    return #YOUR CODE"
   ]
  },
  {
   "cell_type": "code",
   "execution_count": null,
   "metadata": {
    "colab": {
     "base_uri": "https://localhost:8080/",
     "height": 102
    },
    "colab_type": "code",
    "id": "HcVN8MagK7lw",
    "outputId": "a4cc2ffd-84f2-46b5-9789-aa728d8899f9"
   },
   "outputs": [],
   "source": [
    "# зададим некоторую последовательность и проверим ее на ваших функциях. \n",
    "# функция должна работать ~ в 50 раз быстрее, чем без Numpy\n",
    "A = sps.uniform.rvs(size=10**3) \n",
    "\n",
    "%time S2 = np_sec_av(A)"
   ]
  },
  {
   "cell_type": "markdown",
   "metadata": {
    "colab_type": "text",
    "id": "teVCPWZmK7l5"
   },
   "source": [
    "## Задание 5\n",
    "\n",
    "Задан двумерный массив $X$. Для каждой строчки массива X необходимо сделать следующее преобразование.\n",
    "\n",
    "Пусть дана строчка x. Необходимо построить новый массив, где все элементы с нечетными индексами требуется заменить на число a (значение по умолчанию a=1). Все элементы с четными индексами нужно возвести в куб. Затем записать элементы в обратном порядке относительно их позиций. В конце требуется слить массив xс преобразованным xи вывести.\n",
    "\n",
    "Напишите функцию, которая выполняет данное преобразование для каждой строчки двумерного массива X. Массив X при этом должен остаться без изменений.\n",
    "\n",
    "Используйте библиотеку numpy.\n",
    "\n",
    "Пример:\n",
    "$X = [[100,200,300,400,500]]$ -> $[[100,a,300,a,500]]$ -> $[[500^3,a,300^3,a,100^3]]$ -> склеиваем -> $[[100,200,300,400,500,500^3,a,300^3,a,100^3]]$"
   ]
  },
  {
   "cell_type": "code",
   "execution_count": null,
   "metadata": {
    "colab": {},
    "colab_type": "code",
    "id": "0hmcvfDVK7l-"
   },
   "outputs": [],
   "source": [
    "# функция, решающая задачу с помощью NumPy\n",
    "from copy import copy\n",
    "def np_transformation(X, a=1):\n",
    "    #YOUR CODE"
   ]
  },
  {
   "cell_type": "code",
   "execution_count": null,
   "metadata": {
    "colab": {
     "base_uri": "https://localhost:8080/",
     "height": 102
    },
    "colab_type": "code",
    "id": "r2-JLMhxK7mE",
    "outputId": "13559189-f157-4649-dc9d-f12af1366519",
    "scrolled": true
   },
   "outputs": [],
   "source": [
    "X = np.array([i for i in range(1, 10, 2)])\n",
    "# функция должна работать ~ в 20 раз быстрее, чем без Numpy \n",
    "%time S2 = np_transformation(X, 5)"
   ]
  },
  {
   "cell_type": "markdown",
   "metadata": {
    "colab_type": "text",
    "id": "qa521fce7TTk"
   },
   "source": [
    "## Задание 6\n",
    "\n",
    "Написать функцию для кодирование массива (Run-length encoding). Все подряд повторения элементов функция сжимает в один элемент и считает количество повторений. Функция возвращает кортеж из двух векторов одинаковой длины. Первый содержит элементы, а второй — сколько раз их нужно повторить. \n",
    "\n",
    "Пример: encode(np.array([1, 2, 2, 3, 3, 1, 1, 5, 5, 2, 3, 3])) = (np.array[1, 2, 3, 1, 5, 2, 3]), np.array[1, 2, 2, 2, 2, 1, 2])"
   ]
  },
  {
   "cell_type": "code",
   "execution_count": null,
   "metadata": {
    "colab": {},
    "colab_type": "code",
    "id": "4wD7OSVv7TTl"
   },
   "outputs": [],
   "source": [
    "# функция, решающая задачу с помощью NumPy\n",
    "def np_encode(a):\n",
    "    #YOUR CODE"
   ]
  },
  {
   "cell_type": "code",
   "execution_count": null,
   "metadata": {
    "colab": {},
    "colab_type": "code",
    "id": "P7YxojET7TTn",
    "outputId": "4a5fdafe-55a1-4c10-857e-305ce1ee68e0"
   },
   "outputs": [],
   "source": [
    "X = np.array([1, 2, 2, 3, 3, 1, 1, 5, 5, 2, 3, 3])\n",
    "\n",
    "%time x, num = np_encode(X)"
   ]
  }
 ],
 "metadata": {
  "colab": {
   "collapsed_sections": [],
   "name": "[homework,basic]numpy.ipynb",
   "provenance": []
  },
  "kernelspec": {
   "display_name": "Python 3",
   "language": "python",
   "name": "python3"
  },
  "language_info": {
   "codemirror_mode": {
    "name": "ipython",
    "version": 3
   },
   "file_extension": ".py",
   "mimetype": "text/x-python",
   "name": "python",
   "nbconvert_exporter": "python",
   "pygments_lexer": "ipython3",
   "version": "3.8.3"
  }
 },
 "nbformat": 4,
 "nbformat_minor": 1
}
