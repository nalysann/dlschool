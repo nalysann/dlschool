{
 "cells": [
  {
   "cell_type": "markdown",
   "metadata": {},
   "source": [
    "<p style=\"align: center;\">\n",
    "    <img align=center src=\"../img/dls_logo.jpg\" width=500 height=500>\n",
    "</p>\n",
    "\n",
    "<h1 style=\"text-align: center;\">\n",
    "    <b>Физтех-Школа Прикладной математики и информатики (ФПМИ) МФТИ</b>\n",
    "</h1>\n",
    "\n",
    "---"
   ]
  },
  {
   "cell_type": "code",
   "execution_count": null,
   "metadata": {
    "colab": {},
    "colab_type": "code",
    "id": "O9q3N_FYH6KS"
   },
   "outputs": [],
   "source": [
    "import numpy as np"
   ]
  },
  {
   "cell_type": "markdown",
   "metadata": {},
   "source": [
    "---"
   ]
  },
  {
   "cell_type": "markdown",
   "metadata": {},
   "source": [
    "## Верхнетреугольная матрица"
   ]
  },
  {
   "cell_type": "markdown",
   "metadata": {
    "colab_type": "text",
    "id": "xvR_4lYSH6KW"
   },
   "source": [
    "Напишите код, чтобы получить **верхнетреугольную матрицу** (это такая матрица, у которой все числа под главной диагональю равны 0), обнулив все ненужные элементы.\n",
    "\n",
    "Самое простое решение - загуглить, потому что почти для всего в `NumPy` есть готовое решение!"
   ]
  },
  {
   "cell_type": "code",
   "execution_count": null,
   "metadata": {
    "colab": {},
    "colab_type": "code",
    "id": "8hxP6i-BH6KY"
   },
   "outputs": [],
   "source": [
    "def get_triangular_matrix(A):\n",
    "    return np.triu(A)"
   ]
  },
  {
   "cell_type": "code",
   "execution_count": null,
   "metadata": {
    "colab": {},
    "colab_type": "code",
    "id": "-Q17Q1nfH6Kb"
   },
   "outputs": [],
   "source": [
    "A = np.array([\n",
    "    [1, 2, 3],\n",
    "    [4, 5, 6],\n",
    "    [7, 8, 9]\n",
    "])\n",
    "\n",
    "get_triangular_matrix(A)"
   ]
  },
  {
   "cell_type": "markdown",
   "metadata": {},
   "source": [
    "---"
   ]
  },
  {
   "cell_type": "markdown",
   "metadata": {},
   "source": [
    "## Broadcasting"
   ]
  },
  {
   "cell_type": "markdown",
   "metadata": {
    "colab_type": "text",
    "id": "tirYdDTSH6Ke"
   },
   "source": [
    "На самом деле, можно выполнять арифметические операции над массивами с несовпадающими размерами. Это называется [**broadcasting**](https://numpy.org/doc/stable/user/basics.broadcasting.html). В процессе броадкастингa `NumPy` пытается сделать `shape` обоих массивов одинаковым, чтобы выполнить нужную операцию.\n",
    "\n",
    "Для этого проводится сравнение размерностей, начиная с последних размерностей. Размерности совместимы, если:\n",
    "\n",
    "1. Количество элементов по этой размерности совпадает.\n",
    "2. Количество элементов в одной из размернойстей равно 1.\n",
    "\n",
    "Допустим, у нас было два массива, которые мы складываем:\n",
    "\n",
    "```python\n",
    "shape_1 = (1, 2, 1)\n",
    "shape_2 = (2, 100)\n",
    "```\n",
    "\n",
    "Тогда можно считать, что после броадкастинга получатся массивы с `shape = (1, 2, 100)` и уже они сложатся."
   ]
  },
  {
   "cell_type": "code",
   "execution_count": null,
   "metadata": {
    "colab": {},
    "colab_type": "code",
    "id": "od_vSKWoH6Kf"
   },
   "outputs": [],
   "source": [
    "a = np.array([1, 2, 3])\n",
    "b = np.array([\n",
    "    [0, 1, 2],\n",
    "    [3, 4, 5]\n",
    "])\n",
    "\n",
    "print(a.shape)\n",
    "print(b.shape)\n",
    "print((a + b).shape)"
   ]
  },
  {
   "cell_type": "code",
   "execution_count": null,
   "metadata": {
    "colab": {},
    "colab_type": "code",
    "id": "wNnoVfplH6Ki"
   },
   "outputs": [],
   "source": [
    "# ещё один пример\n",
    "a = a.reshape(1, 1, 3)\n",
    "print(a.shape)\n",
    "print(b.shape)\n",
    "print((a + b).shape)"
   ]
  },
  {
   "cell_type": "markdown",
   "metadata": {
    "colab_type": "text",
    "id": "5pBrUYNzH6Kk"
   },
   "source": [
    "Вообще говоря, вместо использование **broadcating**'а лучше в явном виде прописывать все размерности. Если размерности обоих тензоров совпадают (например, они оба трёхмерные), тогда необходимо, чтобы соответствующие элементы кортежей формы либо совпадали, либо один из них был равен 1.\n",
    "\n",
    "Пример:"
   ]
  },
  {
   "cell_type": "code",
   "execution_count": null,
   "metadata": {
    "colab": {},
    "colab_type": "code",
    "id": "BP_qQceoH6Kl"
   },
   "outputs": [],
   "source": [
    "a + b[np.newaxis, :, :].shape"
   ]
  },
  {
   "cell_type": "markdown",
   "metadata": {},
   "source": [
    "---"
   ]
  },
  {
   "cell_type": "markdown",
   "metadata": {},
   "source": [
    "## Ромбик"
   ]
  },
  {
   "cell_type": "markdown",
   "metadata": {
    "colab_type": "text",
    "id": "ToFQSWPEH6Ko"
   },
   "source": [
    "Напишите код, чтобы в квадратной матрице $5 \\times 5$ из нулей получить ромб из единиц, который касается середин сторон квадрата."
   ]
  },
  {
   "cell_type": "code",
   "execution_count": null,
   "metadata": {
    "colab": {},
    "colab_type": "code",
    "id": "8j83rScbH6Kp"
   },
   "outputs": [],
   "source": [
    "A = np.zeros((5, 5))\n",
    "\n",
    "row_dist = col_dist = np.abs(np.linspace(-2, 2, 5))\n",
    "\n",
    "dist = row_dist[np.newaxis, :] + col_dist[:, np.newaxis]\n",
    "\n",
    "B = (dist == 2).astype(int)\n",
    "B"
   ]
  },
  {
   "cell_type": "markdown",
   "metadata": {},
   "source": [
    "---"
   ]
  },
  {
   "cell_type": "markdown",
   "metadata": {
    "colab_type": "text",
    "id": "duMUbpXxH6Ks"
   },
   "source": [
    "## Как правильно выбрать оси?"
   ]
  },
  {
   "cell_type": "markdown",
   "metadata": {
    "colab_type": "text",
    "id": "b36JYkIFH6Ks"
   },
   "source": [
    "**Безобидная задача на кумулятивные суммы**\n",
    "\n",
    "Дана матрица $M \\times N$. Напишите функцию, которая возвращает вектор средних значений по вертикали."
   ]
  },
  {
   "cell_type": "code",
   "execution_count": null,
   "metadata": {
    "colab": {},
    "colab_type": "code",
    "id": "Yh36cjUOH6Kt"
   },
   "outputs": [],
   "source": [
    "def vertical_means(A):\n",
    "    return A.mean(axis=0)"
   ]
  },
  {
   "cell_type": "code",
   "execution_count": null,
   "metadata": {},
   "outputs": [],
   "source": [
    "A = np.random.randint(0, 10, (5, 5))\n",
    "print(A)\n",
    "\n",
    "vertical_means(A)"
   ]
  },
  {
   "cell_type": "markdown",
   "metadata": {
    "colab_type": "text",
    "id": "41Z2o-lfH6Kw"
   },
   "source": [
    "**Проблемы:**\n",
    "\n",
    "* Что такое вертикальная ось? \n",
    "* По какой оси необходимо суммировать?\n",
    "* Как не ошибиться?\n",
    "\n",
    "**Ответ:** Операции всегда производятся по той оси, которая **исчезнет** после применения операции."
   ]
  },
  {
   "cell_type": "markdown",
   "metadata": {},
   "source": [
    "---"
   ]
  },
  {
   "cell_type": "markdown",
   "metadata": {},
   "source": [
    "## Батчи"
   ]
  },
  {
   "cell_type": "markdown",
   "metadata": {
    "colab_type": "text",
    "id": "tp5LeOMgH6Kw"
   },
   "source": [
    "Как вы, возможно, знаете, обучение нейронных сетей происходит последовательной подачей на вход нейронной сети объектов из обучающей выборки. Представим, например, что объекты - это картинки в формате RGB.\n",
    "\n",
    "Чтобы нейронная сеть обучалась быстрее, объекты в неё подаются не по одному, а **батчами** из $N$ объектов. Итак, на вход нейронной сети подаётся четырёхмерный (!!!) тензор формы `(batch_size, num_channels, height, width)`. Наверное, вы уже убедились, что знать, где правильно ставить оси, просто необходимо.\n",
    "\n",
    "Благо, есть простое решение: можно просто **НЕ ТРОГАТЬ** нулевую ось."
   ]
  },
  {
   "cell_type": "markdown",
   "metadata": {},
   "source": [
    "---"
   ]
  },
  {
   "cell_type": "markdown",
   "metadata": {},
   "source": [
    "## Стандартизация картинки"
   ]
  },
  {
   "cell_type": "markdown",
   "metadata": {
    "colab_type": "text",
    "id": "qGgzfArlH6Kx"
   },
   "source": [
    "На диске лежит файл `image_batch.npy` (здесь в ноутбуке мы просто генеируем батч с помощью функции `np.random.randint`). В нём лежит батч (массив) картинок в формате `NumPy`. Каждая картинка задана как трёхмерная матрица формата `(num_channels, width, height)`. Нужно стандартизировать каналы одного пикселя, т.е. сделать так, чтобы для каждого пикселя среднее по всем каналам стало равно $0$, а стандартное отклонение - $1$."
   ]
  },
  {
   "cell_type": "code",
   "execution_count": null,
   "metadata": {
    "colab": {},
    "colab_type": "code",
    "id": "4c0Y6iX3H6Ky",
    "scrolled": true
   },
   "outputs": [],
   "source": [
    "def normalize_pictures(A):\n",
    "    \"\"\"\n",
    "    param A: np.array[batch_size, num_channels, width, height]\n",
    "    \"\"\"\n",
    "    \n",
    "    mu = A.mean(axis=(2, 3))\n",
    "    sigma = A.std(axis=(2, 3))\n",
    "    \n",
    "    return (A - mu[:, :, np.newaxis, np.newaxis]) / sigma[:, :, np.newaxis, np.newaxis]"
   ]
  },
  {
   "cell_type": "code",
   "execution_count": null,
   "metadata": {
    "colab": {},
    "colab_type": "code",
    "id": "oP5_ZaTsH6K0"
   },
   "outputs": [],
   "source": [
    "batch = np.random.randint(0, 256, (100, 3, 300, 300))\n",
    "\n",
    "norm_batch = normalize_pictures(batch)\n",
    "\n",
    "norm_batch.mean(axis=(2, 3)), norm_batch.std(axis=(2, 3))"
   ]
  },
  {
   "cell_type": "markdown",
   "metadata": {},
   "source": [
    "---"
   ]
  },
  {
   "cell_type": "markdown",
   "metadata": {},
   "source": [
    "## Стандартизация и транспонирование "
   ]
  },
  {
   "cell_type": "markdown",
   "metadata": {
    "colab_type": "text",
    "id": "MNabTpp6H6K3"
   },
   "source": [
    "Задание то же самое, но нужно стандартизировать все пиксели внутри каждой картинки и сменить формат `(batch_size, num_channels, x_coord, y_coord)` на `(batch_size, x_coord, y_coord, num_channels)`. Такой формат обычно удобнее для разных вычислений и вообще выглядит более естественным, но GPU более эффективно работают с первым."
   ]
  },
  {
   "cell_type": "code",
   "execution_count": null,
   "metadata": {
    "colab": {},
    "colab_type": "code",
    "id": "cWoIfswRH6K4"
   },
   "outputs": [],
   "source": [
    "def normalize_and_transpose_pictures(A):\n",
    "    \"\"\"\n",
    "    param A: np.array[batch_size, num_channels, width, height]\n",
    "    \"\"\"\n",
    "    \n",
    "    np.moveaxis(A, 1, -1)\n",
    "    \n",
    "    mu = A.mean(axis=(1, 2))\n",
    "    sigma = A.std(axis=(1, 2))\n",
    "    \n",
    "    return (A - mu[:, np.newaxis, np.newaxis, :]) / sigma[:, np.newaxis, np.newaxis, :]"
   ]
  },
  {
   "cell_type": "code",
   "execution_count": null,
   "metadata": {
    "colab": {},
    "colab_type": "code",
    "id": "wol2gsN8H6K6"
   },
   "outputs": [],
   "source": [
    "res_transposed = normalize_and_transpose_pictures(batch)\n",
    "res_transposed.mean(axis=(1, 2)), res_transposed.std(axis=(1, 2))"
   ]
  },
  {
   "cell_type": "markdown",
   "metadata": {},
   "source": [
    "---"
   ]
  },
  {
   "cell_type": "markdown",
   "metadata": {},
   "source": [
    "## Сжатие фотографии"
   ]
  },
  {
   "cell_type": "markdown",
   "metadata": {
    "colab_type": "text",
    "id": "OdK7znTDH6K8"
   },
   "source": [
    "Теперь мы хотим снизить качество батча фотографий - разбить каждое изображение на квадратики $2 \\times 2$ и усреднить внутри них значения по каждому каналу отдельно."
   ]
  },
  {
   "cell_type": "code",
   "execution_count": null,
   "metadata": {},
   "outputs": [],
   "source": [
    "import skimage.measure\n",
    "\n",
    "img = plt.imread('img/rose.jpg') / 255\n",
    "\n",
    "compressed = skimage.measure.block_reduce(img, (4, 4, 1), np.mean)\n",
    "\n",
    "fig, ax = plt.subplots(nrows=1, ncols=2, figsize=(16, 8))\n",
    "\n",
    "ax[0].imshow(img)\n",
    "ax[1].imshow(compressed)\n",
    "plt.show()"
   ]
  },
  {
   "cell_type": "markdown",
   "metadata": {},
   "source": [
    "Проделаем тоже самое, используя `NumPy`:"
   ]
  },
  {
   "cell_type": "code",
   "execution_count": null,
   "metadata": {
    "colab": {},
    "colab_type": "code",
    "id": "SX4boK4PH6K9"
   },
   "outputs": [],
   "source": [
    "def low_quality(batch_images, size):\n",
    "    \"\"\"\n",
    "    param A: np.array[batch_size, width, height, num_channels]\n",
    "    \"\"\"\n",
    "    \n",
    "    pixelized = np.zeros((batch_images.shape[0], size, size, batch_images.shape[1] // size, batch_images.shape[2] // size, batch_images.shape[3]))\n",
    "    \n",
    "    for k in range(batch_images.shape[0]):\n",
    "        for i in range(size):\n",
    "            for j in range(size):\n",
    "                pixelized[k, i, j, :, :, :] = batch_images[:, i::size, j::size, :]\n",
    "\n",
    "    return pixelized.mean(axis=(1, 2))"
   ]
  },
  {
   "cell_type": "markdown",
   "metadata": {
    "colab_type": "text",
    "id": "Fg5-0-ikH6LA"
   },
   "source": [
    "Протестируем на реальной картинке:"
   ]
  },
  {
   "cell_type": "code",
   "execution_count": null,
   "metadata": {
    "colab": {},
    "colab_type": "code",
    "id": "uDFz_iH2H6LA"
   },
   "outputs": [],
   "source": [
    "img = plt.imread('img/rose.jpg') / 255\n",
    "\n",
    "compressed = low_quality(img[np.newaxis, :, :, :], 4)\n",
    "\n",
    "fig, ax = plt.subplots(nrows=1, ncols=2, figsize=(16, 8))\n",
    "\n",
    "ax[0].imshow(img)\n",
    "ax[1].imshow(compressed[0])\n",
    "plt.show()"
   ]
  },
  {
   "cell_type": "markdown",
   "metadata": {},
   "source": [
    "---"
   ]
  },
  {
   "cell_type": "markdown",
   "metadata": {},
   "source": [
    "## Ридж"
   ]
  },
  {
   "cell_type": "markdown",
   "metadata": {
    "colab_type": "text",
    "id": "WKp-THw3H6LD"
   },
   "source": [
    "Дана квадратная матрица $A$ и массив $b$ соответствующей длины. Прибавьте элементы массива $b$ к главной диагонали матрицы $A$."
   ]
  },
  {
   "cell_type": "code",
   "execution_count": null,
   "metadata": {
    "colab": {},
    "colab_type": "code",
    "id": "pj-xWa3_H6LD"
   },
   "outputs": [],
   "source": [
    "def upgraded_plus(A, b):\n",
    "    return A + np.diag(b)"
   ]
  },
  {
   "cell_type": "code",
   "execution_count": null,
   "metadata": {},
   "outputs": [],
   "source": [
    "A = np.arange(16).reshape(4, 4)\n",
    "b = np.ones(4).astype(int)\n",
    "\n",
    "A, upgraded_plus(A, b)"
   ]
  }
 ],
 "metadata": {
  "colab": {
   "collapsed_sections": [],
   "name": "[seminar, prodv]3_Numpy_additional.ipynb",
   "provenance": []
  },
  "kernelspec": {
   "display_name": "Python 3",
   "language": "python",
   "name": "python3"
  },
  "language_info": {
   "codemirror_mode": {
    "name": "ipython",
    "version": 3
   },
   "file_extension": ".py",
   "mimetype": "text/x-python",
   "name": "python",
   "nbconvert_exporter": "python",
   "pygments_lexer": "ipython3",
   "version": "3.8.3"
  }
 },
 "nbformat": 4,
 "nbformat_minor": 1
}
