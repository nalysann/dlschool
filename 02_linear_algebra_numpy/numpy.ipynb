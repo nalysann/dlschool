{
 "cells": [
  {
   "cell_type": "markdown",
   "metadata": {
    "colab_type": "text",
    "id": "LYCbBYAoK01P"
   },
   "source": [
    "<p style=\"align: center;\">\n",
    "    <img align=center src=\"../img/dls_logo.jpg\" width=500 height=500>\n",
    "</p>\n",
    "\n",
    "<h1 style=\"text-align: center;\">\n",
    "    <b>Физтех-Школа Прикладной математики и информатики (ФПМИ) МФТИ</b>\n",
    "</h1>\n",
    "\n",
    "---"
   ]
  },
  {
   "cell_type": "markdown",
   "metadata": {
    "colab_type": "text",
    "id": "Jv3wM2EJK01Q"
   },
   "source": [
    "<h1 style=\"text-align: center;\">\n",
    "    <b>Python. Занятие 2: NumPy</b>\n",
    "</h1>\n",
    "\n",
    "<img align=center src=\"../img/python_logo.png\" width=500>\n",
    "\n",
    "#### При подготовке ноутбука использовался сайт: http://www.inp.nsk.su/~grozin/python/\n",
    "\n",
    "---"
   ]
  },
  {
   "cell_type": "markdown",
   "metadata": {
    "colab_type": "text",
    "id": "kBGnvjStK01T"
   },
   "source": [
    "## Библиотека `NumPy`"
   ]
  },
  {
   "cell_type": "markdown",
   "metadata": {
    "colab_type": "text",
    "id": "Iug83l7wK01U"
   },
   "source": [
    "Пакет **`NumPy`** предоставляет $n$-мерные однородные массивы (все элементы одного типа); в них нельзя вставить или удалить элемент в произвольном месте. В `NumPy` реализовано много операций над массивами в целом. Если задачу можно решить, произведя некоторую последовательность операций над массивами, то это будет столь же эффективно, как в `C` или `MATLAB`, поскольку функции этой библиотеки реализованы на `C`, и мы просто вызываем их из питона."
   ]
  },
  {
   "cell_type": "code",
   "execution_count": null,
   "metadata": {
    "colab": {},
    "colab_type": "code",
    "id": "zB8-qzXEK01V"
   },
   "outputs": [],
   "source": [
    "# стандартное название для импорта numpy - np\n",
    "import numpy as np"
   ]
  },
  {
   "cell_type": "code",
   "execution_count": null,
   "metadata": {
    "colab": {},
    "colab_type": "code",
    "id": "2_IOYl5-K01Y"
   },
   "outputs": [],
   "source": [
    "# from numpy import *\n",
    "# как и в любом другом языке и библиотке, так делать не стоит\n",
    "# вы очень быстро запутаетесь в функциях из numpy\n",
    "# и запутаете всех, кто читает ваш код"
   ]
  },
  {
   "cell_type": "markdown",
   "metadata": {
    "colab_type": "text",
    "id": "f6y8_ITBK01Y"
   },
   "source": [
    "## Векторы и матрицы в `NumPy`"
   ]
  },
  {
   "cell_type": "markdown",
   "metadata": {},
   "source": [
    "$$\n",
    "A = \\begin{bmatrix}\n",
    "    x_{11} & x_{12} & x_{13} & \\dots  & x_{1n} \\\\\n",
    "    x_{21} & x_{22} & x_{23} & \\dots  & x_{2n} \\\\\n",
    "    \\vdots & \\vdots & \\vdots & \\ddots & \\vdots \\\\\n",
    "    x_{m1} & x_{m2} & x_{m3} & \\dots  & x_{mn}\n",
    "\\end{bmatrix}\n",
    "$$"
   ]
  },
  {
   "cell_type": "markdown",
   "metadata": {
    "colab_type": "text",
    "id": "3k5eaQgGHLJD"
   },
   "source": [
    "### Одномерные массивы"
   ]
  },
  {
   "cell_type": "markdown",
   "metadata": {},
   "source": [
    "Я предполагаю, что почти все знают про обычные массивы и про операции над ними. Они выглядят следующим образом:"
   ]
  },
  {
   "cell_type": "code",
   "execution_count": null,
   "metadata": {
    "colab": {
     "base_uri": "https://localhost:8080/",
     "height": 34
    },
    "colab_type": "code",
    "executionInfo": {
     "elapsed": 884,
     "status": "ok",
     "timestamp": 1570461176947,
     "user": {
      "displayName": "Иван Николаевич Махнев",
      "photoUrl": "",
      "userId": "00342045664921690282"
     },
     "user_tz": -180
    },
    "id": "A8y4lFcdHLJD",
    "outputId": "1e520d53-013f-4979-f9eb-b3677a96fc32"
   },
   "outputs": [],
   "source": [
    "x = [3, 4, 1]\n",
    "print(x)"
   ]
  },
  {
   "cell_type": "markdown",
   "metadata": {
    "colab_type": "text",
    "id": "dHYKof4KK01b"
   },
   "source": [
    "Давайте преобразуем наш массив в `NumPy` массив:"
   ]
  },
  {
   "cell_type": "code",
   "execution_count": null,
   "metadata": {
    "colab": {
     "base_uri": "https://localhost:8080/",
     "height": 34
    },
    "colab_type": "code",
    "executionInfo": {
     "elapsed": 689,
     "status": "ok",
     "timestamp": 1570461212414,
     "user": {
      "displayName": "Иван Николаевич Махнев",
      "photoUrl": "",
      "userId": "00342045664921690282"
     },
     "user_tz": -180
    },
    "id": "rffXuWJaK01c",
    "outputId": "d93f7cf1-acf2-4ce4-bacb-d1dd1e5d3ab2"
   },
   "outputs": [],
   "source": [
    "a = np.array(x)\n",
    "print(a, '|', type(a))"
   ]
  },
  {
   "cell_type": "markdown",
   "metadata": {
    "colab_type": "text",
    "id": "iLQtJmH0K01g"
   },
   "source": [
    "`print` печатает массивы в удобной форме:"
   ]
  },
  {
   "cell_type": "code",
   "execution_count": null,
   "metadata": {
    "colab": {
     "base_uri": "https://localhost:8080/",
     "height": 34
    },
    "colab_type": "code",
    "executionInfo": {
     "elapsed": 708,
     "status": "ok",
     "timestamp": 1570461218554,
     "user": {
      "displayName": "Иван Николаевич Махнев",
      "photoUrl": "",
      "userId": "00342045664921690282"
     },
     "user_tz": -180
    },
    "id": "QGFfGuPtK01h",
    "outputId": "4aed6bf1-46b7-4794-88cc-de85641dfed4"
   },
   "outputs": [],
   "source": [
    "print(a / 89)"
   ]
  },
  {
   "cell_type": "markdown",
   "metadata": {
    "colab_type": "text",
    "id": "Kxxjms2DaSBX"
   },
   "source": [
    "### Многомерные массивы"
   ]
  },
  {
   "cell_type": "code",
   "execution_count": null,
   "metadata": {
    "colab": {
     "base_uri": "https://localhost:8080/",
     "height": 34
    },
    "colab_type": "code",
    "executionInfo": {
     "elapsed": 662,
     "status": "ok",
     "timestamp": 1570461222468,
     "user": {
      "displayName": "Иван Николаевич Махнев",
      "photoUrl": "",
      "userId": "00342045664921690282"
     },
     "user_tz": -180
    },
    "id": "9J22jldfaSBZ",
    "outputId": "671e51e6-ca95-45b2-a487-eea3c31d8f91"
   },
   "outputs": [],
   "source": [
    "# простая матрица\n",
    "x = [[3, 4, 1],\n",
    "     [1, 2, 3]]\n",
    "print(x)"
   ]
  },
  {
   "cell_type": "code",
   "execution_count": null,
   "metadata": {
    "colab": {
     "base_uri": "https://localhost:8080/",
     "height": 51
    },
    "colab_type": "code",
    "executionInfo": {
     "elapsed": 717,
     "status": "ok",
     "timestamp": 1570461228884,
     "user": {
      "displayName": "Иван Николаевич Махнев",
      "photoUrl": "",
      "userId": "00342045664921690282"
     },
     "user_tz": -180
    },
    "id": "wvbw-zhdaSBe",
    "outputId": "e6ad109e-24be-4f47-df59-f243b629e1d1"
   },
   "outputs": [],
   "source": [
    "a = np.array(x)\n",
    "print(a)"
   ]
  },
  {
   "cell_type": "code",
   "execution_count": null,
   "metadata": {
    "colab": {
     "base_uri": "https://localhost:8080/",
     "height": 215
    },
    "colab_type": "code",
    "executionInfo": {
     "elapsed": 713,
     "status": "error",
     "timestamp": 1570461290307,
     "user": {
      "displayName": "Иван Николаевич Махнев",
      "photoUrl": "",
      "userId": "00342045664921690282"
     },
     "user_tz": -180
    },
    "id": "GPeALYOLaSBi",
    "outputId": "538e2254-4f4a-4bee-a195-42cab95373c1",
    "scrolled": true
   },
   "outputs": [],
   "source": [
    "# реально многомерный массив\n",
    "x = [\n",
    "        [ [1, 2, 3], [4, 5, 6]],\n",
    "        [ [7, 8, 9], [10, 11, 12]] \n",
    "    ]\n",
    "print(x)"
   ]
  },
  {
   "cell_type": "code",
   "execution_count": null,
   "metadata": {
    "colab": {
     "base_uri": "https://localhost:8080/",
     "height": 119
    },
    "colab_type": "code",
    "executionInfo": {
     "elapsed": 658,
     "status": "ok",
     "timestamp": 1570461302862,
     "user": {
      "displayName": "Иван Николаевич Махнев",
      "photoUrl": "",
      "userId": "00342045664921690282"
     },
     "user_tz": -180
    },
    "id": "-SeTuAAjaSBl",
    "outputId": "e2b479c5-f387-4633-a21b-e4dd77c6eb6a"
   },
   "outputs": [],
   "source": [
    "a = np.array(x)\n",
    "print(a)"
   ]
  },
  {
   "cell_type": "markdown",
   "metadata": {
    "colab_type": "text",
    "id": "tv2xp3kjaSBo"
   },
   "source": [
    "Как мы видим, для `NumPy` нет никакой разницы, сколько измерений у матрицы, все они представляются `numpy.ndarray`."
   ]
  },
  {
   "cell_type": "markdown",
   "metadata": {
    "colab_type": "text",
    "id": "Tjm58y2OaSBq"
   },
   "source": [
    "## Типы данных в `NumPy`"
   ]
  },
  {
   "cell_type": "markdown",
   "metadata": {
    "colab_type": "text",
    "id": "6tBmi8DrHLJR"
   },
   "source": [
    "`NumPy` предоставляет несколько типов для целых чисел (`int16`, `int32`, `int64`) и чисел с плавающей точкой (`float32`, `float64`)."
   ]
  },
  {
   "cell_type": "code",
   "execution_count": null,
   "metadata": {
    "colab": {
     "base_uri": "https://localhost:8080/",
     "height": 34
    },
    "colab_type": "code",
    "executionInfo": {
     "elapsed": 765,
     "status": "ok",
     "timestamp": 1570461316818,
     "user": {
      "displayName": "Иван Николаевич Махнев",
      "photoUrl": "",
      "userId": "00342045664921690282"
     },
     "user_tz": -180
    },
    "id": "XROlITuVHLJR",
    "outputId": "36dcaeb6-7d5e-41af-8746-c497f973db77"
   },
   "outputs": [],
   "source": [
    "a.dtype, a.dtype.name, a.itemsize"
   ]
  },
  {
   "cell_type": "code",
   "execution_count": null,
   "metadata": {
    "colab": {
     "base_uri": "https://localhost:8080/",
     "height": 34
    },
    "colab_type": "code",
    "executionInfo": {
     "elapsed": 756,
     "status": "ok",
     "timestamp": 1570461333219,
     "user": {
      "displayName": "Иван Николаевич Махнев",
      "photoUrl": "",
      "userId": "00342045664921690282"
     },
     "user_tz": -180
    },
    "id": "bYMWEBdmHLJV",
    "outputId": "be1718c4-d33b-4948-97c4-c49efe2e538f"
   },
   "outputs": [],
   "source": [
    "b = np.array([0., 2, 1])\n",
    "b, b.dtype"
   ]
  },
  {
   "cell_type": "markdown",
   "metadata": {
    "colab_type": "text",
    "id": "4gsvp2fjHLJY"
   },
   "source": [
    "Точно такой же массив, тип указан явно:"
   ]
  },
  {
   "cell_type": "code",
   "execution_count": null,
   "metadata": {
    "colab": {
     "base_uri": "https://localhost:8080/",
     "height": 34
    },
    "colab_type": "code",
    "executionInfo": {
     "elapsed": 831,
     "status": "ok",
     "timestamp": 1570461340534,
     "user": {
      "displayName": "Иван Николаевич Махнев",
      "photoUrl": "",
      "userId": "00342045664921690282"
     },
     "user_tz": -180
    },
    "id": "ZrJbtW3OHLJY",
    "outputId": "0325330d-bff8-4b14-ecdc-7cdc4cc0c7ea"
   },
   "outputs": [],
   "source": [
    "c = np.array([0.1, 2, 1], dtype=np.float64)\n",
    "c, c.dtype"
   ]
  },
  {
   "cell_type": "markdown",
   "metadata": {
    "colab_type": "text",
    "id": "-U7vEzu-HLJe"
   },
   "source": [
    "Преобразование данных в другой тип:"
   ]
  },
  {
   "cell_type": "code",
   "execution_count": null,
   "metadata": {
    "colab": {
     "base_uri": "https://localhost:8080/",
     "height": 68
    },
    "colab_type": "code",
    "executionInfo": {
     "elapsed": 587,
     "status": "ok",
     "timestamp": 1570461350514,
     "user": {
      "displayName": "Иван Николаевич Махнев",
      "photoUrl": "",
      "userId": "00342045664921690282"
     },
     "user_tz": -180
    },
    "id": "51ZSoCJJHLJg",
    "outputId": "bd9382ce-afd1-4e10-d215-447b99ae90a2"
   },
   "outputs": [],
   "source": [
    "print(c.dtype)\n",
    "print(c.astype(int))\n",
    "print(c.astype(str))"
   ]
  },
  {
   "cell_type": "markdown",
   "metadata": {
    "colab_type": "text",
    "id": "AhMuoHJ3HLJm"
   },
   "source": [
    "Так для чего нам нужны эти массивы, почему нам может не хватать возможностей обычных массивов?"
   ]
  },
  {
   "cell_type": "markdown",
   "metadata": {
    "colab_type": "text",
    "id": "49Hkkuc0K01k"
   },
   "source": [
    "## Методы массивов в `NumPy`"
   ]
  },
  {
   "cell_type": "markdown",
   "metadata": {},
   "source": [
    "Класс `ndarray` имеет много методов:"
   ]
  },
  {
   "cell_type": "code",
   "execution_count": null,
   "metadata": {
    "colab": {
     "base_uri": "https://localhost:8080/",
     "height": 54
    },
    "colab_type": "code",
    "executionInfo": {
     "elapsed": 654,
     "status": "ok",
     "timestamp": 1570461361300,
     "user": {
      "displayName": "Иван Николаевич Махнев",
      "photoUrl": "",
      "userId": "00342045664921690282"
     },
     "user_tz": -180
    },
    "id": "j7W2JXyH9Yy9",
    "outputId": "4f651a07-40f9-4162-bab3-e1619ad9526e"
   },
   "outputs": [],
   "source": [
    "dir(a)"
   ]
  },
  {
   "cell_type": "markdown",
   "metadata": {
    "colab_type": "text",
    "id": "fkxB2f57aSCC"
   },
   "source": [
    "### Одномерные массивы"
   ]
  },
  {
   "cell_type": "markdown",
   "metadata": {},
   "source": [
    "#### Числовые операции и нахождение статистик:"
   ]
  },
  {
   "cell_type": "code",
   "execution_count": null,
   "metadata": {
    "colab": {},
    "colab_type": "code",
    "id": "t43hJQPyaSCD"
   },
   "outputs": [],
   "source": [
    "x = [1, 2, 0, 3, 4]\n",
    "a = np.array(x)\n",
    "a"
   ]
  },
  {
   "cell_type": "code",
   "execution_count": null,
   "metadata": {
    "colab": {
     "base_uri": "https://localhost:8080/",
     "height": 34
    },
    "colab_type": "code",
    "executionInfo": {
     "elapsed": 683,
     "status": "ok",
     "timestamp": 1570461376575,
     "user": {
      "displayName": "Иван Николаевич Махнев",
      "photoUrl": "",
      "userId": "00342045664921690282"
     },
     "user_tz": -180
    },
    "id": "SLqJ9iQu8h9J",
    "outputId": "528940a1-f6f7-47f1-9ac6-7ae697b1c8b5",
    "scrolled": true
   },
   "outputs": [],
   "source": [
    "# у массивов можно легко и быстро посчитать разные статистики\n",
    "print(a.std())  # стандартное отклонение\n",
    "print(a.sum())  # сумма\n",
    "print(a.prod()) # произведение\n",
    "print(a.min())  # минимум\n",
    "print(a.max())  # максимум\n",
    "print(a.mean()) # среднее"
   ]
  },
  {
   "cell_type": "code",
   "execution_count": null,
   "metadata": {
    "colab": {
     "base_uri": "https://localhost:8080/",
     "height": 85
    },
    "colab_type": "code",
    "executionInfo": {
     "elapsed": 680,
     "status": "ok",
     "timestamp": 1570461392331,
     "user": {
      "displayName": "Иван Николаевич Махнев",
      "photoUrl": "",
      "userId": "00342045664921690282"
     },
     "user_tz": -180
    },
    "id": "VRnGSSDXaSCK",
    "outputId": "d5514394-cf79-4ed6-997a-ff4330c8ec35"
   },
   "outputs": [],
   "source": [
    "# массивы можно умножать и складывать со скалярами и\n",
    "# другими массивами, операции выполняются поэлементно\n",
    "a * 2, a / 2, a + 1, a - 1"
   ]
  },
  {
   "cell_type": "code",
   "execution_count": null,
   "metadata": {},
   "outputs": [],
   "source": [
    "a + a, a * a, a / a, a ** 2"
   ]
  },
  {
   "cell_type": "code",
   "execution_count": null,
   "metadata": {
    "colab": {
     "base_uri": "https://localhost:8080/",
     "height": 266
    },
    "colab_type": "code",
    "executionInfo": {
     "elapsed": 702,
     "status": "error",
     "timestamp": 1570461409069,
     "user": {
      "displayName": "Иван Николаевич Махнев",
      "photoUrl": "",
      "userId": "00342045664921690282"
     },
     "user_tz": -180
    },
    "id": "29ugcejkHLJs",
    "outputId": "79149e69-82e2-4e9d-e3e6-56c52dae3dec"
   },
   "outputs": [],
   "source": [
    "# с листами из питона так не получится\n",
    "# для них операции имеют другое значение\n",
    "print(type(x))\n",
    "print(x)\n",
    "print(x + x)\n",
    "print(x * 2)\n",
    "print(x ** 2) # возведение в степень не определено"
   ]
  },
  {
   "cell_type": "markdown",
   "metadata": {
    "colab_type": "text",
    "id": "8Fg3G3MgaSCU"
   },
   "source": [
    "#### Поэлементные операции"
   ]
  },
  {
   "cell_type": "code",
   "execution_count": null,
   "metadata": {
    "colab": {
     "base_uri": "https://localhost:8080/",
     "height": 85
    },
    "colab_type": "code",
    "executionInfo": {
     "elapsed": 666,
     "status": "ok",
     "timestamp": 1570461423033,
     "user": {
      "displayName": "Иван Николаевич Махнев",
      "photoUrl": "",
      "userId": "00342045664921690282"
     },
     "user_tz": -180
    },
    "id": "FCXExpERaSCV",
    "outputId": "a7152fde-9be9-4405-b0ff-87a443a1ed69"
   },
   "outputs": [],
   "source": [
    "# в numpy есть функции, которых хватает для построения почти любых рассчётов\n",
    "# есть много других функций, лучше просто загуглить, когда вам что-то понадобится\n",
    "np.exp(a), np.sin(a), np.cos(a), np.round(a)"
   ]
  },
  {
   "cell_type": "markdown",
   "metadata": {
    "colab_type": "text",
    "id": "9-yZuXHFaSCY"
   },
   "source": [
    "#### Cортировка, добавление, удаление элементов массива"
   ]
  },
  {
   "cell_type": "code",
   "execution_count": null,
   "metadata": {
    "colab": {
     "base_uri": "https://localhost:8080/",
     "height": 68
    },
    "colab_type": "code",
    "executionInfo": {
     "elapsed": 661,
     "status": "ok",
     "timestamp": 1570461428403,
     "user": {
      "displayName": "Иван Николаевич Махнев",
      "photoUrl": "",
      "userId": "00342045664921690282"
     },
     "user_tz": -180
    },
    "id": "FZ442SUWHLLF",
    "outputId": "beb60f84-9260-49e0-a5c4-7023cf15d582"
   },
   "outputs": [],
   "source": [
    "b = np.arange(9, -1,-1)\n",
    "print(f'sorted b {np.sort(b)}')\n",
    "print(f'original b {b}')\n",
    "b.sort()\n",
    "print(f'original b after inplace sort {b}')"
   ]
  },
  {
   "cell_type": "markdown",
   "metadata": {
    "colab_type": "text",
    "id": "JtLygbXuHLLH"
   },
   "source": [
    "Функции `delete`, `insert` и `append` не меняют массив на месте, а возвращают новый массив, в котором удалены, вставлены в середину или добавлены в конец какие-то элементы."
   ]
  },
  {
   "cell_type": "code",
   "execution_count": null,
   "metadata": {
    "colab": {
     "base_uri": "https://localhost:8080/",
     "height": 34
    },
    "colab_type": "code",
    "executionInfo": {
     "elapsed": 556,
     "status": "ok",
     "timestamp": 1570884168619,
     "user": {
      "displayName": "Нурболат Кенбаев",
      "photoUrl": "",
      "userId": "00379822414242575115"
     },
     "user_tz": -180
    },
    "id": "FR2hIiO6HLLH",
    "outputId": "258d6e72-038f-45b4-88c1-b63012331326"
   },
   "outputs": [],
   "source": [
    "a = np.arange(10, -1, -1)\n",
    "a = np.delete(a, [5, 7])\n",
    "print(a)"
   ]
  },
  {
   "cell_type": "code",
   "execution_count": null,
   "metadata": {
    "colab": {
     "base_uri": "https://localhost:8080/",
     "height": 34
    },
    "colab_type": "code",
    "executionInfo": {
     "elapsed": 685,
     "status": "ok",
     "timestamp": 1570884178921,
     "user": {
      "displayName": "Нурболат Кенбаев",
      "photoUrl": "",
      "userId": "00379822414242575115"
     },
     "user_tz": -180
    },
    "id": "TXpfhNR4HLLJ",
    "outputId": "551fd03e-f323-483c-a5f6-401f2b9e18a3"
   },
   "outputs": [],
   "source": [
    "a = np.insert(a, [2, 3], [-100, -200])\n",
    "print(a)"
   ]
  },
  {
   "cell_type": "code",
   "execution_count": null,
   "metadata": {
    "colab": {
     "base_uri": "https://localhost:8080/",
     "height": 34
    },
    "colab_type": "code",
    "executionInfo": {
     "elapsed": 509,
     "status": "ok",
     "timestamp": 1570884223222,
     "user": {
      "displayName": "Нурболат Кенбаев",
      "photoUrl": "",
      "userId": "00379822414242575115"
     },
     "user_tz": -180
    },
    "id": "edUJplmjHLLM",
    "outputId": "aa828222-505d-4388-f587-c252f55ecbc9"
   },
   "outputs": [],
   "source": [
    "a = np.append(a, [1, 2, 3])\n",
    "print(a)"
   ]
  },
  {
   "cell_type": "markdown",
   "metadata": {
    "colab_type": "text",
    "id": "9s-fpupQaSCl"
   },
   "source": [
    "### Многомерные массивы"
   ]
  },
  {
   "cell_type": "markdown",
   "metadata": {},
   "source": [
    "В случае многомерных массивов работает всё, что мы только что попробовали для одномерных, но появляются и новые возможности."
   ]
  },
  {
   "cell_type": "markdown",
   "metadata": {},
   "source": [
    "#### Работа с `shape` массива"
   ]
  },
  {
   "cell_type": "markdown",
   "metadata": {
    "colab_type": "text",
    "id": "4nnvpsEIK01s"
   },
   "source": [
    "У многомерных массивов есть понятие осей (их ещё можно назвать измерениями). Так как одни и те же данные могут храниться в массивах разной формы, в `NumPy` есть методы, чтобы эту форму менять.\n",
    "\n",
    "`ndarray.shape` — размеры массива, его форма. Это кортеж натуральных чисел, показывающий длину массива по каждой оси. Для матрицы из `n` строк и `m` столбцов, `shape` будет равен `(n, m)`. "
   ]
  },
  {
   "cell_type": "markdown",
   "metadata": {
    "colab_type": "text",
    "id": "aeRIBlpSK01s"
   },
   "source": [
    "В $n$-мерном случае возвращается кортеж размеров по каждой координате."
   ]
  },
  {
   "cell_type": "code",
   "execution_count": null,
   "metadata": {
    "colab": {
     "base_uri": "https://localhost:8080/",
     "height": 85
    },
    "colab_type": "code",
    "executionInfo": {
     "elapsed": 530,
     "status": "ok",
     "timestamp": 1570884232858,
     "user": {
      "displayName": "Нурболат Кенбаев",
      "photoUrl": "",
      "userId": "00379822414242575115"
     },
     "user_tz": -180
    },
    "id": "k65UpbDEaSCp",
    "outputId": "3ecde687-5165-4b81-c5b2-f779a1d53ec5"
   },
   "outputs": [],
   "source": [
    "x = [[1, 2, 3],\n",
    "     [4, 5, 6]]\n",
    "a = np.array(x)\n",
    "print('shape():', a.shape, '\\nndim():', a.ndim, '\\nsize():', a.size, '\\nlen():', len(a))"
   ]
  },
  {
   "cell_type": "markdown",
   "metadata": {
    "colab_type": "text",
    "id": "Hq1rOe4FK018"
   },
   "source": [
    "**Вопрос:**\n",
    "\n",
    "> Как связаны элементы кортежа `shape`, `ndim`, `size`?"
   ]
  },
  {
   "cell_type": "markdown",
   "metadata": {
    "colab_type": "text",
    "id": "KQrw6IV-p-S1"
   },
   "source": [
    "**Ответ:**\n",
    "\n",
    "> `ndim` - это длина кортежа `shape` \\\n",
    "  `size` - это произведение всех элементов `shape`"
   ]
  },
  {
   "cell_type": "markdown",
   "metadata": {
    "colab_type": "text",
    "id": "tUA07amuo1jt"
   },
   "source": [
    "**Вопрос:**\n",
    "\n",
    "> Каковы значения `shape`, `ndim`, `size` для картинки RGB 160x100? \\\n",
    "  А для массива из 1000 таких картинок?"
   ]
  },
  {
   "cell_type": "markdown",
   "metadata": {
    "colab_type": "text",
    "id": "_LuF70JEK018"
   },
   "source": [
    "**Ответ:**\n",
    "\n",
    "> Для картинки `shape == (160, 100, 3)`, `ndim == 3`, `size == 160 * 100 * 3` \\\n",
    "  Для массива картинок `shape == (1000, 160, 100, 3)`, `ndim == 4`, `size == 1000 * 160 * 100 * 3`"
   ]
  },
  {
   "cell_type": "markdown",
   "metadata": {
    "colab_type": "text",
    "id": "F7WqCNImaSCx"
   },
   "source": [
    "Для смены `shape` существуют методы `reshape`, `flatten` и `ravel`:"
   ]
  },
  {
   "cell_type": "code",
   "execution_count": null,
   "metadata": {
    "colab": {
     "base_uri": "https://localhost:8080/",
     "height": 170
    },
    "colab_type": "code",
    "executionInfo": {
     "elapsed": 622,
     "status": "ok",
     "timestamp": 1570884282749,
     "user": {
      "displayName": "Нурболат Кенбаев",
      "photoUrl": "",
      "userId": "00379822414242575115"
     },
     "user_tz": -180
    },
    "id": "Knm6SxbraSCy",
    "outputId": "b7da3272-8974-4924-b032-a9b918c7050c"
   },
   "outputs": [],
   "source": [
    "print(a)\n",
    "# reshape\n",
    "print(a.reshape(3, 2))\n",
    "# вместо одной из осей можно просто вставить -1, тогда numpy \n",
    "# попытается сам понять, какое там должно быть число\n",
    "print(a.reshape(-1, 2))\n",
    "# если такое число не получится найти, то будет ошибка\n",
    "print(a.reshape(-1))"
   ]
  },
  {
   "cell_type": "code",
   "execution_count": null,
   "metadata": {
    "colab": {
     "base_uri": "https://localhost:8080/",
     "height": 85
    },
    "colab_type": "code",
    "executionInfo": {
     "elapsed": 656,
     "status": "ok",
     "timestamp": 1570884325660,
     "user": {
      "displayName": "Нурболат Кенбаев",
      "photoUrl": "",
      "userId": "00379822414242575115"
     },
     "user_tz": -180
    },
    "id": "H9Ts_O-7aSC1",
    "outputId": "6fa94c4b-5995-4551-de1b-08d3f2bd2ceb"
   },
   "outputs": [],
   "source": [
    "# flatten и ravel очень похожи, они вытягивают матрицу любой размерности в строчку\n",
    "# единственное отличие в том, что flatten возвращает копию массива, вытянутую в строчку\n",
    "# а ravel - просто view (т.е. не происходит реального копирования значений)\n",
    "# пример снизу показывает это отличие\n",
    "flattened = a.flatten()\n",
    "flattened[0] = 1000\n",
    "print(a)\n",
    "raveled = a.ravel()\n",
    "raveled[0] = 1000\n",
    "print(a)"
   ]
  },
  {
   "cell_type": "markdown",
   "metadata": {
    "colab_type": "text",
    "id": "mZwb98wiaSC3"
   },
   "source": [
    "#### Подсчет статистик по осям"
   ]
  },
  {
   "cell_type": "code",
   "execution_count": null,
   "metadata": {
    "colab": {
     "base_uri": "https://localhost:8080/",
     "height": 51
    },
    "colab_type": "code",
    "executionInfo": {
     "elapsed": 728,
     "status": "ok",
     "timestamp": 1570461639256,
     "user": {
      "displayName": "Иван Николаевич Махнев",
      "photoUrl": "",
      "userId": "00342045664921690282"
     },
     "user_tz": -180
    },
    "id": "J1Ue3z9FaSC4",
    "outputId": "897a0194-1bc6-4d60-9583-66c18fb9496c"
   },
   "outputs": [],
   "source": [
    "print(a)"
   ]
  },
  {
   "cell_type": "code",
   "execution_count": null,
   "metadata": {
    "colab": {
     "base_uri": "https://localhost:8080/",
     "height": 119
    },
    "colab_type": "code",
    "executionInfo": {
     "elapsed": 700,
     "status": "ok",
     "timestamp": 1570461668000,
     "user": {
      "displayName": "Иван Николаевич Махнев",
      "photoUrl": "",
      "userId": "00342045664921690282"
     },
     "user_tz": -180
    },
    "id": "lMFOHDVTaSC6",
    "outputId": "ff9ad936-8e63-4c37-fb24-9f05875ba0f5",
    "scrolled": true
   },
   "outputs": [],
   "source": [
    "# если не написать axis, то статистика посчиатется по всему массиву\n",
    "# если axis=1, то для трёхмерной матрицы операция (например, суммирование)\n",
    "# будет идти по элементам с индексами (i, *, j)\n",
    "# если axis=(1, 2), то для трёхмерной матрицы операция будет\n",
    "# идти по элементам с индексами (i, *, *)\n",
    "a.std(axis=0), a.sum(axis=0), a.prod(axis=0), a.min(axis=0), a.max(axis=0), a.mean(axis=0)"
   ]
  },
  {
   "cell_type": "code",
   "execution_count": null,
   "metadata": {
    "colab": {
     "base_uri": "https://localhost:8080/",
     "height": 119
    },
    "colab_type": "code",
    "executionInfo": {
     "elapsed": 631,
     "status": "ok",
     "timestamp": 1570461754190,
     "user": {
      "displayName": "Иван Николаевич Махнев",
      "photoUrl": "",
      "userId": "00342045664921690282"
     },
     "user_tz": -180
    },
    "id": "f8E9einlaSC8",
    "outputId": "c31bc889-1947-4b3b-8b87-e289c49fa528",
    "scrolled": true
   },
   "outputs": [],
   "source": [
    "# посчитаем, итерируясь по 1 оси\n",
    "a.std(axis=1), a.sum(axis=1), a.prod(axis=1), a.min(axis=1), a.max(axis=1), a.mean(axis=1)"
   ]
  },
  {
   "cell_type": "markdown",
   "metadata": {
    "colab_type": "text",
    "id": "IBZg2BrkaSC-"
   },
   "source": [
    "## Булевы массивы\n",
    "Булевы массивы не настолько особенны, чтобы выделять их в отдельную категорию, но у них есть несколько интересных свойств, которые нам помогут. Булевы массивы естественно возникают в нашей программе при сравнении каких-то двух массивов в numpy (==, >, >=, <, <=)."
   ]
  },
  {
   "cell_type": "code",
   "execution_count": null,
   "metadata": {
    "colab": {
     "base_uri": "https://localhost:8080/",
     "height": 102
    },
    "colab_type": "code",
    "executionInfo": {
     "elapsed": 916,
     "status": "ok",
     "timestamp": 1570461776204,
     "user": {
      "displayName": "Иван Николаевич Махнев",
      "photoUrl": "",
      "userId": "00342045664921690282"
     },
     "user_tz": -180
    },
    "id": "tTYLjXS-aSC-",
    "outputId": "2a0b86c0-d5e5-45c2-89a0-2594a6c6e2bc"
   },
   "outputs": [],
   "source": [
    "a = np.array([1, 2, 3])\n",
    "b = np.array([1, 2, 0])\n",
    "\n",
    "a == b, a > b, a >= b, a < b, a <= b"
   ]
  },
  {
   "cell_type": "markdown",
   "metadata": {
    "colab_type": "text",
    "id": "zAIjHDPJaSDB"
   },
   "source": [
    "Посмотрим, что мы можем делать с такими массивами:"
   ]
  },
  {
   "cell_type": "code",
   "execution_count": null,
   "metadata": {
    "colab": {
     "base_uri": "https://localhost:8080/",
     "height": 85
    },
    "colab_type": "code",
    "executionInfo": {
     "elapsed": 707,
     "status": "ok",
     "timestamp": 1570461783874,
     "user": {
      "displayName": "Иван Николаевич Махнев",
      "photoUrl": "",
      "userId": "00342045664921690282"
     },
     "user_tz": -180
    },
    "id": "NDJw37SAaSDC",
    "outputId": "b5ca7c21-1a2c-41fd-da7f-6102d41a1940"
   },
   "outputs": [],
   "source": [
    "a = np.array([True, False, True])\n",
    "b = np.array([False, False, True])\n",
    "\n",
    "# логические поэлементные операции\n",
    "print(f'a and b {a & b}')\n",
    "print(f'a or b {a | b}')\n",
    "print(f'not a {~a}')\n",
    "print(f'a xor b {a ^ b}')"
   ]
  },
  {
   "cell_type": "code",
   "execution_count": null,
   "metadata": {
    "colab": {
     "base_uri": "https://localhost:8080/",
     "height": 34
    },
    "colab_type": "code",
    "executionInfo": {
     "elapsed": 662,
     "status": "ok",
     "timestamp": 1570461827513,
     "user": {
      "displayName": "Иван Николаевич Махнев",
      "photoUrl": "",
      "userId": "00342045664921690282"
     },
     "user_tz": -180
    },
    "id": "6cSvHdOpaSDE",
    "outputId": "46ac3839-572e-48dc-bd60-00f90fc41b3a"
   },
   "outputs": [],
   "source": [
    "# логические операции над всеми элементами массива\n",
    "# в них тоже можно использовать параметр axis\n",
    "a.any(), a.all()"
   ]
  },
  {
   "cell_type": "code",
   "execution_count": null,
   "metadata": {
    "colab": {
     "base_uri": "https://localhost:8080/",
     "height": 34
    },
    "colab_type": "code",
    "executionInfo": {
     "elapsed": 672,
     "status": "ok",
     "timestamp": 1570461858054,
     "user": {
      "displayName": "Иван Николаевич Махнев",
      "photoUrl": "",
      "userId": "00342045664921690282"
     },
     "user_tz": -180
    },
    "id": "7XZ8pcHiaSDI",
    "outputId": "ecd08c62-1b46-4110-efd1-f26007445a35"
   },
   "outputs": [],
   "source": [
    "# если к булевому массиву применить функции, предназначенные только для чисел\n",
    "# то перед применением все True сконвертируются в 1, а False в 0\n",
    "# здесь также можно добавить параметр axis\n",
    "a.mean(), a.max(), a.sum(), a.std()"
   ]
  },
  {
   "cell_type": "markdown",
   "metadata": {
    "colab_type": "text",
    "id": "cak7YP_NaSDL"
   },
   "source": [
    "**Задание на булевы массивы:**\n",
    "\n",
    "> Пусть у нас есть два одномерных массива y_pred - предсказанный нашей моделью класс, и y_true - настоящий класс. Посчитайте accuracy нашего классификатора на этих данных (долю случаев, в которых реальный класс совпал с предсказанием)."
   ]
  },
  {
   "cell_type": "code",
   "execution_count": null,
   "metadata": {
    "colab": {
     "base_uri": "https://localhost:8080/",
     "height": 34
    },
    "colab_type": "code",
    "executionInfo": {
     "elapsed": 639,
     "status": "ok",
     "timestamp": 1570461899770,
     "user": {
      "displayName": "Иван Николаевич Махнев",
      "photoUrl": "",
      "userId": "00342045664921690282"
     },
     "user_tz": -180
    },
    "id": "K5g7mFm5aSDL",
    "outputId": "c8bfc9a4-9601-468b-ad98-b0a37446e434"
   },
   "outputs": [],
   "source": [
    "y_pred = np.array([1, 2, 1, 2, 1, 1])\n",
    "y_true = np.array([1, 2, 1, 1, 1, 1])\n",
    "\n",
    "(y_pred == y_true).mean()"
   ]
  },
  {
   "cell_type": "markdown",
   "metadata": {
    "colab_type": "text",
    "id": "WUyvxPIXaSDO"
   },
   "source": [
    "## Полезные функции из `NumPy`"
   ]
  },
  {
   "cell_type": "markdown",
   "metadata": {
    "colab_type": "text",
    "id": "jjNg7ndbaSDP"
   },
   "source": [
    "Также в `NumPy` есть много полезных методов для получения готовых массивов определённого вида."
   ]
  },
  {
   "cell_type": "markdown",
   "metadata": {
    "colab_type": "text",
    "id": "-ihFsBq-HLJ3"
   },
   "source": [
    "Функция `np.arange` подобна `range`. Аргументы могут быть с плавающей точкой. Следует избегать ситуаций, когда `(конец − начало) / шаг` - это целое число, потому что в этом случае включение последнего элемента зависит от ошибок округления. Лучше, чтобы конец диапазона был где-то посредине шага."
   ]
  },
  {
   "cell_type": "code",
   "execution_count": null,
   "metadata": {
    "colab": {
     "base_uri": "https://localhost:8080/",
     "height": 85
    },
    "colab_type": "code",
    "executionInfo": {
     "elapsed": 700,
     "status": "ok",
     "timestamp": 1570461931625,
     "user": {
      "displayName": "Иван Николаевич Махнев",
      "photoUrl": "",
      "userId": "00342045664921690282"
     },
     "user_tz": -180
    },
    "id": "XyLV0bszHLJ3",
    "outputId": "7d25784a-53aa-4fa7-850f-4733890b6c38"
   },
   "outputs": [],
   "source": [
    "# поиграемся с питоновским методом range\n",
    "print(list(range(8)))\n",
    "print(*range(0, 8))\n",
    "print(*[2, 5])\n",
    "print(2, 5)"
   ]
  },
  {
   "cell_type": "code",
   "execution_count": null,
   "metadata": {
    "colab": {
     "base_uri": "https://localhost:8080/",
     "height": 164
    },
    "colab_type": "code",
    "executionInfo": {
     "elapsed": 717,
     "status": "error",
     "timestamp": 1570461947392,
     "user": {
      "displayName": "Иван Николаевич Махнев",
      "photoUrl": "",
      "userId": "00342045664921690282"
     },
     "user_tz": -180
    },
    "id": "ajsJU8KyHLJ8",
    "outputId": "2d583fe3-048d-47ca-ca8a-7e45155f0707"
   },
   "outputs": [],
   "source": [
    "# в нём нельзя использовать нецелый шаг\n",
    "print(*range(0, 8, 0.5))"
   ]
  },
  {
   "cell_type": "code",
   "execution_count": null,
   "metadata": {
    "colab": {
     "base_uri": "https://localhost:8080/",
     "height": 68
    },
    "colab_type": "code",
    "executionInfo": {
     "elapsed": 701,
     "status": "ok",
     "timestamp": 1570461951712,
     "user": {
      "displayName": "Иван Николаевич Махнев",
      "photoUrl": "",
      "userId": "00342045664921690282"
     },
     "user_tz": -180
    },
    "id": "t8qoTrmZHLJ_",
    "outputId": "bf7ee7f6-80fd-4300-a2c4-f08f63006a20"
   },
   "outputs": [],
   "source": [
    "# перейдем к arange\n",
    "# здесь нецелый шаг использовать уже можно\n",
    "print(type(np.arange(0, 8)))\n",
    "print(np.arange(0, -8, -0.5))"
   ]
  },
  {
   "cell_type": "code",
   "execution_count": null,
   "metadata": {
    "colab": {
     "base_uri": "https://localhost:8080/",
     "height": 34
    },
    "colab_type": "code",
    "executionInfo": {
     "elapsed": 661,
     "status": "ok",
     "timestamp": 1570461954139,
     "user": {
      "displayName": "Иван Николаевич Махнев",
      "photoUrl": "",
      "userId": "00342045664921690282"
     },
     "user_tz": -180
    },
    "id": "yzlqxNrXaSDX",
    "outputId": "1f20ba07-18cb-4630-a17d-311b3c6d047f"
   },
   "outputs": [],
   "source": [
    "print(np.arange(0, 8, 0.5))"
   ]
  },
  {
   "cell_type": "markdown",
   "metadata": {
    "colab_type": "text",
    "id": "ouxSb-QvHLKB"
   },
   "source": [
    "Но самое главное:"
   ]
  },
  {
   "cell_type": "code",
   "execution_count": null,
   "metadata": {
    "colab": {
     "base_uri": "https://localhost:8080/",
     "height": 136
    },
    "colab_type": "code",
    "executionInfo": {
     "elapsed": 3586,
     "status": "ok",
     "timestamp": 1570461962628,
     "user": {
      "displayName": "Иван Николаевич Махнев",
      "photoUrl": "",
      "userId": "00342045664921690282"
     },
     "user_tz": -180
    },
    "id": "aaFIwlCqHLKC",
    "outputId": "6ce28036-09f7-48f7-e7e6-f5fb584ed5cb"
   },
   "outputs": [],
   "source": [
    "%time np.arange(0, 50000000)\n",
    "%time list(range(0, 50000000))\n",
    "%time range(0, 50000000)"
   ]
  },
  {
   "cell_type": "markdown",
   "metadata": {
    "colab_type": "text",
    "id": "94th67WKaSDb"
   },
   "source": [
    "**Вопрос на знание питона:**\n",
    "\n",
    "> Почему `range` занял даже меньше времени, чем `np.arange`?"
   ]
  },
  {
   "cell_type": "markdown",
   "metadata": {
    "colab_type": "text",
    "id": "r_i9uX70HLKF"
   },
   "source": [
    "Еще один метод, похожий на `arange` - это `linspace`. С его помощью можно создавать последовательности чисел с постоянным шагом. Начало и конец диапазона включаются, последний аргумент - число элементов."
   ]
  },
  {
   "cell_type": "code",
   "execution_count": null,
   "metadata": {
    "colab": {
     "base_uri": "https://localhost:8080/",
     "height": 119
    },
    "colab_type": "code",
    "executionInfo": {
     "elapsed": 713,
     "status": "ok",
     "timestamp": 1570462001215,
     "user": {
      "displayName": "Иван Николаевич Махнев",
      "photoUrl": "",
      "userId": "00342045664921690282"
     },
     "user_tz": -180
    },
    "id": "1R3y2u7kHLKF",
    "outputId": "955743af-32d8-473c-e205-4abc28103f9a"
   },
   "outputs": [],
   "source": [
    "a = np.linspace(0, 8, 8)\n",
    "print(a)"
   ]
  },
  {
   "cell_type": "markdown",
   "metadata": {
    "colab_type": "text",
    "id": "7pykEjWGHLKI"
   },
   "source": [
    "**Быстродействие.** Массивы, разумеется, можно использовать в `for` циклах. Но при этом теряется главное преимущество `NumPy` - быстродействие. Всегда, когда это возможно, лучше использовать операции, определенные в `NumPy`."
   ]
  },
  {
   "cell_type": "code",
   "execution_count": null,
   "metadata": {},
   "outputs": [],
   "source": [
    "a = np.linspace(0, 8, 8000)"
   ]
  },
  {
   "cell_type": "code",
   "execution_count": null,
   "metadata": {
    "colab": {
     "base_uri": "https://localhost:8080/",
     "height": 51
    },
    "colab_type": "code",
    "executionInfo": {
     "elapsed": 660,
     "status": "ok",
     "timestamp": 1570462040261,
     "user": {
      "displayName": "Иван Николаевич Махнев",
      "photoUrl": "",
      "userId": "00342045664921690282"
     },
     "user_tz": -180
    },
    "id": "XOcvgxP8HLKI",
    "outputId": "fa6040fe-3538-4588-c0b8-9e27c3cd4324"
   },
   "outputs": [],
   "source": [
    "%%time \n",
    "res = a + a"
   ]
  },
  {
   "cell_type": "code",
   "execution_count": null,
   "metadata": {
    "colab": {
     "base_uri": "https://localhost:8080/",
     "height": 51
    },
    "colab_type": "code",
    "executionInfo": {
     "elapsed": 685,
     "status": "ok",
     "timestamp": 1570462045755,
     "user": {
      "displayName": "Иван Николаевич Махнев",
      "photoUrl": "",
      "userId": "00342045664921690282"
     },
     "user_tz": -180
    },
    "id": "33yWW6tzHLKK",
    "outputId": "671f73bd-ff69-495f-f73c-d29a766d8a06"
   },
   "outputs": [],
   "source": [
    "%%time\n",
    "res = []\n",
    "for value in a:\n",
    "    res.append(value + value)"
   ]
  },
  {
   "cell_type": "markdown",
   "metadata": {
    "colab_type": "text",
    "id": "XWLsgd8uaSDj"
   },
   "source": [
    "В совсем простых операциях, таких как сложение двух чисел, `Python` не уступает в скорости `C++` или `C`, а поэтому использование `NumPy` не дает выйгрыша, но в более тяжёлых вычислениях разница становится колоссальнной."
   ]
  },
  {
   "cell_type": "markdown",
   "metadata": {
    "colab_type": "text",
    "id": "rXe3ZDApHLL-"
   },
   "source": [
    "Ещё один способ создавать стандартные массивы - `np.eye(N, M=None, ...)`, `np.zeros(shape, ...)`, `np.ones(shape, ...)`.\n",
    "\n",
    "Первая функция создает единичную матрицу размера $N \\times M$; если $M$ не задано, то $M = N$. \n",
    "\n",
    "Вторая и третья функции создают матрицы, состоящие целиком из нулей или единиц соответственно. В качестве первого аргумента необходимо задать размерность массива — кортеж целых чисел. В двумерном случае это набор из двух чисел: количество строк и столбцов матрицы."
   ]
  },
  {
   "cell_type": "markdown",
   "metadata": {},
   "source": [
    "**Примеры:**"
   ]
  },
  {
   "cell_type": "code",
   "execution_count": null,
   "metadata": {
    "colab": {
     "base_uri": "https://localhost:8080/",
     "height": 119
    },
    "colab_type": "code",
    "executionInfo": {
     "elapsed": 1328,
     "status": "ok",
     "timestamp": 1570462100603,
     "user": {
      "displayName": "Иван Николаевич Махнев",
      "photoUrl": "",
      "userId": "00342045664921690282"
     },
     "user_tz": -180
    },
    "id": "2j4wk0IJHLL_",
    "outputId": "247ce660-8fde-47e8-cc0a-448621058418"
   },
   "outputs": [],
   "source": [
    "b = np.eye(5)\n",
    "print(\"Единичная матрица:\\n\", b)"
   ]
  },
  {
   "cell_type": "code",
   "execution_count": null,
   "metadata": {
    "colab": {
     "base_uri": "https://localhost:8080/",
     "height": 153
    },
    "colab_type": "code",
    "executionInfo": {
     "elapsed": 1313,
     "status": "ok",
     "timestamp": 1570462103774,
     "user": {
      "displayName": "Иван Николаевич Махнев",
      "photoUrl": "",
      "userId": "00342045664921690282"
     },
     "user_tz": -180
    },
    "id": "wskPIk0pHLME",
    "outputId": "eed429ba-0776-4e19-d392-68a1c42e1fc1"
   },
   "outputs": [],
   "source": [
    "c = np.ones((7, 5))\n",
    "print(\"Матрица, состоящая из одних единиц:\\n\", c)"
   ]
  },
  {
   "cell_type": "markdown",
   "metadata": {
    "colab_type": "text",
    "id": "p_VsgozbHLMF"
   },
   "source": [
    "**Обратите внимание: размерность массива задается не двумя аргументами функции, а одним — кортежем!** \n",
    "\n",
    "Вот так — `np.ones(7, 5)` — создать массив не получится, так как функции в качестве параметра `shape` передается `7`, а не кортеж `(7, 5)`."
   ]
  },
  {
   "cell_type": "markdown",
   "metadata": {
    "colab_type": "text",
    "id": "_EWNyOMzBHWd"
   },
   "source": [
    "**Задание на создание матриц:**\n",
    "\n",
    "> Создайте матрицу размера 4х5, у которой все элементы, стоящие на диагонали, равны -1, а все остальные равны 0.5."
   ]
  },
  {
   "cell_type": "code",
   "execution_count": null,
   "metadata": {
    "colab": {
     "base_uri": "https://localhost:8080/",
     "height": 85
    },
    "colab_type": "code",
    "executionInfo": {
     "elapsed": 689,
     "status": "ok",
     "timestamp": 1570462204870,
     "user": {
      "displayName": "Иван Николаевич Махнев",
      "photoUrl": "",
      "userId": "00342045664921690282"
     },
     "user_tz": -180
    },
    "id": "lT-TsytjBGky",
    "outputId": "4d015f47-e145-41b0-ff59-2e9a905cca63"
   },
   "outputs": [],
   "source": [
    "-1.5 * np.eye(4, 5) + 0.5"
   ]
  },
  {
   "cell_type": "markdown",
   "metadata": {
    "colab_type": "text",
    "id": "ULmaIAMTHLKP"
   },
   "source": [
    "## Slices, Fancy Indexing and stuff"
   ]
  },
  {
   "cell_type": "markdown",
   "metadata": {
    "colab_type": "text",
    "id": "Aax0h2xWaSDp"
   },
   "source": [
    "**Обращение по слайсам**\n",
    "\n",
    "Так же как и для обычных листов, для `NumPy` массивов доступно обращение по слайсам (`a[2:5:2]`, `2:5:2` - слайс). Но есть одно отличие - в `NumPy` можно писать несколько слайсов через запятую, чтобы сделать *срез* сразу по нескольким осям - `a[2:5, 1:4]`. "
   ]
  },
  {
   "cell_type": "code",
   "execution_count": null,
   "metadata": {
    "colab": {
     "base_uri": "https://localhost:8080/",
     "height": 102
    },
    "colab_type": "code",
    "executionInfo": {
     "elapsed": 687,
     "status": "ok",
     "timestamp": 1570462231093,
     "user": {
      "displayName": "Иван Николаевич Махнев",
      "photoUrl": "",
      "userId": "00342045664921690282"
     },
     "user_tz": -180
    },
    "id": "QwEvyLoNaSDq",
    "outputId": "959fecd6-3377-4f31-8fb1-740910e862e9"
   },
   "outputs": [],
   "source": [
    "a = np.array([\n",
    "                [1, 2, 3, 4],\n",
    "                [5, 6, 7, 8],\n",
    "                [9, 10, 11, 12]\n",
    "             ])\n",
    "print(a)\n",
    "print(a[0:2, 1:3])"
   ]
  },
  {
   "cell_type": "markdown",
   "metadata": {
    "colab_type": "text",
    "id": "KdzPmxUaHLL5"
   },
   "source": [
    "**Обращение по слайсам с добавлением новых осей**\n",
    "\n",
    "В `NumPy` к размерностям объектов можно добавлять фиктивные оси с помощью `np.newaxis`. Для того, чтобы понять, как это сделать, рассмотрим пример:"
   ]
  },
  {
   "cell_type": "code",
   "execution_count": null,
   "metadata": {
    "colab": {
     "base_uri": "https://localhost:8080/",
     "height": 85
    },
    "colab_type": "code",
    "executionInfo": {
     "elapsed": 695,
     "status": "ok",
     "timestamp": 1570462258517,
     "user": {
      "displayName": "Иван Николаевич Махнев",
      "photoUrl": "",
      "userId": "00342045664921690282"
     },
     "user_tz": -180
    },
    "id": "-hUON9TIHLL5",
    "outputId": "800638f3-f939-4ee2-befb-ab1027172211"
   },
   "outputs": [],
   "source": [
    "a = np.arange(1, 4, 1)\n",
    "print(a)\n",
    "print('Вектор a с newaxis --> вектор-строка:\\n', a[None, :])\n",
    "print('Полученная размерность:', a[np.newaxis, :].shape)\n",
    "print('Вектор a с newaxis --> вектор-столбец:\\n', a[:, None])\n",
    "print('Полученная размерность:', a[:, np.newaxis].shape)"
   ]
  },
  {
   "cell_type": "markdown",
   "metadata": {
    "colab_type": "text",
    "id": "gqyenIEhaSDy"
   },
   "source": [
    "**Обращение по индексам**\n",
    "\n",
    "В `NumPy` можно обращаться сразу к нескольким элементам массива, которые не идут подряд, передав в качестве аргумента `list` или `np.array` индексов:"
   ]
  },
  {
   "cell_type": "code",
   "execution_count": null,
   "metadata": {
    "colab": {
     "base_uri": "https://localhost:8080/",
     "height": 34
    },
    "colab_type": "code",
    "executionInfo": {
     "elapsed": 813,
     "status": "ok",
     "timestamp": 1570462356116,
     "user": {
      "displayName": "Иван Николаевич Махнев",
      "photoUrl": "",
      "userId": "00342045664921690282"
     },
     "user_tz": -180
    },
    "id": "aN79z1QtaSDz",
    "outputId": "7bacecd9-5253-450d-8e03-159cfd0e5f38"
   },
   "outputs": [],
   "source": [
    "a = np.array([0, 1, 2, 3])\n",
    "a[0], a[[0, 1, 1, 2]], a[np.array([0, 1, 1, 2])]"
   ]
  },
  {
   "cell_type": "code",
   "execution_count": null,
   "metadata": {
    "colab": {
     "base_uri": "https://localhost:8080/",
     "height": 69
    },
    "colab_type": "code",
    "executionInfo": {
     "elapsed": 578,
     "status": "ok",
     "timestamp": 1571613689289,
     "user": {
      "displayName": "Никита Алексеевич Лалиев",
      "photoUrl": "",
      "userId": "06235647946524140345"
     },
     "user_tz": -180
    },
    "id": "a9aN9JaLaSD1",
    "outputId": "0e652b99-8c19-473e-dab0-67b93d9ee82b"
   },
   "outputs": [],
   "source": [
    "# многомерный случай\n",
    "z = np.array([[1, 2], [3, 4]])\n",
    "print(z)\n",
    "# можно передать массив с индексами для каждого из измерений\n",
    "# в данном случае выберутся элементы с индексами (0, 0) и (1, 1)\n",
    "# результат - одномерный массив\n",
    "print(z[[0, 1], [0, 1]])"
   ]
  },
  {
   "cell_type": "markdown",
   "metadata": {
    "colab_type": "text",
    "id": "nb8G_LUdaSD3"
   },
   "source": [
    "**Обращение по булевому массиву**"
   ]
  },
  {
   "cell_type": "code",
   "execution_count": null,
   "metadata": {
    "colab": {
     "base_uri": "https://localhost:8080/",
     "height": 68
    },
    "colab_type": "code",
    "executionInfo": {
     "elapsed": 683,
     "status": "ok",
     "timestamp": 1570462403649,
     "user": {
      "displayName": "Иван Николаевич Махнев",
      "photoUrl": "",
      "userId": "00342045664921690282"
     },
     "user_tz": -180
    },
    "id": "VP7UZPrnHLKS",
    "outputId": "648f2684-f341-4717-a7dc-8c1007e2efee"
   },
   "outputs": [],
   "source": [
    "print(a)\n",
    "print(a[[True, False, True, True]])\n",
    "# как мы уже выяснили, в результате сравнения numpy массивов получается булев массив\n",
    "# его очень удобно использовать, чтобы обращаться к элементам, удовлетворяющим некоторому условию\n",
    "print(a[a > 1])"
   ]
  },
  {
   "cell_type": "markdown",
   "metadata": {
    "colab_type": "text",
    "id": "sl_dxkHfaSEB"
   },
   "source": [
    "**Присвоение значений во view**\n",
    "\n",
    "Когда мы используем слайсы для выборки каких-то элементов массива, нам возвращается не новый массив с этими элементами, а просто объект `view`, который ссылается на какие-то ячейки в реальном массиве. Поэтому мы можем сделать так:"
   ]
  },
  {
   "cell_type": "code",
   "execution_count": null,
   "metadata": {
    "colab": {
     "base_uri": "https://localhost:8080/",
     "height": 68
    },
    "colab_type": "code",
    "executionInfo": {
     "elapsed": 675,
     "status": "ok",
     "timestamp": 1570462447257,
     "user": {
      "displayName": "Иван Николаевич Махнев",
      "photoUrl": "",
      "userId": "00342045664921690282"
     },
     "user_tz": -180
    },
    "id": "b_Li8FGLaSEB",
    "outputId": "f192d100-88de-4acb-d8fb-6d39a766e1a5"
   },
   "outputs": [],
   "source": [
    "a = np.array([1, 2, 3])\n",
    "b = a[0:2]\n",
    "print(b)\n",
    "b[0] = 100\n",
    "print(b)\n",
    "print(a)"
   ]
  },
  {
   "cell_type": "markdown",
   "metadata": {
    "colab_type": "text",
    "id": "PfdoN87ZaSED"
   },
   "source": [
    "Изменив элемент во `view` b, мы поменяли элемент и в массиве а. Если же обратиться по списку координат или булевому массиву, так не получится:"
   ]
  },
  {
   "cell_type": "code",
   "execution_count": null,
   "metadata": {
    "colab": {
     "base_uri": "https://localhost:8080/",
     "height": 68
    },
    "colab_type": "code",
    "executionInfo": {
     "elapsed": 688,
     "status": "ok",
     "timestamp": 1570462456428,
     "user": {
      "displayName": "Иван Николаевич Махнев",
      "photoUrl": "",
      "userId": "00342045664921690282"
     },
     "user_tz": -180
    },
    "id": "brYHL8v4aSED",
    "outputId": "aa930483-e0a0-4fe2-e874-2ae200b9321c"
   },
   "outputs": [],
   "source": [
    "a = np.array([1, 2, 3])\n",
    "b = a[[0, 1]]\n",
    "print(b)\n",
    "b[0] = 100\n",
    "print(b)\n",
    "print(a)"
   ]
  },
  {
   "cell_type": "code",
   "execution_count": null,
   "metadata": {
    "colab": {
     "base_uri": "https://localhost:8080/",
     "height": 68
    },
    "colab_type": "code",
    "executionInfo": {
     "elapsed": 714,
     "status": "ok",
     "timestamp": 1570462472120,
     "user": {
      "displayName": "Иван Николаевич Махнев",
      "photoUrl": "",
      "userId": "00342045664921690282"
     },
     "user_tz": -180
    },
    "id": "x-PVgDYAaSEF",
    "outputId": "8156ff08-8134-4587-8b77-e134a85a1f2b"
   },
   "outputs": [],
   "source": [
    "a = np.array([1, 2, 3])\n",
    "b = a[[True, True, False]]\n",
    "print(b)\n",
    "b[0] = 100\n",
    "print(b)\n",
    "print(a)"
   ]
  },
  {
   "cell_type": "markdown",
   "metadata": {
    "colab_type": "text",
    "id": "TR5bSBAsaSEH"
   },
   "source": [
    "**Вопрос:**\n",
    "\n",
    "> Означает ли это, что не сработают выражения вида: \\\n",
    "      `a[[0, 1]] = 100` \\\n",
    "      `a[[True, True, False]] = 200`"
   ]
  },
  {
   "cell_type": "markdown",
   "metadata": {},
   "source": [
    "**Ответ:**\n",
    "\n",
    "> Присваивания сработают, потому что в данном случае копия массива создаваться не будет, вместо этого вызовется магический метод питона `__setitem__`. Очень удобная особенность питона, про которую не стоит забывать."
   ]
  },
  {
   "cell_type": "code",
   "execution_count": null,
   "metadata": {},
   "outputs": [],
   "source": [
    "print(a)\n",
    "a[[0, 1]] = 100\n",
    "print(a)\n",
    "a[[True, True, False]] = 200\n",
    "print(a)"
   ]
  },
  {
   "cell_type": "markdown",
   "metadata": {
    "colab_type": "text",
    "id": "4px-96mmaSEK"
   },
   "source": [
    "Если же слева будет не просто обращение по индексу, а двойное обращение по индексу, то питону придется вычислить значение\n",
    "\n",
    "```python\n",
    "a[[True, True, False]]\n",
    "```\n",
    "\n",
    "тем самым создав копию, и только потом взять у него нулевой элемент. Поэтому $100$ присвоится в массив-копию, который тут же уничтожится:"
   ]
  },
  {
   "cell_type": "code",
   "execution_count": null,
   "metadata": {
    "colab": {
     "base_uri": "https://localhost:8080/",
     "height": 51
    },
    "colab_type": "code",
    "executionInfo": {
     "elapsed": 699,
     "status": "ok",
     "timestamp": 1570462552607,
     "user": {
      "displayName": "Иван Николаевич Махнев",
      "photoUrl": "",
      "userId": "00342045664921690282"
     },
     "user_tz": -180
    },
    "id": "HUryf9tWaSEL",
    "outputId": "6ea282df-fe7a-4e32-be27-bd054e193f29"
   },
   "outputs": [],
   "source": [
    "a = np.array([1, 2, 3])\n",
    "a[[True, True, False]][0] = 100\n",
    "print(a)"
   ]
  },
  {
   "cell_type": "markdown",
   "metadata": {
    "colab_type": "text",
    "id": "qPgkWQN2CMOf"
   },
   "source": [
    "**Задание на slicing:**\n",
    "\n",
    "> Создайте матрицу 4х4, у которой элементы, для которых `i == 4 - j`, равны 1, а остальные - 0."
   ]
  },
  {
   "cell_type": "code",
   "execution_count": null,
   "metadata": {
    "colab": {
     "base_uri": "https://localhost:8080/",
     "height": 101
    },
    "colab_type": "code",
    "executionInfo": {
     "elapsed": 700,
     "status": "ok",
     "timestamp": 1570629376448,
     "user": {
      "displayName": "Павел Александрович Егоров",
      "photoUrl": "",
      "userId": "12230439373660992952"
     },
     "user_tz": -180
    },
    "id": "1v0h7fi6CcN2",
    "outputId": "17678840-1727-4144-943d-6eb58fd47db3"
   },
   "outputs": [],
   "source": [
    "m = np.zeros((4, 5))\n",
    "m[[0, 1, 2, 3], [3, 2, 1, 0]] = [1, 1, 1, 1]\n",
    "print(m)\n"
   ]
  },
  {
   "cell_type": "markdown",
   "metadata": {},
   "source": [
    "**Константы**"
   ]
  },
  {
   "cell_type": "code",
   "execution_count": null,
   "metadata": {},
   "outputs": [],
   "source": [
    "np.e, np.pi"
   ]
  },
  {
   "cell_type": "markdown",
   "metadata": {
    "colab_type": "text",
    "id": "AM3HRmx5aSEM"
   },
   "source": [
    "## Линейная Алгебра"
   ]
  },
  {
   "cell_type": "markdown",
   "metadata": {},
   "source": [
    "До этого мы рассматривали разные операции `NumPy`, которые не связаны напрямую с линейной алгеброй. Пришло время это исправить!"
   ]
  },
  {
   "cell_type": "markdown",
   "metadata": {
    "colab_type": "text",
    "id": "WfqfXImaHLKg"
   },
   "source": [
    "**Скалярное произведение**\n",
    "\n",
    "$$a~\\cdot~b = (a_1, a_2, .., a_n) \\cdot (b_1, b_2, .., b_n) = a_1b_1 + a_2b_2 + .. + b_nb_n = \\sum_{i=1}^{n} a_ib_i$$"
   ]
  },
  {
   "cell_type": "code",
   "execution_count": null,
   "metadata": {
    "colab": {
     "base_uri": "https://localhost:8080/",
     "height": 34
    },
    "colab_type": "code",
    "executionInfo": {
     "elapsed": 681,
     "status": "ok",
     "timestamp": 1570462808708,
     "user": {
      "displayName": "Иван Николаевич Махнев",
      "photoUrl": "",
      "userId": "00342045664921690282"
     },
     "user_tz": -180
    },
    "id": "47c57Q62EQmw",
    "outputId": "4d69d7c6-0b05-43b5-9716-2b0b60df18ab"
   },
   "outputs": [],
   "source": [
    "a = np.array([1, 2, 3])\n",
    "b = np.array([2, 3, 4])\n",
    "print(a, b)"
   ]
  },
  {
   "cell_type": "code",
   "execution_count": null,
   "metadata": {
    "colab": {
     "base_uri": "https://localhost:8080/",
     "height": 34
    },
    "colab_type": "code",
    "executionInfo": {
     "elapsed": 711,
     "status": "ok",
     "timestamp": 1570462811090,
     "user": {
      "displayName": "Иван Николаевич Махнев",
      "photoUrl": "",
      "userId": "00342045664921690282"
     },
     "user_tz": -180
    },
    "id": "zae5Ebopvf5t",
    "outputId": "d8e7c10e-a0d0-4d76-9b77-279b8a279ef2"
   },
   "outputs": [],
   "source": [
    "a @ b"
   ]
  },
  {
   "cell_type": "code",
   "execution_count": null,
   "metadata": {
    "colab": {
     "base_uri": "https://localhost:8080/",
     "height": 34
    },
    "colab_type": "code",
    "executionInfo": {
     "elapsed": 866,
     "status": "ok",
     "timestamp": 1570462814636,
     "user": {
      "displayName": "Иван Николаевич Махнев",
      "photoUrl": "",
      "userId": "00342045664921690282"
     },
     "user_tz": -180
    },
    "id": "YXx9wDsyHLKi",
    "outputId": "f7ad5513-532e-4c96-e660-fb572979d9f7"
   },
   "outputs": [],
   "source": [
    "print(np.matmul(a, b))"
   ]
  },
  {
   "cell_type": "markdown",
   "metadata": {
    "colab": {},
    "colab_type": "code",
    "id": "JY03g_bEHLLe"
   },
   "source": [
    "**Векторы и матрицы**"
   ]
  },
  {
   "cell_type": "code",
   "execution_count": null,
   "metadata": {
    "colab": {},
    "colab_type": "code",
    "id": "HKDz1cB9aSEU"
   },
   "outputs": [],
   "source": [
    "b = np.array([\n",
    "    [1, 2, 3],\n",
    "    [4, 5, 6]\n",
    "])"
   ]
  },
  {
   "cell_type": "markdown",
   "metadata": {
    "colab_type": "text",
    "id": "FFiel6s3HLLp"
   },
   "source": [
    "Наш 2-мерный массив `b`, также его можно назвать матрицей, имеет 2 строки и 3 столбца.\n",
    "То есть наша матрица состоит из 2 вектор-строк:"
   ]
  },
  {
   "cell_type": "code",
   "execution_count": null,
   "metadata": {
    "colab": {
     "base_uri": "https://localhost:8080/",
     "height": 85
    },
    "colab_type": "code",
    "executionInfo": {
     "elapsed": 725,
     "status": "ok",
     "timestamp": 1570462826543,
     "user": {
      "displayName": "Иван Николаевич Махнев",
      "photoUrl": "",
      "userId": "00342045664921690282"
     },
     "user_tz": -180
    },
    "id": "LxQ6e7GCHLLq",
    "outputId": "73464f93-9185-4df4-c8d9-acd0deb73fde"
   },
   "outputs": [],
   "source": [
    "print(b)\n",
    "b[0:2, 0:1]"
   ]
  },
  {
   "cell_type": "code",
   "execution_count": null,
   "metadata": {
    "colab": {},
    "colab_type": "code",
    "id": "q1V4QuJvHLLs"
   },
   "outputs": [],
   "source": [
    "b[1:2]"
   ]
  },
  {
   "cell_type": "markdown",
   "metadata": {
    "colab_type": "text",
    "id": "UX0T5yRzHLLv"
   },
   "source": [
    "Обычно в линейной алгебре под любым вектором подразумевается вектор-столбец. Наша матрица содержит 3 вектор-стобца:"
   ]
  },
  {
   "cell_type": "code",
   "execution_count": null,
   "metadata": {
    "colab": {
     "base_uri": "https://localhost:8080/",
     "height": 51
    },
    "colab_type": "code",
    "executionInfo": {
     "elapsed": 692,
     "status": "ok",
     "timestamp": 1570462842095,
     "user": {
      "displayName": "Иван Николаевич Махнев",
      "photoUrl": "",
      "userId": "00342045664921690282"
     },
     "user_tz": -180
    },
    "id": "0kWqkkhmHLLv",
    "outputId": "de68cadf-c713-4876-adfa-d4d5fca75c2a"
   },
   "outputs": [],
   "source": [
    "b[:, 0:1]"
   ]
  },
  {
   "cell_type": "code",
   "execution_count": null,
   "metadata": {
    "colab": {
     "base_uri": "https://localhost:8080/",
     "height": 51
    },
    "colab_type": "code",
    "executionInfo": {
     "elapsed": 691,
     "status": "ok",
     "timestamp": 1570462844445,
     "user": {
      "displayName": "Иван Николаевич Махнев",
      "photoUrl": "",
      "userId": "00342045664921690282"
     },
     "user_tz": -180
    },
    "id": "CxUwuDqUHLLx",
    "outputId": "9e092db8-9f94-4a0c-b892-046dd8c90a64"
   },
   "outputs": [],
   "source": [
    "b[:, 1:2]"
   ]
  },
  {
   "cell_type": "code",
   "execution_count": null,
   "metadata": {
    "colab": {
     "base_uri": "https://localhost:8080/",
     "height": 51
    },
    "colab_type": "code",
    "executionInfo": {
     "elapsed": 418,
     "status": "ok",
     "timestamp": 1570462844768,
     "user": {
      "displayName": "Иван Николаевич Махнев",
      "photoUrl": "",
      "userId": "00342045664921690282"
     },
     "user_tz": -180
    },
    "id": "ulY47VBJHLL1",
    "outputId": "235e64ff-b067-4d2f-db06-dbbc0eabab61"
   },
   "outputs": [],
   "source": [
    "b[:, 2:3]"
   ]
  },
  {
   "cell_type": "code",
   "execution_count": null,
   "metadata": {
    "colab": {
     "base_uri": "https://localhost:8080/",
     "height": 164
    },
    "colab_type": "code",
    "executionInfo": {
     "elapsed": 739,
     "status": "error",
     "timestamp": 1570462845657,
     "user": {
      "displayName": "Иван Николаевич Махнев",
      "photoUrl": "",
      "userId": "00342045664921690282"
     },
     "user_tz": -180
    },
    "id": "yoGzfSxbvbdJ",
    "outputId": "1f834fd5-6886-48c4-dc3c-9ad245faac3a"
   },
   "outputs": [],
   "source": [
    "a @ b"
   ]
  },
  {
   "cell_type": "markdown",
   "metadata": {
    "colab_type": "text",
    "id": "j5YLEr1YHLMe"
   },
   "source": [
    "**Операции с матрицами**"
   ]
  },
  {
   "cell_type": "code",
   "execution_count": null,
   "metadata": {
    "colab": {},
    "colab_type": "code",
    "id": "LuHvQIYYHLMe"
   },
   "outputs": [],
   "source": [
    "A = np.array([[1, 0], [0, 1]])\n",
    "B = np.array([[4, 1], [2, 2]])"
   ]
  },
  {
   "cell_type": "markdown",
   "metadata": {
    "colab_type": "text",
    "id": "Y7CJCuL5HLMl"
   },
   "source": [
    "Напоминание теории. **Транспонированной матрицей** $A^{T}$ называется матрица, полученная из исходной матрицы $A$ заменой строк на столбцы. Формально: элементы матрицы $A^{T}$ определяются как $a^{T}_{ij} = a_{ji}$, где $a^{T}_{ij}$ — элемент матрицы $A^{T}$, стоящий на пересечении строки с номером $i$ и столбца с номером $j$.\n",
    "\n",
    "В `NumPy` транспонированная матрица вычисляется с помощью функции `numpy.transpose()` или с помощью *метода* `array.T`, где `array` — нужный двумерный массив:"
   ]
  },
  {
   "cell_type": "code",
   "execution_count": null,
   "metadata": {
    "colab": {},
    "colab_type": "code",
    "id": "Q6G6FzQ3HLMl"
   },
   "outputs": [],
   "source": [
    "a = np.array([[1, 2], [3, 4]])\n",
    "b = np.transpose(a)\n",
    "c = a.T"
   ]
  },
  {
   "cell_type": "code",
   "execution_count": null,
   "metadata": {
    "colab": {
     "base_uri": "https://localhost:8080/",
     "height": 170
    },
    "colab_type": "code",
    "executionInfo": {
     "elapsed": 1438,
     "status": "ok",
     "timestamp": 1570462903049,
     "user": {
      "displayName": "Иван Николаевич Махнев",
      "photoUrl": "",
      "userId": "00342045664921690282"
     },
     "user_tz": -180
    },
    "id": "_dBqecA2HLMn",
    "outputId": "d03838ae-733c-4974-e186-2d0bca1588a6"
   },
   "outputs": [],
   "source": [
    "print(\"Матрица:\\n\", a)\n",
    "print(\"Транспонирование функцией:\\n\", b)\n",
    "print(\"Транспонирование методом:\\n\",  c)"
   ]
  },
  {
   "cell_type": "code",
   "execution_count": null,
   "metadata": {
    "colab": {},
    "colab_type": "code",
    "id": "xRH5WThdwJ_m"
   },
   "outputs": [],
   "source": [
    "a @ b"
   ]
  },
  {
   "cell_type": "markdown",
   "metadata": {
    "colab_type": "text",
    "id": "gPABHln8HLMp"
   },
   "source": [
    "Напоминание теории. Операция **умножения** определена для двух матриц, если число столбцов первой равно числу строк второй.\n",
    "\n",
    "Пусть матрицы $A$ и $B$ таковы, что $A \\in \\mathbb{R}^{n \\times k}$ и $B \\in \\mathbb{R}^{k \\times m}$. **Произведением** матриц $A$ и $B$ называется матрица $C$, такая что $c_{ij} = \\sum_{r=1}^{k} a_{ir}b_{rj}$, где $c_{ij}$ — элемент матрицы $C$, стоящий на пересечении строки с номером $i$ и столбца с номером $j$.\n",
    "\n",
    "В `NumPy` произведение матриц вычисляется с помощью функции `numpy.dot(a, b, ...)` или с помощью *метода* `array1.dot(array2)`, где `array1` и `array2` — перемножаемые матрицы:"
   ]
  },
  {
   "cell_type": "code",
   "execution_count": null,
   "metadata": {
    "colab": {},
    "colab_type": "code",
    "id": "nvmP9mmLHLMq"
   },
   "outputs": [],
   "source": [
    "y = np.array([1, 0])\n",
    "z = np.dot(A, y)"
   ]
  },
  {
   "cell_type": "code",
   "execution_count": null,
   "metadata": {
    "colab": {
     "base_uri": "https://localhost:8080/",
     "height": 34
    },
    "colab_type": "code",
    "executionInfo": {
     "elapsed": 696,
     "status": "ok",
     "timestamp": 1570462946275,
     "user": {
      "displayName": "Иван Николаевич Махнев",
      "photoUrl": "",
      "userId": "00342045664921690282"
     },
     "user_tz": -180
    },
    "id": "YIsxb9UdK06n",
    "outputId": "805319e4-cfe2-42ca-95cc-7a04b1bf6d22"
   },
   "outputs": [],
   "source": [
    "y = np.linalg.solve(A, z)\n",
    "print(y)"
   ]
  },
  {
   "cell_type": "markdown",
   "metadata": {
    "colab_type": "text",
    "id": "4t6WW1poHLMs"
   },
   "source": [
    "**Модуль `np.linalg`**"
   ]
  },
  {
   "cell_type": "code",
   "execution_count": null,
   "metadata": {
    "colab": {
     "base_uri": "https://localhost:8080/",
     "height": 51
    },
    "colab_type": "code",
    "executionInfo": {
     "elapsed": 667,
     "status": "ok",
     "timestamp": 1570462954323,
     "user": {
      "displayName": "Иван Николаевич Махнев",
      "photoUrl": "",
      "userId": "00342045664921690282"
     },
     "user_tz": -180
    },
    "id": "UyCMO5DvHLMt",
    "outputId": "4c18b318-c15f-4eeb-8f40-c20998730ef2"
   },
   "outputs": [],
   "source": [
    "A = np.array([[1, 0], [1, 0]])\n",
    "x = np.array([[4, 1], [2, 2]])\n",
    "b = np.dot(A, x)\n",
    "print(b)"
   ]
  },
  {
   "cell_type": "markdown",
   "metadata": {
    "colab_type": "text",
    "id": "Fse23NT-HLMu"
   },
   "source": [
    "Решение линейной системы $Ax=b$:"
   ]
  },
  {
   "cell_type": "code",
   "execution_count": null,
   "metadata": {
    "colab": {
     "base_uri": "https://localhost:8080/",
     "height": 324
    },
    "colab_type": "code",
    "executionInfo": {
     "elapsed": 702,
     "status": "error",
     "timestamp": 1570462962230,
     "user": {
      "displayName": "Иван Николаевич Махнев",
      "photoUrl": "",
      "userId": "00342045664921690282"
     },
     "user_tz": -180
    },
    "id": "zzseRnnjHLMv",
    "outputId": "95e2445c-fd58-4ae4-db29-9fbb36484548"
   },
   "outputs": [],
   "source": [
    "x = np.linalg.solve(A, b)\n",
    "print(x)"
   ]
  },
  {
   "cell_type": "markdown",
   "metadata": {
    "colab_type": "text",
    "id": "GV6WaYJ3K06x"
   },
   "source": [
    "## Библиотека `SciPy`"
   ]
  },
  {
   "cell_type": "markdown",
   "metadata": {
    "colab_type": "text",
    "id": "rfbdWyb7K06x"
   },
   "source": [
    "**Оптимизация функции (нахождение минимума/максимума)**"
   ]
  },
  {
   "cell_type": "code",
   "execution_count": null,
   "metadata": {
    "colab": {},
    "colab_type": "code",
    "id": "8UhGZKOEK06y"
   },
   "outputs": [],
   "source": [
    "from scipy.optimize import minimize"
   ]
  },
  {
   "cell_type": "markdown",
   "metadata": {
    "colab_type": "text",
    "id": "9adfxLQHK06y"
   },
   "source": [
    "Обязательно посмотрите документацию, сходу не очевидно, как именно использовать:"
   ]
  },
  {
   "cell_type": "code",
   "execution_count": null,
   "metadata": {
    "colab": {},
    "colab_type": "code",
    "id": "_vpG937gK06y"
   },
   "outputs": [],
   "source": [
    "?minimize"
   ]
  },
  {
   "cell_type": "markdown",
   "metadata": {
    "colab_type": "text",
    "id": "tOHJi6hZK06z"
   },
   "source": [
    "Опмтимизируем (минимизируем) простую функцию:"
   ]
  },
  {
   "cell_type": "code",
   "execution_count": null,
   "metadata": {
    "colab": {},
    "colab_type": "code",
    "id": "7cyblRsMK06z"
   },
   "outputs": [],
   "source": [
    "def f(x):\n",
    "    return x ** 2"
   ]
  },
  {
   "cell_type": "code",
   "execution_count": null,
   "metadata": {
    "colab": {
     "base_uri": "https://localhost:8080/",
     "height": 286
    },
    "colab_type": "code",
    "executionInfo": {
     "elapsed": 693,
     "status": "ok",
     "timestamp": 1570463011568,
     "user": {
      "displayName": "Иван Николаевич Махнев",
      "photoUrl": "",
      "userId": "00342045664921690282"
     },
     "user_tz": -180
    },
    "id": "jg1vmj6oyRhB",
    "outputId": "4b3e0b47-a718-4dfb-90e4-d5fa81d2c3c9"
   },
   "outputs": [],
   "source": [
    "%matplotlib inline\n",
    "import matplotlib.pyplot as plt\n",
    "\n",
    "x = np.arange(-3, 3, .1)\n",
    "y = f(x)\n",
    "\n",
    "plt.plot(x,y)\n",
    "plt.show()"
   ]
  },
  {
   "cell_type": "code",
   "execution_count": null,
   "metadata": {
    "colab": {},
    "colab_type": "code",
    "id": "8AQZT2IDK060"
   },
   "outputs": [],
   "source": [
    "res = minimize(f, x0=100)\n",
    "res"
   ]
  },
  {
   "cell_type": "markdown",
   "metadata": {
    "colab_type": "text",
    "id": "JPQkniL8K061"
   },
   "source": [
    "Тут нужно смотреть на 4 строчки: `fun`, `message`, `success` и `x`: \n",
    "* `fun` - значние функции в точке минимума\n",
    "* `message` - служебное сообщение об окончании процесса (может быть \"успешно\", как здесь, или сообщение о том, что что-то пошло не так (\"не сошлось\"))  \n",
    "* `success` - `True`, если успешно сошлось (но лучше всегда всё же смотреть и `message`) \n",
    "* `x` - точка, в которой достигается минимум"
   ]
  },
  {
   "cell_type": "markdown",
   "metadata": {
    "colab_type": "text",
    "id": "JutOzQrlK062"
   },
   "source": [
    "Можно в аргумент `method` подавать разные ключевые слова для смены метода оптимизации, подробнее о них лучше читать документацию или погуглить."
   ]
  },
  {
   "cell_type": "markdown",
   "metadata": {
    "colab_type": "text",
    "id": "eNfjwNPcK062"
   },
   "source": [
    "**Интегрирование**"
   ]
  },
  {
   "cell_type": "code",
   "execution_count": null,
   "metadata": {
    "colab": {},
    "colab_type": "code",
    "id": "v07dtKwdK062"
   },
   "outputs": [],
   "source": [
    "from scipy.integrate import quad, odeint\n",
    "from scipy.special import erf"
   ]
  },
  {
   "cell_type": "code",
   "execution_count": null,
   "metadata": {
    "colab": {},
    "colab_type": "code",
    "id": "5JAJF-RHK063"
   },
   "outputs": [],
   "source": [
    "def f(x):\n",
    "    return np.exp(-x ** 2)\n",
    "\n",
    "?erf"
   ]
  },
  {
   "cell_type": "code",
   "execution_count": null,
   "metadata": {
    "colab": {
     "base_uri": "https://localhost:8080/",
     "height": 269
    },
    "colab_type": "code",
    "executionInfo": {
     "elapsed": 721,
     "status": "ok",
     "timestamp": 1570463076456,
     "user": {
      "displayName": "Иван Николаевич Махнев",
      "photoUrl": "",
      "userId": "00342045664921690282"
     },
     "user_tz": -180
    },
    "id": "VpncsF4KylNB",
    "outputId": "c538acdf-651f-4818-f7ce-33182d55d3ae"
   },
   "outputs": [],
   "source": [
    "%matplotlib inline\n",
    "import matplotlib.pyplot as plt\n",
    "\n",
    "x = np.arange(-3, 3, .1)\n",
    "y = f(x)\n",
    "\n",
    "plt.plot(x,y);\n",
    "plt.show()"
   ]
  },
  {
   "cell_type": "markdown",
   "metadata": {
    "colab_type": "text",
    "id": "EI4PK884K063"
   },
   "source": [
    "Адаптивное численное интегрирование (может быть до бесконечности), `err` - оценка ошибки:"
   ]
  },
  {
   "cell_type": "code",
   "execution_count": null,
   "metadata": {
    "colab": {
     "base_uri": "https://localhost:8080/",
     "height": 34
    },
    "colab_type": "code",
    "executionInfo": {
     "elapsed": 694,
     "status": "ok",
     "timestamp": 1570463099978,
     "user": {
      "displayName": "Иван Николаевич Махнев",
      "photoUrl": "",
      "userId": "00342045664921690282"
     },
     "user_tz": -180
    },
    "id": "rMrrAR8EK063",
    "outputId": "dcc46c68-028e-43ad-eb29-57ee3a861a3e"
   },
   "outputs": [],
   "source": [
    "res, err = quad(f, 0, np.inf)\n",
    "print(np.sqrt(np.pi) / 2, res, err)"
   ]
  },
  {
   "cell_type": "code",
   "execution_count": null,
   "metadata": {
    "colab": {
     "base_uri": "https://localhost:8080/",
     "height": 34
    },
    "colab_type": "code",
    "executionInfo": {
     "elapsed": 677,
     "status": "ok",
     "timestamp": 1570463128249,
     "user": {
      "displayName": "Иван Николаевич Махнев",
      "photoUrl": "",
      "userId": "00342045664921690282"
     },
     "user_tz": -180
    },
    "id": "nUGcUPBBK064",
    "outputId": "21f5eb5e-2522-4021-9fec-0f130c2c473c"
   },
   "outputs": [],
   "source": [
    "res, err = quad(f, 0, 1)\n",
    "print(np.sqrt(np.pi) / 2 * erf(1), res, err)"
   ]
  },
  {
   "cell_type": "markdown",
   "metadata": {
    "colab_type": "text",
    "id": "7gHqPZZHRV2f"
   },
   "source": [
    "## Работа с изображениями"
   ]
  },
  {
   "cell_type": "markdown",
   "metadata": {},
   "source": [
    "Изображение - это тензор. Загрузим картинку из сети."
   ]
  },
  {
   "cell_type": "code",
   "execution_count": null,
   "metadata": {
    "colab": {},
    "colab_type": "code",
    "id": "IQqrKhgjaSFD"
   },
   "outputs": [],
   "source": [
    "from PIL import Image\n",
    "import requests\n",
    "from io import BytesIO\n",
    "\n",
    "url = 'https://s8.hostingkartinok.com/uploads/images/2018/08/308b49fcfbc619d629fe4604bceb67ac.jpg'\n",
    "\n",
    "response = requests.get(url)\n",
    "img = Image.open(BytesIO(response.content))"
   ]
  },
  {
   "cell_type": "code",
   "execution_count": null,
   "metadata": {
    "colab": {
     "base_uri": "https://localhost:8080/",
     "height": 34
    },
    "colab_type": "code",
    "executionInfo": {
     "elapsed": 672,
     "status": "ok",
     "timestamp": 1570463185601,
     "user": {
      "displayName": "Иван Николаевич Махнев",
      "photoUrl": "",
      "userId": "00342045664921690282"
     },
     "user_tz": -180
    },
    "id": "VvmoZT798Mjo",
    "outputId": "ccbc3cfb-6976-4f94-c916-8cc1d52e2850"
   },
   "outputs": [],
   "source": [
    "type(img)"
   ]
  },
  {
   "cell_type": "markdown",
   "metadata": {
    "colab_type": "text",
    "id": "-j48ouBxRsbJ"
   },
   "source": [
    "Код выше был скопирован с гугла и не представляет для нас большого интереса. Главное - получить изображение в формате `NumPy`:"
   ]
  },
  {
   "cell_type": "code",
   "execution_count": null,
   "metadata": {
    "colab": {
     "base_uri": "https://localhost:8080/",
     "height": 34
    },
    "colab_type": "code",
    "executionInfo": {
     "elapsed": 719,
     "status": "ok",
     "timestamp": 1570463197448,
     "user": {
      "displayName": "Иван Николаевич Махнев",
      "photoUrl": "",
      "userId": "00342045664921690282"
     },
     "user_tz": -180
    },
    "id": "gNvRYxevHy3N",
    "outputId": "601a0f6f-60bf-4d10-b1fc-f1111debbfe9"
   },
   "outputs": [],
   "source": [
    "img = np.array(img)\n",
    "img.shape"
   ]
  },
  {
   "cell_type": "code",
   "execution_count": null,
   "metadata": {
    "colab": {
     "base_uri": "https://localhost:8080/",
     "height": 286
    },
    "colab_type": "code",
    "executionInfo": {
     "elapsed": 903,
     "status": "ok",
     "timestamp": 1570463204001,
     "user": {
      "displayName": "Иван Николаевич Махнев",
      "photoUrl": "",
      "userId": "00342045664921690282"
     },
     "user_tz": -180
    },
    "id": "dwDVnMM5GoUl",
    "outputId": "7f260d0f-2925-4b06-d263-ab8ec6e083a3"
   },
   "outputs": [],
   "source": [
    "from matplotlib import pyplot as plt\n",
    "plt.imshow(img)\n",
    "plt.show()"
   ]
  },
  {
   "cell_type": "code",
   "execution_count": null,
   "metadata": {
    "colab": {
     "base_uri": "https://localhost:8080/",
     "height": 286
    },
    "colab_type": "code",
    "executionInfo": {
     "elapsed": 830,
     "status": "ok",
     "timestamp": 1570463212211,
     "user": {
      "displayName": "Иван Николаевич Махнев",
      "photoUrl": "",
      "userId": "00342045664921690282"
     },
     "user_tz": -180
    },
    "id": "dBD8QGRpGsQE",
    "outputId": "1b4b25d9-2cfd-4a0f-8cae-157ca5a7e9bc"
   },
   "outputs": [],
   "source": [
    "# поменяем местами красный и синий цвета\n",
    "img2 = img[:, :, ::-1]\n",
    "plt.imshow(img2)\n",
    "plt.show()"
   ]
  },
  {
   "cell_type": "code",
   "execution_count": null,
   "metadata": {
    "colab": {
     "base_uri": "https://localhost:8080/",
     "height": 286
    },
    "colab_type": "code",
    "executionInfo": {
     "elapsed": 1037,
     "status": "ok",
     "timestamp": 1570463213390,
     "user": {
      "displayName": "Иван Николаевич Махнев",
      "photoUrl": "",
      "userId": "00342045664921690282"
     },
     "user_tz": -180
    },
    "id": "Tj1XJf5KH3y0",
    "outputId": "35aff885-20fd-4b0a-bbb6-d2167f6268a3"
   },
   "outputs": [],
   "source": [
    "# отразим по вертикали\n",
    "img3 = img[:, ::-1]\n",
    "plt.imshow(img3)\n",
    "plt.show()"
   ]
  },
  {
   "cell_type": "code",
   "execution_count": null,
   "metadata": {
    "colab": {
     "base_uri": "https://localhost:8080/",
     "height": 34
    },
    "colab_type": "code",
    "executionInfo": {
     "elapsed": 749,
     "status": "ok",
     "timestamp": 1570463242082,
     "user": {
      "displayName": "Иван Николаевич Махнев",
      "photoUrl": "",
      "userId": "00342045664921690282"
     },
     "user_tz": -180
    },
    "id": "vRga1T60H7cg",
    "outputId": "3f933588-ea79-43fe-8d73-919b0fb4d38b"
   },
   "outputs": [],
   "source": [
    "# соберём из картинок массив\n",
    "batch = np.concatenate([img[np.newaxis, :, :, :], img2[np.newaxis, :, :, :], img3[np.newaxis, :, :, :]])\n",
    "batch.shape"
   ]
  },
  {
   "cell_type": "code",
   "execution_count": null,
   "metadata": {
    "colab": {
     "base_uri": "https://localhost:8080/",
     "height": 286
    },
    "colab_type": "code",
    "executionInfo": {
     "elapsed": 1098,
     "status": "ok",
     "timestamp": 1570463249312,
     "user": {
      "displayName": "Иван Николаевич Махнев",
      "photoUrl": "",
      "userId": "00342045664921690282"
     },
     "user_tz": -180
    },
    "id": "0HSbP-ZwIEoS",
    "outputId": "40e61c43-6191-4822-f0b5-37c4630ee2bb"
   },
   "outputs": [],
   "source": [
    "# превратим картинку в чёрно-белую\n",
    "img4 = img.sum(axis=2)\n",
    "plt.imshow(img4, cmap=plt.cm.gray)\n",
    "plt.show()"
   ]
  },
  {
   "cell_type": "code",
   "execution_count": null,
   "metadata": {
    "colab": {
     "base_uri": "https://localhost:8080/",
     "height": 34
    },
    "colab_type": "code",
    "executionInfo": {
     "elapsed": 666,
     "status": "ok",
     "timestamp": 1570463254280,
     "user": {
      "displayName": "Иван Николаевич Махнев",
      "photoUrl": "",
      "userId": "00342045664921690282"
     },
     "user_tz": -180
    },
    "id": "ymtoMMel8XjG",
    "outputId": "f6ca32d4-204c-4080-d24b-919d3a798fd8"
   },
   "outputs": [],
   "source": [
    "img4.shape"
   ]
  },
  {
   "cell_type": "markdown",
   "metadata": {
    "colab_type": "text",
    "id": "JqUN04vPK065"
   },
   "source": [
    "## Список материалов для самостоятельного изучения"
   ]
  },
  {
   "cell_type": "markdown",
   "metadata": {
    "colab_type": "text",
    "id": "a6m68ZUgK065"
   },
   "source": [
    "Статья на Хабре по основам `NumPy` - https://habr.com/post/121031/\n",
    "\n",
    "100 задач по `NumPy` для любителей посидеть вечерком за чашечкой программирования - https://pythonworld.ru/numpy/100-exercises.html  \n",
    "\n",
    "Очень крутой, продвинутый ноутбук по `NumPy` - https://nbviewer.jupyter.org/github/vlad17/np-learn/blob/master/presentation.ipynb\n",
    "\n",
    "Штука, которая вам в будущем может пригодиться ;) - https://stackoverflow.com/questions/27948363/numpy-broadcast-to-perform-euclidean-distance-vectorized/35814006  \n",
    "\n",
    "Лекции по `SciPy` и `NumPy` - http://www.scipy-lectures.org/index.html"
   ]
  }
 ],
 "metadata": {
  "colab": {
   "collapsed_sections": [],
   "name": "[seminar,basic]numpy.ipynb",
   "provenance": []
  },
  "hide_input": false,
  "kernelspec": {
   "display_name": "Python 3",
   "language": "python",
   "name": "python3"
  },
  "language_info": {
   "codemirror_mode": {
    "name": "ipython",
    "version": 3
   },
   "file_extension": ".py",
   "mimetype": "text/x-python",
   "name": "python",
   "nbconvert_exporter": "python",
   "pygments_lexer": "ipython3",
   "version": "3.8.3"
  },
  "varInspector": {
   "cols": {
    "lenName": 16,
    "lenType": 16,
    "lenVar": 40
   },
   "kernels_config": {
    "python": {
     "delete_cmd_postfix": "",
     "delete_cmd_prefix": "del ",
     "library": "var_list.py",
     "varRefreshCmd": "print(var_dic_list())"
    },
    "r": {
     "delete_cmd_postfix": ") ",
     "delete_cmd_prefix": "rm(",
     "library": "var_list.r",
     "varRefreshCmd": "cat(var_dic_list()) "
    }
   },
   "types_to_exclude": [
    "module",
    "function",
    "builtin_function_or_method",
    "instance",
    "_Feature"
   ],
   "window_display": false
  }
 },
 "nbformat": 4,
 "nbformat_minor": 1
}
