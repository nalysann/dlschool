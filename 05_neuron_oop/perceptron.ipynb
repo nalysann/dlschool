{
 "cells": [
  {
   "cell_type": "markdown",
   "metadata": {},
   "source": [
    "<p style=\"align: center;\">\n",
    "    <img align=center src=\"../img/dls_logo.jpg\" width=500 height=500>\n",
    "</p>\n",
    "\n",
    "<h1 style=\"text-align: center;\">\n",
    "    Физтех-Школа Прикладной математики и информатики (ФПМИ) МФТИ\n",
    "</h1>\n",
    "\n",
    "---"
   ]
  },
  {
   "cell_type": "markdown",
   "metadata": {
    "colab_type": "text",
    "id": "HnjQZLuC9jAY"
   },
   "source": [
    "<h1 style=\"text-align: center;\">\n",
    "    Перцептрон Розенблатта\n",
    "</h1>"
   ]
  },
  {
   "cell_type": "markdown",
   "metadata": {
    "colab_type": "text",
    "id": "1JBsLVMI9jAa"
   },
   "source": [
    "В данном ноутбуке мы:  \n",
    "\n",
    "* реализуем класс `Perceptron` - нейрон с пороговой функцией активации\n",
    "\n",
    "* обучим и протестируем перцептрон на сгенерированных и реальных данных (файлы с реальными данными помещены в папку `data` в этой же директории)\n",
    "\n",
    "* сравним качество работы вашего класса с классом из библиотеки `scikit-learn` (`sklearn.linear_model.Perceptron`)"
   ]
  },
  {
   "cell_type": "markdown",
   "metadata": {
    "colab_type": "text",
    "id": "cOAHk8eO9jAb"
   },
   "source": [
    "## Введение"
   ]
  },
  {
   "cell_type": "markdown",
   "metadata": {
    "colab_type": "text",
    "id": "bF22tUW79jAc"
   },
   "source": [
    "Почти любой алгоритм машинного обучения, решающий задачу **классификации** или **регрессии**, работает так:\n",
    "\n",
    "1. **Стадия инициализации**: задаются его **гиперпараметры**, то есть те величины, которые не \"выучиваются\" алгоритмом в процессе обучения самостоятельно.\n",
    "\n",
    "2. **Стадия обучения**: алгоритм запускается на данных, **обучаясь** на них и меняя свои **параметры** (не путать с *гипер*параметрами) каким-то определённым образом (например, с помощью *метода градиентного спуска* или *метода коррекции ошибки*), исходя из функции потерь (её называют *loss function*). Функция потерь, по сути, говорит, где и как ошибается модель.\n",
    "\n",
    "3. **Стадия предсказания**: модель готова, и теперь с её помощью можно делать **предсказания** на новых объектах."
   ]
  },
  {
   "cell_type": "code",
   "execution_count": null,
   "metadata": {
    "colab": {},
    "colab_type": "code",
    "id": "3hxoVvmN9jAd"
   },
   "outputs": [],
   "source": [
    "import numpy as np\n",
    "import pandas as pd\n",
    "from matplotlib import pyplot as plt\n",
    "from matplotlib.colors import ListedColormap\n",
    "\n",
    "%matplotlib inline"
   ]
  },
  {
   "cell_type": "markdown",
   "metadata": {
    "colab_type": "text",
    "id": "jHd4CZjS9jAg"
   },
   "source": [
    "## Класс `Perceptron`"
   ]
  },
  {
   "cell_type": "markdown",
   "metadata": {
    "colab_type": "text",
    "id": "PObIs0OB9jAh"
   },
   "source": [
    "В даном разделе будет решаться задача **бинарной классификации** с помощью перцептрона:\n",
    "\n",
    "* **Входные данные**: матрица $X$ размера $(n, m)$ и столбец $y$ из нулей и единиц размера $(n, 1)$. Строкам матрицы соответствуют объекты, столбцам - признаки (то есть строка $i$ есть набор признаков (**признаковое описание**) объекта $X_i$).\n",
    "\n",
    "* **Выходные данные**: столбец $\\hat{y}$ из нулей и единиц размера $(n, 1)$ - предсказания алгоритма."
   ]
  },
  {
   "cell_type": "markdown",
   "metadata": {
    "colab_type": "text",
    "id": "82qIny-49jAi"
   },
   "source": [
    "Чтобы понять, как мы будем обновлять параметры модели (веса), нужно знать, какую функцию потерь мы оптимизируем. В данном случае мы решаем задачу бинарной классификации ($2$ класса: $1$ или $0$), возьмём в качестве функции потерь среднеквадратичную ошибку:  \n",
    "\n",
    "$$\n",
    "Loss(\\hat{y}, y) = \\frac{1}{2n}\\sum_{i=1}^{n} (\\hat{y_i} - y_i)^2 = \\frac{1}{2n}\\sum_{i=1}^{n} (f(w \\cdot X_i + b) - y_i)^2\n",
    "$$  \n",
    "\n",
    "Здесь $w \\cdot X_i$ - скалярное произведение, а $f$ - пороговая функция: \n",
    "\n",
    "$$\n",
    "f(x) =\n",
    "\\begin{cases}\n",
    "1, &\\text{если } x > 0 \\\\\n",
    "0, &\\text{если } x \\le 0\n",
    "\\end{cases}\n",
    "$$  \n",
    "\n",
    "**Примечание.** На самом деле можно считать, что $b$ - свободный член - является частью вектора весов $w_0$, приписав к $X$ слева единичный столбец. Тогда в скалярном произведении с каждым объектом $b$ будет именно как свободный член. При реализации класса `Perceptron` мы будем обновлять $b$ отдельно от $w$."
   ]
  },
  {
   "cell_type": "markdown",
   "metadata": {
    "colab_type": "text",
    "id": "6wGYvpsv9jAj"
   },
   "source": [
    "Реализуем функцию потерь:"
   ]
  },
  {
   "cell_type": "code",
   "execution_count": null,
   "metadata": {
    "colab": {},
    "colab_type": "code",
    "id": "KIMPzh0B9jAk"
   },
   "outputs": [],
   "source": [
    "def loss(y_pred, y):\n",
    "    \"\"\"\n",
    "    Считаем среднеквадратичную ошибку\n",
    "    \"\"\"\n",
    "\n",
    "    return 0.5 * np.mean((y_pred - y) ** 2)"
   ]
  },
  {
   "cell_type": "markdown",
   "metadata": {
    "colab_type": "text",
    "id": "5QrUrljB9jAn"
   },
   "source": [
    "Поскольку у пороговой функции не существует производной в нуле, то мы не можем использовать градиентный спуск, ведь:  \n",
    "\n",
    "$$\n",
    "\\frac{\\partial Loss}{\\partial w} = \\frac{1}{n} X^T\\left(f(w \\cdot X) - y\\right)f'(w \\cdot X)\n",
    "$$  \n",
    "\n",
    "где $f^{'}(w \\cdot X)$ в точке $0$ посчитать не получится. Но хочется как-то обновлять веса, иначе обучения не случится.\n",
    "\n",
    "Поэтому предлагается обновлять так:   \n",
    "\n",
    "$$\n",
    "w^{j+1} = w^{j} - \\alpha\\Delta{w^{j}}\n",
    "$$ \n",
    "\n",
    "$$\n",
    "b^{j+1} = b^{j} - \\alpha\\Delta{b^{j}}\n",
    "$$ \n",
    "\n",
    "где:  \n",
    "\n",
    "$$\n",
    "\\Delta{w} = \\frac{1}{n}X^T(\\hat{y} - y) = \\frac{1}{n}X^T(f(X \\cdot w^j + b^j) - y)\n",
    "$$  \n",
    "\n",
    "$$\n",
    "\\Delta{b} = \\frac{1}{n}X^T(\\hat{y} - y) = \\frac{1}{n}1^T(f(X \\cdot w^j + b^j) - y)\n",
    "$$  \n",
    "\n",
    "где $w \\cdot X$ - матричное произведение столбца весов $w$ на матрицу объектов-признаков $X$, $1^T$ - вектор-строка из единиц, а индекс $j$ - номер итерации градиентного спуска.\n",
    "\n",
    "Это правило является неким частным случаем градиентного спуска для данного случая (см. [правило Хебба](https://ru.wikipedia.org/wiki/Дельта-правило), [метод коррекции ошибки](https://ru.wikipedia.org/wiki/Метод_коррекции_ошибки))."
   ]
  },
  {
   "cell_type": "markdown",
   "metadata": {
    "colab_type": "text",
    "id": "Zrm01BR69jAo"
   },
   "source": [
    "Вооружившись всеми формулами, напишем свой класс `Perceptron`. \n",
    "\n",
    "**Примечание.** В коде ниже `y_pred` - это $\\hat{y}$ из формул выше."
   ]
  },
  {
   "cell_type": "code",
   "execution_count": null,
   "metadata": {
    "colab": {},
    "colab_type": "code",
    "id": "rLBDN2G89jAo"
   },
   "outputs": [],
   "source": [
    "class Perceptron:\n",
    "    def __init__(self, w=None, b=0):\n",
    "        \"\"\"\n",
    "        param w - вектор весов\n",
    "        param b - смещение\n",
    "        \"\"\"\n",
    "\n",
    "        # пока что мы не знаем размер матрицы X, а значит не знаем, сколько будет весов\n",
    "        self.w = w\n",
    "        self.b = b\n",
    "        \n",
    "    def activate(self, x):\n",
    "        return (x > 0).astype(int)\n",
    "        \n",
    "    def forward_pass(self, X):\n",
    "        \"\"\"\n",
    "        Эта функция рассчитывает ответ перцептрона при предъявлении набора объектов\n",
    "        param X - матрица объектов размера (n, m), каждая строка - отдельный объект\n",
    "        return - вектор размера (n,) из нулей и единиц с ответами перцептрона \n",
    "        \"\"\"\n",
    "\n",
    "        # y_pred == y_predicted - предсказанные классы\n",
    "        y_pred = self.activate(X @ self.w + self.b)\n",
    "        return y_pred\n",
    "    \n",
    "    def backward_pass(self, X, y, y_pred, lr=0.005):\n",
    "        \"\"\"\n",
    "        Обновляет значения весов перцептрона в соответствии с этим объектом\n",
    "            param X - матрица объектов размера (n, m)\n",
    "            param y - вектор правильных ответов размера (n,)\n",
    "            param lr - \"скорость обучения\" (символ alpha в формулах выше)\n",
    "        \n",
    "        В этом методе ничего возвращать не нужно, только правильно поменять веса\n",
    "        с помощью градиентного спуска.\n",
    "        \"\"\"\n",
    "        \n",
    "        n = X.shape[0]\n",
    "        \n",
    "        self.w -= lr / n * X.T @ (y_pred - y)\n",
    "        self.b -= lr * np.mean(y_pred - y)\n",
    "    \n",
    "    def fit(self, X, y, num_epochs=300):\n",
    "        \"\"\"\n",
    "        Спускаемся в минимум\n",
    "            param X - матрица объектов размера (n, m)\n",
    "            param y - вектор правильных ответов размера (n,)\n",
    "            param num_epochs - количество итераций обучения\n",
    "            return - вектор значений функции потерь\n",
    "        \"\"\"\n",
    "        \n",
    "        # вектор нулей размера (m,)\n",
    "        self.w = np.zeros(X.shape[1])\n",
    "        # смещение\n",
    "        self.b = 0\n",
    "        # значения функции потерь на различных итерациях обновления весов\n",
    "        losses = []\n",
    "        \n",
    "        for i in range(num_epochs):\n",
    "            # предсказания с текущими весами\n",
    "            y_pred = self.forward_pass(X)\n",
    "            # считаем функцию потерь с текущими весами\n",
    "            losses.append(loss(y_pred, y))\n",
    "            # обновляем веса в соответсвии с тем, где ошиблись раньше\n",
    "            self.backward_pass(X, y, y_pred)\n",
    "\n",
    "        return losses"
   ]
  },
  {
   "cell_type": "markdown",
   "metadata": {
    "colab_type": "text",
    "id": "XlWXLoHQ9jAr"
   },
   "source": [
    "Класс готов. Посмотрим, правильно ли ведёт себя наш перцептрон. Далее идут несколько ячеек с тестовым кодом, вам нужно просто запустить их и проверить, чтобы результаты запуска совпадали с соответствующими числами из таблиц."
   ]
  },
  {
   "cell_type": "markdown",
   "metadata": {
    "colab_type": "text",
    "id": "GnrccB6H9jAs"
   },
   "source": [
    "#### Проверка `forward_pass`"
   ]
  },
  {
   "cell_type": "code",
   "execution_count": null,
   "metadata": {
    "colab": {
     "base_uri": "https://localhost:8080/",
     "height": 68
    },
    "colab_type": "code",
    "executionInfo": {
     "elapsed": 551,
     "status": "ok",
     "timestamp": 1539450353886,
     "user": {
      "displayName": "Маза Факер",
      "photoUrl": "",
      "userId": "00428038539447448724"
     },
     "user_tz": -180
    },
    "id": "9LZgkcHv9jAt",
    "outputId": "59bd0c97-a549-476f-9fb1-243b1ae07ef6"
   },
   "outputs": [],
   "source": [
    "w = np.array([1., 2.])\n",
    "b = 2.\n",
    "X = np.array([[1., 3.], [2., 4.], [-1., -3.2]])\n",
    "\n",
    "perceptron = Perceptron(w, b)\n",
    "y_pred = perceptron.forward_pass(X)\n",
    "print(y_pred)"
   ]
  },
  {
   "cell_type": "markdown",
   "metadata": {
    "colab_type": "text",
    "id": "1rgBqV9D9jAv"
   },
   "source": [
    "#### Проверка `backward_pass`"
   ]
  },
  {
   "cell_type": "code",
   "execution_count": null,
   "metadata": {
    "colab": {},
    "colab_type": "code",
    "id": "9RkAnK0P9jAw"
   },
   "outputs": [],
   "source": [
    "y = np.array([1, 0, 1])"
   ]
  },
  {
   "cell_type": "code",
   "execution_count": null,
   "metadata": {
    "colab": {
     "base_uri": "https://localhost:8080/",
     "height": 72
    },
    "colab_type": "code",
    "executionInfo": {
     "elapsed": 612,
     "status": "ok",
     "timestamp": 1539450382319,
     "user": {
      "displayName": "Sir. Klop300channel",
      "photoUrl": "",
      "userId": "17461207290813147689"
     },
     "user_tz": -180
    },
    "id": "Be7OJp8c9jA1",
    "outputId": "67b51d16-7a2b-4a75-d649-c25169bfcec9"
   },
   "outputs": [],
   "source": [
    "perceptron.backward_pass(X, y, y_pred)\n",
    "\n",
    "print(perceptron.w)\n",
    "print(perceptron.b)"
   ]
  },
  {
   "cell_type": "markdown",
   "metadata": {
    "colab_type": "text",
    "id": "EDjsmpZp9jA5"
   },
   "source": [
    "Посмотрим, как меняется функция потерь в течение процесса обучения на реальных данных - датасет \"Яблоки и Груши\"."
   ]
  },
  {
   "cell_type": "code",
   "execution_count": null,
   "metadata": {
    "colab": {
     "base_uri": "https://localhost:8080/",
     "height": 900
    },
    "colab_type": "code",
    "executionInfo": {
     "elapsed": 598,
     "status": "error",
     "timestamp": 1539450431613,
     "user": {
      "displayName": "Sir. Klop300channel",
      "photoUrl": "",
      "userId": "17461207290813147689"
     },
     "user_tz": -180
    },
    "id": "aPzhL2L99jA5",
    "outputId": "ec67cd75-7d6e-4699-ee31-14c06f54e15b"
   },
   "outputs": [],
   "source": [
    "data = pd.read_csv('data/apples_pears.csv')"
   ]
  },
  {
   "cell_type": "code",
   "execution_count": null,
   "metadata": {
    "colab": {
     "base_uri": "https://localhost:8080/",
     "height": 163
    },
    "colab_type": "code",
    "executionInfo": {
     "elapsed": 680,
     "status": "error",
     "timestamp": 1539450471450,
     "user": {
      "displayName": "BrainsExplotion",
      "photoUrl": "",
      "userId": "13698855170200822423"
     },
     "user_tz": -180
    },
    "id": "q7cWGg5S9jA7",
    "outputId": "bb042b57-e5ad-494e-a507-8f74dcb20dd0"
   },
   "outputs": [],
   "source": [
    "data.head()"
   ]
  },
  {
   "cell_type": "code",
   "execution_count": null,
   "metadata": {
    "colab": {
     "base_uri": "https://localhost:8080/",
     "height": 231
    },
    "colab_type": "code",
    "executionInfo": {
     "elapsed": 1184,
     "status": "error",
     "timestamp": 1539448612121,
     "user": {
      "displayName": "Кирилл Куликов",
      "photoUrl": "",
      "userId": "13750676750728975449"
     },
     "user_tz": -180
    },
    "id": "V6T8WK2w9jA-",
    "outputId": "6f5f394b-8d31-43c9-f659-2ed7e9a96c34"
   },
   "outputs": [],
   "source": [
    "plt.figure(figsize=(10, 8))\n",
    "plt.scatter(data.iloc[:, 0], data.iloc[:, 1], c=data['target'], cmap='rainbow')\n",
    "plt.title('Яблоки и груши', fontsize=15)\n",
    "plt.xlabel('Симметричность', fontsize=14)\n",
    "plt.ylabel('Желтизна', fontsize=14)\n",
    "plt.show()"
   ]
  },
  {
   "cell_type": "markdown",
   "metadata": {
    "colab_type": "text",
    "id": "JYSpUvQM9jBE"
   },
   "source": [
    "**Вопрос.** Какой класс соответствует яблокам (какого они цвета на графике)?"
   ]
  },
  {
   "cell_type": "markdown",
   "metadata": {
    "colab_type": "text",
    "id": "X6m0IAdu9jBF"
   },
   "source": [
    "Обозначим, что здесь признаки, а что - классы:"
   ]
  },
  {
   "cell_type": "code",
   "execution_count": null,
   "metadata": {
    "colab": {},
    "colab_type": "code",
    "id": "ARYN13Io9jBG"
   },
   "outputs": [],
   "source": [
    "# матрица объекты-признаки\n",
    "X = data.iloc[:, :2].values\n",
    "# классы (столбец из нулей и единиц)\n",
    "y = data['target'].values"
   ]
  },
  {
   "cell_type": "markdown",
   "metadata": {
    "colab_type": "text",
    "id": "MRCQeKtH9jBI"
   },
   "source": [
    "**Вывод функции потерь.** Функция потерь должна убывать и в итоге стать близкой к $0$."
   ]
  },
  {
   "cell_type": "code",
   "execution_count": null,
   "metadata": {
    "colab": {},
    "colab_type": "code",
    "id": "sIR0g6mQ9jBJ"
   },
   "outputs": [],
   "source": [
    "# может вызывать баги на старых версиях jupyter notebook\n",
    "# %%time\n",
    "\n",
    "perceptron = Perceptron()\n",
    "losses = perceptron.fit(X, y)\n",
    "\n",
    "plt.figure(figsize=(10, 8))\n",
    "plt.plot(losses)\n",
    "plt.title('Функция потерь', fontsize=15)\n",
    "plt.xlabel('Номер итерации', fontsize=14)\n",
    "plt.ylabel('$Loss(\\hat{y}, y)$', fontsize=14)\n",
    "plt.show()"
   ]
  },
  {
   "cell_type": "markdown",
   "metadata": {
    "colab_type": "text",
    "id": "gnzSyV_j9jBN"
   },
   "source": [
    "Посмотрим, как перцептрон классифицировал объекты из выборки:"
   ]
  },
  {
   "cell_type": "code",
   "execution_count": null,
   "metadata": {
    "colab": {},
    "colab_type": "code",
    "id": "bNhsJbuY9jBO"
   },
   "outputs": [],
   "source": [
    "plt.figure(figsize=(10, 8))\n",
    "plt.scatter(data.iloc[:, 0], data.iloc[:, 1], c=perceptron.forward_pass(X).ravel(), cmap='spring')\n",
    "plt.title('Яблоки и груши', fontsize=15)\n",
    "plt.xlabel('Симметричность', fontsize=14)\n",
    "plt.ylabel('Желтизна', fontsize=14)\n",
    "plt.show()"
   ]
  },
  {
   "cell_type": "markdown",
   "metadata": {},
   "source": [
    "Справился идеально. Однако просьба обратить внимание, что это очень простая, **линейно разделимая**, выборка."
   ]
  },
  {
   "cell_type": "markdown",
   "metadata": {
    "colab_type": "text",
    "id": "aE8iMuT39jBQ"
   },
   "source": [
    "## Предсказание пола по голосу"
   ]
  },
  {
   "cell_type": "markdown",
   "metadata": {
    "colab_type": "text",
    "id": "hQHD1i1W9jBR"
   },
   "source": [
    "Сравним качество работы нашего перцептрона и алгоритма из библиотеки `sklearn` на датасете с сайта [Kaggle](https://www.kaggle.com) - [Gender Recognition by Voice](https://www.kaggle.com/primaryobjects/voicegender). В данном датасете в качестве признаков выступают различные звуковые характеристики голоса, а в качестве классов - пол (мужчина/женщина). Подробнее о самих признаках можно почитать [на странице датасета](https://www.kaggle.com/primaryobjects/voicegender) (на английском). Нашей целью пока что является просто протестировать на этих данных два алгоритма."
   ]
  },
  {
   "cell_type": "code",
   "execution_count": null,
   "metadata": {
    "colab": {},
    "colab_type": "code",
    "id": "YaLaxBHR9jBS"
   },
   "outputs": [],
   "source": [
    "import pandas as pd\n",
    "from sklearn.linear_model import Perceptron as skPerceptron\n",
    "from sklearn.metrics import accuracy_score"
   ]
  },
  {
   "cell_type": "code",
   "execution_count": null,
   "metadata": {
    "colab": {
     "base_uri": "https://localhost:8080/",
     "height": 936
    },
    "colab_type": "code",
    "executionInfo": {
     "elapsed": 625,
     "status": "error",
     "timestamp": 1539451209225,
     "user": {
      "displayName": "Sir. Klop300channel",
      "photoUrl": "",
      "userId": "17461207290813147689"
     },
     "user_tz": -180
    },
    "id": "IaNjHU7Q9jBU",
    "outputId": "ff3a76eb-da48-464e-95bd-d343fb260d16"
   },
   "outputs": [],
   "source": [
    "data = pd.read_csv('data/voice.csv')\n",
    "data['label'] = data['label'].apply(lambda x: 1 if x == 'male' else 0)"
   ]
  },
  {
   "cell_type": "code",
   "execution_count": null,
   "metadata": {
    "colab": {},
    "colab_type": "code",
    "id": "eU1EZFzM9jBW"
   },
   "outputs": [],
   "source": [
    "data.head()"
   ]
  },
  {
   "cell_type": "code",
   "execution_count": null,
   "metadata": {
    "colab": {},
    "colab_type": "code",
    "id": "QCSK3sfX9jBY"
   },
   "outputs": [],
   "source": [
    "# перемешаем данные, изначально там сначала идут все мужчины, потом все женщины\n",
    "data = data.sample(frac=1)"
   ]
  },
  {
   "cell_type": "code",
   "execution_count": null,
   "metadata": {
    "colab": {},
    "colab_type": "code",
    "id": "VKY1jHT79jBZ"
   },
   "outputs": [],
   "source": [
    "# матрица объекты-признаки\n",
    "X_train = data.iloc[:int(len(data) * 0.7), :-1].values\n",
    "# истинные значения пола (мужчина/женщина)\n",
    "y_train = data.iloc[:int(len(data) * 0.7), -1].values\n",
    "\n",
    "# матрица объекты-признаки\n",
    "X_test = data.iloc[int(len(data)*0.7):, :-1].values\n",
    "# истинные значения пола (мужчина/женщина)\n",
    "y_test = data.iloc[int(len(data)*0.7):, -1].values"
   ]
  },
  {
   "cell_type": "markdown",
   "metadata": {
    "colab_type": "text",
    "id": "DDsWavYZ9jBe"
   },
   "source": [
    "Натренируем наш перцептрон и перцептрон из `sklearn` на этих данных:"
   ]
  },
  {
   "cell_type": "code",
   "execution_count": null,
   "metadata": {
    "colab": {},
    "colab_type": "code",
    "id": "4Z8Rh-bu9jBf"
   },
   "outputs": [],
   "source": [
    "RANDOM_SEED = 42\n",
    "\n",
    "perceptron = Perceptron()\n",
    "perceptron.fit(X_train, y_train)\n",
    "\n",
    "sk_perceptron = skPerceptron(random_state=RANDOM_SEED)\n",
    "sk_perceptron.fit(X_train, y_train)"
   ]
  },
  {
   "cell_type": "markdown",
   "metadata": {
    "colab_type": "text",
    "id": "3qsolz149jBh"
   },
   "source": [
    "Сравним доли правильных ответов на тестовых данных:"
   ]
  },
  {
   "cell_type": "code",
   "execution_count": null,
   "metadata": {
    "colab": {
     "base_uri": "https://localhost:8080/",
     "height": 129
    },
    "colab_type": "code",
    "executionInfo": {
     "elapsed": 703,
     "status": "error",
     "timestamp": 1539448636600,
     "user": {
      "displayName": "Кирилл Куликов",
      "photoUrl": "",
      "userId": "13750676750728975449"
     },
     "user_tz": -180
    },
    "id": "l6R3cXLO9jBi",
    "outputId": "cbb39ebe-965e-407e-ff55-6e5bf388667e"
   },
   "outputs": [],
   "source": [
    "print(f'Точность нашего перцептрона: {accuracy_score(y_test, perceptron.forward_pass(X_test)) * 100:.3f}%')\n",
    "print(f'Точность перцептрона из sklearn: {accuracy_score(y_test, sk_perceptron.predict(X_test)) * 100:.3f}%')"
   ]
  },
  {
   "cell_type": "markdown",
   "metadata": {},
   "source": [
    "Попробуем поставить число итераций побольше:"
   ]
  },
  {
   "cell_type": "code",
   "execution_count": null,
   "metadata": {},
   "outputs": [],
   "source": [
    "RANDOM_SEED = 42\n",
    "\n",
    "perceptron = Perceptron()\n",
    "perceptron.fit(X_train, y_train, num_epochs=5000)\n",
    "\n",
    "sk_perceptron = skPerceptron(random_state=RANDOM_SEED, max_iter=5000)\n",
    "sk_perceptron.fit(X_train, y_train)"
   ]
  },
  {
   "cell_type": "code",
   "execution_count": null,
   "metadata": {},
   "outputs": [],
   "source": [
    "print(f'Точность нашего перцептрона: {accuracy_score(y_test, perceptron.forward_pass(X_test)) * 100:.3f}%')\n",
    "print(f'Точность перцептрона из sklearn: {accuracy_score(y_test, sk_perceptron.predict(X_test)) * 100:.3f}%')"
   ]
  },
  {
   "cell_type": "markdown",
   "metadata": {
    "colab_type": "text",
    "id": "CSasTfW09jBj"
   },
   "source": [
    "**Вопрос:** Хорошее ли качество показывает перцептрон? Как вы думаете, почему?\n",
    "\n",
    "**Подсказка.** Попробуйте нормализовать данные."
   ]
  },
  {
   "cell_type": "markdown",
   "metadata": {
    "colab_type": "text",
    "id": "yyX2G7VvdvMC"
   },
   "source": [
    "## Важно"
   ]
  },
  {
   "cell_type": "markdown",
   "metadata": {
    "colab_type": "text",
    "id": "sTZFLUqFdv57"
   },
   "source": [
    "Стоит понимать, что перцептрон сам по себе не используется в приложениях. Мы продемонстрровали его вам, чтобы вы знали, с чего всё начиналось. На самом деле это просто один нейрон с пороговой функцией активации, который не используется в многослойных нейросетях и каких-либо прикладных задачах, но всё же является хорошим учебным примером, помогающим понять то, как обновляются веса в соответствии с ошибками и перейти к рассмотрению более полезных моделей (нейронов с другими функциями активации)."
   ]
  },
  {
   "cell_type": "markdown",
   "metadata": {
    "colab_type": "text",
    "id": "MC0FNrfq9jBl"
   },
   "source": [
    "## Полезные ссылки"
   ]
  },
  {
   "cell_type": "markdown",
   "metadata": {
    "colab_type": "text",
    "id": "AZLMhq149jBl"
   },
   "source": [
    "1. Lecture Notes Стэнфордского университета - http://cs231n.github.io/neural-networks-1/\n",
    "\n",
    "2. Википедия про перцептрон - https://ru.wikipedia.org/wiki/Перцептрон"
   ]
  }
 ],
 "metadata": {
  "colab": {
   "collapsed_sections": [],
   "name": "[seminar]perceptron.ipynb",
   "provenance": [],
   "version": "0.3.2"
  },
  "kernelspec": {
   "display_name": "Python 3",
   "language": "python",
   "name": "python3"
  },
  "language_info": {
   "codemirror_mode": {
    "name": "ipython",
    "version": 3
   },
   "file_extension": ".py",
   "mimetype": "text/x-python",
   "name": "python",
   "nbconvert_exporter": "python",
   "pygments_lexer": "ipython3",
   "version": "3.8.3"
  }
 },
 "nbformat": 4,
 "nbformat_minor": 1
}
