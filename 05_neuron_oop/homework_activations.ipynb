{
 "cells": [
  {
   "cell_type": "markdown",
   "metadata": {
    "colab_type": "text",
    "id": "ISV_j8bo9if8"
   },
   "source": [
    "<p style=\"align: center;\">\n",
    "    <img align=center src=\"../img/dls_logo.jpg\" width=500 height=500>\n",
    "</p>\n",
    "\n",
    "<h1 style=\"text-align: center;\">\n",
    "    Физтех-Школа Прикладной математики и информатики (ФПМИ) МФТИ\n",
    "</h1>\n",
    "\n",
    "---"
   ]
  },
  {
   "cell_type": "markdown",
   "metadata": {
    "colab_type": "text",
    "id": "lkoop-MT9if-"
   },
   "source": [
    "<h1 style=\"text-align: center;\">\n",
    "    Домашнее задание: нейрон с разными функциями активации\n",
    "</h1>"
   ]
  },
  {
   "cell_type": "markdown",
   "metadata": {
    "colab_type": "text",
    "id": "IUjxg_IS31tn"
   },
   "source": [
    "**Очень часто спрашивают - а какую функции активации стоит выбрать?** В этом ноутбуке вам предлагается самим дойти до истины и сравнить нейроны с различными функциями активации (их качество на двух выборках). Не забудьте убедиться, что все эксперименты с разными видами нейронов вы проводите в одинаковых условиях (ведь иначе эксперимент будет нечестным).\n",
    "\n",
    "В данном задании вам нужно будет:\n",
    "\n",
    "* самостоятельно реализовать класс `Neuron` с разными функциями активации\n",
    "\n",
    "* обучить и протестировать этот класс на сгенерированных и реальных данных (файлы с реальными данными помещены в папку `data` в этой же директории)"
   ]
  },
  {
   "cell_type": "markdown",
   "metadata": {
    "colab_type": "text",
    "id": "mHap62ES9igB"
   },
   "source": [
    "В данном ноутбуке вам предстоит реализовать нейрон с разными функциями активации: **Sigmoid**, **ReLU**, **LeakyReLU** и **ELU**."
   ]
  },
  {
   "cell_type": "code",
   "execution_count": 1,
   "metadata": {
    "colab": {},
    "colab_type": "code",
    "id": "p-OYlV519igB"
   },
   "outputs": [],
   "source": [
    "import numpy as np\n",
    "import pandas as pd\n",
    "from matplotlib import pyplot as plt\n",
    "from matplotlib.colors import ListedColormap\n",
    "\n",
    "%matplotlib inline"
   ]
  },
  {
   "cell_type": "markdown",
   "metadata": {
    "colab_type": "text",
    "id": "Op5kD164iuut"
   },
   "source": [
    "В этом ноутбуке используется функция `np.random.rand`. Чтобы иметь неслучайные значения, которые помогут нам проверить ответы на задание, мы введём свою функцию, которая принимает `seed`. Такая функция будет выдавать одинаковые значения при одном и том же `seed`. Не стоит менять `seed` далее в коде, иначе ответы могут не сойтись."
   ]
  },
  {
   "cell_type": "code",
   "execution_count": 2,
   "metadata": {
    "colab": {},
    "colab_type": "code",
    "id": "t1VCt_rDHum3"
   },
   "outputs": [],
   "source": [
    "def seed_random(seed, *args):\n",
    "    np.random.seed(seed)\n",
    "    return np.random.rand(*args)"
   ]
  },
  {
   "cell_type": "markdown",
   "metadata": {
    "colab_type": "text",
    "id": "CmEexUY631uM"
   },
   "source": [
    "---"
   ]
  },
  {
   "cell_type": "markdown",
   "metadata": {
    "colab_type": "text",
    "id": "cgpFOaPm9igG"
   },
   "source": [
    "В данном случае мы снова решаем задачу бинарной классификации ($2$ класса: $1$ или $0$):\n",
    "\n",
    "$$\n",
    "Loss(\\hat{y}, y) = \\frac{1}{n}\\sum_{i=1}^{n} (\\hat{y_i} - y_i)^2\n",
    "$$  \n",
    "\n",
    "Здесь $w \\cdot X_i$ - скалярное произведение, а $\\sigma(w \\cdot X_i) =\\frac{1}{1+e^{-w \\cdot X_i}} $ - сигмоида ($i$ - номер объекта в выборке).  \n",
    "\n",
    "**Примечание.** Здесь предполагается, что $b$ - свободный член - является частью вектора весов: $w_0$. Тогда, если к $X$ приписать единичный столбец, в скалярном произведении $b$ будет именно как свободный член."
   ]
  },
  {
   "cell_type": "code",
   "execution_count": 3,
   "metadata": {
    "colab": {},
    "colab_type": "code",
    "id": "yn3F0layHunD"
   },
   "outputs": [],
   "source": [
    "def loss(y_pred, y):\n",
    "    return np.mean((y_pred - y) ** 2)"
   ]
  },
  {
   "cell_type": "markdown",
   "metadata": {
    "colab_type": "text",
    "id": "rYoQAdXoHunK"
   },
   "source": [
    "Далее будут предложены несколько функций активации, и вам нужно реализовать класс `Neuron` по аналогии с тем, как это было на семинаре. Сам принцип тот же, но меняются формула обновления весов и формула предсказания.\n",
    "\n",
    "**Система такая**: будут три функции активации, у первой все формулы даны, нужно лишь закодить. У второй будет написана производная, но не будет подставлена в $Loss$, это нужно сделать вам. У третьей будет лишь сама формула функции."
   ]
  },
  {
   "cell_type": "markdown",
   "metadata": {
    "colab_type": "text",
    "id": "WHvdwJW9HunN"
   },
   "source": [
    "## Нейрон с ReLU (Recitified Linear Unit)"
   ]
  },
  {
   "cell_type": "markdown",
   "metadata": {},
   "source": [
    "**ReLU** - самая часто используемая (по крайней мере, пару лет назад) функция активации в нейронных сетях. Выглядит она очень просто:\n",
    "\n",
    "$$\n",
    "ReLU(x) =\n",
    "\\begin{cases}\n",
    "    0, &\\text{$x \\le 0$}\\\\\n",
    "    x, &\\text{$x \\gt 0$}\n",
    "\\end{cases}\n",
    "$$\n",
    "\n",
    "Или по-другому:\n",
    "\n",
    "$$\n",
    "ReLU(x) = \\max(0, x)\n",
    "$$\n",
    "\n",
    "В (свободном) переводе Rectified Linear Unit - \"Усечённая линейная функция\". Собственно, мы по сути просто не даём проходить отрицательным числам."
   ]
  },
  {
   "cell_type": "markdown",
   "metadata": {
    "colab_type": "text",
    "id": "AMA7Gi6KHunQ"
   },
   "source": [
    "Производная здесь берётся как производная от кусочно-заданной функции, то есть на участках, где функция гладкая ($x < 0$ и $x > 0$), берем производную как обычно, а в нуле доопредляем её нулём:\n",
    "\n",
    "$$\n",
    "ReLU'(x) = \n",
    "\\begin{cases}\n",
    "    0, &\\text{$x \\le 0$}\\\\\n",
    "    1, &\\text{$x \\gt 0$}\n",
    "\\end{cases}\n",
    "$$\n",
    "\n",
    "Подставим ReLu в Loss:\n",
    "\n",
    "$$\n",
    "Loss(\\hat{y}, y) = \\frac{1}{n}\\sum_{i=1}^{n} (\\hat{y_i} - y_i)^2 = \\frac{1}{n}\\sum_{i=1}^{n} (ReLU(w \\cdot X_i) - y_i)^2 = \\begin{equation*}\n",
    "    \\frac{1}{n}\\sum_{i=1}^{n}\n",
    "    \\begin{cases}\n",
    "        y_i^2, &{w \\cdot X_i \\le 0}\\\\\n",
    "        (w \\cdot X_i - y_i)^2, &{w \\cdot X_i \\gt 0}\n",
    "    \\end{cases}\n",
    "\\end{equation*}\n",
    "$$  \n",
    "\n",
    "Помните, что $w \\cdot X_i$ - это в данном случае число (результат скалярного произведения двух векторов)."
   ]
  },
  {
   "cell_type": "markdown",
   "metadata": {},
   "source": [
    "Тогда формула для обновления весов при градиентном спуске будет такая (в матричном виде; рекомендуем вывести самим то, как это получается из формулы для одного объекта):\n",
    "\n",
    "$$\n",
    "\\frac{\\partial Loss}{\\partial w} =\n",
    "\\begin{equation*}\n",
    "    \\sum_{i=1}^{n}\n",
    "    \\begin{cases}\n",
    "        0, &{w \\cdot X_i \\le 0}\\\\\n",
    "        \\frac{2}{n} X_i^T (w \\cdot X_i - y), &{w \\cdot X_i \\gt 0}\n",
    "    \\end{cases}\n",
    "\\end{equation*}\n",
    "$$\n",
    "\n",
    "Напоминаем, что здесь $w \\cdot X$ - матричное произведение вектора $w$ (ведь вектор - тоже матрица, не так ли?) и матрицы $X$.\n",
    "\n",
    "Почему в первом случае будет $0$? Потому что в формулу $y_i^2$ не входят веса, а мы берём производную именно по весам $w$."
   ]
  },
  {
   "cell_type": "markdown",
   "metadata": {},
   "source": [
    "Реализуйте ReLU и её производную:"
   ]
  },
  {
   "cell_type": "code",
   "execution_count": 14,
   "metadata": {
    "colab": {},
    "colab_type": "code",
    "id": "DCgAeho19igI"
   },
   "outputs": [],
   "source": [
    "def relu(x):\n",
    "    \"\"\"\n",
    "    ReLU-функция\n",
    "    \"\"\"\n",
    "    \n",
    "    return np.where(x > 0, x, 0)"
   ]
  },
  {
   "cell_type": "code",
   "execution_count": 15,
   "metadata": {
    "colab": {},
    "colab_type": "code",
    "id": "nXwsy-7J9igL"
   },
   "outputs": [],
   "source": [
    "def relu_derivative(y):\n",
    "    \"\"\"\n",
    "    Производная ReLU. Мы вычисляем её не по x, который подставили в ReLU,\n",
    "    а по значению, которое она вернула. На самом деле, мы могли бы так не\n",
    "    делать и вычислять производную по x (код при этом даже не поменялся бы), \n",
    "    но обычно на стадии обратного прохода у нас уже нет X @ w, который мы\n",
    "    передавали в функцию, зато есть вычисленное значение активации - тот самый y.\n",
    "    \"\"\"\n",
    "    \n",
    "    return np.where(y > 0, 1, 0)"
   ]
  },
  {
   "cell_type": "markdown",
   "metadata": {
    "colab_type": "text",
    "id": "qKurn-7F9igN"
   },
   "source": [
    "Теперь нужно написать нейрон с ReLU. Здесь всё очень похоже на перцептрон, но будут по-другому обновляться веса и другая функция активации:"
   ]
  },
  {
   "cell_type": "code",
   "execution_count": 16,
   "metadata": {
    "colab": {},
    "colab_type": "code",
    "id": "AM9vn3OX9igO"
   },
   "outputs": [],
   "source": [
    "class NeuronReLU:\n",
    "    def __init__(self, w=None, b=0):\n",
    "        \"\"\"\n",
    "        param w - вектор весов\n",
    "        param b - смещение\n",
    "        \"\"\"\n",
    "\n",
    "        # пока что мы не знаем размер матрицы X, а значит не знаем, сколько будет весов\n",
    "        self.w = w\n",
    "        self.b = b\n",
    "        \n",
    "    def activate(self, x):\n",
    "        return relu(x)\n",
    "        \n",
    "    def forward_pass(self, X):\n",
    "        \"\"\"\n",
    "        Рассчитывает ответ нейрона при предъявлении набора объектов\n",
    "            param X - матрица объекты-признаки размера (n, m), каждая строка - отдельный объект\n",
    "            return - вектор размера (n,) из нулей и единиц с ответами нейрона\n",
    "        \"\"\"\n",
    "        \n",
    "        y_pred = self.activate(X @ self.w + self.b)\n",
    "        return y_pred\n",
    "    \n",
    "    def backward_pass(self, X, y, y_pred, lr=0.1):\n",
    "        \"\"\"\n",
    "        Обновляет значения весов нейрона\n",
    "            param X - матрица входов размера (n, m)\n",
    "            param y - вектор правильных ответов размера (n,)\n",
    "            param lr - \"скорость обучения\" (символ alpha в формулах выше)\n",
    "        \n",
    "        В этом методе ничего возвращать не нужно, только правильно\n",
    "        поменять веса с помощью градиентного спуска.\n",
    "        \"\"\"\n",
    "        \n",
    "        n = X.shape[0]\n",
    "        \n",
    "        self.w -= lr * 2 / n * X.T @ (y_pred - y)\n",
    "        self.b -= lr * 2 * np.mean(y_pred - y)\n",
    "    \n",
    "    def fit(self, X, y, num_epochs=5000):\n",
    "        \"\"\"\n",
    "        Спускаемся в минимум\n",
    "            param X - матрица объектов размера (n, m)\n",
    "            param y - вектор правильных ответов размера (n,)\n",
    "            param num_epochs - количество итераций обучения\n",
    "            return - вектор значений функции потерь\n",
    "        \"\"\"\n",
    "        \n",
    "        # вектор размера (m,)\n",
    "        self.w = np.zeros(X.shape[1])\n",
    "        # смещение\n",
    "        self.b = 0\n",
    "        # значения функции потерь на различных итерациях обновления весов\n",
    "        losses = []\n",
    "        \n",
    "        for i in range(num_epochs):\n",
    "            # предсказания с текущими весами\n",
    "            y_pred = self.forward_pass(X)\n",
    "            # считаем функцию потерь с текущими весами\n",
    "            losses.append(loss(y_pred, y))\n",
    "            # обновляем веса в соответсвии с тем, где ошиблись раньше\n",
    "            self.backward_pass(X, y, y_pred)\n",
    "        \n",
    "        return losses"
   ]
  },
  {
   "cell_type": "markdown",
   "metadata": {
    "colab_type": "text",
    "id": "thtFp-at9igS"
   },
   "source": [
    "### Тестирование нейрона с ReLU "
   ]
  },
  {
   "cell_type": "markdown",
   "metadata": {
    "colab_type": "text",
    "id": "hOuYzf_u9igS"
   },
   "source": [
    "Здесь вам нужно самим протестировать новый нейрон **на тех же данных (\"Яблоки и Груши\")** по аналогии с тем, как это было проделано с перцептроном (можете смело копировать код, только будьте осторожны - кое-что в нём всё же скорее всего придётся поправить).\n",
    "\n",
    "В итоге нужно вывести:\n",
    "\n",
    "* график, на котором будет показано, как изменяется функция потерь $Loss$ в зависимости от числа итераций обучения\n",
    "\n",
    "* график с раскраской выборки ReLU-нейроном"
   ]
  },
  {
   "cell_type": "markdown",
   "metadata": {
    "colab_type": "text",
    "id": "chEeb88gHuny"
   },
   "source": [
    "**Примечание.** Пожалуйста, почаще проверяйте `shape` у матриц и векторов: `self.w`, `X` и `y` внутри класса. Очень часто ошибка решается транспонированием или `reshape`. Не забывайте проверять, что на что вы умножаете и какой вектор (какой размер) хотите получить на выходе - это очень помогает не запутаться."
   ]
  },
  {
   "cell_type": "markdown",
   "metadata": {
    "colab_type": "text",
    "id": "JGs_F5N331u9"
   },
   "source": [
    "#### Проверка `forward_pass`"
   ]
  },
  {
   "cell_type": "code",
   "execution_count": 17,
   "metadata": {
    "colab": {},
    "colab_type": "code",
    "id": "aKmrhe_831vG"
   },
   "outputs": [
    {
     "name": "stdout",
     "output_type": "stream",
     "text": [
      "[ 9. 12.  0.]\n"
     ]
    }
   ],
   "source": [
    "w = np.array([1., 2.])\n",
    "b = 2.\n",
    "X = np.array([[1., 3.],\n",
    "              [2., 4.],\n",
    "              [-1., -3.2]])\n",
    "\n",
    "neuron = NeuronReLU(w, b)\n",
    "y_pred = neuron.forward_pass(X)\n",
    "print(y_pred)"
   ]
  },
  {
   "cell_type": "markdown",
   "metadata": {
    "colab_type": "text",
    "id": "VYG2uFcy31vP"
   },
   "source": [
    "#### Проверка `backward_pass`"
   ]
  },
  {
   "cell_type": "markdown",
   "metadata": {
    "colab_type": "text",
    "id": "HmhT0_uziuvS"
   },
   "source": [
    "Просьба **не менять** `learning rate=0.005` по умолчанию."
   ]
  },
  {
   "cell_type": "code",
   "execution_count": 18,
   "metadata": {
    "colab": {},
    "colab_type": "code",
    "id": "UvUkrgQy31vQ"
   },
   "outputs": [],
   "source": [
    "y = np.array([1, 0, 1])"
   ]
  },
  {
   "cell_type": "code",
   "execution_count": 19,
   "metadata": {
    "colab": {},
    "colab_type": "code",
    "id": "pWooOLya31vX"
   },
   "outputs": [
    {
     "name": "stdout",
     "output_type": "stream",
     "text": [
      "[-1.2        -3.01333333]\n",
      "0.7333333333333334\n"
     ]
    }
   ],
   "source": [
    "neuron.backward_pass(X, y, y_pred)\n",
    "\n",
    "print(neuron.w)\n",
    "print(neuron.b)"
   ]
  },
  {
   "cell_type": "markdown",
   "metadata": {
    "colab_type": "text",
    "id": "X085TCvBHuoQ"
   },
   "source": [
    "\"Яблоки и Груши\":"
   ]
  },
  {
   "cell_type": "code",
   "execution_count": 20,
   "metadata": {},
   "outputs": [],
   "source": [
    "data = pd.read_csv('data/apples_pears.csv')"
   ]
  },
  {
   "cell_type": "code",
   "execution_count": 21,
   "metadata": {
    "colab": {},
    "colab_type": "code",
    "id": "LEnSapY_HuoR"
   },
   "outputs": [
    {
     "data": {
      "image/png": "[encoded data removed]",
      "text/plain": [
       "<Figure size 720x576 with 1 Axes>"
      ]
     },
     "metadata": {
      "needs_background": "light"
     },
     "output_type": "display_data"
    }
   ],
   "source": [
    "plt.figure(figsize=(10, 8))\n",
    "plt.scatter(data.iloc[:, 0], data.iloc[:, 1], c=data['target'], cmap='rainbow')\n",
    "plt.title('Яблоки и груши', fontsize=15)\n",
    "plt.xlabel('Симметричность', fontsize=14)\n",
    "plt.ylabel('Желтизна', fontsize=14)\n",
    "plt.show()"
   ]
  },
  {
   "cell_type": "code",
   "execution_count": 22,
   "metadata": {
    "colab": {},
    "colab_type": "code",
    "id": "03cIoaEsHuod"
   },
   "outputs": [],
   "source": [
    "# матрица объекты-признаки\n",
    "X = data.iloc[:, :2].values\n",
    "# классы (столбец из нулей и единиц)\n",
    "y = data['target'].values"
   ]
  },
  {
   "cell_type": "markdown",
   "metadata": {
    "colab_type": "text",
    "id": "dR6xZg6kHuol"
   },
   "source": [
    "Выведите лосс при обучении нейрона с ReLU на этом датасете:"
   ]
  },
  {
   "cell_type": "code",
   "execution_count": 24,
   "metadata": {
    "colab": {},
    "colab_type": "code",
    "id": "FZDtNG6CHuop"
   },
   "outputs": [
    {
     "data": {
      "image/png": "[encoded data removed]",
      "text/plain": [
       "<Figure size 720x576 with 1 Axes>"
      ]
     },
     "metadata": {
      "needs_background": "light"
     },
     "output_type": "display_data"
    }
   ],
   "source": [
    "# может вызывать баги на старых версиях jupyter notebook\n",
    "# %%time\n",
    "\n",
    "neuron = NeuronReLU()\n",
    "losses = neuron.fit(X, y)\n",
    "\n",
    "plt.figure(figsize=(10, 8))\n",
    "plt.plot(losses)\n",
    "plt.title('Функция потерь', fontsize=15)\n",
    "plt.xlabel('Номер итерации', fontsize=14)\n",
    "plt.ylabel('$Loss(\\hat{y}, y)$', fontsize=14)\n",
    "plt.show()"
   ]
  },
  {
   "cell_type": "markdown",
   "metadata": {
    "colab_type": "text",
    "id": "sPxo2YVeHuou"
   },
   "source": [
    "Скорее всего сейчас у вас лосс - это прямая линия, и вы видите, что веса не обновляются. Но почему?!"
   ]
  },
  {
   "cell_type": "markdown",
   "metadata": {
    "colab_type": "text",
    "id": "mXUmEeUBHuov"
   },
   "source": [
    "Всё просто - возможно мы об этом вам ещё не говорили, но если присмотреться, то видно, что `self.w` и `self.b` инициализируются нулями в начале метода `fit`. Если расписать, как будет идти обновление, то видно, что из-за ReLU веса просто-напросто не будут обновляться, если начать с инициализации нулями. \n",
    "\n",
    "Это - одна из причин, по которой в нейронных сетях веса инициализируют случаными числами (обычно из отрезка $[0, 1)$).\n",
    "\n",
    "Обучим нейрон, инициализировав веса случайно, используя нашу функцию `seed_random` из начала ноутбука с `seed=42` и `seed=43` (поставьте $10000$ итераций), а также просьба **не менять** `lr=0.005` по умолчанию."
   ]
  },
  {
   "cell_type": "code",
   "execution_count": 0,
   "metadata": {
    "colab": {},
    "colab_type": "code",
    "id": "E821cUM0Huo8"
   },
   "outputs": [],
   "source": [
    "%%time\n",
    "\n",
    "neuron = NeuronReLU(w=seed_random(42, X.shape[1], 1), b=seed_random(43, 1))\n",
    "Loss_values = <Ваш код здесь>  # num_epochs=10000\n",
    "\n",
    "plt.figure(figsize=(10, 8))\n",
    "plt.plot(Loss_values)\n",
    "plt.title('Функция потерь', fontsize=15)\n",
    "plt.xlabel('номер итерации', fontsize=14)\n",
    "plt.ylabel('$Loss(\\hat{y}, y)$', fontsize=14)\n",
    "plt.show()"
   ]
  },
  {
   "cell_type": "markdown",
   "metadata": {
    "colab_type": "text",
    "id": "z3XeufnfHupE"
   },
   "source": [
    "**(для теста) Проверка лосса:**"
   ]
  },
  {
   "cell_type": "markdown",
   "metadata": {
    "colab_type": "text",
    "id": "HCn5DSP5HupK"
   },
   "source": [
    "Выведите сумму первых пяти и последних пяти значений loss'а при обучении с num_epochs=10000, округлите до 4-го знака после запятой:"
   ]
  },
  {
   "cell_type": "code",
   "execution_count": 0,
   "metadata": {
    "colab": {},
    "colab_type": "code",
    "id": "ELZVl_9rHupL",
    "scrolled": true
   },
   "outputs": [],
   "source": [
    "<Ваш код здесь>"
   ]
  },
  {
   "cell_type": "markdown",
   "metadata": {
    "colab_type": "text",
    "id": "jkWMrc9uHupS"
   },
   "source": [
    "Посмотрим, как предсказывает этот нейрон:"
   ]
  },
  {
   "cell_type": "code",
   "execution_count": 0,
   "metadata": {
    "colab": {},
    "colab_type": "code",
    "id": "hyjfcthcHupT",
    "scrolled": false
   },
   "outputs": [],
   "source": [
    "plt.figure(figsize=(10, 8))\n",
    "plt.scatter(data.iloc[:, 0], data.iloc[:, 1], c=np.array(neuron.forward_pass(X) > 0.5).ravel(), cmap='spring')\n",
    "plt.title('Яблоки и груши', fontsize=15)\n",
    "plt.xlabel('симметричность', fontsize=14)\n",
    "plt.ylabel('желтизна', fontsize=14)\n",
    "plt.show();"
   ]
  },
  {
   "cell_type": "markdown",
   "metadata": {
    "colab_type": "text",
    "id": "fA9TCYBXHupW"
   },
   "source": [
    "Должно разделиться более-менее неплохо. Но почему мы берём якобы \"прокаченную\" ReLU, которая часто используется, и она предсказывает хуже (намного дольше сходится), чем перцептрон с пороговой, который никто не использует? Вообще, где и какая функция активации \"выстрелит\" -- никто не знает заранее, это зависит в том числе от самих данных."
   ]
  },
  {
   "cell_type": "markdown",
   "metadata": {
    "colab_type": "text",
    "id": "nDvxxQQDHupZ"
   },
   "source": [
    "<img src=\"https://alumni.lscollege.ac.uk/files/2015/12/Interview-questions-square-image.jpg\" width=400 height=300>"
   ]
  },
  {
   "cell_type": "markdown",
   "metadata": {
    "colab_type": "text",
    "id": "MSNZuWl9Hupd"
   },
   "source": [
    "Но есть одна тенденция: пороговая функция активации и сигмоида (обычно всё же только сигмоида) чаще используются именно на **выходном слое** нейросети в задаче классификации -- ими предсказывают вероятности объектов принадлежать одному из классов, в то время как продвинутые функции активации (ReLU и те, что будут дальше) используются внутри нейросети, то есть на **скрытых слоях**. \n",
    "\n",
    "ReLU как будто моделирует то, что нейрон \"загорается\" по аналогии с тем, как это происходит с биологическим, поэтому помещаеть ReLU на выходной слой обычно плохая идея."
   ]
  },
  {
   "cell_type": "markdown",
   "metadata": {
    "colab_type": "text",
    "id": "_X3lDHElHupo"
   },
   "source": [
    "Однако ничто не мешает помещать ReLU на выходной слой, а сигмоиду -- внутрь. Deep Learning -- \"очень экспериментальная\" область: вы можете сделать открытие своими собственными руками, просто поменяв что-то незначительное, например, функцию активации."
   ]
  },
  {
   "cell_type": "markdown",
   "metadata": {
    "colab_type": "text",
    "id": "sET710OVHupp"
   },
   "source": [
    "**Плюсы ReLU:**"
   ]
  },
  {
   "cell_type": "markdown",
   "metadata": {
    "colab_type": "text",
    "id": "HY3iXGBWHupr"
   },
   "source": [
    "* дифференцируемая (с доопределнием в нуле)\n",
    "* нет проблемы затухающих градиентов, как в сигмоиде"
   ]
  },
  {
   "cell_type": "markdown",
   "metadata": {
    "colab_type": "text",
    "id": "Nr_3XwTWHups"
   },
   "source": [
    "**Возможные минусы ReLU:**"
   ]
  },
  {
   "cell_type": "markdown",
   "metadata": {
    "colab_type": "text",
    "id": "0TAwVdRXHupt"
   },
   "source": [
    "* не центрирована около 0 (может мешать скорости сходимсти)\n",
    "* зануляет все отрицательные входы, тем самым веса у занулённых нейронов могут часто *не обновляться*, эту проблему иногда называют *мёртвые нейроны*"
   ]
  },
  {
   "cell_type": "markdown",
   "metadata": {
    "colab_type": "text",
    "id": "Vj1JGXTPHupu"
   },
   "source": [
    "С последней проблемой можно побороться, а именно:"
   ]
  },
  {
   "cell_type": "markdown",
   "metadata": {
    "colab_type": "text",
    "id": "Yn2taDMNHupv"
   },
   "source": [
    "<h2 style=\"text-align: center;\"><b>Нейрон с LeakyReLU (Leaky Recitified Linear Unit)</b></h2>  "
   ]
  },
  {
   "cell_type": "markdown",
   "metadata": {
    "colab_type": "text",
    "id": "iCRBWooSHupx"
   },
   "source": [
    "LeakyReLU очень слабо отличается от ReLU, но часто помогает сети обучаться быстрее, поскольку нет проблемы \"мёртвых нейронов\":\n",
    "\n",
    "\\begin{equation*}\n",
    "LeakyReLU(x) =\n",
    " \\begin{cases}\n",
    "   \\alpha x, &\\text{$x \\le 0$}\\\\\n",
    "   x, &\\text{$x \\gt 0$}\n",
    " \\end{cases}\n",
    "\\end{equation*}\n",
    "\n",
    "где $\\alpha$ -- маленькое число от 0 до 1.\n",
    "\n",
    "Производная здесь берётся так же, но вместо нуля будет $\\alpha$:\n",
    "\n",
    "\\begin{equation*}\n",
    "LeakyReLU'(x) = \n",
    " \\begin{cases}\n",
    "   \\alpha, &\\text{$x \\le 0$}\\\\\n",
    "   1, &\\text{$x \\gt 0$}\n",
    " \\end{cases}\n",
    "\\end{equation*}\n",
    "\n",
    "График этой функции:\n",
    "\n",
    "<img src=\"https://cdn-images-1.medium.com/max/1600/0*UtLlZJ80TMIM7kXk.\" width=400 height=300>\n",
    "\n",
    "Подставим LeakyReLu в Loss:\n",
    "\n",
    "$$\n",
    "Loss(\\hat{y}, y) = \\frac{1}{2n}\\sum_{i=1}^{n} (\\hat{y_i} - y_i)^2 = \\frac{1}{2n}\\sum_{i=1}^{n} (LeakyReLU(w \\cdot X_i) - y_i)^2 =\n",
    "\\begin{equation*}\n",
    "\\frac{1}{2n}\\sum_{i=1}^{n} \n",
    " \\begin{cases}\n",
    "   (\\alpha \\cdot w \\cdot X_i - y_i)^2, &{w \\cdot X_i \\le 0}\\\\\n",
    "   (w \\cdot X_i - y_i)^2, &{w \\cdot X_i \\gt 0}\n",
    " \\end{cases}\n",
    "\\end{equation*}\n",
    "$$  \n",
    "\n",
    "Формула для обновления весов при градиентном спуске:\n",
    "\n",
    "$$ \\frac{\\partial Loss}{\\partial w} = \\begin{equation*}\n",
    "\\frac{1}{n}\\sum_{i=1}^{n} \n",
    " \\begin{cases}\n",
    "   \\alpha X_i^T (w \\cdot X_i - y), &{w \\cdot X_i \\le 0}\\\\\n",
    "    X_i^T (w \\cdot X_i - y), &{w \\cdot X_i \\gt 0}\n",
    " \\end{cases}\n",
    "\\end{equation*}$$\n",
    "\n",
    "* Реализуйте LeakyReLU и её производную:"
   ]
  },
  {
   "cell_type": "code",
   "execution_count": 0,
   "metadata": {
    "colab": {},
    "colab_type": "code",
    "id": "yuBLORHs6reh"
   },
   "outputs": [],
   "source": [
    "def leaky_relu(x, alpha=0.01):\n",
    "    \"\"\"LeakyReLU-функция\"\"\"\n",
    "    <Ваш код здесь>"
   ]
  },
  {
   "cell_type": "code",
   "execution_count": 0,
   "metadata": {
    "colab": {},
    "colab_type": "code",
    "id": "PZObir-96rek"
   },
   "outputs": [],
   "source": [
    "def leaky_relu_derivative(y, alpha=0.01):\n",
    "    \"\"\"Производная LeakyReLU. Тут мы тоже вычисляем производную по y. Пояснения, почему мы так делаем,\n",
    "    есть выше\"\"\"\n",
    "    <Ваш код здесь>"
   ]
  },
  {
   "cell_type": "markdown",
   "metadata": {
    "colab_type": "text",
    "id": "TE25WcUQ6ren"
   },
   "source": [
    "Теперь нужно написать нейрон с LeakyReLU функцией активации. Здесь всё очень похоже на перцептрон, но будут по-другому обновляться веса и другая функция активации:"
   ]
  },
  {
   "cell_type": "code",
   "execution_count": 0,
   "metadata": {
    "colab": {},
    "colab_type": "code",
    "id": "P1hF_ufY6ren"
   },
   "outputs": [],
   "source": [
    "class NeuronLeakyReLU:\n",
    "    def __init__(self, w=None, b=0):\n",
    "        \"\"\"\n",
    "        :param: w -- вектор весов\n",
    "        :param: b -- смещение\n",
    "        \"\"\"\n",
    "        # Пока что мы не знаем размер матрицы X, а значит не знаем, сколько будет весов\n",
    "        self.w = w\n",
    "        self.b = b\n",
    "        \n",
    "    def activate(self, x):\n",
    "        return <Ваш код здесь>\n",
    "        \n",
    "    def forward_pass(self, X):\n",
    "        \"\"\"\n",
    "        Рассчитывает ответ нейрона при предъявлении набора объектов\n",
    "        :param: X -- матрица примеров размера (n, m), каждая строка - отдельный объект\n",
    "        :return: вектор размера (n, 1) из нулей и единиц с ответами перцептрона \n",
    "        \"\"\"\n",
    "        n = X.shape[0]\n",
    "        y_pred = np.zeros((n, 1))  # y_pred == y_predicted - предсказанные классы\n",
    "        return <Ваш код здесь>\n",
    "        \n",
    "    def backward_pass(self, X, y, y_pred, learning_rate=0.005):\n",
    "        \"\"\"\n",
    "        Обновляет значения весов нейрона в соответствии с этим объектом\n",
    "        :param: X -- матрица входов размера (n, m)\n",
    "                y -- вектор правильных ответов размера (n, 1)\n",
    "                learning_rate - \"скорость обучения\" (символ alpha в формулах выше)\n",
    "        В этом методе ничего возвращать не нужно, только правильно поменять веса\n",
    "        с помощью градиентного спуска.\n",
    "        \"\"\"\n",
    "        n = len(y)\n",
    "        y = np.array(y).reshape(-1, 1)\n",
    "        \n",
    "        <Ваш код здесь>\n",
    "    \n",
    "    def fit(self, X, y, num_epochs=300):\n",
    "        \"\"\"\n",
    "        Спускаемся в минимум\n",
    "        :param: X -- матрица объектов размера (n, m)\n",
    "                y -- вектор правильных ответов размера (n, 1)\n",
    "                num_epochs -- количество итераций обучения\n",
    "        :return: losses -- вектор значений функции потерь\n",
    "        \"\"\"\n",
    "        if self.w is None:\n",
    "            self.w = np.zeros((X.shape[1], 1))  # столбец (m, 1)\n",
    "            self.b = 0  # смещение (число)\n",
    "        Loss_values = []  # значения функции потерь на различных итерациях обновления весов\n",
    "        \n",
    "        for i in range(num_epochs):\n",
    "            <Ваш код здесь>\n",
    "        \n",
    "        return Loss_values"
   ]
  },
  {
   "cell_type": "markdown",
   "metadata": {
    "colab_type": "text",
    "id": "RhbHyAib6req"
   },
   "source": [
    "<h3 style=\"text-align: center;\"><b>Тестирование нейрона с LeakyReLU</b></h3>  "
   ]
  },
  {
   "cell_type": "markdown",
   "metadata": {
    "colab_type": "text",
    "id": "45LYM788HuqF"
   },
   "source": [
    "***ПРИМЕЧАНИЕ***: пожалуйста, почаще проверяйте `.shape` у матриц и векторов: `self.w`, `X` и `y` внутри класса. Очень часто ошибка решается транспонированием или `.reshape()`'ом. Не забывайте проверять, что на что вы умножаете и какой вектор (какой размер) хотите получить на выходе -- это очень помогает не запутаться.  \n",
    "\n",
    "**Везде далее для тестирования не меняйте $\\alpha$=0.01 в `leaky_relu()` и в `leaky_relu_derivative()`**"
   ]
  },
  {
   "cell_type": "markdown",
   "metadata": {
    "colab_type": "text",
    "id": "WzU3A_wsiuwf"
   },
   "source": [
    "Просьба **не менять `learning rate=0.005` по-умолчанию**."
   ]
  },
  {
   "cell_type": "markdown",
   "metadata": {
    "colab_type": "text",
    "id": "CuxkU6lIj1dn"
   },
   "source": [
    "**(для теста) Проверка forward_pass()**"
   ]
  },
  {
   "cell_type": "code",
   "execution_count": 0,
   "metadata": {
    "colab": {},
    "colab_type": "code",
    "id": "5_YgDU9wj1dp"
   },
   "outputs": [],
   "source": [
    "w = np.array([1., 2.]).reshape(2, 1)\n",
    "b = 2.\n",
    "X = np.array([[1., 3.],\n",
    "              [2., 4.],\n",
    "              [-1., -3.2]])\n",
    "\n",
    "neuron = NeuronLeakyReLU(w, b)\n",
    "y_pred = neuron.forward_pass(X)\n",
    "print (\"y_pred = \" + str(y_pred))"
   ]
  },
  {
   "cell_type": "markdown",
   "metadata": {
    "colab_type": "text",
    "id": "9G20aXOcj1ds"
   },
   "source": [
    "*Hint: \"**-0.**\" -- это просто ноль*"
   ]
  },
  {
   "cell_type": "markdown",
   "metadata": {
    "colab_type": "text",
    "id": "VoyrITZ_j1dt"
   },
   "source": [
    "**(для теста) Проверка backward_pass()**"
   ]
  },
  {
   "cell_type": "markdown",
   "metadata": {
    "colab_type": "text",
    "id": "GxZrHFtQj1du"
   },
   "source": [
    "Просьба **не менять `learning rate=0.005` по-умолчанию**."
   ]
  },
  {
   "cell_type": "code",
   "execution_count": 0,
   "metadata": {
    "colab": {},
    "colab_type": "code",
    "id": "C3U507I_j1dv"
   },
   "outputs": [],
   "source": [
    "y = np.array([1, 0, 1]).reshape(3, 1)"
   ]
  },
  {
   "cell_type": "code",
   "execution_count": 0,
   "metadata": {
    "colab": {},
    "colab_type": "code",
    "id": "R8--K7CGj1d6"
   },
   "outputs": [],
   "source": [
    "neuron.backward_pass(X, y, y_pred)\n",
    "\n",
    "print (\"w = \" + str(neuron.w))\n",
    "print (\"b = \" + str(neuron.b))"
   ]
  },
  {
   "cell_type": "markdown",
   "metadata": {
    "colab_type": "text",
    "id": "PsCNxcsDHuqb"
   },
   "source": [
    "\"Яблоки и Груши\":"
   ]
  },
  {
   "cell_type": "code",
   "execution_count": 0,
   "metadata": {
    "colab": {},
    "colab_type": "code",
    "id": "MEXxd-YRHuqg"
   },
   "outputs": [],
   "source": [
    "data = pd.read_csv(\"./data/apples_pears.csv\")\n",
    "plt.figure(figsize=(10, 8))\n",
    "plt.scatter(data.iloc[:, 0], data.iloc[:, 1], c=data['target'], cmap='rainbow')\n",
    "plt.title('Яблоки и груши', fontsize=15)\n",
    "plt.xlabel('симметричность', fontsize=14)\n",
    "plt.ylabel('желтизна', fontsize=14)\n",
    "plt.show();"
   ]
  },
  {
   "cell_type": "code",
   "execution_count": 0,
   "metadata": {
    "colab": {},
    "colab_type": "code",
    "id": "uzQyBSMOHuqk"
   },
   "outputs": [],
   "source": [
    "X = data.iloc[:,:2].values  # матрица объекты-признаки\n",
    "y = data['target'].values.reshape((-1, 1))  # классы (столбец из нулей и единиц)"
   ]
  },
  {
   "cell_type": "markdown",
   "metadata": {
    "colab_type": "text",
    "id": "d-92UxDqHuqo"
   },
   "source": [
    "Обучим нейрон, инициализировав случайно веса (поставьте 10000 итераций)."
   ]
  },
  {
   "cell_type": "markdown",
   "metadata": {
    "colab_type": "text",
    "id": "Sr_wrwQsiuwz"
   },
   "source": [
    "Просьба **не менять `learning rate=0.005` по-умолчанию**."
   ]
  },
  {
   "cell_type": "code",
   "execution_count": 0,
   "metadata": {
    "colab": {},
    "colab_type": "code",
    "id": "SGztqTFhHuqo"
   },
   "outputs": [],
   "source": [
    "%%time\n",
    "\n",
    "neuron = NeuronLeakyReLU(w=seed_random(13, X.shape[1], 1), b=seed_random(14, 1))\n",
    "Loss_values = <Ваш код здесь>  # num_epochs=10000\n",
    "\n",
    "plt.figure(figsize=(10, 8))\n",
    "plt.plot(Loss_values)\n",
    "plt.title('Функция потерь', fontsize=15)\n",
    "plt.xlabel('номер итерации', fontsize=14)\n",
    "plt.ylabel('$Loss(\\hat{y}, y)$', fontsize=14)\n",
    "plt.show()"
   ]
  },
  {
   "cell_type": "markdown",
   "metadata": {
    "colab_type": "text",
    "id": "lWBO-RI_Huqz"
   },
   "source": [
    "**(для теста) Проверка лосса:**"
   ]
  },
  {
   "cell_type": "markdown",
   "metadata": {
    "colab_type": "text",
    "id": "GqXREMzNHuq0"
   },
   "source": [
    "Выведите сумму первых пяти и последних пяти значений loss'а при обучении с num_epochs=10000, округлите до 4-го знака после запятой:"
   ]
  },
  {
   "cell_type": "markdown",
   "metadata": {
    "colab_type": "text",
    "id": "zvj3t74RHuq3"
   },
   "source": [
    "Посмотрим, как предсказывает этот нейрон:"
   ]
  },
  {
   "cell_type": "code",
   "execution_count": 0,
   "metadata": {
    "colab": {},
    "colab_type": "code",
    "id": "jfFexRvcHuq5",
    "scrolled": false
   },
   "outputs": [],
   "source": [
    "plt.figure(figsize=(10, 8))\n",
    "plt.scatter(data.iloc[:, 0], data.iloc[:, 1], c=np.array(neuron.forward_pass(X) > 0.5).ravel(), cmap='spring')\n",
    "plt.title('Яблоки и груши', fontsize=15)\n",
    "plt.xlabel('симметричность', fontsize=14)\n",
    "plt.ylabel('желтизна', fontsize=14)\n",
    "plt.show();"
   ]
  },
  {
   "cell_type": "markdown",
   "metadata": {
    "colab_type": "text",
    "id": "IgTac_vFHuq8"
   },
   "source": [
    "**Плюсы LeakyReLU:**"
   ]
  },
  {
   "cell_type": "markdown",
   "metadata": {
    "colab_type": "text",
    "id": "iAw-tzuLHuq9"
   },
   "source": [
    "* дифференцируемая (с доопределнием в нуле)\n",
    "* нет проблемы затухающих градиентов, как в сигмоиде\n",
    "* нет проблемы \"мёртвых нейронов\", как в ReLU"
   ]
  },
  {
   "cell_type": "markdown",
   "metadata": {
    "colab_type": "text",
    "id": "CMUGymwyHuq_"
   },
   "source": [
    "**Возможные минусы LeakyReLU:**"
   ]
  },
  {
   "cell_type": "markdown",
   "metadata": {
    "colab_type": "text",
    "id": "uQyqD8-LHurA"
   },
   "source": [
    "* не центрирована около 0 (может мешать скорости сходимсти)\n",
    "* немного не устойчива к \"шуму\" (см. лекции Стэнфорда)"
   ]
  },
  {
   "cell_type": "markdown",
   "metadata": {
    "colab_type": "text",
    "id": "e7k07EGyHurB"
   },
   "source": [
    "<h2 style=\"text-align: center;\"><b>Нейрон с ELU (Exponential Linear Unit)</a></b></h2>  \n",
    "<h2 style=\"text-align: center;\"><b>(необязательная часть, проверяться не будет)</b></h2>"
   ]
  },
  {
   "cell_type": "markdown",
   "metadata": {
    "colab_type": "text",
    "id": "dWH3Zk2zHurB"
   },
   "source": [
    "\n",
    "ELU -- не так давно предложенная (в 2015 году) функция активации, которая, как говорят авторы статьи, лучше LeakyReLU. Вот формула ELU:\n",
    "\n",
    "\\begin{equation*}\n",
    "ELU(\\alpha, x) =\n",
    " \\begin{cases}\n",
    "   \\alpha (e^x - 1), &\\text{$x \\le 0$}\\\\\n",
    "   x, &\\text{$x \\gt 0$}\n",
    " \\end{cases}\n",
    "\\end{equation*}\n",
    "\n",
    "где $\\alpha$ -- маленькое число от 0 до 1.\n",
    "\n",
    "Производная здесь берётся так же, но вместо нуля будет $\\alpha$:\n",
    "\n",
    "\\begin{equation*}\n",
    "ELU'(x) = \n",
    " \\begin{cases}\n",
    "   ELU(\\alpha, x) + \\alpha, &\\text{$x \\le 0$}\\\\\n",
    "   1, &\\text{$x \\gt 0$}\n",
    " \\end{cases}\n",
    "\\end{equation*}\n",
    "\n",
    "Здесь в производной использован постой трюк -- сделано $- \\alpha + \\alpha$, чтобы вычислять было проще.\n",
    "\n",
    "График этой функции:\n",
    "\n",
    "<img src=\"http://p0.ifengimg.com/pmop/2017/0907/A004001DD141881BFD8AD62E5D31028C3BE3FAD1_size14_w446_h354.png\" width=500 height=400>\n",
    "\n",
    "Подставим LeakyReLu в Loss:\n",
    "\n",
    "$$Loss(\\hat{y}, y) = \\frac{1}{2n}\\sum_{i=1}^{n} (\\hat{y_i} - y_i)^2 = \\frac{1}{2n}\\sum_{i=1}^{n} (ELU(\\alpha, w \\cdot X_i) - y_i)^2 = \\begin{equation*}\n",
    "\\frac{1}{2n}\\sum_{i=1}^{n} \n",
    " \\begin{cases}\n",
    "   (\\alpha (e^{w \\cdot X_i} - 1) - y_i)^2, &{w \\cdot X_i \\le 0}\\\\\n",
    "   (w \\cdot X_i - y_i)^2, &{w \\cdot X_i \\gt 0}\n",
    " \\end{cases}\n",
    "\\end{equation*}$$  \n",
    "\n",
    "Формула для обновления весов при градиентном спуске.. Здесь вам нужно выписать её самим, и это чуть сложнее, чем раньше. Брать производную \"в лоб\" некрасиво и неудобно. Нужно воспользоваться **правилом цепочки**, оно же **правило взятия производной сложной функции**:\n",
    "\n",
    "$$ \\frac{\\partial Loss}{\\partial w} = \\begin{equation*}\n",
    "\\frac{1}{n}\\sum_{i=1}^{n} \n",
    " \\begin{cases}\n",
    "    X_i^T (ELU(\\alpha, x) + \\alpha) (\\alpha (e^{w \\cdot X_i} - 1) - y_i), &{w \\cdot X_i \\le 0}\\\\\n",
    "    X_i^T (w \\cdot X_i - y_i), &{w \\cdot X_i \\gt 0}\n",
    " \\end{cases}\n",
    "\\end{equation*}$$\n",
    "\n",
    "* Реализуйте ELU и её производную:"
   ]
  },
  {
   "cell_type": "code",
   "execution_count": 0,
   "metadata": {
    "colab": {},
    "colab_type": "code",
    "id": "u7rc5PaI_tb4"
   },
   "outputs": [],
   "source": [
    "def elu(x, alpha=0.01):\n",
    "    \"\"\"ELU-функция\"\"\"\n",
    "    <Ваш код здесь>"
   ]
  },
  {
   "cell_type": "code",
   "execution_count": 0,
   "metadata": {
    "colab": {},
    "colab_type": "code",
    "id": "63ORnClM_0gf"
   },
   "outputs": [],
   "source": [
    "def elu_derivative(y, alpha=0.01):\n",
    "    \"\"\"Производная ELU, снова вычисляем производную по значению\"\"\"\n",
    "    <Ваш код здесь>"
   ]
  },
  {
   "cell_type": "markdown",
   "metadata": {
    "colab_type": "text",
    "id": "Wo5dq-2X_0ze"
   },
   "source": [
    "Теперь нужно написать нейрон с ELU функцией активации:"
   ]
  },
  {
   "cell_type": "code",
   "execution_count": 0,
   "metadata": {
    "code_folding": [],
    "colab": {},
    "colab_type": "code",
    "id": "9lTuu7gG_06W"
   },
   "outputs": [],
   "source": [
    "class NeuronELU:\n",
    "    def __init__(self, w=None, b=0):\n",
    "        \"\"\"\n",
    "        :param: w -- вектор весов\n",
    "        :param: b -- смещение\n",
    "        \"\"\"\n",
    "        # Пока что мы не знаем размер матрицы X, а значит не знаем, сколько будет весов\n",
    "        self.w = w\n",
    "        self.b = b\n",
    "        \n",
    "    def activate(self, x):\n",
    "        return <Ваш код здесь>\n",
    "        \n",
    "    def forward_pass(self, X):\n",
    "        \"\"\"\n",
    "        Рассчитывает ответ нейрона при предъявлении набора объектов\n",
    "        :param: X -- матрица примеров размера (n, m), каждая строка - отдельный объект\n",
    "        :return: вектор размера (n, 1) из нулей и единиц с ответами перцептрона \n",
    "        \"\"\"\n",
    "        n = X.shape[0]\n",
    "        y_pred = np.zeros((n, 1))  # y_pred == y_predicted - предсказанные классы\n",
    "        return <Ваш код здесь>\n",
    "    \n",
    "    def backward_pass(self, X, y, y_pred, learning_rate=0.005):\n",
    "        \"\"\"\n",
    "        Обновляет значения весов нейрона в соответствии с этим объектом\n",
    "        :param: X -- матрица входов размера (n, m)\n",
    "                y -- вектор правильных ответов размера (n, 1)\n",
    "                learning_rate - \"скорость обучения\" (символ alpha в формулах выше)\n",
    "        В этом методе ничего возвращать не нужно, только правильно поменять веса\n",
    "        с помощью градиентного спуска.\n",
    "        \"\"\"\n",
    "        n = len(y)\n",
    "        y = np.array(y).reshape(-1, 1)\n",
    "        \n",
    "        <Ваш код здесь>\n",
    "    \n",
    "    def fit(self, X, y, num_epochs=300):\n",
    "        \"\"\"\n",
    "        Спускаемся в минимум\n",
    "        :param: X -- матрица объектов размера (n, m)\n",
    "                y -- вектор правильных ответов размера (n, 1)\n",
    "                num_epochs -- количество итераций обучения\n",
    "        :return: losses -- вектор значений функции потерь\n",
    "        \"\"\"\n",
    "        if self.w is None:\n",
    "            self.w = np.zeros((X.shape[1], 1))  # столбец (m, 1)\n",
    "            self.b = 0  # смещение (число)\n",
    "        Loss_values = []  # значения функции потерь на различных итерациях обновления весов\n",
    "        \n",
    "        for i in range(num_epochs):\n",
    "            <Ваш код здесь>\n",
    "        \n",
    "        return Loss_values"
   ]
  },
  {
   "cell_type": "markdown",
   "metadata": {
    "colab_type": "text",
    "id": "jonYgSivHurP"
   },
   "source": [
    "***ПРИМЕЧАНИЕ***: пожалуйста, почаще проверяйте `.shape` у матриц и векторов: `self.w`, `X` и `y` внутри класса. Очень часто ошибка решается транспонированием или `.reshape()`'ом. Не забывайте проверять, что на что вы умножаете и какой вектор (какой размер) хотите получить на выходе -- это очень помогает не запутаться."
   ]
  },
  {
   "cell_type": "markdown",
   "metadata": {
    "colab_type": "text",
    "id": "pskXX7KVHurf"
   },
   "source": [
    "\"Яблоки и Груши\":"
   ]
  },
  {
   "cell_type": "code",
   "execution_count": 0,
   "metadata": {
    "colab": {},
    "colab_type": "code",
    "id": "oSzTCZu_Hurh"
   },
   "outputs": [],
   "source": [
    "data = pd.read_csv(\"./data/apples_pears.csv\")\n",
    "plt.figure(figsize=(10, 8))\n",
    "plt.scatter(data.iloc[:, 0], data.iloc[:, 1], c=data['target'], cmap='rainbow')\n",
    "plt.title('Яблоки и груши', fontsize=15)\n",
    "plt.xlabel('симметричность', fontsize=14)\n",
    "plt.ylabel('желтизна', fontsize=14)\n",
    "plt.show();"
   ]
  },
  {
   "cell_type": "code",
   "execution_count": 0,
   "metadata": {
    "colab": {},
    "colab_type": "code",
    "id": "B1upsgBzHurl"
   },
   "outputs": [],
   "source": [
    "X = data.iloc[:,:2].values  # матрица объекты-признаки\n",
    "y = data['target'].values.reshape((-1, 1))  # классы (столбец из нулей и единиц)"
   ]
  },
  {
   "cell_type": "markdown",
   "metadata": {
    "colab_type": "text",
    "id": "EsRToko0Hurp"
   },
   "source": [
    "Обучим нейрон, инициализировав случайно веса (поставьте 10000 итераций):"
   ]
  },
  {
   "cell_type": "code",
   "execution_count": 0,
   "metadata": {
    "colab": {},
    "colab_type": "code",
    "id": "P6lOu_FbHurr"
   },
   "outputs": [],
   "source": [
    "%%time\n",
    "\n",
    "neuron = NeuronELU(w=seed_random(10, X.shape[1], 1), b=seed_random(11, 1))\n",
    "Loss_values = <Ваш код здесь>  # num_epochs=10000\n",
    "\n",
    "plt.figure(figsize=(10, 8))\n",
    "plt.plot(Loss_values)\n",
    "plt.title('Функция потерь', fontsize=15)\n",
    "plt.xlabel('номер итерации', fontsize=14)\n",
    "plt.ylabel('$Loss(\\hat{y}, y)$', fontsize=14)\n",
    "plt.show()"
   ]
  },
  {
   "cell_type": "markdown",
   "metadata": {
    "colab_type": "text",
    "id": "L59jJs5ZHurt"
   },
   "source": [
    "**(для теста) Проверка лосса:**"
   ]
  },
  {
   "cell_type": "markdown",
   "metadata": {
    "colab_type": "text",
    "id": "yyWV15PSHuru"
   },
   "source": [
    "Выведите сумму первых пяти и последних пяти значений loss'а при обучении с num_epochs=10000, округлите до 4-го знака после запятой:"
   ]
  },
  {
   "cell_type": "markdown",
   "metadata": {
    "colab_type": "text",
    "id": "vF92uB8_Hurx"
   },
   "source": [
    "Посмотрим, как предсказывает этот нейрон:"
   ]
  },
  {
   "cell_type": "code",
   "execution_count": 0,
   "metadata": {
    "colab": {},
    "colab_type": "code",
    "id": "CW7nCIEyHur2",
    "scrolled": false
   },
   "outputs": [],
   "source": [
    "plt.figure(figsize=(10, 8))\n",
    "plt.scatter(data.iloc[:, 0], data.iloc[:, 1], c=np.array(neuron.forward_pass(X) > 0.5).ravel(), cmap='spring')\n",
    "plt.title('Яблоки и груши', fontsize=15)\n",
    "plt.xlabel('симметричность', fontsize=14)\n",
    "plt.ylabel('желтизна', fontsize=14)\n",
    "plt.show();"
   ]
  },
  {
   "cell_type": "markdown",
   "metadata": {
    "colab_type": "text",
    "id": "MYiGj1wnHur4"
   },
   "source": [
    "**Плюсы ELU:**"
   ]
  },
  {
   "cell_type": "markdown",
   "metadata": {
    "colab_type": "text",
    "id": "xOGAh06uHur5"
   },
   "source": [
    "* дифференцируемая (с доопределнием в нуле)\n",
    "* нет проблемы затухающих градиентов, как в сигмоиде\n",
    "* нет проблемы \"мёртвых нейронов\", как в ReLU\n",
    "* более устойчива к \"шуму\" (см. лекции Стэнфорда)"
   ]
  },
  {
   "cell_type": "markdown",
   "metadata": {
    "colab_type": "text",
    "id": "r4doD89fHur6"
   },
   "source": [
    "**Возможные минусы ELU:**"
   ]
  },
  {
   "cell_type": "markdown",
   "metadata": {
    "colab_type": "text",
    "id": "AO4bvkKGHur6"
   },
   "source": [
    "* не очень хорошо центрирована около 0 (может мешать скорости сходимсти)\n",
    "* вычислительно дольше, чем ReLU и LeakyReLU"
   ]
  },
  {
   "cell_type": "markdown",
   "metadata": {
    "colab_type": "text",
    "id": "4_YkH_HDHur7"
   },
   "source": [
    "---"
   ]
  },
  {
   "cell_type": "markdown",
   "metadata": {
    "colab_type": "text",
    "id": "wQG-VZuUHur8"
   },
   "source": [
    "И напоследок -- все покемоны (почти):"
   ]
  },
  {
   "cell_type": "markdown",
   "metadata": {
    "colab_type": "text",
    "id": "F2JcPTqKHur-"
   },
   "source": [
    "<img src=\"http://cdn-images-1.medium.com/max/1600/1*DRKBmIlr7JowhSbqL6wngg.png\">"
   ]
  },
  {
   "cell_type": "markdown",
   "metadata": {
    "colab_type": "text",
    "id": "A82W6KU7HusA"
   },
   "source": [
    "Не хватает `SeLU()` и `Swish()`. Про них можно прочитать здесь: [SeLU](https://arxiv.org/pdf/1706.02515.pdf), [Swish](https://arxiv.org/pdf/1710.05941.pdf).\n",
    "\n",
    "`Tanh()` (тангенс гиперболический) используется в основном в рекуррентных нейросетях, а `Maxout()` мы решили не рассматривать (так как, опять же, нами не было замечено, что он часто используется, однако про него ходят хорошие слухи).  "
   ]
  },
  {
   "cell_type": "markdown",
   "metadata": {
    "colab_type": "text",
    "id": "-PfNPtrZ31vq"
   },
   "source": [
    "---"
   ]
  },
  {
   "cell_type": "markdown",
   "metadata": {
    "colab_type": "text",
    "id": "EiQGCe9lHusC"
   },
   "source": [
    "Думаете, это все функции активации? Нет, ведь за функцию активации можно взять вообще почти любую дифференцируемую функцию (которая, как вы полагаете, будет помогать обучению). Ещё больше функций активации вы можете [найти на википедии](https://en.wikipedia.org/wiki/Activation_function)."
   ]
  },
  {
   "cell_type": "markdown",
   "metadata": {
    "colab_type": "text",
    "id": "yhGNsWPQ9igf"
   },
   "source": [
    "<h3 style=\"text-align: center;\"><b>Полезные ссылки</b></h3>\n",
    "\n",
    "0). Обязательно прочитайте (если вам позволяет английский) эту статью от Стэнфорда: http://cs231n.github.io/neural-networks-1/\n",
    "\n",
    "1). Хорошая статья про функции активации: https://www.jeremyjordan.me/neural-networks-activation-functions/\n",
    "\n",
    "2). [Видео от Siraj Raval](https://www.youtube.com/watch?v=-7scQpLossT7uo)\n",
    "\n",
    "3). Современная статья про функции активации. Теперь на хайпе активация $swish(x) = x\\sigma (\\beta x)$: https://arxiv.org/pdf/1710.05941.pdf (кстати, при её поиске в некоторой степени использовался neural architecture search)\n",
    "\n",
    "4). SeLU имеет очень интересные, доказанные с помощью теории вероятностей свойства: https://arxiv.org/pdf/1706.02515.pdf (да, в этой статье 102 страницы)\n",
    "\n",
    "5). [Список функций активации из википедии](https://en.wikipedia.org/wiki/Activation_function)"
   ]
  }
 ],
 "metadata": {
  "colab": {
   "collapsed_sections": [],
   "name": "[homework]activations_new.ipynb",
   "provenance": [],
   "version": "0.3.2"
  },
  "kernelspec": {
   "display_name": "Python 3",
   "language": "python",
   "name": "python3"
  },
  "language_info": {
   "codemirror_mode": {
    "name": "ipython",
    "version": 3
   },
   "file_extension": ".py",
   "mimetype": "text/x-python",
   "name": "python",
   "nbconvert_exporter": "python",
   "pygments_lexer": "ipython3",
   "version": "3.8.3"
  }
 },
 "nbformat": 4,
 "nbformat_minor": 1
}
