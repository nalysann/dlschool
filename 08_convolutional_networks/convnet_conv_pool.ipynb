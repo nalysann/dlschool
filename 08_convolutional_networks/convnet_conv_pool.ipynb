{
 "cells": [
  {
   "cell_type": "markdown",
   "metadata": {
    "id": "hoxBEVcAmvQF"
   },
   "source": [
    "<p style=\"align: center;\">\n",
    "    <img align=center src=\"../img/dls_logo.jpg\" width=500 height=500>\n",
    "</p>\n",
    "\n",
    "<h1 style=\"text-align: center;\">\n",
    "    Физтех-Школа Прикладной математики и информатики (ФПМИ) МФТИ\n",
    "</h1>\n",
    "\n",
    "---"
   ]
  },
  {
   "cell_type": "markdown",
   "metadata": {
    "id": "nNHiiRDYk09K"
   },
   "source": [
    "<h1 style=\"text-align: center;\">\n",
    "    Convolution and pooling operations\n",
    "</h1>"
   ]
  },
  {
   "cell_type": "markdown",
   "metadata": {
    "id": "bKKVmlbQoL6j"
   },
   "source": [
    "## Convolution (свёртка)"
   ]
  },
  {
   "cell_type": "markdown",
   "metadata": {
    "id": "FTx--liIcRvb"
   },
   "source": [
    "На этом семинаре мы посмотрим, как свёртки влияют на изображение и попрактикуемся в вычислении свёрток и пулингов от различных изображений.\n",
    "\n",
    "Для начала напомним, что такое свёртка:\n",
    "\n",
    "<img src=\"../img/convnet_conv_pool_1.gif\" width=500>"
   ]
  },
  {
   "cell_type": "markdown",
   "metadata": {
    "id": "lJYJIrjtcyd3"
   },
   "source": [
    "То есть мы берём фильтр размера $F \\times F$, умножаем его на область изображения размером $F \\times F$ поэлементно, складываем получившиеся поэлемнетные произведения и записываем это число в результирующий тензор.\n",
    "\n",
    "За исключением архитектур типа **MobileNet**, третья размерность фильтра всегда совпадает с третьей размерностью входного тензора. Если картинка размера $H \\times W \\times 3$, то фильтр будет иметь размер $F \\times F \\times 3$, и поэлементное произведение будет производиться по всему объёму."
   ]
  },
  {
   "cell_type": "markdown",
   "metadata": {
    "id": "_ohz-kSFcygB"
   },
   "source": [
    "Напомним два важных параметра операции свертки:\n",
    "\n",
    "* **stride** - это размер шага окна свёртки по осям $x$ и $y$ (обычно совпадают, но вполне могут быть и разными).\n",
    "\n",
    "* **padding** - это окружение картинки по краям нулями (или чем-то другим) для того, чтобы придать изображению после свёртки нужный размер (пэддинг делается до свёртки)"
   ]
  },
  {
   "cell_type": "markdown",
   "metadata": {},
   "source": [
    "---"
   ]
  },
  {
   "cell_type": "markdown",
   "metadata": {
    "id": "QiTZg8f5gVk9"
   },
   "source": [
    "Посмотрим на то, как применение свёртки с определёнными фильтрами влияет на изображение. На этот счёт есть [хорошая статья на Хабре](https://habr.com/post/142818/). "
   ]
  },
  {
   "cell_type": "markdown",
   "metadata": {
    "id": "PfNwcnWAiVR3"
   },
   "source": [
    "Возьмём код из статьи и посмотрим, как будет меняться картинка в зависимости от фильтра:"
   ]
  },
  {
   "cell_type": "code",
   "execution_count": null,
   "metadata": {
    "colab": {
     "base_uri": "https://localhost:8080/",
     "height": 269
    },
    "id": "9WxCdlpmjrxr",
    "outputId": "a0cce7fa-4d8a-4fbb-8e69-aff441b1d2e4"
   },
   "outputs": [],
   "source": [
    "from PIL import Image\n",
    "from math import ceil, sqrt\n",
    "from math import floor\n",
    "\n",
    "import matplotlib.pyplot as plt\n",
    "%matplotlib inline\n",
    "\n",
    "\n",
    "def checkByte(a):\n",
    "    if a > 255:\n",
    "        a = 255\n",
    "    elif a < 0:\n",
    "        a = 0\n",
    "    return a\n",
    "\n",
    "\n",
    "def conv(a, b):\n",
    "    res = 0\n",
    "    \n",
    "    for i in range(len(a)):\n",
    "        for j in range(len(a[0])):\n",
    "            res += a[i][j] * b[i][j]\n",
    "\n",
    "    return res\n",
    "  \n",
    "\n",
    "def median(a):\n",
    "    flat = []\n",
    "    \n",
    "    for i in range(len(a)):\n",
    "        for j in range(len(a[0])):\n",
    "            flat.append(a[i][j])\n",
    "            \n",
    "    flat.sort()\n",
    "    \n",
    "    return flat[ceil(len(flat) / 2)]\n",
    "  \n",
    "\n",
    "def max(a):\n",
    "    flat = []\n",
    "    \n",
    "    for i in range(len(a)):\n",
    "        for j in range(len(a[0])):\n",
    "            flat.append(a[i][j])\n",
    "            \n",
    "    flat.sort()\n",
    "    \n",
    "    return flat[len(flat) - 1]\n",
    "  \n",
    "\n",
    "def min(a):\n",
    "    flat = []\n",
    "    \n",
    "    for i in range(len(a)):\n",
    "        for j in range(len(a[0])):\n",
    "            flat.append(a[i][j])\n",
    "\n",
    "    flat.sort()\n",
    "    \n",
    "    return flat[0]\n",
    "\n",
    "\n",
    "im = Image.open('data/lenna.jpg')\n",
    "\n",
    "pixels = im.load()\n",
    "\n",
    "plt.imshow(im)\n",
    "plt.show()"
   ]
  },
  {
   "cell_type": "code",
   "execution_count": null,
   "metadata": {
    "colab": {
     "base_uri": "https://localhost:8080/",
     "height": 269
    },
    "id": "rhw2cNclibZe",
    "outputId": "c2231d7d-5589-4e7f-d259-5acf7d3112a7"
   },
   "outputs": [],
   "source": [
    "imFinal = im.copy()\n",
    "pixels2 = imFinal.load()\n",
    "\n",
    "\n",
    "filter = [\n",
    "    [-1, -1,  0,  0, 0],\n",
    "    [ 0, -1, -1, -1, 0],\n",
    "    [ 0, -1,  9, -1, 0],\n",
    "    [ 0, -1, -1, -1, 0],\n",
    "    [ 0,  0,  0,  0, 0],\n",
    "]\n",
    "\n",
    "\n",
    "# filter = [\n",
    "#     [-1, -1, -1, -1, -1],\n",
    "#     [-1, -1, -1, -1, -1],\n",
    "#     [-1, -1,  4, -1, -1],\n",
    "#     [-1, -1, -1, -1, -1],\n",
    "#     [-1, -1, -1, -1, -1],\n",
    "# ]\n",
    "\n",
    "\n",
    "# filter = [\n",
    "#     [0, 0, 0, 1, 0, 0, 0],\n",
    "#     [0, 0, 1, 1, 1, 0, 0],\n",
    "#     [0, 1, 1, 1, 1, 1, 0],\n",
    "#     [1, 1, 1, 1, 1, 1, 1],\n",
    "#     [0, 1, 1, 1, 1, 1, 0],\n",
    "#     [0, 0, 1, 1, 1, 0, 0],\n",
    "#     [0, 0, 0, 1, 0, 0, 0],\n",
    "# ]\n",
    "\n",
    "\n",
    "# filter = [\n",
    "#     [-1, -1, -1],\n",
    "#     [-1,  9, -1],\n",
    "#     [-1, -1, -1],\n",
    "# ]\n",
    "\n",
    "\n",
    "# filter = [\n",
    "#     [0.5, 1.5,  2, 1.5, 0.5],\n",
    "#     [1.5, 3.5,  5, 3.5, 1.5],\n",
    "#     [  2,   5, 10,   5,   2],\n",
    "#     [1.5, 3.5,  5, 3.5, 1.5],\n",
    "#     [0.5, 1.5,  2, 1.5, 0.5],\n",
    "# ]\n",
    "\n",
    "\n",
    "div = 0\n",
    "\n",
    "for i in range(len(filter)):\n",
    "    for j in range(len(filter[0])):\n",
    "        div += filter[i][j]\n",
    "        \n",
    "if div == 0:\n",
    "    div = 1\n",
    "\n",
    "for i in range(floor(len(filter) / 2), im.width - floor(len(filter) / 2)):\n",
    "    for j in range(floor(len(filter) / 2), im.height - floor(len(filter) / 2)):\n",
    "        matr_r = []\n",
    "        matr_g = []\n",
    "        matr_b = []\n",
    "        for n in range(-floor(len(filter) / 2), ceil(len(filter) / 2)):\n",
    "            row_r = []\n",
    "            row_g = []\n",
    "            row_b = []\n",
    "            for m in range(-floor(len(filter) / 2), ceil(len(filter) / 2)):\n",
    "                r, g, b = pixels[i + n, j + m]\n",
    "                row_r.append(r)\n",
    "                row_g.append(g)\n",
    "                row_b.append(b)\n",
    "            matr_r.append(row_r)\n",
    "            matr_g.append(row_g)\n",
    "            matr_b.append(row_b)\n",
    "\n",
    "        r = checkByte(round(conv(matr_r, filter) / div))\n",
    "        g = checkByte(round(conv(matr_g, filter) / div))\n",
    "        b = checkByte(round(conv(matr_b, filter) / div))\n",
    "\n",
    "        # r = checkByte(min(matr_r))\n",
    "        # g = checkByte(min(matr_g))\n",
    "        # b = checkByte(min(matr_b))\n",
    "        \n",
    "        \n",
    "        # if r < 512:\n",
    "        #     pixels2[i, j] = (255, 255, 255)\n",
    "        # else:\n",
    "        #     pixels2[i, j] = (0, 0, 0)\n",
    "        \n",
    "        \n",
    "        pixels2[i, j] = (r, g, b)\n",
    "\n",
    "plt.imshow(imFinal)\n",
    "plt.show()"
   ]
  },
  {
   "cell_type": "markdown",
   "metadata": {
    "id": "YEEsyglXjwvL"
   },
   "source": [
    "Попробуйте поменять фильтр и посмотреть, что будет."
   ]
  },
  {
   "cell_type": "markdown",
   "metadata": {
    "id": "qpsz2NnDg0wY"
   },
   "source": [
    "---"
   ]
  },
  {
   "cell_type": "markdown",
   "metadata": {
    "id": "KyOdHmyjgwFx"
   },
   "source": [
    "Давайте немного потренируемся в вычислении размера результата применения свёртки к картинке."
   ]
  },
  {
   "cell_type": "markdown",
   "metadata": {},
   "source": [
    "### Задача 1"
   ]
  },
  {
   "cell_type": "markdown",
   "metadata": {
    "id": "cSD3-hWbcR0T"
   },
   "source": [
    "Вычислить размер результата после применения свёртки, $I$ - размеры входного изображения, $f$ - размеры фильтра:\n",
    "\n",
    "1. $I = (50, 50, 3)$, $f = (3, 3)$, $stride = 1$.\n",
    "\n",
    "   Вычисляем:\n",
    "   \n",
    "    * по ширине: $50 - 3 + 1 = 48$\n",
    "    \n",
    "    * по высоте: $50 - 3 + 1 = 48$\n",
    "    \n",
    "   то есть размер результата будет $(48, 48)$.\n",
    "\n",
    "\n",
    "2. $I = (1024, 768, 3)$, $f = (5, 5)$, $stride = 2$.\n",
    "\n",
    "   Вычисляем:\n",
    "\n",
    "   <img src=\"../img/convnet_pooling_3.png\" width=500>\n",
    "\n",
    "   Из рисунка видно, что выходная ширина равна количеству нечётных чисел от $1$ до $1020$, т.е. $510$.\n",
    "\n",
    "   Аналогично по высоте получаем $382$, то есть размер результата будет $(510, 382)$.\n",
    "\n",
    "\n",
    "3. $I = (500, 700, 5)$, $f = (7, 4)$, $stride = 2$.\n",
    "    \n",
    "   Размер результата будет $(247, 349)$.\n",
    "\n",
    "\n",
    "4. Выведите общую формулу для $I = (H, W, C)$, $f = (F, F)$ (фильтры обычно всё же квадратные).\n",
    "\n",
    "   Общая формула $\\displaystyle \\frac{H - F}{stride} \\times \\frac {W - F}{stride} \\times C$ (деление с округлением вверх?).\n",
    "   \n",
    "\n",
    "5. Теперь добавьте в получившуюся формулу $padding = p$:\n",
    "\n",
    "   $\\displaystyle \\frac{H - F + 2p}{stride} \\times \\frac {W - F + 2p}{stride} \\times C$"
   ]
  },
  {
   "cell_type": "markdown",
   "metadata": {},
   "source": [
    "---"
   ]
  },
  {
   "cell_type": "markdown",
   "metadata": {
    "id": "DDYm8-PDiBji"
   },
   "source": [
    "## Pooling"
   ]
  },
  {
   "cell_type": "markdown",
   "metadata": {
    "id": "xw3tzbQYoyxy"
   },
   "source": [
    "**Pooling (пулинг)** - операция, нужная для уменьшения размерности по ширине и по высоте. Можно брать очень много операций в качестве пулинга, например, минимум из элементов, максимум, среднее, сумму и т.д."
   ]
  },
  {
   "cell_type": "markdown",
   "metadata": {
    "id": "c5d3-8FMpAhW"
   },
   "source": [
    "Обычно используется **max-pooling** и **avg-pooling**."
   ]
  },
  {
   "cell_type": "markdown",
   "metadata": {
    "id": "5P9j08aGov9S"
   },
   "source": [
    "Пример применения max-pooling'а:\n",
    "\n",
    "<img src=\"../img/convnet_conv_pool_3.jpg\">"
   ]
  },
  {
   "cell_type": "markdown",
   "metadata": {
    "id": "FxGQ1VuQoe3L"
   },
   "source": [
    "Примеры применения max-pooling'а и avg-pooling'а:\n",
    "\n",
    "<img src=\"../img/convnet_conv_pool_4.png\">"
   ]
  },
  {
   "cell_type": "markdown",
   "metadata": {
    "id": "mw0n5Fl8pZD5"
   },
   "source": [
    "Если на вход подаётся изображение с несколькими каналами, то пулинг берётся по каналам, то есть если это цветная картинка $H \\times W \\times C$, и мы применяем к ней pooling $2 \\times 2$, то получим на выходе картинку $\\displaystyle\\frac{H}{2} \\times \\frac{W}{2} \\times C$."
   ]
  },
  {
   "cell_type": "markdown",
   "metadata": {
    "id": "ESB025NApZGM"
   },
   "source": [
    "Эта операция весьма простая, но лучше разобрать несколько примеров."
   ]
  },
  {
   "cell_type": "markdown",
   "metadata": {},
   "source": [
    "---"
   ]
  },
  {
   "cell_type": "markdown",
   "metadata": {
    "id": "BIIpG-8lmvSK"
   },
   "source": [
    "## Полезные ссылки"
   ]
  },
  {
   "cell_type": "markdown",
   "metadata": {
    "id": "cxjnt47smvSO"
   },
   "source": [
    "1. Примеры написания нейросетей на **PyTorch** (офийиальные туториалы на английском):\n",
    "    \n",
    "    * https://pytorch.org/tutorials/beginner/pytorch_with_examples.html#examples\n",
    "    \n",
    "    * https://pytorch.org/tutorials/beginner/blitz/cifar10_tutorial.html\n",
    "\n",
    "2. Один из самых подробных и полных курсов по deep learning на данный момент - это [курс Стэнфордского Университета](http://cs231n.github.io/)\n",
    "\n",
    "3. Практически исчерпывающая информация по основам свёрточных нейросетей (из cs231n) (на английском):\n",
    "\n",
    "    * http://cs231n.github.io/convolutional-networks/\n",
    "\n",
    "    * http://cs231n.github.io/understanding-cnn/\n",
    "\n",
    "    * http://cs231n.github.io/transfer-learning/\n",
    "\n",
    "4. Видео о Computer Vision от Andrej Karpathy: https://www.youtube.com/watch?v=u6aEYuemt0M"
   ]
  }
 ],
 "metadata": {
  "colab": {
   "collapsed_sections": [],
   "name": "[seminar]convolution_pooling.ipynb",
   "provenance": []
  },
  "kernelspec": {
   "display_name": "Python 3",
   "language": "python",
   "name": "python3"
  },
  "language_info": {
   "codemirror_mode": {
    "name": "ipython",
    "version": 3
   },
   "file_extension": ".py",
   "mimetype": "text/x-python",
   "name": "python",
   "nbconvert_exporter": "python",
   "pygments_lexer": "ipython3",
   "version": "3.8.3"
  }
 },
 "nbformat": 4,
 "nbformat_minor": 1
}
