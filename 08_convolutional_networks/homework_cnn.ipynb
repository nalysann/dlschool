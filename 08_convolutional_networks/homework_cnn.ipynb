{
 "cells": [
  {
   "cell_type": "markdown",
   "metadata": {},
   "source": [
    "<p style=\"align: center;\">\n",
    "    <img align=center src=\"../img/dls_logo.jpg\" width=500 height=500>\n",
    "</p>\n",
    "\n",
    "<h1 style=\"text-align: center;\">\n",
    "    Физтех-Школа Прикладной математики и информатики (ФПМИ) МФТИ\n",
    "</h1>\n",
    "\n",
    "---"
   ]
  },
  {
   "cell_type": "code",
   "execution_count": null,
   "metadata": {
    "colab": {
     "base_uri": "https://localhost:8080/"
    },
    "id": "_JejJJdjgNf6",
    "outputId": "4b3c7ca7-d441-4edc-e676-abb419ba7259"
   },
   "outputs": [],
   "source": [
    "# !pip install -q catalyst"
   ]
  },
  {
   "cell_type": "code",
   "execution_count": null,
   "metadata": {
    "id": "Kd-KUTc1CBXm"
   },
   "outputs": [],
   "source": [
    "import numpy as np\n",
    "\n",
    "import seaborn as sns\n",
    "import matplotlib.pyplot as plt\n",
    "%matplotlib inline\n",
    "\n",
    "from sklearn.datasets import make_moons\n",
    "from sklearn.model_selection import train_test_split\n",
    "\n",
    "import torch\n",
    "import torch.nn as nn\n",
    "import torch.nn.functional as F\n",
    "\n",
    "from torch.utils.data import TensorDataset, DataLoader\n",
    "\n",
    "from catalyst import utils\n",
    "\n",
    "sns.set(style='darkgrid', font_scale=1.4)"
   ]
  },
  {
   "cell_type": "markdown",
   "metadata": {},
   "source": [
    "## Logistic regression is my profession"
   ]
  },
  {
   "cell_type": "markdown",
   "metadata": {
    "id": "BT6eRdVNCO42"
   },
   "source": [
    "**Напоминание.** Давайте вспоним, что происходит в логистической регрессии. На входе у нас есть матрица объекты-признаки $X$ и вектор-столбец $y$ – метки из $\\{0, 1\\}$ для каждого объекта. Мы хотим найти такую матрицу весов $W$ и смещение $b$ (bias), что наша модель $XW + b$ будет каким-то образом предсказывать класс объекта. Как видно, на выходе наша модель может выдавать число в интервале от $(-\\infty;\\infty)$. Этот выход, как правило, называют **\"логитами\"** (**logits**). Нам необходимо перевести его на интервал $[0, 1]$ для того, чтобы он выдавал нам вероятность принадлежности объекта к классу один. Также лучше, чтобы эта функция была монотонной, быстро считалась, имела производную и на $-\\infty$ имела значение $0$, а на $+\\infty$ имела значение $1$. Такой класс функций называется сигмоиды. Чаще всего в качестве сигмоиды берут\n",
    "\n",
    "$$\n",
    "\\sigma(x) = \\frac{1}{1 + e^{-x}}\n",
    "$$"
   ]
  },
  {
   "cell_type": "markdown",
   "metadata": {},
   "source": [
    "### Задание"
   ]
  },
  {
   "cell_type": "markdown",
   "metadata": {},
   "source": [
    "Вам необходимо написать модуль на **PyTorch** реализующий $logits = XW + b$, где $W$ и $b$ – параметры (`nn.Parameter`) модели. Иначе говоря здесь мы реализуем своими руками модуль `nn.Linear` (в этом пункте его использование запрещено). Инициализируйте веса нормальным распределением (`torch.randn`)."
   ]
  },
  {
   "cell_type": "code",
   "execution_count": null,
   "metadata": {
    "id": "5U1y-0KtCTne"
   },
   "outputs": [],
   "source": [
    "class LinearRegression(nn.Module):\n",
    "    def __init__(self, in_features: int, out_features: int, bias: bool = True):\n",
    "        super().__init__()\n",
    "        self.weights = nn.Parameter(torch.randn(in_features, out_features))\n",
    "        self.bias = bias\n",
    "        if self.bias:\n",
    "            self.bias_term = nn.Parameter(torch.randn(out_features, 1))\n",
    "\n",
    "    def forward(self, x):\n",
    "        x = x @ self.weights\n",
    "        if self.bias:\n",
    "            x += self.bias_term\n",
    "        return x"
   ]
  },
  {
   "cell_type": "markdown",
   "metadata": {},
   "source": [
    "### Датасет"
   ]
  },
  {
   "cell_type": "markdown",
   "metadata": {
    "id": "aWdyORTW4l_i"
   },
   "source": [
    "Давайте сгенерируем датасет и посмотрим на него:"
   ]
  },
  {
   "cell_type": "code",
   "execution_count": null,
   "metadata": {
    "id": "lo3nwjSJFUP7"
   },
   "outputs": [],
   "source": [
    "X, y = make_moons(n_samples=10000, random_state=42, noise=0.1)"
   ]
  },
  {
   "cell_type": "code",
   "execution_count": null,
   "metadata": {
    "colab": {
     "base_uri": "https://localhost:8080/",
     "height": 619
    },
    "id": "Xa9UCvRyJFqL",
    "outputId": "254f9c61-d3e6-46c5-b970-a49e9c9ecfd1"
   },
   "outputs": [],
   "source": [
    "plt.figure(figsize=(16, 10))\n",
    "plt.title('Dataset')\n",
    "plt.scatter(X[:, 0], X[:, 1], c=y, cmap='viridis')\n",
    "plt.show()"
   ]
  },
  {
   "cell_type": "markdown",
   "metadata": {
    "id": "r6BcB14d4wGm"
   },
   "source": [
    "Разделим на обучающую и тестовую части:"
   ]
  },
  {
   "cell_type": "code",
   "execution_count": null,
   "metadata": {
    "id": "fv5MyTiCHjRh"
   },
   "outputs": [],
   "source": [
    "X_train, X_val, y_train, y_val = train_test_split(X, y, random_state=42)"
   ]
  },
  {
   "cell_type": "markdown",
   "metadata": {},
   "source": [
    "### Загрузка данных"
   ]
  },
  {
   "cell_type": "markdown",
   "metadata": {
    "id": "iTeLXQg240cQ"
   },
   "source": [
    "В **PyTorch** загрузка данных, как правило, происходит налету (иногда датасеты не помещаются в оперативную память). Для этого используются `Dataset` и `DataLoader`:\n",
    "\n",
    "1. `Dataset` загружает каждый объект по отдельности.\n",
    "\n",
    "2. `DataLoader` группирует объекты из `Dataset` в батчи.\n",
    "\n",
    "Так как наш датасет достаточно маленький мы будем использовать `TensorDataset`. Всё, что нам нужно, это перевести данные из массива **NumPy** в тензор с типом `torch.float32`."
   ]
  },
  {
   "cell_type": "code",
   "execution_count": null,
   "metadata": {
    "id": "msj3bXOeIcN-"
   },
   "outputs": [],
   "source": [
    "X_train_t = torch.from_numpy(X_train).to(torch.float32)\n",
    "y_train_t = torch.from_numpy(y_train).to(torch.float32)\n",
    "X_val_t = torch.from_numpy(X_val).to(torch.float32)\n",
    "y_val_t = torch.from_numpy(y_val).to(torch.float32)"
   ]
  },
  {
   "cell_type": "markdown",
   "metadata": {
    "id": "gqwGMsE_7WBy"
   },
   "source": [
    "Создаем `Dataset` и `DataLoader`:"
   ]
  },
  {
   "cell_type": "code",
   "execution_count": null,
   "metadata": {
    "id": "ERvubjbMIu2J"
   },
   "outputs": [],
   "source": [
    "train_dataset = TensorDataset(X_train_t, y_train_t)\n",
    "val_dataset = TensorDataset(X_val_t, y_val_t)\n",
    "train_dataloader = DataLoader(train_dataset, batch_size=128)\n",
    "val_dataloader = DataLoader(val_dataset, batch_size=128)"
   ]
  },
  {
   "cell_type": "code",
   "execution_count": null,
   "metadata": {
    "id": "jgIgTLHSM-10"
   },
   "outputs": [],
   "source": [
    "utils.set_global_seed(42)\n",
    "linear_regression = LinearRegression(2, 1)\n",
    "loss_function = nn.BCEWithLogitsLoss()\n",
    "optimizer = torch.optim.SGD(linear_regression.parameters(), lr=0.05)"
   ]
  },
  {
   "cell_type": "markdown",
   "metadata": {},
   "source": [
    "---"
   ]
  },
  {
   "cell_type": "markdown",
   "metadata": {
    "id": "-VCVmee16yOl"
   },
   "source": [
    "#### Вопрос 1\n",
    "\n",
    "Сколько обучаемых параметров у получившейся модели?\n",
    "\n",
    "**Ответ:** $3$"
   ]
  },
  {
   "cell_type": "code",
   "execution_count": null,
   "metadata": {
    "colab": {
     "base_uri": "https://localhost:8080/"
    },
    "id": "qTDjISVlTJwp",
    "outputId": "5f802a52-ebd4-4346-f2c0-b6fe1a1fe8e9"
   },
   "outputs": [],
   "source": [
    "sum(p.numel() for p in linear_regression.parameters())"
   ]
  },
  {
   "cell_type": "markdown",
   "metadata": {},
   "source": [
    "---"
   ]
  },
  {
   "cell_type": "markdown",
   "metadata": {},
   "source": [
    "### Train loop"
   ]
  },
  {
   "cell_type": "markdown",
   "metadata": {
    "id": "4NV-JrNCoP8E"
   },
   "source": [
    "Вот псевдокод, который поможет вам разобраться в том, что происходит во время обучения:\n",
    "\n",
    "```python\n",
    "for epoch in range(max_epochs):  # <----------- итерируемся по датасету несколько раз\n",
    "    for x_batch, y_batch in dataset:  # <------ итерируемся по датасету, так как мы используем \n",
    "                                      # <------ SGD а не GD, то берём батчи заданного размера\n",
    "        optimizer.zero_grad()  # <------------- обуляем градиенты модели\n",
    "        outp = model(x_batch)  # <------------- получаем \"логиты\" из модели\n",
    "        loss = loss_func(outp, y_batch)  # <--- считаем \"лосс\" для логистической регрессии\n",
    "        loss.backward()  # <------------------- считаем градиенты\n",
    "        optimizer.step()  # <------------------ делаем шаг градиентного спуска\n",
    "        if convergence:  # <------------------- в случае сходимости выходим из цикла\n",
    "            break\n",
    "```\n",
    "\n",
    "В коде ниже добавлено логирование `accuracy` и `loss`."
   ]
  },
  {
   "cell_type": "code",
   "execution_count": null,
   "metadata": {
    "colab": {
     "base_uri": "https://localhost:8080/"
    },
    "id": "gVhlIfK0L93s",
    "outputId": "26882575-f4b9-4a5f-f5bf-84381cb56cc6"
   },
   "outputs": [],
   "source": [
    "tol = 1e-3\n",
    "losses = []\n",
    "max_epochs = 100\n",
    "\n",
    "prev_weights = torch.zeros_like(linear_regression.weights)\n",
    "prev_bias_term = torch.zeros_like(linear_regression.bias_term)\n",
    "\n",
    "stop_it = False\n",
    "\n",
    "for epoch in range(max_epochs):\n",
    "    \n",
    "    utils.set_global_seed(42 + epoch)\n",
    "    \n",
    "    for it, (X_batch, y_batch) in enumerate(train_dataloader):\n",
    "        optimizer.zero_grad()\n",
    "        outp = linear_regression(X_batch)\n",
    "        loss = loss_function(outp, y_batch.view(-1, 1))\n",
    "        loss.backward()\n",
    "        losses.append(loss.detach().flatten()[0])\n",
    "        optimizer.step()\n",
    "        probabilities = torch.sigmoid(outp)\n",
    "        preds = (probabilities > 0.5).type(torch.long)\n",
    "        batch_acc = (preds.flatten() == y_batch).type(torch.float32).sum() / y_batch.size(0)\n",
    "        if it % 500000 == 0:\n",
    "            print(f'Iteration: {it + epoch * len(train_dataset)}\\nBatch accuracy: {batch_acc}')\n",
    "        current_weights = linear_regression.weights.detach().clone()\n",
    "        current_bias_term = linear_regression.bias_term.detach().clone()\n",
    "        if (prev_weights - current_weights).abs().max() < tol and (prev_bias_term - current_bias_term).abs().max() < tol:\n",
    "            print(f'\\nIteration: {it + epoch * len(train_dataset)}. Convergence. Stopping iterations.')\n",
    "            stop_it = True\n",
    "            break\n",
    "        prev_weights = current_weights\n",
    "        prev_bias_term = current_bias_term\n",
    "    \n",
    "    if stop_it:\n",
    "        break"
   ]
  },
  {
   "cell_type": "markdown",
   "metadata": {},
   "source": [
    "---"
   ]
  },
  {
   "cell_type": "markdown",
   "metadata": {
    "id": "QBJ64-MT63_r"
   },
   "source": [
    "#### Вопрос 2\n",
    "\n",
    "Сколько итераций потребовалось, чтобы алгоритм сошелся?\n",
    "\n",
    "**Ответ:** $105054$"
   ]
  },
  {
   "cell_type": "code",
   "execution_count": null,
   "metadata": {},
   "outputs": [],
   "source": [
    "it + epoch * len(train_dataset)"
   ]
  },
  {
   "cell_type": "markdown",
   "metadata": {},
   "source": [
    "---"
   ]
  },
  {
   "cell_type": "markdown",
   "metadata": {
    "id": "As-pgFbzFmiI"
   },
   "source": [
    "### Визуализируем результаты"
   ]
  },
  {
   "cell_type": "code",
   "execution_count": null,
   "metadata": {
    "colab": {
     "base_uri": "https://localhost:8080/",
     "height": 512
    },
    "id": "HzPRB8j4b1IF",
    "outputId": "aeb43e3b-ac2f-4fb9-993b-f34f56a1bf78"
   },
   "outputs": [],
   "source": [
    "plt.figure(figsize=(12, 8))\n",
    "plt.plot(range(len(losses)), losses)\n",
    "plt.xlabel('Iteration')\n",
    "plt.ylabel('Loss')\n",
    "plt.show()"
   ]
  },
  {
   "cell_type": "code",
   "execution_count": null,
   "metadata": {
    "colab": {
     "base_uri": "https://localhost:8080/",
     "height": 630
    },
    "id": "9cGgcBMNX2WP",
    "outputId": "6da32cef-bc7a-4bcb-eadc-3934dbd3a4f4"
   },
   "outputs": [],
   "source": [
    "import numpy as np\n",
    "\n",
    "sns.set(style='white')\n",
    "\n",
    "xx, yy = np.mgrid[-1.5:2.5:.01, -1.:1.5:.01]\n",
    "grid = np.c_[xx.ravel(), yy.ravel()]\n",
    "batch = torch.from_numpy(grid).type(torch.float32)\n",
    "\n",
    "with torch.no_grad():\n",
    "    probs = torch.sigmoid(linear_regression(batch).reshape(xx.shape))\n",
    "    probs = probs.numpy().reshape(xx.shape)\n",
    "\n",
    "f, ax = plt.subplots(figsize=(16, 10))\n",
    "ax.set_title('Decision boundary', fontsize=14)\n",
    "contour = ax.contourf(xx, yy, probs, 25, cmap='RdBu',\n",
    "                      vmin=0, vmax=1)\n",
    "ax_c = f.colorbar(contour)\n",
    "ax_c.set_label('$P(y = 1)$')\n",
    "ax_c.set_ticks([0, .25, .5, .75, 1])\n",
    "\n",
    "ax.scatter(X[100:,0], X[100:, 1], c=y[100:], s=50,\n",
    "           cmap='RdBu', vmin=-.2, vmax=1.2,\n",
    "           edgecolor='white', linewidth=1)\n",
    "\n",
    "ax.set(xlabel='$X_1$', ylabel='$X_2$')\n",
    "plt.show()"
   ]
  },
  {
   "cell_type": "markdown",
   "metadata": {},
   "source": [
    "---"
   ]
  },
  {
   "cell_type": "markdown",
   "metadata": {
    "id": "s7TXs3kk7Kmq"
   },
   "source": [
    "#### Вопрос 3\n",
    "\n",
    "Какое `accuracy` получается после обучения?\n",
    "\n",
    "**Ответ:** $0.8688$"
   ]
  },
  {
   "cell_type": "code",
   "execution_count": null,
   "metadata": {
    "id": "FP_imFpe7Ac4"
   },
   "outputs": [],
   "source": [
    "@torch.no_grad()\n",
    "def predict(dataloader, model):\n",
    "    model.eval()\n",
    "    predictions = np.array([])\n",
    "    for x_batch, _ in dataloader:\n",
    "        outp = model(x_batch)\n",
    "        probs = torch.sigmoid(outp)\n",
    "        preds = (probs > 0.5).type(torch.long)\n",
    "        predictions = np.hstack((predictions, preds.numpy().flatten()))\n",
    "    predictions = predictions\n",
    "    return predictions.flatten()"
   ]
  },
  {
   "cell_type": "code",
   "execution_count": null,
   "metadata": {
    "colab": {
     "base_uri": "https://localhost:8080/"
    },
    "id": "v0vaJdAS7Dfq",
    "outputId": "bf05308e-8365-4c7c-c4cb-14a5c161faf2"
   },
   "outputs": [],
   "source": [
    "from sklearn.metrics import accuracy_score\n",
    "\n",
    "accuracy_score(predict(val_dataloader, linear_regression), y_val_t)"
   ]
  },
  {
   "cell_type": "markdown",
   "metadata": {},
   "source": [
    "---"
   ]
  },
  {
   "cell_type": "markdown",
   "metadata": {},
   "source": [
    "## MNIST"
   ]
  },
  {
   "cell_type": "code",
   "execution_count": null,
   "metadata": {
    "colab": {
     "base_uri": "https://localhost:8080/",
     "height": 437,
     "referenced_widgets": [
      "b9409e864f6f483ba048b0489d01fd08",
      "3413983697604d0c8a047ec6715af257",
      "8849930bf4304cdbbc0533a4e5875168",
      "40698c67b333450aaa088f7f34598ec1",
      "a4ab706bed424a7e827a96a0b8595f9b",
      "70ee8addf3cd45bd8edcb481c3738d8a",
      "6dfc12c89ce94503b9257e33ccda9d6e",
      "440f8998157f4b4ba1fed1f8bc5d48eb",
      "757e442ba3134e1999dc9dbc134d359b",
      "fe8e0f81d706499f9cbbdb289bce0ebd",
      "ba9bb06a77b04e9e97f6cb12dca3774e",
      "3c7920a4ff074012947d7cbf18fdfd40",
      "abc16a5be70e47a39601d951fe7f75db",
      "a668f7ac699e456aa435ab9e896a89b6",
      "c568aee7eab044e4b38e22036ee9462b",
      "66994b153bc44134b0f134c81b912b83",
      "983a54f8eef1443f9fae11376739f26e",
      "f956b54272c44bf08bde2848c4fb8560",
      "fbc643dd47104ad392f2da346d3c90aa",
      "3f94089990484750bdd08a88eaa4b5aa",
      "57e036c2e5d844688b054442c3a5cdbe",
      "8c51677ebb574c41b7f6cd486d9dde0a",
      "b5c6e96c9eee4f72b9a9a90aa3902ce8",
      "2999db8163ef4721bc7d0788a99eafd1",
      "5573ad679a8e4dbea539051182ceafeb",
      "60b8fe6b8b184fb68d9c2c61ef1c6490",
      "ecd92676310342ba86d97a562abc3842",
      "8509794de3b44ddeab892a3f65ec1c81",
      "52c21cf0d99c41ce8874d7415af8d1c5",
      "4d9a2c54d8974ef6b69b586423605aa7",
      "02b1ffa1de3e4755b6f2216d769c2266",
      "e15be1ad5e664dee82c10dac2b0b367e"
     ]
    },
    "id": "LuUE2wihC4GW",
    "outputId": "4006820e-bd94-4d6e-9caa-bdfd15980382"
   },
   "outputs": [],
   "source": [
    "from catalyst.contrib.datasets import MNIST\n",
    "\n",
    "train_dataset = MNIST('data', train=True, download=True)\n",
    "val_dataset = MNIST('data', train=False)\n",
    "train_dataloader = DataLoader(train_dataset, batch_size=128, shuffle=True)\n",
    "valid_dataloader = DataLoader(val_dataset, batch_size=128, shuffle=False)"
   ]
  },
  {
   "cell_type": "code",
   "execution_count": null,
   "metadata": {
    "id": "Zvcy_wYFh1Lv"
   },
   "outputs": [],
   "source": [
    "class Identical(nn.Module):\n",
    "    def forward(self, x):\n",
    "        return x\n",
    "\n",
    "class Flatten(nn.Module):\n",
    "    def forward(self, x):\n",
    "        batch_size = x.size(0)\n",
    "        return x.view(batch_size, -1)"
   ]
  },
  {
   "cell_type": "code",
   "execution_count": null,
   "metadata": {
    "id": "ulxWHddEiQCr"
   },
   "outputs": [],
   "source": [
    "# activation = Identical\n",
    "# activation = nn.ReLU\n",
    "# activation = nn.LeakyReLU\n",
    "activation = nn.ELU\n",
    "\n",
    "model = nn.Sequential(\n",
    "    Flatten(),\n",
    "    nn.Linear(28 * 28, 128),\n",
    "    activation(),\n",
    "    nn.Linear(128, 128),\n",
    "    activation(),\n",
    "    nn.Linear(128, 10),\n",
    ")"
   ]
  },
  {
   "cell_type": "code",
   "execution_count": null,
   "metadata": {
    "id": "FIl6z-AfivcK"
   },
   "outputs": [],
   "source": [
    "criterion = nn.CrossEntropyLoss()\n",
    "optimizer = torch.optim.Adam(model.parameters())\n",
    "\n",
    "loaders = {'train': train_dataloader, 'valid': valid_dataloader}"
   ]
  },
  {
   "cell_type": "code",
   "execution_count": null,
   "metadata": {
    "id": "whvqhLjYmpKc"
   },
   "outputs": [],
   "source": [
    "device = 'cuda' if torch.cuda.is_available() else 'cpu'"
   ]
  },
  {
   "cell_type": "markdown",
   "metadata": {},
   "source": [
    "### Train loop"
   ]
  },
  {
   "cell_type": "markdown",
   "metadata": {
    "id": "4Xl_HawRGRAe"
   },
   "source": [
    "Давайте разберемся с кодом ниже, который подойдет для $90\\%$ задач в будущем.\n",
    "\n",
    "```python\n",
    "for epoch in range(max_epochs):  # <----------------- итерируемся по датасету несколько раз\n",
    "    for k, dataloader in loaders.items():  # <------- несколько dataloader для train / valid / test\n",
    "        for x_batch, y_batch in dataloader:  # <----- итерируемся по датасету, так как мы используем\n",
    "                                             # <----- SGD а не GD, то берём батчи заданного размера\n",
    "            if k == \"train\":\n",
    "                model.train()  # <------------------- переводим модель в режим train\n",
    "                optimizer.zero_grad()  # <----------- обнуляем градиенты модели\n",
    "                outp = model(x_batch)\n",
    "                loss = criterion(outp, y_batch) # <-- считаем \"лосс\" для логистической регрессии\n",
    "                loss.backward()  # <----------------- считаем градиенты\n",
    "                optimizer.step()  # <---------------- делаем шаг градиентного спуска\n",
    "            else:  # <------------------------------- test / eval\n",
    "                model.eval()  # <-------------------- переводим модель в режим eval\n",
    "                with torch.no_grad():  # <----------- НЕ считаем градиенты\n",
    "                    outp = model(x_batch)  # <------- получаем \"логиты\" из модели\n",
    "            count_metrics(outp, y_batch)  # <-------- считаем метрики\n",
    "```"
   ]
  },
  {
   "cell_type": "code",
   "execution_count": null,
   "metadata": {
    "colab": {
     "base_uri": "https://localhost:8080/",
     "height": 408
    },
    "id": "3Tmo1lsHjBE6",
    "outputId": "2bf896ad-e2dc-43b9-8b6a-f42774bbc5e2"
   },
   "outputs": [],
   "source": [
    "max_epochs = 10\n",
    "\n",
    "accuracy = {'train': [], 'valid': []}\n",
    "\n",
    "for epoch in range(max_epochs):\n",
    "    \n",
    "    epoch_correct = 0\n",
    "    epoch_all = 0\n",
    "    utils.set_global_seed(42 + epoch)\n",
    "    \n",
    "    for k, dataloader in loaders.items():\n",
    "        for x_batch, y_batch in dataloader:\n",
    "            if k == 'train':\n",
    "                model.train()\n",
    "                optimizer.zero_grad()\n",
    "                outp = model(x_batch.float())\n",
    "                loss = criterion(outp, y_batch)\n",
    "            else:\n",
    "                model.eval()\n",
    "                with torch.no_grad():\n",
    "                    outp = model(x_batch.float())\n",
    "            preds = outp.argmax(-1)\n",
    "            correct = (preds == y_batch).sum()\n",
    "            total = len(y_batch)\n",
    "            epoch_correct += correct.item()\n",
    "            epoch_all += total\n",
    "            if k == 'train':\n",
    "                loss = criterion(outp, y_batch)\n",
    "                loss.backward()\n",
    "                optimizer.step()\n",
    "        if k == 'train':\n",
    "            print(f'Epoch: {epoch + 1}')\n",
    "        print(f'Loader: {k}. Accuracy: {epoch_correct / epoch_all}')\n",
    "        accuracy[k].append(epoch_correct / epoch_all)"
   ]
  },
  {
   "cell_type": "markdown",
   "metadata": {
    "id": "fFRxO1-FK9U9"
   },
   "source": [
    "Попробуйте разные функции активации. Позапускайте ячейки сверху, несколько раз изменив функции активации. После каждого обучения запустите одну из ячеек снизу. Таким образом мы получим график `accuracy / epoch` для каждой функции активации."
   ]
  },
  {
   "cell_type": "code",
   "execution_count": null,
   "metadata": {
    "id": "a1iXow0Tqsri"
   },
   "outputs": [],
   "source": [
    "plain_accuracy = accuracy['valid']"
   ]
  },
  {
   "cell_type": "code",
   "execution_count": null,
   "metadata": {
    "id": "SZOlZ8oSqA_b"
   },
   "outputs": [],
   "source": [
    "relu_accuracy = accuracy['valid']"
   ]
  },
  {
   "cell_type": "code",
   "execution_count": null,
   "metadata": {
    "id": "s4RxYNHWrVD_"
   },
   "outputs": [],
   "source": [
    "leaky_relu_accuracy = accuracy['valid']"
   ]
  },
  {
   "cell_type": "code",
   "execution_count": null,
   "metadata": {
    "id": "SezseDhEqhm2"
   },
   "outputs": [],
   "source": [
    "elu_accuracy = accuracy['valid']"
   ]
  },
  {
   "cell_type": "markdown",
   "metadata": {
    "id": "FK07mms3FwNd"
   },
   "source": [
    "### Accuracy"
   ]
  },
  {
   "cell_type": "code",
   "execution_count": null,
   "metadata": {
    "colab": {
     "base_uri": "https://localhost:8080/",
     "height": 641
    },
    "id": "cvKclpM5r-P3",
    "outputId": "272ccd44-1c36-466e-fa32-c5519467ae2c"
   },
   "outputs": [],
   "source": [
    "sns.set(style='darkgrid', font_scale=1.4)\n",
    "\n",
    "plt.figure(figsize=(16, 10))\n",
    "plt.title('Valid accuracy')\n",
    "plt.plot(range(max_epochs), plain_accuracy, label='No activation', linewidth=2)\n",
    "plt.plot(range(max_epochs), relu_accuracy, label='ReLU activation', linewidth=2)\n",
    "plt.plot(range(max_epochs), leaky_relu_accuracy, label='LeakyReLU activation', linewidth=2)\n",
    "plt.plot(range(max_epochs), elu_accuracy, label='ELU activation', linewidth=2)\n",
    "plt.legend()\n",
    "plt.xlabel('Epoch')\n",
    "plt.show()"
   ]
  },
  {
   "cell_type": "markdown",
   "metadata": {},
   "source": [
    "---"
   ]
  },
  {
   "cell_type": "markdown",
   "metadata": {
    "id": "bl8qYSSa7c-r"
   },
   "source": [
    "#### Вопрос 4\n",
    "\n",
    "Какая из активаций показала наивысший `accuracy`?\n",
    "\n",
    "**Ответ:** авторы считают, что ReLU, но в реальности зависит от того, где запускать."
   ]
  },
  {
   "cell_type": "markdown",
   "metadata": {},
   "source": [
    "---"
   ]
  },
  {
   "cell_type": "markdown",
   "metadata": {
    "id": "ebq7icV8CbrU"
   },
   "source": [
    "## Свёрточные слои"
   ]
  },
  {
   "cell_type": "markdown",
   "metadata": {
    "id": "9bXylTAuCqu-"
   },
   "source": [
    "### Ядра"
   ]
  },
  {
   "cell_type": "code",
   "execution_count": null,
   "metadata": {
    "colab": {
     "base_uri": "https://localhost:8080/",
     "height": 489
    },
    "id": "88YOXq0CCyUM",
    "outputId": "0d2464be-e53b-4e78-f349-9297503c3b16"
   },
   "outputs": [],
   "source": [
    "import cv2\n",
    "\n",
    "sns.set(style=\"white\")\n",
    "\n",
    "img = cv2.imread(\"data/mipt.jpg\")\n",
    "RGB_img = cv2.cvtColor(img, cv2.COLOR_BGR2RGB)\n",
    "\n",
    "plt.figure(figsize=(12, 8))\n",
    "plt.imshow(RGB_img)\n",
    "plt.show()"
   ]
  },
  {
   "cell_type": "markdown",
   "metadata": {
    "id": "Iu9oxwbL-6xE"
   },
   "source": [
    "Попробуйте посмотреть, как различные свёртки влияют на фото. Например, попробуйте:\n",
    "\n",
    "```python\n",
    "[0, 0, 0],\n",
    "[0, 1, 0],\n",
    "[0, 0, 0]\n",
    "```\n",
    "\n",
    "```python\n",
    "[0, 1, 0],\n",
    "[0, -2, 0],\n",
    "[0, 1, 0]\n",
    "```\n",
    "\n",
    "```python\n",
    "[0, 0, 0],\n",
    "[1, -2, 1],\n",
    "[0, 0, 0]\n",
    "```\n",
    "\n",
    "```python\n",
    "[0, 1, 0],\n",
    "[1, -4, 1],\n",
    "[0, 1, 0]\n",
    "```\n",
    "\n",
    "```python\n",
    "[0, -1, 0],\n",
    "[-1, 5, -1],\n",
    "[0, -1, 0]\n",
    "```\n",
    "\n",
    "```python\n",
    "[0.0625, 0.125, 0.0625],\n",
    "[0.125, 0.25, 0.125],\n",
    "[0.0625, 0.125, 0.0625]\n",
    "```\n",
    "\n",
    "Не стесняйтесь пробовать свои варианты!"
   ]
  },
  {
   "cell_type": "code",
   "execution_count": null,
   "metadata": {
    "id": "-0WNZro01pZE"
   },
   "outputs": [],
   "source": [
    "img_t = torch.from_numpy(RGB_img).type(torch.float32).unsqueeze(0)\n",
    "\n",
    "# kernel = torch.tensor([\n",
    "#     [0, 0, 0],\n",
    "#     [0, 1, 0],\n",
    "#     [0, 0, 0]\n",
    "# ]).reshape(1, 1, 3, 3).type(torch.float32)\n",
    "\n",
    "# kernel = torch.tensor([\n",
    "#     [0, 1, 0],\n",
    "#     [0, -2, 0],\n",
    "#     [0, 1, 0]\n",
    "# ]).reshape(1, 1, 3, 3).type(torch.float32)\n",
    "\n",
    "# kernel = torch.tensor([\n",
    "#     [0, 0, 0],\n",
    "#     [1, -2, 1],\n",
    "#     [0, 0, 0]\n",
    "# ]).reshape(1, 1, 3, 3).type(torch.float32)\n",
    "\n",
    "kernel = torch.tensor([\n",
    "    [0, 1, 0],\n",
    "    [1, -4, 1],\n",
    "    [0, 1, 0]\n",
    "]).reshape(1, 1, 3, 3).type(torch.float32)\n",
    "\n",
    "# kernel = torch.tensor([\n",
    "#     [0, -1, 0],\n",
    "#     [-1, 5, -1],\n",
    "#     [0, -1, 0]\n",
    "# ]).reshape(1, 1, 3, 3).type(torch.float32)\n",
    "\n",
    "# kernel = torch.tensor([\n",
    "#     [0.0625, 0.125, 0.0625],\n",
    "#     [0.125, 0.25, 0.125],\n",
    "#     [0.0625, 0.125, 0.0625]\n",
    "# ]).reshape(1, 1, 3, 3).type(torch.float32)\n",
    "\n",
    "kernel = kernel.repeat(3, 3, 1, 1)\n",
    "# [BS, H, W, C] -> [BS, C, H, W]\n",
    "img_t = img_t.permute(0, 3, 1, 2)\n",
    "# pad image for the same output size\n",
    "img_t = nn.ReflectionPad2d(1)(img_t)\n",
    "\n",
    "result = F.conv2d(img_t, kernel)[0]"
   ]
  },
  {
   "cell_type": "code",
   "execution_count": null,
   "metadata": {
    "colab": {
     "base_uri": "https://localhost:8080/",
     "height": 506
    },
    "id": "C-SAfc7x28ko",
    "outputId": "db1e1ad8-53ec-4e7d-8f1a-ddc0720175eb"
   },
   "outputs": [],
   "source": [
    "plt.figure(figsize=(12, 8))\n",
    "result_np = result.permute(1, 2, 0).numpy() / 256 / 3\n",
    "\n",
    "plt.imshow(result_np)\n",
    "plt.show()"
   ]
  },
  {
   "cell_type": "markdown",
   "metadata": {},
   "source": [
    "---"
   ]
  },
  {
   "cell_type": "markdown",
   "metadata": {
    "id": "oDapwqTXGC4e"
   },
   "source": [
    "#### Вопрос 5\n",
    "\n",
    "Как вы считаете, как можно описать действия ядер, приведенных выше? Сопоставьте для каждой буквы число.\n",
    "\n",
    "1. Размытие\n",
    "\n",
    "2. Увеличение резкости\n",
    "\n",
    "3. Тождественное преобразование\n",
    "\n",
    "4. Выделение вертикальных границ\n",
    "\n",
    "5. Выделение горизонтальных границ\n",
    "\n",
    "6. Выделение границ\n",
    "\n",
    "**Ответ:** A - 3, Б - 5, В - 4, Г - 6, Д - 2, Е - 1."
   ]
  },
  {
   "cell_type": "markdown",
   "metadata": {},
   "source": [
    "---"
   ]
  },
  {
   "cell_type": "markdown",
   "metadata": {},
   "source": [
    "### LeNet"
   ]
  },
  {
   "cell_type": "markdown",
   "metadata": {
    "id": "4b9ib9saC9Vb"
   },
   "source": [
    "Если мы сделаем параметры свёрток обучаемыми, то сможем добиться хороших результатов для задач компьютерного зрения. Давайте посмотрим на архитектуру, предложенную еще в $1998$ году!"
   ]
  },
  {
   "cell_type": "code",
   "execution_count": null,
   "metadata": {
    "id": "lE8qJByKC-u0"
   },
   "outputs": [],
   "source": [
    "class LeNet(nn.Module):\n",
    "    def __init__(self):\n",
    "        super(LeNet, self).__init__()\n",
    "        # 1 input image channel, 6 output channels, 3x3 square conv kernel\n",
    "        self.conv1 = nn.Conv2d(1, 6, 3)\n",
    "        self.conv2 = nn.Conv2d(6, 16, 3)\n",
    "        # 5x5 image resolution\n",
    "        self.fc1 = nn.Linear(16 * 5 * 5, 120)\n",
    "        self.fc2 = nn.Linear(120, 84)\n",
    "        self.fc3 = nn.Linear(84, 10)\n",
    "\n",
    "    def forward(self, x):\n",
    "        x = F.max_pool2d(F.relu(self.conv1(x)), (2, 2))\n",
    "        x = F.max_pool2d(F.relu(self.conv2(x)), 2)\n",
    "        x = x.view(-1, int(x.nelement() / x.shape[0]))\n",
    "        x = F.relu(self.fc1(x))\n",
    "        x = F.relu(self.fc2(x))\n",
    "        x = self.fc3(x)\n",
    "        return x"
   ]
  },
  {
   "cell_type": "code",
   "execution_count": null,
   "metadata": {
    "id": "dgfBX_HPyd_z"
   },
   "outputs": [],
   "source": [
    "model = LeNet().to(device)\n",
    "\n",
    "criterion = nn.CrossEntropyLoss()\n",
    "optimizer = torch.optim.Adam(model.parameters())\n",
    "\n",
    "loaders = {'train': train_dataloader, 'valid': valid_dataloader}"
   ]
  },
  {
   "cell_type": "code",
   "execution_count": null,
   "metadata": {
    "colab": {
     "base_uri": "https://localhost:8080/",
     "height": 583
    },
    "id": "mlTk_aF8yqDi",
    "outputId": "2d34fd28-2789-4ef8-d319-fca41ec08968"
   },
   "outputs": [],
   "source": [
    "max_epochs = 10\n",
    "\n",
    "accuracy = {'train': [], 'valid': []}\n",
    "\n",
    "for epoch in range(max_epochs):\n",
    "    \n",
    "    epoch_correct = 0\n",
    "    epoch_all = 0\n",
    "    utils.set_global_seed(42 + epoch)\n",
    "    \n",
    "    for k, dataloader in loaders.items():\n",
    "        for x_batch, y_batch in dataloader:\n",
    "            if k == 'train':\n",
    "                model.train()\n",
    "                optimizer.zero_grad()\n",
    "                outp = model(x_batch.float().unsqueeze(1))\n",
    "                loss = criterion(outp, y_batch)\n",
    "            else:\n",
    "                model.eval()\n",
    "                with torch.no_grad():\n",
    "                    outp = model(x_batch.float().unsqueeze(1))\n",
    "            preds = outp.argmax(-1)\n",
    "            correct = (preds == y_batch).sum()\n",
    "            total = len(y_batch)\n",
    "            epoch_correct += correct.item()\n",
    "            epoch_all += total\n",
    "            if k == 'train':\n",
    "                loss = criterion(outp, y_batch)\n",
    "                loss.backward()\n",
    "                optimizer.step()\n",
    "        if k == 'train':\n",
    "            print(f'Epoch: {epoch + 1}')\n",
    "        print(f'Loader: {k}. Accuracy: {epoch_correct / epoch_all}')\n",
    "        accuracy[k].append(epoch_correct / epoch_all)"
   ]
  },
  {
   "cell_type": "code",
   "execution_count": null,
   "metadata": {
    "id": "uFT5XKS1ytA2"
   },
   "outputs": [],
   "source": [
    "lenet_accuracy = accuracy['valid']"
   ]
  },
  {
   "cell_type": "markdown",
   "metadata": {
    "id": "q-PwAI5SPMBx"
   },
   "source": [
    "Сравним с предыдущим пунктом:"
   ]
  },
  {
   "cell_type": "code",
   "execution_count": null,
   "metadata": {
    "colab": {
     "base_uri": "https://localhost:8080/",
     "height": 641
    },
    "id": "VDq6pSi_yytp",
    "outputId": "63e40159-b748-49b3-9d29-cd1e7ff00745"
   },
   "outputs": [],
   "source": [
    "sns.set(style='darkgrid', font_scale=1.4)\n",
    "plt.figure(figsize=(16, 10))\n",
    "plt.title('Valid accuracy')\n",
    "plt.plot(range(max_epochs), relu_accuracy, label='ReLU activation', linewidth=2)\n",
    "plt.plot(range(max_epochs), leaky_relu_accuracy, label='LeakyReLU activation', linewidth=2)\n",
    "plt.plot(range(max_epochs), elu_accuracy, label='ELU activation', linewidth=2)\n",
    "plt.plot(range(max_epochs), lenet_accuracy, label='LeNet', linewidth=2)\n",
    "plt.legend()\n",
    "plt.xlabel('Epoch')\n",
    "plt.show()"
   ]
  },
  {
   "cell_type": "markdown",
   "metadata": {},
   "source": [
    "---"
   ]
  },
  {
   "cell_type": "markdown",
   "metadata": {
    "id": "A3NCpTE3726m"
   },
   "source": [
    "#### Вопрос 6\n",
    "\n",
    "Какое `accuracy` получается после обучения с точностью до двух знаков после запятой?\n",
    "\n",
    "**Ответ:**"
   ]
  },
  {
   "cell_type": "code",
   "execution_count": null,
   "metadata": {},
   "outputs": [],
   "source": [
    "round(lenet_accuracy[-1], 2)"
   ]
  }
 ],
 "metadata": {
  "colab": {
   "collapsed_sections": [],
   "name": "HW.ipynb",
   "provenance": [],
   "toc_visible": true
  },
  "kernelspec": {
   "display_name": "Python 3",
   "language": "python",
   "name": "python3"
  },
  "language_info": {
   "codemirror_mode": {
    "name": "ipython",
    "version": 3
   },
   "file_extension": ".py",
   "mimetype": "text/x-python",
   "name": "python",
   "nbconvert_exporter": "python",
   "pygments_lexer": "ipython3",
   "version": "3.8.3"
  },
  "widgets": {
   "application/vnd.jupyter.widget-state+json": {
    "02b1ffa1de3e4755b6f2216d769c2266": {
     "model_module": "@jupyter-widgets/controls",
     "model_name": "DescriptionStyleModel",
     "state": {
      "_model_module": "@jupyter-widgets/controls",
      "_model_module_version": "1.5.0",
      "_model_name": "DescriptionStyleModel",
      "_view_count": null,
      "_view_module": "@jupyter-widgets/base",
      "_view_module_version": "1.2.0",
      "_view_name": "StyleView",
      "description_width": ""
     }
    },
    "2999db8163ef4721bc7d0788a99eafd1": {
     "model_module": "@jupyter-widgets/base",
     "model_name": "LayoutModel",
     "state": {
      "_model_module": "@jupyter-widgets/base",
      "_model_module_version": "1.2.0",
      "_model_name": "LayoutModel",
      "_view_count": null,
      "_view_module": "@jupyter-widgets/base",
      "_view_module_version": "1.2.0",
      "_view_name": "LayoutView",
      "align_content": null,
      "align_items": null,
      "align_self": null,
      "border": null,
      "bottom": null,
      "display": null,
      "flex": null,
      "flex_flow": null,
      "grid_area": null,
      "grid_auto_columns": null,
      "grid_auto_flow": null,
      "grid_auto_rows": null,
      "grid_column": null,
      "grid_gap": null,
      "grid_row": null,
      "grid_template_areas": null,
      "grid_template_columns": null,
      "grid_template_rows": null,
      "height": null,
      "justify_content": null,
      "justify_items": null,
      "left": null,
      "margin": null,
      "max_height": null,
      "max_width": null,
      "min_height": null,
      "min_width": null,
      "object_fit": null,
      "object_position": null,
      "order": null,
      "overflow": null,
      "overflow_x": null,
      "overflow_y": null,
      "padding": null,
      "right": null,
      "top": null,
      "visibility": null,
      "width": null
     }
    },
    "3413983697604d0c8a047ec6715af257": {
     "model_module": "@jupyter-widgets/base",
     "model_name": "LayoutModel",
     "state": {
      "_model_module": "@jupyter-widgets/base",
      "_model_module_version": "1.2.0",
      "_model_name": "LayoutModel",
      "_view_count": null,
      "_view_module": "@jupyter-widgets/base",
      "_view_module_version": "1.2.0",
      "_view_name": "LayoutView",
      "align_content": null,
      "align_items": null,
      "align_self": null,
      "border": null,
      "bottom": null,
      "display": null,
      "flex": null,
      "flex_flow": null,
      "grid_area": null,
      "grid_auto_columns": null,
      "grid_auto_flow": null,
      "grid_auto_rows": null,
      "grid_column": null,
      "grid_gap": null,
      "grid_row": null,
      "grid_template_areas": null,
      "grid_template_columns": null,
      "grid_template_rows": null,
      "height": null,
      "justify_content": null,
      "justify_items": null,
      "left": null,
      "margin": null,
      "max_height": null,
      "max_width": null,
      "min_height": null,
      "min_width": null,
      "object_fit": null,
      "object_position": null,
      "order": null,
      "overflow": null,
      "overflow_x": null,
      "overflow_y": null,
      "padding": null,
      "right": null,
      "top": null,
      "visibility": null,
      "width": null
     }
    },
    "3c7920a4ff074012947d7cbf18fdfd40": {
     "model_module": "@jupyter-widgets/controls",
     "model_name": "HTMLModel",
     "state": {
      "_dom_classes": [],
      "_model_module": "@jupyter-widgets/controls",
      "_model_module_version": "1.5.0",
      "_model_name": "HTMLModel",
      "_view_count": null,
      "_view_module": "@jupyter-widgets/controls",
      "_view_module_version": "1.5.0",
      "_view_name": "HTMLView",
      "description": "",
      "description_tooltip": null,
      "layout": "IPY_MODEL_66994b153bc44134b0f134c81b912b83",
      "placeholder": "​",
      "style": "IPY_MODEL_c568aee7eab044e4b38e22036ee9462b",
      "value": " 32768/? [00:00&lt;00:00, 80461.46it/s]"
     }
    },
    "3f94089990484750bdd08a88eaa4b5aa": {
     "model_module": "@jupyter-widgets/controls",
     "model_name": "HTMLModel",
     "state": {
      "_dom_classes": [],
      "_model_module": "@jupyter-widgets/controls",
      "_model_module_version": "1.5.0",
      "_model_name": "HTMLModel",
      "_view_count": null,
      "_view_module": "@jupyter-widgets/controls",
      "_view_module_version": "1.5.0",
      "_view_name": "HTMLView",
      "description": "",
      "description_tooltip": null,
      "layout": "IPY_MODEL_2999db8163ef4721bc7d0788a99eafd1",
      "placeholder": "​",
      "style": "IPY_MODEL_b5c6e96c9eee4f72b9a9a90aa3902ce8",
      "value": " 1654784/? [00:00&lt;00:00, 5489053.91it/s]"
     }
    },
    "40698c67b333450aaa088f7f34598ec1": {
     "model_module": "@jupyter-widgets/controls",
     "model_name": "HTMLModel",
     "state": {
      "_dom_classes": [],
      "_model_module": "@jupyter-widgets/controls",
      "_model_module_version": "1.5.0",
      "_model_name": "HTMLModel",
      "_view_count": null,
      "_view_module": "@jupyter-widgets/controls",
      "_view_module_version": "1.5.0",
      "_view_name": "HTMLView",
      "description": "",
      "description_tooltip": null,
      "layout": "IPY_MODEL_440f8998157f4b4ba1fed1f8bc5d48eb",
      "placeholder": "​",
      "style": "IPY_MODEL_6dfc12c89ce94503b9257e33ccda9d6e",
      "value": " 9920512/? [00:08&lt;00:00, 1111673.37it/s]"
     }
    },
    "440f8998157f4b4ba1fed1f8bc5d48eb": {
     "model_module": "@jupyter-widgets/base",
     "model_name": "LayoutModel",
     "state": {
      "_model_module": "@jupyter-widgets/base",
      "_model_module_version": "1.2.0",
      "_model_name": "LayoutModel",
      "_view_count": null,
      "_view_module": "@jupyter-widgets/base",
      "_view_module_version": "1.2.0",
      "_view_name": "LayoutView",
      "align_content": null,
      "align_items": null,
      "align_self": null,
      "border": null,
      "bottom": null,
      "display": null,
      "flex": null,
      "flex_flow": null,
      "grid_area": null,
      "grid_auto_columns": null,
      "grid_auto_flow": null,
      "grid_auto_rows": null,
      "grid_column": null,
      "grid_gap": null,
      "grid_row": null,
      "grid_template_areas": null,
      "grid_template_columns": null,
      "grid_template_rows": null,
      "height": null,
      "justify_content": null,
      "justify_items": null,
      "left": null,
      "margin": null,
      "max_height": null,
      "max_width": null,
      "min_height": null,
      "min_width": null,
      "object_fit": null,
      "object_position": null,
      "order": null,
      "overflow": null,
      "overflow_x": null,
      "overflow_y": null,
      "padding": null,
      "right": null,
      "top": null,
      "visibility": null,
      "width": null
     }
    },
    "4d9a2c54d8974ef6b69b586423605aa7": {
     "model_module": "@jupyter-widgets/base",
     "model_name": "LayoutModel",
     "state": {
      "_model_module": "@jupyter-widgets/base",
      "_model_module_version": "1.2.0",
      "_model_name": "LayoutModel",
      "_view_count": null,
      "_view_module": "@jupyter-widgets/base",
      "_view_module_version": "1.2.0",
      "_view_name": "LayoutView",
      "align_content": null,
      "align_items": null,
      "align_self": null,
      "border": null,
      "bottom": null,
      "display": null,
      "flex": null,
      "flex_flow": null,
      "grid_area": null,
      "grid_auto_columns": null,
      "grid_auto_flow": null,
      "grid_auto_rows": null,
      "grid_column": null,
      "grid_gap": null,
      "grid_row": null,
      "grid_template_areas": null,
      "grid_template_columns": null,
      "grid_template_rows": null,
      "height": null,
      "justify_content": null,
      "justify_items": null,
      "left": null,
      "margin": null,
      "max_height": null,
      "max_width": null,
      "min_height": null,
      "min_width": null,
      "object_fit": null,
      "object_position": null,
      "order": null,
      "overflow": null,
      "overflow_x": null,
      "overflow_y": null,
      "padding": null,
      "right": null,
      "top": null,
      "visibility": null,
      "width": null
     }
    },
    "52c21cf0d99c41ce8874d7415af8d1c5": {
     "model_module": "@jupyter-widgets/controls",
     "model_name": "ProgressStyleModel",
     "state": {
      "_model_module": "@jupyter-widgets/controls",
      "_model_module_version": "1.5.0",
      "_model_name": "ProgressStyleModel",
      "_view_count": null,
      "_view_module": "@jupyter-widgets/base",
      "_view_module_version": "1.2.0",
      "_view_name": "StyleView",
      "bar_color": null,
      "description_width": "initial"
     }
    },
    "5573ad679a8e4dbea539051182ceafeb": {
     "model_module": "@jupyter-widgets/controls",
     "model_name": "HBoxModel",
     "state": {
      "_dom_classes": [],
      "_model_module": "@jupyter-widgets/controls",
      "_model_module_version": "1.5.0",
      "_model_name": "HBoxModel",
      "_view_count": null,
      "_view_module": "@jupyter-widgets/controls",
      "_view_module_version": "1.5.0",
      "_view_name": "HBoxView",
      "box_style": "",
      "children": [
       "IPY_MODEL_ecd92676310342ba86d97a562abc3842",
       "IPY_MODEL_8509794de3b44ddeab892a3f65ec1c81"
      ],
      "layout": "IPY_MODEL_60b8fe6b8b184fb68d9c2c61ef1c6490"
     }
    },
    "57e036c2e5d844688b054442c3a5cdbe": {
     "model_module": "@jupyter-widgets/controls",
     "model_name": "ProgressStyleModel",
     "state": {
      "_model_module": "@jupyter-widgets/controls",
      "_model_module_version": "1.5.0",
      "_model_name": "ProgressStyleModel",
      "_view_count": null,
      "_view_module": "@jupyter-widgets/base",
      "_view_module_version": "1.2.0",
      "_view_name": "StyleView",
      "bar_color": null,
      "description_width": "initial"
     }
    },
    "60b8fe6b8b184fb68d9c2c61ef1c6490": {
     "model_module": "@jupyter-widgets/base",
     "model_name": "LayoutModel",
     "state": {
      "_model_module": "@jupyter-widgets/base",
      "_model_module_version": "1.2.0",
      "_model_name": "LayoutModel",
      "_view_count": null,
      "_view_module": "@jupyter-widgets/base",
      "_view_module_version": "1.2.0",
      "_view_name": "LayoutView",
      "align_content": null,
      "align_items": null,
      "align_self": null,
      "border": null,
      "bottom": null,
      "display": null,
      "flex": null,
      "flex_flow": null,
      "grid_area": null,
      "grid_auto_columns": null,
      "grid_auto_flow": null,
      "grid_auto_rows": null,
      "grid_column": null,
      "grid_gap": null,
      "grid_row": null,
      "grid_template_areas": null,
      "grid_template_columns": null,
      "grid_template_rows": null,
      "height": null,
      "justify_content": null,
      "justify_items": null,
      "left": null,
      "margin": null,
      "max_height": null,
      "max_width": null,
      "min_height": null,
      "min_width": null,
      "object_fit": null,
      "object_position": null,
      "order": null,
      "overflow": null,
      "overflow_x": null,
      "overflow_y": null,
      "padding": null,
      "right": null,
      "top": null,
      "visibility": null,
      "width": null
     }
    },
    "66994b153bc44134b0f134c81b912b83": {
     "model_module": "@jupyter-widgets/base",
     "model_name": "LayoutModel",
     "state": {
      "_model_module": "@jupyter-widgets/base",
      "_model_module_version": "1.2.0",
      "_model_name": "LayoutModel",
      "_view_count": null,
      "_view_module": "@jupyter-widgets/base",
      "_view_module_version": "1.2.0",
      "_view_name": "LayoutView",
      "align_content": null,
      "align_items": null,
      "align_self": null,
      "border": null,
      "bottom": null,
      "display": null,
      "flex": null,
      "flex_flow": null,
      "grid_area": null,
      "grid_auto_columns": null,
      "grid_auto_flow": null,
      "grid_auto_rows": null,
      "grid_column": null,
      "grid_gap": null,
      "grid_row": null,
      "grid_template_areas": null,
      "grid_template_columns": null,
      "grid_template_rows": null,
      "height": null,
      "justify_content": null,
      "justify_items": null,
      "left": null,
      "margin": null,
      "max_height": null,
      "max_width": null,
      "min_height": null,
      "min_width": null,
      "object_fit": null,
      "object_position": null,
      "order": null,
      "overflow": null,
      "overflow_x": null,
      "overflow_y": null,
      "padding": null,
      "right": null,
      "top": null,
      "visibility": null,
      "width": null
     }
    },
    "6dfc12c89ce94503b9257e33ccda9d6e": {
     "model_module": "@jupyter-widgets/controls",
     "model_name": "DescriptionStyleModel",
     "state": {
      "_model_module": "@jupyter-widgets/controls",
      "_model_module_version": "1.5.0",
      "_model_name": "DescriptionStyleModel",
      "_view_count": null,
      "_view_module": "@jupyter-widgets/base",
      "_view_module_version": "1.2.0",
      "_view_name": "StyleView",
      "description_width": ""
     }
    },
    "70ee8addf3cd45bd8edcb481c3738d8a": {
     "model_module": "@jupyter-widgets/base",
     "model_name": "LayoutModel",
     "state": {
      "_model_module": "@jupyter-widgets/base",
      "_model_module_version": "1.2.0",
      "_model_name": "LayoutModel",
      "_view_count": null,
      "_view_module": "@jupyter-widgets/base",
      "_view_module_version": "1.2.0",
      "_view_name": "LayoutView",
      "align_content": null,
      "align_items": null,
      "align_self": null,
      "border": null,
      "bottom": null,
      "display": null,
      "flex": null,
      "flex_flow": null,
      "grid_area": null,
      "grid_auto_columns": null,
      "grid_auto_flow": null,
      "grid_auto_rows": null,
      "grid_column": null,
      "grid_gap": null,
      "grid_row": null,
      "grid_template_areas": null,
      "grid_template_columns": null,
      "grid_template_rows": null,
      "height": null,
      "justify_content": null,
      "justify_items": null,
      "left": null,
      "margin": null,
      "max_height": null,
      "max_width": null,
      "min_height": null,
      "min_width": null,
      "object_fit": null,
      "object_position": null,
      "order": null,
      "overflow": null,
      "overflow_x": null,
      "overflow_y": null,
      "padding": null,
      "right": null,
      "top": null,
      "visibility": null,
      "width": null
     }
    },
    "757e442ba3134e1999dc9dbc134d359b": {
     "model_module": "@jupyter-widgets/controls",
     "model_name": "HBoxModel",
     "state": {
      "_dom_classes": [],
      "_model_module": "@jupyter-widgets/controls",
      "_model_module_version": "1.5.0",
      "_model_name": "HBoxModel",
      "_view_count": null,
      "_view_module": "@jupyter-widgets/controls",
      "_view_module_version": "1.5.0",
      "_view_name": "HBoxView",
      "box_style": "",
      "children": [
       "IPY_MODEL_ba9bb06a77b04e9e97f6cb12dca3774e",
       "IPY_MODEL_3c7920a4ff074012947d7cbf18fdfd40"
      ],
      "layout": "IPY_MODEL_fe8e0f81d706499f9cbbdb289bce0ebd"
     }
    },
    "8509794de3b44ddeab892a3f65ec1c81": {
     "model_module": "@jupyter-widgets/controls",
     "model_name": "HTMLModel",
     "state": {
      "_dom_classes": [],
      "_model_module": "@jupyter-widgets/controls",
      "_model_module_version": "1.5.0",
      "_model_name": "HTMLModel",
      "_view_count": null,
      "_view_module": "@jupyter-widgets/controls",
      "_view_module_version": "1.5.0",
      "_view_name": "HTMLView",
      "description": "",
      "description_tooltip": null,
      "layout": "IPY_MODEL_e15be1ad5e664dee82c10dac2b0b367e",
      "placeholder": "​",
      "style": "IPY_MODEL_02b1ffa1de3e4755b6f2216d769c2266",
      "value": " 8192/? [00:07&lt;00:00, 1046.58it/s]"
     }
    },
    "8849930bf4304cdbbc0533a4e5875168": {
     "model_module": "@jupyter-widgets/controls",
     "model_name": "FloatProgressModel",
     "state": {
      "_dom_classes": [],
      "_model_module": "@jupyter-widgets/controls",
      "_model_module_version": "1.5.0",
      "_model_name": "FloatProgressModel",
      "_view_count": null,
      "_view_module": "@jupyter-widgets/controls",
      "_view_module_version": "1.5.0",
      "_view_name": "ProgressView",
      "bar_style": "success",
      "description": "",
      "description_tooltip": null,
      "layout": "IPY_MODEL_70ee8addf3cd45bd8edcb481c3738d8a",
      "max": 1,
      "min": 0,
      "orientation": "horizontal",
      "style": "IPY_MODEL_a4ab706bed424a7e827a96a0b8595f9b",
      "value": 1
     }
    },
    "8c51677ebb574c41b7f6cd486d9dde0a": {
     "model_module": "@jupyter-widgets/base",
     "model_name": "LayoutModel",
     "state": {
      "_model_module": "@jupyter-widgets/base",
      "_model_module_version": "1.2.0",
      "_model_name": "LayoutModel",
      "_view_count": null,
      "_view_module": "@jupyter-widgets/base",
      "_view_module_version": "1.2.0",
      "_view_name": "LayoutView",
      "align_content": null,
      "align_items": null,
      "align_self": null,
      "border": null,
      "bottom": null,
      "display": null,
      "flex": null,
      "flex_flow": null,
      "grid_area": null,
      "grid_auto_columns": null,
      "grid_auto_flow": null,
      "grid_auto_rows": null,
      "grid_column": null,
      "grid_gap": null,
      "grid_row": null,
      "grid_template_areas": null,
      "grid_template_columns": null,
      "grid_template_rows": null,
      "height": null,
      "justify_content": null,
      "justify_items": null,
      "left": null,
      "margin": null,
      "max_height": null,
      "max_width": null,
      "min_height": null,
      "min_width": null,
      "object_fit": null,
      "object_position": null,
      "order": null,
      "overflow": null,
      "overflow_x": null,
      "overflow_y": null,
      "padding": null,
      "right": null,
      "top": null,
      "visibility": null,
      "width": null
     }
    },
    "983a54f8eef1443f9fae11376739f26e": {
     "model_module": "@jupyter-widgets/controls",
     "model_name": "HBoxModel",
     "state": {
      "_dom_classes": [],
      "_model_module": "@jupyter-widgets/controls",
      "_model_module_version": "1.5.0",
      "_model_name": "HBoxModel",
      "_view_count": null,
      "_view_module": "@jupyter-widgets/controls",
      "_view_module_version": "1.5.0",
      "_view_name": "HBoxView",
      "box_style": "",
      "children": [
       "IPY_MODEL_fbc643dd47104ad392f2da346d3c90aa",
       "IPY_MODEL_3f94089990484750bdd08a88eaa4b5aa"
      ],
      "layout": "IPY_MODEL_f956b54272c44bf08bde2848c4fb8560"
     }
    },
    "a4ab706bed424a7e827a96a0b8595f9b": {
     "model_module": "@jupyter-widgets/controls",
     "model_name": "ProgressStyleModel",
     "state": {
      "_model_module": "@jupyter-widgets/controls",
      "_model_module_version": "1.5.0",
      "_model_name": "ProgressStyleModel",
      "_view_count": null,
      "_view_module": "@jupyter-widgets/base",
      "_view_module_version": "1.2.0",
      "_view_name": "StyleView",
      "bar_color": null,
      "description_width": "initial"
     }
    },
    "a668f7ac699e456aa435ab9e896a89b6": {
     "model_module": "@jupyter-widgets/base",
     "model_name": "LayoutModel",
     "state": {
      "_model_module": "@jupyter-widgets/base",
      "_model_module_version": "1.2.0",
      "_model_name": "LayoutModel",
      "_view_count": null,
      "_view_module": "@jupyter-widgets/base",
      "_view_module_version": "1.2.0",
      "_view_name": "LayoutView",
      "align_content": null,
      "align_items": null,
      "align_self": null,
      "border": null,
      "bottom": null,
      "display": null,
      "flex": null,
      "flex_flow": null,
      "grid_area": null,
      "grid_auto_columns": null,
      "grid_auto_flow": null,
      "grid_auto_rows": null,
      "grid_column": null,
      "grid_gap": null,
      "grid_row": null,
      "grid_template_areas": null,
      "grid_template_columns": null,
      "grid_template_rows": null,
      "height": null,
      "justify_content": null,
      "justify_items": null,
      "left": null,
      "margin": null,
      "max_height": null,
      "max_width": null,
      "min_height": null,
      "min_width": null,
      "object_fit": null,
      "object_position": null,
      "order": null,
      "overflow": null,
      "overflow_x": null,
      "overflow_y": null,
      "padding": null,
      "right": null,
      "top": null,
      "visibility": null,
      "width": null
     }
    },
    "abc16a5be70e47a39601d951fe7f75db": {
     "model_module": "@jupyter-widgets/controls",
     "model_name": "ProgressStyleModel",
     "state": {
      "_model_module": "@jupyter-widgets/controls",
      "_model_module_version": "1.5.0",
      "_model_name": "ProgressStyleModel",
      "_view_count": null,
      "_view_module": "@jupyter-widgets/base",
      "_view_module_version": "1.2.0",
      "_view_name": "StyleView",
      "bar_color": null,
      "description_width": "initial"
     }
    },
    "b5c6e96c9eee4f72b9a9a90aa3902ce8": {
     "model_module": "@jupyter-widgets/controls",
     "model_name": "DescriptionStyleModel",
     "state": {
      "_model_module": "@jupyter-widgets/controls",
      "_model_module_version": "1.5.0",
      "_model_name": "DescriptionStyleModel",
      "_view_count": null,
      "_view_module": "@jupyter-widgets/base",
      "_view_module_version": "1.2.0",
      "_view_name": "StyleView",
      "description_width": ""
     }
    },
    "b9409e864f6f483ba048b0489d01fd08": {
     "model_module": "@jupyter-widgets/controls",
     "model_name": "HBoxModel",
     "state": {
      "_dom_classes": [],
      "_model_module": "@jupyter-widgets/controls",
      "_model_module_version": "1.5.0",
      "_model_name": "HBoxModel",
      "_view_count": null,
      "_view_module": "@jupyter-widgets/controls",
      "_view_module_version": "1.5.0",
      "_view_name": "HBoxView",
      "box_style": "",
      "children": [
       "IPY_MODEL_8849930bf4304cdbbc0533a4e5875168",
       "IPY_MODEL_40698c67b333450aaa088f7f34598ec1"
      ],
      "layout": "IPY_MODEL_3413983697604d0c8a047ec6715af257"
     }
    },
    "ba9bb06a77b04e9e97f6cb12dca3774e": {
     "model_module": "@jupyter-widgets/controls",
     "model_name": "FloatProgressModel",
     "state": {
      "_dom_classes": [],
      "_model_module": "@jupyter-widgets/controls",
      "_model_module_version": "1.5.0",
      "_model_name": "FloatProgressModel",
      "_view_count": null,
      "_view_module": "@jupyter-widgets/controls",
      "_view_module_version": "1.5.0",
      "_view_name": "ProgressView",
      "bar_style": "success",
      "description": "",
      "description_tooltip": null,
      "layout": "IPY_MODEL_a668f7ac699e456aa435ab9e896a89b6",
      "max": 1,
      "min": 0,
      "orientation": "horizontal",
      "style": "IPY_MODEL_abc16a5be70e47a39601d951fe7f75db",
      "value": 1
     }
    },
    "c568aee7eab044e4b38e22036ee9462b": {
     "model_module": "@jupyter-widgets/controls",
     "model_name": "DescriptionStyleModel",
     "state": {
      "_model_module": "@jupyter-widgets/controls",
      "_model_module_version": "1.5.0",
      "_model_name": "DescriptionStyleModel",
      "_view_count": null,
      "_view_module": "@jupyter-widgets/base",
      "_view_module_version": "1.2.0",
      "_view_name": "StyleView",
      "description_width": ""
     }
    },
    "e15be1ad5e664dee82c10dac2b0b367e": {
     "model_module": "@jupyter-widgets/base",
     "model_name": "LayoutModel",
     "state": {
      "_model_module": "@jupyter-widgets/base",
      "_model_module_version": "1.2.0",
      "_model_name": "LayoutModel",
      "_view_count": null,
      "_view_module": "@jupyter-widgets/base",
      "_view_module_version": "1.2.0",
      "_view_name": "LayoutView",
      "align_content": null,
      "align_items": null,
      "align_self": null,
      "border": null,
      "bottom": null,
      "display": null,
      "flex": null,
      "flex_flow": null,
      "grid_area": null,
      "grid_auto_columns": null,
      "grid_auto_flow": null,
      "grid_auto_rows": null,
      "grid_column": null,
      "grid_gap": null,
      "grid_row": null,
      "grid_template_areas": null,
      "grid_template_columns": null,
      "grid_template_rows": null,
      "height": null,
      "justify_content": null,
      "justify_items": null,
      "left": null,
      "margin": null,
      "max_height": null,
      "max_width": null,
      "min_height": null,
      "min_width": null,
      "object_fit": null,
      "object_position": null,
      "order": null,
      "overflow": null,
      "overflow_x": null,
      "overflow_y": null,
      "padding": null,
      "right": null,
      "top": null,
      "visibility": null,
      "width": null
     }
    },
    "ecd92676310342ba86d97a562abc3842": {
     "model_module": "@jupyter-widgets/controls",
     "model_name": "FloatProgressModel",
     "state": {
      "_dom_classes": [],
      "_model_module": "@jupyter-widgets/controls",
      "_model_module_version": "1.5.0",
      "_model_name": "FloatProgressModel",
      "_view_count": null,
      "_view_module": "@jupyter-widgets/controls",
      "_view_module_version": "1.5.0",
      "_view_name": "ProgressView",
      "bar_style": "success",
      "description": "",
      "description_tooltip": null,
      "layout": "IPY_MODEL_4d9a2c54d8974ef6b69b586423605aa7",
      "max": 1,
      "min": 0,
      "orientation": "horizontal",
      "style": "IPY_MODEL_52c21cf0d99c41ce8874d7415af8d1c5",
      "value": 1
     }
    },
    "f956b54272c44bf08bde2848c4fb8560": {
     "model_module": "@jupyter-widgets/base",
     "model_name": "LayoutModel",
     "state": {
      "_model_module": "@jupyter-widgets/base",
      "_model_module_version": "1.2.0",
      "_model_name": "LayoutModel",
      "_view_count": null,
      "_view_module": "@jupyter-widgets/base",
      "_view_module_version": "1.2.0",
      "_view_name": "LayoutView",
      "align_content": null,
      "align_items": null,
      "align_self": null,
      "border": null,
      "bottom": null,
      "display": null,
      "flex": null,
      "flex_flow": null,
      "grid_area": null,
      "grid_auto_columns": null,
      "grid_auto_flow": null,
      "grid_auto_rows": null,
      "grid_column": null,
      "grid_gap": null,
      "grid_row": null,
      "grid_template_areas": null,
      "grid_template_columns": null,
      "grid_template_rows": null,
      "height": null,
      "justify_content": null,
      "justify_items": null,
      "left": null,
      "margin": null,
      "max_height": null,
      "max_width": null,
      "min_height": null,
      "min_width": null,
      "object_fit": null,
      "object_position": null,
      "order": null,
      "overflow": null,
      "overflow_x": null,
      "overflow_y": null,
      "padding": null,
      "right": null,
      "top": null,
      "visibility": null,
      "width": null
     }
    },
    "fbc643dd47104ad392f2da346d3c90aa": {
     "model_module": "@jupyter-widgets/controls",
     "model_name": "FloatProgressModel",
     "state": {
      "_dom_classes": [],
      "_model_module": "@jupyter-widgets/controls",
      "_model_module_version": "1.5.0",
      "_model_name": "FloatProgressModel",
      "_view_count": null,
      "_view_module": "@jupyter-widgets/controls",
      "_view_module_version": "1.5.0",
      "_view_name": "ProgressView",
      "bar_style": "success",
      "description": "",
      "description_tooltip": null,
      "layout": "IPY_MODEL_8c51677ebb574c41b7f6cd486d9dde0a",
      "max": 1,
      "min": 0,
      "orientation": "horizontal",
      "style": "IPY_MODEL_57e036c2e5d844688b054442c3a5cdbe",
      "value": 1
     }
    },
    "fe8e0f81d706499f9cbbdb289bce0ebd": {
     "model_module": "@jupyter-widgets/base",
     "model_name": "LayoutModel",
     "state": {
      "_model_module": "@jupyter-widgets/base",
      "_model_module_version": "1.2.0",
      "_model_name": "LayoutModel",
      "_view_count": null,
      "_view_module": "@jupyter-widgets/base",
      "_view_module_version": "1.2.0",
      "_view_name": "LayoutView",
      "align_content": null,
      "align_items": null,
      "align_self": null,
      "border": null,
      "bottom": null,
      "display": null,
      "flex": null,
      "flex_flow": null,
      "grid_area": null,
      "grid_auto_columns": null,
      "grid_auto_flow": null,
      "grid_auto_rows": null,
      "grid_column": null,
      "grid_gap": null,
      "grid_row": null,
      "grid_template_areas": null,
      "grid_template_columns": null,
      "grid_template_rows": null,
      "height": null,
      "justify_content": null,
      "justify_items": null,
      "left": null,
      "margin": null,
      "max_height": null,
      "max_width": null,
      "min_height": null,
      "min_width": null,
      "object_fit": null,
      "object_position": null,
      "order": null,
      "overflow": null,
      "overflow_x": null,
      "overflow_y": null,
      "padding": null,
      "right": null,
      "top": null,
      "visibility": null,
      "width": null
     }
    }
   }
  }
 },
 "nbformat": 4,
 "nbformat_minor": 1
}
